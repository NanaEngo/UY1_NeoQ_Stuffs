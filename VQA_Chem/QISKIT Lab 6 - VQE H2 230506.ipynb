{
 "cells": [
  {
   "attachments": {},
   "cell_type": "markdown",
   "metadata": {},
   "source": [
    "# QISKIT Lab 6 - VQE H2 and LiH\n",
    " 1. **S. G. Nana Engo**, serge.nana-engo@facsciences-uy1.cm\n",
    "    * Department of Physics, Faculty of Science, University of Yaounde I\n",
    "1. **J-P. Tchapet Njafa**, jean-pierre.tchapet-njafa@univ-maroua.cm\n",
    "    * Department of Physics, Faculty of Science, University of Maroua\n",
    "1. **P. Djorwe**, djorwepp@gmail.com\n",
    "    * Department of Physics, Faculty of Science, University of Ngaoundere\n",
    "       \n",
    "April 2023"
   ]
  },
  {
   "cell_type": "markdown",
   "metadata": {},
   "source": [
    "$\n",
    "\\newcommand{\\ad}{a^\\dagger} % Operateur bosonique adjoint \n",
    "\\newcommand{\\mt}[1]{\\mathtt{#1}} %  Use mathtt\n",
    "\\newcommand{\\mel}[3]{\\langle #1|#2|#3\\rangle} %Matrix element\n",
    "\\newcommand{\\ket}[1]{|#1\\rangle}\n",
    "$"
   ]
  },
  {
   "cell_type": "markdown",
   "metadata": {},
   "source": [
    "L'algorithme VQE (Variational Quantum Eigensolver), dans la contexte de la chimie quantique ou de la modélisation moléculaire, utilise la méthode variationelle, et deux processeurs, quantique et classique, pour déterminer l'énergie la plus basse associée à la valeur propre de l'etat fondamental ou des états excités."
   ]
  },
  {
   "cell_type": "markdown",
   "metadata": {},
   "source": [
    "## Algorithme détaillé de la VQE\n",
    "On peut résumer cet algorithme en deux grandes parties qu'illustre la figure ci-dessous.\n",
    "\n",
    "<center>\n",
    "<img src=\"./Graphics/VQE_Diagram.png\" width=700 />\n",
    "</center>\n",
    "                                                          \n",
    "\n",
    "### Processeur quantique\n",
    "\n",
    "Le processeur quantique comporte trois étapes fondamentales :\n",
    "\n",
    "1. Définir le circuit quantique ou porte quantique $\\mathtt{U}(\\vec{\\theta})$;\n",
    "2. Préparer de la fonction d'essai paramétré $|\\Psi (\\vec{\\theta})\\rangle$ appelée **Ansatz**, qui est essentiellement une estimation de l'état fondamental, à cet effet, on choisit arbitrairement un état de référence $|\\psi_0\\rangle$ sur lequel on applique $\\mathtt{U}(\\vec{\\theta})$,\n",
    "\t\\begin{equation}\n",
    "\t\t|\\Psi (\\vec{\\theta})\\rangle= \\mathtt{U}(\\vec{\\theta})|\\psi_0 \\rangle=\\sum_i\\alpha_i|E_i\\rangle.\n",
    "\t\\end{equation}\n",
    "3. Mesurer de la valeur moyenne ou fonction de coût\n",
    "\\begin{equation}\n",
    "C(\\vec\\theta)=\\langle\\Psi(\\vec\\theta)|\\mathtt{H}|\\Psi(\\vec\\theta)\\rangle\n",
    "=\\langle \\psi_0| \\mathtt{U}^\\dagger (\\vec{\\theta})\\mathtt{HU} (\\vec{\\theta})|\\psi_0\\rangle.\n",
    "\\end{equation}\n",
    "Selon la décomposition spectrale, $\\mathtt{H}$ peut être représenté par:\n",
    "\\begin{equation}\n",
    "\\mathtt{H}=\\sum_i E_i|E_i\\rangle\\langle E_i|.\n",
    "\\end{equation}\n",
    "En vertu du [théorème variationnel](https://en.wikipedia.org/wiki/Vcorrespondariational_method_(quantum_mechanics)) de Rayleigh-Ritz, la valeur moyenne est toujours supérieure ou égale à la valeur propre $E_0$ la plus basse de l'Hamiltonien $\\mathtt{H}$, qui correspond à l'état fondamental $|E_{\\min}\\rangle$:\n",
    "\\begin{equation}\n",
    "C(\\vec\\theta)=\\langle \\psi_0| \\mathtt{U}^\\dagger (\\vec{\\theta})\\mathtt{HU} (\\vec{\\theta})|\\psi_0\\rangle\n",
    "=\\sum_i|\\alpha_i|^2E_i\\geq E_{\\min}.\n",
    "\\end{equation}\n",
    "Le problème se résume à trouver un tel choix optimal de paramètres $\\vec\\theta=(\\theta_1,\\dots,\\theta_n)^T$ à valeurs réelles, permettant de trouver la valeur moyenne minimale $E_{\\min}$ qui est l'énergie de l'état fondamental et l'état correspondant est l'état fondamental $|E_{\\min}\\rangle$.\n",
    "\n",
    "\n",
    "### Processeur classique\n",
    "\n",
    "Grâce au processeur quantique, on obtient une valeur moyenne dépendante des paramètres. Cette valeur peut être minimisée avec une méthode d'optimisation qui permet d'ajuster les paramètres de l'état d'essai. L'algorithme procède alors de façon itérative, l'optimiseur classique proposant de nouvelles valeurs de paramètres pour l'état d'essai.\n",
    "\n",
    "En gros, dans le processeur classique :\n",
    "1. Minimiser la valeur moyenne ou fonction de coût $C(\\vec\\theta)$ en faisant varier les paramètres $\\vec{\\theta}$ de l'_Ansatz_, en utilisant un optimiseur classique.\n",
    "2. Itèrer jusqu'à ce que le critère de convergence ($10^{-7}$) soit atteint et que $|\\psi(\\vec{\\theta})\\rangle\\simeq |E_0(\\vec{\\theta})\\rangle$.\n"
   ]
  },
  {
   "cell_type": "markdown",
   "metadata": {},
   "source": [
    "### Défis ou challenges de la VQE\n",
    "\n",
    "1. La taille de l'espace de Hilbert en fonction du nombre des opérations de portes nécessaires ou profondeur du circuit pour obtenir le précisions souhaitée pour les valeurs attendues (comme l'énergie du système).\n",
    "\n",
    "2. Le nombre de portes parametrés (nombre de paramètres à optimiser) en fonction de l'amplitude des gradients pour variables de circuits.\n",
    "\n",
    "3. La taille de l'espace de Hilbert en fonction du nombre de mesures nécessaire pour parvenir à la convergence des propriétés physiques (par exemple, l'énergie du système).\n"
   ]
  },
  {
   "cell_type": "markdown",
   "metadata": {},
   "source": [
    "Dans ce qui suit, nous utilisons les **Unitary Coupled Clusters Singles and Doubles** (UCCSD) comme point de départ pour déterminer une fonction d'état d'essai pour la méthode variationnelle, car il est essentiel que l'ansatz VQE soit proche de l'état fondamental réel pour que les calculs VQE réussissent. Dans ce tutoriel, nous nous concentrons sur le calcul de l'état fondamental et de la surface d'énergie potentielle de Born-Oppenheimer (BOPES) pour les molécules d'hydrogène (H2) et d'hydrure de lithium (M) et une macromolécule."
   ]
  },
  {
   "attachments": {},
   "cell_type": "markdown",
   "metadata": {},
   "source": [
    "### Unitary Coupled Cluster (UCC) *Ansatz*\n",
    "\n",
    "En chimie quantique, la méthode **Unitary Coupled Cluster (UCC)** (de [cluster à couplage unitaire](https://fr.wikipedia.org/wiki/M%C3%A9thode_du_cluster_coupl%C3%A9)) apparait comme une extension de la méthode *Coupled Cluster (CC)* qui est une méthode de traitement de la corrélation électronique. Elle est basée sur l'expression de la fonction d'état à $N$ électrons comme une combinaison linéaire de déterminants de Slater incluant la fonction d'état HF de l'état fondamental et toutes les excitations possibles des orbitales occupées vers des orbitales inoccupées. Ainsi, il sera possible de générer un *Unitary Coupled Cluster Ansatz* en appliquant à un état de référence $\\ket{\\psi_0}$ un opérateur unitaire qui est une somme anti-Hermitienne d'opérateurs d'excitation et de désexcitation sous la forme $e^{\\mathtt{T}(\\theta)-\\mathtt{T}^\\dagger(\\theta)}$, qui est un opérateur unitaire\n",
    "$$\n",
    "\\ket{\\psi(\\theta)} = \\mt{U}(\\theta) \\ket{\\psi_0}\n",
    "= e^{\\mathtt{T}(\\theta)-\\mathtt{T}^\\dagger(\\theta)} \\ket{\\psi_0(\\theta)} ,\n",
    "$$\n",
    "* $\\theta$ est l'amplitude CC. Il représente aussi le paramètre d'optimisation pouvant prendre des valeurs réelles ou imaginaires. Mais les paramètres réels se sont révélés plus précises et plus réalisables ;\n",
    "\n",
    "* $\\mathtt{T}(\\theta)$ est l'opérateur de *Cluster* ou opérateur d'excitation complète, défini comme  $\\mathtt{T}(\\theta)=\\sum_{k=1}^N\\mathtt{T}_k(\\theta)$ avec $\\mathtt{T}_k(\\theta)$ l'opérateur d'excitation au $k$-ième ordre, qui contient des termes $k$-corps. Par exemple,\n",
    "    * l'opérateur \n",
    "\\begin{equation*}\n",
    "\\mathtt{T}_1 = \\underset{i\\in\\rm{unocc}}{\\sum_{j\\in\\rm{occ}}}\\theta_{ij}\\ad_i a_j,\n",
    "\\end{equation*}  \n",
    "engendre les **excitations simples** $j\\rightarrow i$ (transforme le déterminant HF de référence en une combinaison linéaire des déterminants monoexcités),\n",
    "    * l'opérateur\n",
    " \\begin{equation*}\n",
    "\\mathtt{T}_2 = \\underset{l>k\\in\\rm{occ}}{\\sum_{i>j\\in\\rm{unocc}}}\\theta_{ijkl} \n",
    "\\ad_i\\ad_j a_k a_l,\\ \\dots,\n",
    "\\end{equation*}  \n",
    "engendre les **doubles excitations** (transforme le déterminant HF de référence en une combinaison linéaire des déterminants doublement excités).\n",
    "    * Les termes d'ordre supérieur (triple, quadruple, etc.) sont possibles, mais sont actuellement rarement pris en charge par les bibliothèques de chimie quantique.\n",
    "    * \"occ\" et \"unocc\" sont définis comme les sites occupés et les sites inoccupés dans l'état de référence.\n",
    "    * Les opérateurs $\\ad_i$ et $a_i$ dans les termes de clusters couplés ci-dessus sont écrits dans une forme canonique, dans laquelle chaque terme est en ordre normal (opérateurs de création sont à gauche de tous les opérateurs d'annihilation)."
   ]
  },
  {
   "attachments": {},
   "cell_type": "markdown",
   "metadata": {},
   "source": [
    "# Choix des optimiseurs classiques\n",
    "\n",
    "Une fois que l'_Ansatz_ a été sélectionné, ses paramètres doivent être optimisés pour minimiser la valeur attendue de l'Hamiltonien cible. Le processus d'optimisation des paramètres présente divers défis. Par exemple, le matériel quantique a divers types de bruits et donc l'évaluation de la fonction objective (calcul de l'énergie) peut ne pas nécessairement refléter la véritable fonction objectif. De plus, certains optimiseurs effectuent un certain nombre d'évaluations de fonctions objectives en fonction de la cardinalité de l'ensemble de paramètres. __Un optimiseur approprié doit être sélectionné en tenant compte des exigences d'une application__.\n",
    "\n",
    "- Une stratégie d'optimisation populaire est la __descente de gradient__ (`qiskit.algorithms.optimizers.GradientDescent`) où chaque paramètre est mis à jour dans la direction produisant le plus grand changement local d'énergie. Par conséquent, le nombre d'évaluations effectuées dépend du nombre de paramètres d'optimisation présents. Cela permet à l'algorithme de trouver rapidement un optimum local dans l'espace de recherche. Cependant, cette stratégie d'optimisation reste souvent bloquée à des optima locaux médiocres et est relativement coûteuse en termes de nombre d'évaluations de circuits effectuées. Bien qu'il s'agisse d'une stratégie d'optimisation intuitive, il n'est pas recommandé de l'utiliser dans VQE dans sa forme _brute_ (__barren plateau problem__).\n",
    " \n",
    "  <center><img src=\"Graphics/descente-de-gradient.png\" width=\"400\"/>\n",
    "  <img src=\"Graphics/spsa_mntn.png\" width=\"220\"/></center> \n",
    "\n",
    "- Un optimiseur approprié pour optimiser une fonction objectif bruyante est l'optimiseur d'__approximation stochastique de perturbations simultanées (Simultaneous Perturbation Stochastic Approximation, SPSA),__ (`qiskit.algorithms.optimizers.SPSA`). SPSA se rapproche du gradient de la fonction objectif avec seulement deux mesures. Il le fait en perturbant simultanément tous les paramètres de manière aléatoire, contrairement à la descente de gradient où chaque paramètre est perturbé indépendamment. __Lors de l'utilisation de VQE dans un simulateur bruyant (QasmSimulator) ou sur du matériel réel, SPSA est recommandé comme optimiseur classique__.\n",
    "    - L'optimiseur Quantum Natural SPSA, QN-SPSA (`qiskit.algorithms.optimizers.QnSPSA`) basé sur SPSA tente d'améliorer la convergence en échantillonnant le gradient naturel au lieu du gradient de premier ordre. Par rapport aux gradients naturels, qui nécessitent $\\mathcal{O}(d^2)$ évaluations des valeurs moyennes pour un circuit avec $d$ paramètres, QN-SPSA ne nécessite que $\\mathcal{O}(1)$ et peut donc accélérer considérablement le calcul du gradient naturel en sacrifiant une certaine précision. Par rapport à SPSA, QN-SPSA nécessite 4 évaluations supplémentaires de la fidélité.\n",
    "\n",
    "- Lorsque le bruit n'est pas présent dans l'évaluation de la fonction de coût, comme lors de l'utilisation de VQE avec un simulateur de vecteur d'état (_StatevectorSimulator_), une grande variété d'optimiseurs classiques peut être utile. Par exemple,  \n",
    "    - l'optimiseur __Constrained Optimization by Linear Approximation, COBYLA,__ (`qiskit.algorithms.optimizers.COBYLA`) qui n'effectue qu'une seule évaluation de fonction objectif par itération d'optimisation, et donc le nombre d'évaluations est indépendant de la cardinalité de l'ensemble de paramètres. Par conséquent, si la fonction objectif est sans bruit et qu'il est souhaitable de minimiser le nombre d'évaluations effectuées, il est recommandé d'essayer COBYLA;\n",
    "    - l'optimiseur __Programmation des moindres carrés séquentiels (Sequential Least Squares Programming, SLSQP)__ (`qiskit.algorithms.optimizers.SLSQP`), est idéal pour les problèmes mathématiques pour lesquels la fonction objectif et les contraintes sont deux fois continûment différentiables;\n",
    "    - l'optimiseur __Limited-memory Broyden-Fletcher-Goldfarb-Shanno Bound, L_BFGS_B,__ (`qiskit.algorithms.optimizers.L_BFGS_B`), est une méthode quasi-Newton qui commence par une estimation initiale de la valeur optimale et procède de manière itérative pour affiner cette estimation avec une séquence de meilleures estimations."
   ]
  },
  {
   "attachments": {},
   "cell_type": "markdown",
   "metadata": {},
   "source": [
    "### Workflow de la VQE \n",
    "\n",
    "<center><img src=\"Graphics/VQE_Flowchart.jpeg\" width=\"700\"/></center>"
   ]
  },
  {
   "attachments": {},
   "cell_type": "markdown",
   "metadata": {},
   "source": [
    "\n",
    "1. Renseigner la structure de la molécule.\n",
    "\n",
    "2. Effectuer le calcul HF dans la base chimique indiquée. Il s'agit en réalité représenter le problème de l'equation de Schrödinguer électronique, $\\mathtt{H}_{\\rm el}|\\Psi\\rangle = E_{\\rm el}|\\Psi\\rangle$. $\\mathtt{H}_{\\rm el}$ est l'Hamiltonien de la classe `qiskit_nature.second_q.hamiltonians.ElectronicEnergy`\n",
    "\n",
    "3. Extraire, à l'aide du calcul HF précédent, les éléments de matrice 1-integrals $h_{pq}$ et 2-integrals $h_{pqrs}$ qui relient l'Hamiltonien de la seconde quantification 1a celui de la première quantification. Les utiliser pour construire l'Hamiltonien fermionique de la seconde quantification\n",
    "\\begin{equation}\n",
    "\\mathtt{H} = h_0+\\sum_{p,q=1}^M h_{pq}\\ad_p a_q + \\frac12\\sum_{p,q,r,s=1}^M h_{pqrs}\\ad_p \\ad_q a_ra_s ,\n",
    "\\end{equation} \n",
    "que `qiskit_nature.second_q.mappers.QubitConverter` converti, grâce à un encodage approprié (JWT, PT ou BKT) en Hamiltonien qubit.\n",
    "\n",
    "   * Exploiter les symmétries\n",
    "   \\begin{align}\n",
    "   &[\\mathtt{H},\\mathtt{N_\\uparrow}] = [\\mathtt{H},\\mathtt{N_\\downarrow}] = 0, \n",
    "   && \\mathtt{N_\\uparrow} = \\sum_{p=1}^{M/2} \\alpha^\\dagger_p \\alpha_p,\n",
    "   & \\mathtt{N_\\downarrow} = \\sum_{p=M/2+1}^M \\alpha^\\dagger_p \\alpha_p,\n",
    "   \\end{align}\n",
    "   pour effectuer la **reduction 2-qubit** (une pour chaque symétrie $\\mathbb{Z}$ de l'Hamiltionien) sans modifier la partie inférieure du spectre d'énergie (y compris l'état fondamental). $\\mathtt{N_\\downarrow}$ et $\\mathtt{N_\\uparrow}$ sont les opérateurs nombre de particules de spin down et up.\n",
    "\n",
    "   * Utiliser `qiskit_nature.second_q.transformers.FreezeCoreTransformer` afin d'appliquer l'approximation du noyau gelé (**frozen-core approximation**) pour réduire le nombre possible des excitations uniques ou double et le nombre de qubits.\n",
    "\n",
    "4. La fonction d'état d'essai ou *Ansatz* $\\ket{\\psi(\\theta)}$ est généré à partir de l'état HF $\\ket{\\Phi_0}$ en appliquant les opérateurs de clusters q-UCC ou autre forme d'*Ansatz* variationnel (`qiskit_nature.second_q.circuit.library.UCCSD`).\n",
    "\n",
    "5. Evaluer l'énergie du système $\\mel{\\psi(\\theta)}{\\mathtt{H}}{\\psi(\\theta)}$ en utilisant\n",
    "   * la primitive `qiskit.primitives.Estimator`;\n",
    "   * l'optimisation des paramètres du circuit (grâce à `qiskit.algorithms.optimizers`), suivi par la séquence de mesure des propriétés physiques. Ceci peut se faire avec ou sans les mesures du bruit.\n",
    "\n",
    "6. Repeter les étapes (4) et (5) jusqu'à la convergence, en utilisant un optimiseur classique. Par usage, on fixe le critère de convergence à $10^{-7}$. En effet, il est essentiel que l'*Ansatz* VQE soit proche de l'état fondamental réel pour que les calculs VQE réussissent. Pour obtenir une estimation d'énergie précise de 1 milli-Hartree (mHA), l'*Ansatz* pour le VQE doit être proche du véritable état fondamental de moins d'un sur un million.\n",
    "\n",
    "<center><img src=\"Graphics/Qiskit_nature_Flow.png\" width=\"700\"/></center>\n"
   ]
  },
  {
   "cell_type": "markdown",
   "metadata": {},
   "source": [
    "## Molécule H2\n",
    "\n",
    "Ici, nous calculons en fait uniquement la partie électronique. Lors de l'utilisation du package Qiskit Nature, l'énergie de répulsion nucléaire sera ajoutée automatiquement pour obtenir l'énergie totale de l'état fondamental."
   ]
  },
  {
   "cell_type": "markdown",
   "metadata": {},
   "source": [
    "### Structure électronique\n",
    "\n",
    "Nous allons renseigner les données de la molécule et effectuer la conversion en créant un Hamiltonien fermionique (problème électronique précisement) qui sera ensuite converti par la transformation de Jordan Wigner, à un Hamiltonien qubit prêt pour le calcul quantique. "
   ]
  },
  {
   "cell_type": "markdown",
   "metadata": {},
   "source": [
    "-  On commence par définir la géométrie de la molécule d'hydrogène."
   ]
  },
  {
   "cell_type": "code",
   "execution_count": null,
   "metadata": {
    "execution": {
     "iopub.execute_input": "2023-04-06T14:10:23.390660Z",
     "iopub.status.busy": "2023-04-06T14:10:23.390034Z",
     "iopub.status.idle": "2023-04-06T14:10:38.496244Z",
     "shell.execute_reply": "2023-04-06T14:10:38.494961Z",
     "shell.execute_reply.started": "2023-04-06T14:10:23.390600Z"
    },
    "tags": []
   },
   "outputs": [],
   "source": [
    "from qiskit_nature.units import DistanceUnit\n",
    "from qiskit_nature.second_q.drivers import PySCFDriver\n",
    "from qiskit_nature.second_q.transformers import FreezeCoreTransformer"
   ]
  },
  {
   "cell_type": "code",
   "execution_count": null,
   "metadata": {
    "execution": {
     "iopub.execute_input": "2023-04-06T14:10:38.499515Z",
     "iopub.status.busy": "2023-04-06T14:10:38.498704Z",
     "iopub.status.idle": "2023-04-06T14:10:39.990358Z",
     "shell.execute_reply": "2023-04-06T14:10:39.989450Z",
     "shell.execute_reply.started": "2023-04-06T14:10:38.499474Z"
    },
    "tags": []
   },
   "outputs": [],
   "source": [
    "H2_driver = PySCFDriver(\n",
    "    atom=\"H 0 0 0; H 0 0 0.735\",\n",
    "    basis=\"sto3g\",\n",
    "    charge=0,\n",
    "    spin=0,\n",
    "    unit=DistanceUnit.ANGSTROM,\n",
    ")\n",
    "\n",
    "# Electronic structure problem\n",
    "H2_problem = H2_driver.run()\n",
    "transformer = FreezeCoreTransformer()\n",
    "H2_problem = transformer.transform(H2_problem)"
   ]
  },
  {
   "attachments": {},
   "cell_type": "markdown",
   "metadata": {},
   "source": [
    "- Configurons le mappeur qubit (pour avoir la décomposition de Pauli de l'Hamiltonien). Pour des raisons de comparabilité, nous allons utiliser trois mappers (JWM, PM, BKM). A cet effet, définissons la fonction `qubit_mapper()`."
   ]
  },
  {
   "cell_type": "code",
   "execution_count": null,
   "metadata": {
    "execution": {
     "iopub.execute_input": "2023-04-06T14:10:39.992132Z",
     "iopub.status.busy": "2023-04-06T14:10:39.991500Z",
     "iopub.status.idle": "2023-04-06T14:10:39.997608Z",
     "shell.execute_reply": "2023-04-06T14:10:39.996675Z",
     "shell.execute_reply.started": "2023-04-06T14:10:39.992099Z"
    },
    "tags": []
   },
   "outputs": [],
   "source": [
    "from qiskit_nature.second_q.mappers import (\n",
    "    ParityMapper,\n",
    "    JordanWignerMapper,\n",
    "    BravyiKitaevMapper\n",
    ")\n",
    "\n",
    "def qubit_mapper(mapper):\n",
    "    \"\"\"A mapper instance used to convert second quantized to qubit operators\n",
    "\n",
    "    Args:\n",
    "        mapper : Mapper string that can be \"PM\" or \"JWM\" or \"BKM\"\n",
    "                \n",
    "    Returns: The QubitConverter instance\n",
    "    \"\"\"    \n",
    "    return QubitConverter(mapper)"
   ]
  },
  {
   "cell_type": "markdown",
   "metadata": {},
   "source": [
    "### Solveur\n",
    "\n",
    "Nous devons définir un solveur. Le solveur est l'algorithme par lequel l'état fondamental est calculé.\n",
    "\n",
    "- Commençons par un exemple purement classique: le `qiskit.algorithms.minimum_eigensolvers.NumPyMinimumEigensolver`. Cet algorithme diagonise exactement l'Hamiltonien. Bien qu'il ne soit pas très performant, il peut être utilisé sur de petits systèmes pour vérifier les résultats des algorithmes quantiques."
   ]
  },
  {
   "cell_type": "code",
   "execution_count": null,
   "metadata": {
    "execution": {
     "iopub.execute_input": "2023-04-06T14:10:40.000705Z",
     "iopub.status.busy": "2023-04-06T14:10:40.000362Z",
     "iopub.status.idle": "2023-04-06T14:10:40.179349Z",
     "shell.execute_reply": "2023-04-06T14:10:40.177476Z",
     "shell.execute_reply.started": "2023-04-06T14:10:40.000681Z"
    },
    "tags": []
   },
   "outputs": [],
   "source": [
    "from qiskit.algorithms.minimum_eigensolvers import NumPyMinimumEigensolver"
   ]
  },
  {
   "cell_type": "markdown",
   "metadata": {},
   "source": [
    "- Pour définir le solveur VQE, il faut trois éléments essentiels :\n",
    "  1. Une **forme variationnelle ou *ansatz***. Nous utilisons ici l'*ansatz* Unitary Coupled Cluster (UCC). La valeur par défaut est d'utiliser toutes les excitations simples et doubles. Cependant, le type d'excitation (S, D, SD) ainsi que d'autres paramètres peuvent être sélectionnés. La forme variationnelle `qiskit_nature.second_q.circuit.library.UCCSD` est préparée avec un état initial `qiskit_nature.second_q.circuit.library.HartreeFock`, qui initialise l'occupation de nos qubits en fonction du problème que nous essayons de résoudre.\n",
    "  2. Une primitive, qui sera ici `qiskit.primitives.Estimator` pour le calcul des valeurs moyennes;\n",
    "  3. Un optimiseur classique (`qiskit.algorithms.optimizer`)."
   ]
  },
  {
   "cell_type": "markdown",
   "metadata": {},
   "source": [
    "- Configurons l'*ansatz* et plus précisement, le circuit quantique paramétré, du VQE"
   ]
  },
  {
   "cell_type": "code",
   "execution_count": null,
   "metadata": {
    "execution": {
     "iopub.execute_input": "2023-04-06T14:10:40.182846Z",
     "iopub.status.busy": "2023-04-06T14:10:40.181618Z",
     "iopub.status.idle": "2023-04-06T14:10:40.308546Z",
     "shell.execute_reply": "2023-04-06T14:10:40.305162Z",
     "shell.execute_reply.started": "2023-04-06T14:10:40.182796Z"
    },
    "tags": []
   },
   "outputs": [],
   "source": [
    "from qiskit_nature.second_q.circuit.library import HartreeFock, UCCSD\n",
    "\n",
    "def ansatz(mapper):\n",
    "    \"\"\"Ansatz function\n",
    "\n",
    "    Args:\n",
    "        mapper : the output of the function qubit_mapper(mapper)\n",
    "\n",
    "    Returns: The anstatz\n",
    "    \"\"\"    \n",
    "    \n",
    "    ansatz = UCCSD(\n",
    "        H2_problem.num_spatial_orbitals,\n",
    "        H2_problem.num_particles,\n",
    "        mapper,\n",
    "        initial_state=HartreeFock(\n",
    "            H2_problem.num_spatial_orbitals,\n",
    "            H2_problem.num_particles,\n",
    "            mapper,\n",
    "        ),\n",
    "    )\n",
    "    return ansatz"
   ]
  },
  {
   "cell_type": "markdown",
   "metadata": {},
   "source": [
    "- Configurons la primitive `Estimator` pour le VQE. Elle calcule les valeurs moyennes des circuits d'entrée et des propriétés physiques."
   ]
  },
  {
   "cell_type": "code",
   "execution_count": null,
   "metadata": {
    "execution": {
     "iopub.execute_input": "2023-04-06T14:10:40.314994Z",
     "iopub.status.busy": "2023-04-06T14:10:40.312642Z",
     "iopub.status.idle": "2023-04-06T14:10:40.413023Z",
     "shell.execute_reply": "2023-04-06T14:10:40.411220Z",
     "shell.execute_reply.started": "2023-04-06T14:10:40.314884Z"
    },
    "tags": []
   },
   "outputs": [],
   "source": [
    "from qiskit.primitives import Estimator\n",
    "\n",
    "estimator = Estimator()"
   ]
  },
  {
   "cell_type": "markdown",
   "metadata": {},
   "source": [
    "- Configurons l'optimisseur classique pour le VQE. Pour des raisons de comparabilité, nous allons configurer trois optimisseurs classiques."
   ]
  },
  {
   "cell_type": "code",
   "execution_count": null,
   "metadata": {
    "execution": {
     "iopub.execute_input": "2023-04-06T14:10:48.296714Z",
     "iopub.status.busy": "2023-04-06T14:10:48.293933Z",
     "iopub.status.idle": "2023-04-06T14:10:48.306673Z",
     "shell.execute_reply": "2023-04-06T14:10:48.305371Z",
     "shell.execute_reply.started": "2023-04-06T14:10:48.296599Z"
    },
    "tags": []
   },
   "outputs": [],
   "source": [
    "from qiskit.algorithms.optimizers import SPSA, SLSQP, L_BFGS_B"
   ]
  },
  {
   "cell_type": "markdown",
   "metadata": {},
   "source": [
    "- Assemblons ces composants de l'algorithme VQE dans `qiskit.algorithms.minimum_eigensolvers.VQE` et initialisons le solver VQE."
   ]
  },
  {
   "cell_type": "code",
   "execution_count": null,
   "metadata": {
    "execution": {
     "iopub.execute_input": "2023-04-06T14:10:58.436155Z",
     "iopub.status.busy": "2023-04-06T14:10:58.433759Z",
     "iopub.status.idle": "2023-04-06T14:10:58.451927Z",
     "shell.execute_reply": "2023-04-06T14:10:58.449509Z",
     "shell.execute_reply.started": "2023-04-06T14:10:58.436040Z"
    },
    "tags": []
   },
   "outputs": [],
   "source": [
    "from qiskit.algorithms.minimum_eigensolvers import VQE\n",
    "import numpy as np\n",
    "\n",
    "def vqe_solver(mapper, optimizer):\n",
    "    \"\"\" Setup VQE solver\n",
    "\n",
    "    Args:\n",
    "        mapper : qubit mapper \n",
    "        optimizer : optimizer\n",
    "\n",
    "    Returns: vqe solver\n",
    "    \"\"\"    \n",
    "    vqe_solver = VQE(estimator, ansatz(mapper), optimizer)\n",
    "\n",
    "    vqe_solver.initial_point = np.zeros(ansatz(mapper).num_parameters)\n",
    "    return vqe_solver"
   ]
  },
  {
   "cell_type": "markdown",
   "metadata": {},
   "source": [
    "### Calcul et résultats\n",
    "\n",
    " - Préparons le solveur d'état fondamental et exécutons-le pour calculer l'état fondamental de la molécule grâce à la classe `qiskit_nature.second_q.algorithms.GroundStateEigensolver`. Il s'agit d'envelopper notre `qiskit_nature.second_q.mappers.QubitConverter` et notre algorithme quantique `qiskit.algorithms.minimum_eigensolvers.VQE` (ou classique `qiskit_nature.second_q.algorithms.NumPyMinimumEigensolver`) dans un seul `GroundStateEigensolver`. Pour des raisons de commodité définissons la fonction `run_vqe()`.\n",
    "\n",
    "Le workflow interne est le suivant :\n",
    "1. générer les opérateurs de seconde quantification stockés dans notre `problem`\" (electronic structure problem);\n",
    "2. mapper (et potentiellement réduire) les opérateurs dans l'espace qubit;\n",
    "3. exécuter l'algorithme quantique sur l'opérateur Hamiltonien qubit;\n",
    "4. une fois le critère de convergence vérifié, évaluer les proprités physiques supplémentaires de l'état fondamental déterminé."
   ]
  },
  {
   "cell_type": "code",
   "execution_count": null,
   "metadata": {
    "execution": {
     "iopub.execute_input": "2023-04-06T14:11:05.779759Z",
     "iopub.status.busy": "2023-04-06T14:11:05.779286Z",
     "iopub.status.idle": "2023-04-06T14:11:05.791645Z",
     "shell.execute_reply": "2023-04-06T14:11:05.790257Z",
     "shell.execute_reply.started": "2023-04-06T14:11:05.779728Z"
    },
    "tags": []
   },
   "outputs": [],
   "source": [
    "def run_vqe(problem, solver, mapper, optimizer = \"SLSQP\", show=True):\n",
    "    \"\"\"Computing of the molecular ground state with the `GroundStateEigensolver`\n",
    "class \n",
    "    Args:\n",
    "        problem :  Electronic structure problem\n",
    "\n",
    "        mapper : Mapper string that can be \"PM\" or \"JWM\" or \"BKM\"\n",
    "        \n",
    "        optimizer :  Optimizer string that can be either \"SPSA\" or \"SLSQP\" or \"L_BFGS_B\"\n",
    "\n",
    "        solver :  Sting that can be either \"NumPy\" or \"VQE\"\n",
    "       \n",
    "    Returns:\n",
    "          The ground state of the molecule\n",
    "\n",
    "    \"\"\"    \n",
    "    # Mapper\n",
    "    dmap = {\"JWM\": JordanWignerMapper(), \"PM\": ParityMapper(),  \"BKM\": BravyiKitaevMapper()}\n",
    "    for k, v in dmap.items():\n",
    "        if k == mapper:        \n",
    "            mapp = v   \n",
    "            \n",
    "    if solver == \"VQE\":             \n",
    "        # Optimizer\n",
    "        dopt = {\"SPSA\": SPSA(), \"SLSQP\": SLSQP(), \"L_BFGS_B\": L_BFGS_B()}\n",
    "        for n, m in dopt.items():\n",
    "            if n == optimizer:        \n",
    "                opt = m\n",
    "        GS_solver = vqe_solver(mapp, opt)\n",
    "\n",
    "    # Solver\n",
    "    if solver == \"Numpy\":\n",
    "        GS_solver = NumPyMinimumEigensolver()\n",
    "\n",
    "    # Ground state computation using a minimum eigensolver. Returns the solver.\n",
    "    Algo = GroundStateEigensolver(mapp, GS_solver) \n",
    "    \n",
    "    # Leveraging Qiskit Runtime\n",
    "    start = time.time()\n",
    "    \n",
    "    # Compute Ground State properties.\n",
    "    ground_state = Algo.solve(problem)\n",
    "    elapsed = str(datetime.timedelta(seconds = time.time()- start))\n",
    "    \n",
    "    if show:\n",
    "        print(f'Running {solver} and {mapper} mapper')\n",
    "        if solver == \"VQE\":\n",
    "            print(f'With {optimizer} optimizer and UCCSD ansatz')\n",
    "        print(f'Elapsed time: {elapsed} \\n')\n",
    "\n",
    "        print(ground_state.total_energies[0])\n",
    "\n",
    "    if solver == \"VQE\":\n",
    "        return ground_state, elapsed, mapper, solver, optimizer\n",
    "    else:\n",
    "        return ground_state, elapsed, mapper, solver\n"
   ]
  },
  {
   "cell_type": "markdown",
   "metadata": {},
   "source": [
    "* Resulat VQE"
   ]
  },
  {
   "cell_type": "code",
   "execution_count": null,
   "metadata": {
    "execution": {
     "iopub.execute_input": "2023-04-06T14:11:09.386432Z",
     "iopub.status.busy": "2023-04-06T14:11:09.385722Z",
     "iopub.status.idle": "2023-04-06T14:11:18.121940Z",
     "shell.execute_reply": "2023-04-06T14:11:18.120906Z",
     "shell.execute_reply.started": "2023-04-06T14:11:09.386388Z"
    },
    "tags": []
   },
   "outputs": [],
   "source": [
    "from qiskit_nature.second_q.algorithms import GroundStateEigensolver\n",
    "import time, datetime\n",
    "\n",
    "res_vqe = run_vqe(H2_problem, mapper=\"PM\", optimizer=\"SLSQP\", solver=\"VQE\")"
   ]
  },
  {
   "cell_type": "markdown",
   "metadata": {},
   "source": [
    "- Résultat solveur exact NumPy."
   ]
  },
  {
   "cell_type": "code",
   "execution_count": null,
   "metadata": {
    "execution": {
     "iopub.execute_input": "2023-04-06T14:11:29.262940Z",
     "iopub.status.busy": "2023-04-06T14:11:29.261768Z",
     "iopub.status.idle": "2023-04-06T14:11:29.455737Z",
     "shell.execute_reply": "2023-04-06T14:11:29.454772Z",
     "shell.execute_reply.started": "2023-04-06T14:11:29.262894Z"
    },
    "tags": []
   },
   "outputs": [],
   "source": [
    "res_np = run_vqe(H2_problem, mapper=\"PM\", solver=\"Numpy\")"
   ]
  },
  {
   "cell_type": "markdown",
   "metadata": {},
   "source": [
    "* Nous calculons l'erreur relative entre les deux solvers avec le mapper \"PM\"."
   ]
  },
  {
   "cell_type": "code",
   "execution_count": null,
   "metadata": {
    "execution": {
     "iopub.execute_input": "2023-04-06T14:11:35.034421Z",
     "iopub.status.busy": "2023-04-06T14:11:35.033877Z",
     "iopub.status.idle": "2023-04-06T14:11:35.044002Z",
     "shell.execute_reply": "2023-04-06T14:11:35.042468Z",
     "shell.execute_reply.started": "2023-04-06T14:11:35.034377Z"
    },
    "tags": []
   },
   "outputs": [],
   "source": [
    "rel_error = (res_np[0].total_energies[0] - res_vqe[0].total_energies[0])*100/res_np[0].total_energies[0] \n",
    "print(f'\\n The relative error between the two calculations is {rel_error:.4f}%')"
   ]
  },
  {
   "attachments": {},
   "cell_type": "markdown",
   "metadata": {},
   "source": [
    "- Améliorons l'affichage des résultats pour des besoins de comparaison."
   ]
  },
  {
   "cell_type": "code",
   "execution_count": null,
   "metadata": {
    "execution": {
     "iopub.execute_input": "2023-04-06T14:22:34.631025Z",
     "iopub.status.busy": "2023-04-06T14:22:34.629773Z",
     "iopub.status.idle": "2023-04-06T14:22:34.641893Z",
     "shell.execute_reply": "2023-04-06T14:22:34.640220Z",
     "shell.execute_reply.started": "2023-04-06T14:22:34.630945Z"
    },
    "tags": []
   },
   "outputs": [],
   "source": [
    "print(f\"Type of solver  | GS electronic energy  |Elapsed time\\t\\t|Mapper | Optimizer | Rel. error  \")\n",
    "print('================================================================================================')\n",
    "print(f'{res_np[3]}\\t\\t| {res_np[0].total_energies[0]}   |{res_np[1]}\\t\\t|{res_np[2]} \\t|\\t    | ')\n",
    "#print(f'Solver {name}   | {mapper}        |{optimizer}|{res_vqe.groundenergy}')\n",
    "print(f'{res_vqe[3]}\\t\\t| {res_vqe[0].total_energies[0]}   |{res_vqe[1]}\\t\\t|{res_vqe[2]}\\t|{res_vqe[4]}\\t    |{rel_error:7.4f}%  ')\n",
    "print('------------------------------------------------------------------------------------------------')\n"
   ]
  },
  {
   "cell_type": "markdown",
   "metadata": {},
   "source": [
    "On note que cette présentation n'est pas tout à fait satisfaisante."
   ]
  },
  {
   "cell_type": "markdown",
   "metadata": {},
   "source": [
    "### Visualisation de l'ensemble des résultats avec la bibliothèque `Pandas`\n",
    "\n",
    "Afin d'analyser les résultats en fonction des `mappers`et des `optimizers` nous allons utiliser la bibliothèque `Pandas`.\n",
    "\n",
    "A cet effet, il nous vaudra créer un repertoire dans lequel placé le fichier où sera imprimer les résultats au format `csv` que `pandas` va par la suite lire et afficher."
   ]
  },
  {
   "cell_type": "code",
   "execution_count": null,
   "metadata": {
    "execution": {
     "iopub.execute_input": "2023-04-06T14:23:02.123717Z",
     "iopub.status.busy": "2023-04-06T14:23:02.122817Z",
     "iopub.status.idle": "2023-04-06T14:23:02.130221Z",
     "shell.execute_reply": "2023-04-06T14:23:02.129213Z",
     "shell.execute_reply.started": "2023-04-06T14:23:02.123658Z"
    },
    "tags": []
   },
   "outputs": [],
   "source": [
    "# Creation of a simulation results folder\n",
    "import os\n",
    "\n",
    "cwd = os.getcwd()\n",
    "directory = \"Resultats\"\n",
    "targetPath = os.path.join(cwd, directory)\n",
    "\n",
    "if not os.path.exists(targetPath):\n",
    "    os.makedirs(targetPath)"
   ]
  },
  {
   "cell_type": "code",
   "execution_count": null,
   "metadata": {
    "execution": {
     "iopub.execute_input": "2023-04-06T14:23:04.869764Z",
     "iopub.status.busy": "2023-04-06T14:23:04.869309Z",
     "iopub.status.idle": "2023-04-06T14:23:04.876340Z",
     "shell.execute_reply": "2023-04-06T14:23:04.875310Z",
     "shell.execute_reply.started": "2023-04-06T14:23:04.869735Z"
    },
    "tags": []
   },
   "outputs": [],
   "source": [
    "Mapper = [\"PM\",\"JWM\",\"BKM\"]\n",
    "Optimizer = [\"SPSA\",\"SLSQP\",\"L_BFGS_B\"]"
   ]
  },
  {
   "cell_type": "code",
   "execution_count": null,
   "metadata": {
    "execution": {
     "iopub.execute_input": "2023-04-06T14:23:03.640500Z",
     "iopub.status.busy": "2023-04-06T14:23:03.639896Z",
     "iopub.status.idle": "2023-04-06T14:23:03.722666Z",
     "shell.execute_reply": "2023-04-06T14:23:03.719597Z",
     "shell.execute_reply.started": "2023-04-06T14:23:03.640455Z"
    },
    "tags": []
   },
   "outputs": [],
   "source": [
    "# Create a file containing the results\n",
    "QFile = os.path.join(targetPath, f\"H2_results.csv\")"
   ]
  },
  {
   "cell_type": "code",
   "execution_count": null,
   "metadata": {
    "execution": {
     "iopub.execute_input": "2023-04-06T14:50:24.765928Z",
     "iopub.status.busy": "2023-04-06T14:50:24.764780Z",
     "iopub.status.idle": "2023-04-06T14:50:58.580682Z",
     "shell.execute_reply": "2023-04-06T14:50:58.577617Z",
     "shell.execute_reply.started": "2023-04-06T14:50:24.765839Z"
    },
    "tags": []
   },
   "outputs": [],
   "source": [
    "q_result = open(QFile, \"w\")\n",
    "\n",
    "q_result.write(f\"Type of solver,Mapper,Optimizer,GS electr. energy,Rel. error (%),Elapsed time\\n\")\n",
    "\n",
    "for i in Mapper:\n",
    "    res_npH2 = run_vqe(H2_problem,  solver=\"Numpy\", mapper=i, show=False)\n",
    "    q_result.write(f'{res_npH2[3]},{res_npH2[2]},,{res_npH2[0].total_energies[0]},,{res_npH2[1]}\\n')\n",
    "    for j in Optimizer:\n",
    "        res_vqeH2 = run_vqe(H2_problem, mapper=i, optimizer=j, solver=\"VQE\", show=False)\n",
    "        rel_errorH2 = (res_npH2[0].total_energies[0]- res_vqeH2[0].total_energies[0])*100/res_npH2[0].total_energies[0]\n",
    "        q_result.write(f'{res_vqeH2[3]},{res_vqeH2[2]},{res_vqeH2[4]},{res_vqeH2[0].total_energies[0]},{rel_errorH2:7.4f},{res_vqeH2[1]}\\n')\n",
    "q_result.close()"
   ]
  },
  {
   "cell_type": "code",
   "execution_count": null,
   "metadata": {
    "execution": {
     "iopub.execute_input": "2023-04-06T14:50:58.583791Z",
     "iopub.status.busy": "2023-04-06T14:50:58.583175Z",
     "iopub.status.idle": "2023-04-06T14:50:58.606214Z",
     "shell.execute_reply": "2023-04-06T14:50:58.604832Z",
     "shell.execute_reply.started": "2023-04-06T14:50:58.583758Z"
    },
    "tags": []
   },
   "outputs": [],
   "source": [
    "import pandas as pd\n",
    "\n",
    "H2_data = pd.read_csv(QFile)\n",
    "H2_data"
   ]
  },
  {
   "cell_type": "code",
   "execution_count": null,
   "metadata": {
    "execution": {
     "iopub.execute_input": "2023-04-06T14:50:58.608696Z",
     "iopub.status.busy": "2023-04-06T14:50:58.608072Z",
     "iopub.status.idle": "2023-04-06T14:50:58.786435Z",
     "shell.execute_reply": "2023-04-06T14:50:58.785387Z",
     "shell.execute_reply.started": "2023-04-06T14:50:58.608652Z"
    },
    "tags": []
   },
   "outputs": [],
   "source": [
    "# Grouping solver by type and mapper\n",
    "H2_group = H2_data.sort_values(by=['Type of solver', 'Mapper'])\n",
    "H2_group"
   ]
  },
  {
   "cell_type": "code",
   "execution_count": null,
   "metadata": {},
   "outputs": [],
   "source": [
    "# Grouping solver\n",
    "H2_dataNP = H2_group[0:int(H2_data.shape[0]/2)]\n",
    "H2_dataVQE = H2_group[int(H2_data.shape[0]/2):int(H2_data.shape[0])]"
   ]
  },
  {
   "cell_type": "code",
   "execution_count": null,
   "metadata": {},
   "outputs": [],
   "source": [
    "# VQE UCCSD solver\n",
    "H2_dataVQE"
   ]
  },
  {
   "cell_type": "code",
   "execution_count": null,
   "metadata": {},
   "outputs": [],
   "source": [
    "# Numpy exact solver\n",
    "H2_dataNP"
   ]
  },
  {
   "attachments": {},
   "cell_type": "markdown",
   "metadata": {},
   "source": [
    "## Plugin `qiskit_nature_solver`\n",
    "\n",
    "Nous allons maintenant utiliser le plugin `qiskit_nature_pyscf` qui, nous le rappelons, couple PySCF et Qiskit Nature.  C'est un solveur [FCI](https://en.wikipedia.org/wiki/Full_configuration_interaction) (Full Configuration Interaction) basé sur Qiskit qui permet à un utilisateur de PySCF (Python-based Simulations of Chemistry Framework) de tirer parti des algorithmes quantique implémentés dans Qiskit pour être utilisés à la place de leurs homologues classiques (dans un esprit similaire à l'intégration NWChemEx).\n",
    "\n",
    " Nous allons nous intéresser aux molécules suivantes:\n",
    "$$\n",
    "\\begin{array}{|l|l|l|l|}\\hline\n",
    "\\text{Molécule} & \\text{Qubits} & \\text{Energie} (\\rm{Hartree}) & \\text{Distance} (\\mathring{A})\\\\\\hline\n",
    "H_2 & 4 & -1.137306 & 0.735\\\\\\hline\n",
    "LiH & 12 & -7.882752 & 1.546\\\\\\hline\n",
    "H_2O & 14 & -75.023189 & 1.021\\\\\\hline\n",
    "\\end{array}\n",
    "$$\n",
    "\n"
   ]
  },
  {
   "cell_type": "code",
   "execution_count": null,
   "metadata": {},
   "outputs": [],
   "source": [
    "from pyscf import gto, scf, mcscf\n",
    "import numpy as np\n",
    "from pyscf.mcscf import avas #AVAS method to construct mcscf active space\n",
    "#active-space-size, #-active-electrons, orbital-initial-guess-for-CASCI/CASSCF\n",
    "\n",
    "from qiskit_nature_pyscf import QiskitSolver"
   ]
  },
  {
   "cell_type": "markdown",
   "metadata": {},
   "source": [
    "* Afin de ne pas interférer avec ce qui a été fait dans les sections précédentes, construisons à nouveau un algorithme quantique. Comme nous connaissons déja la procédure, nous n'allons plus la détailler."
   ]
  },
  {
   "cell_type": "code",
   "execution_count": null,
   "metadata": {},
   "outputs": [],
   "source": [
    "from qiskit_nature.second_q.mappers import (\n",
    "    ParityMapper, \n",
    "    JordanWignerMapper,\n",
    "    BravyiKitaevMapper\n",
    ")\n",
    "from qiskit.primitives import Estimator\n",
    "from qiskit.algorithms.optimizers import SPSA, SLSQP, L_BFGS_B\n",
    "from qiskit_nature.second_q.circuit.library import HartreeFock, UCCSD\n",
    "from qiskit.algorithms.minimum_eigensolvers import VQE\n",
    "from qiskit_nature.second_q.algorithms import GroundStateEigensolver"
   ]
  },
  {
   "cell_type": "markdown",
   "metadata": {},
   "source": [
    "Les optimisations classiques seront effectuées avec l'algorithme d'approximation stochastique de perturbation simultanée (SPSA), qui est une bonne approche pour les simulations en présence de bruit car elle ne nécessite que deux évaluations d'énergie par étape VQE, réduisant ainsi les coûts spplémentaires ou frais généraux."
   ]
  },
  {
   "cell_type": "code",
   "execution_count": null,
   "metadata": {},
   "outputs": [],
   "source": [
    "def algorithm(mapper, optimizer, norb, nelec):\n",
    "    \n",
    "    ansatz = UCCSD(\n",
    "    norb,\n",
    "    nelec,\n",
    "    mapper,\n",
    "    initial_state=HartreeFock(\n",
    "        norb,\n",
    "        nelec,\n",
    "        mapper,\n",
    "    ),\n",
    "    )\n",
    "\n",
    "    vqe_solver = VQE(Estimator(), ansatz, optimizer)\n",
    "    vqe_solver.initial_point = np.zeros(ansatz.num_parameters)\n",
    " \n",
    "    algorithm = GroundStateEigensolver(mapper, vqe_solver)\n",
    "    \n",
    "    return algorithm"
   ]
  },
  {
   "cell_type": "markdown",
   "metadata": {},
   "source": [
    "### Cas de la molécule d'hydrogène"
   ]
  },
  {
   "cell_type": "code",
   "execution_count": null,
   "metadata": {},
   "outputs": [],
   "source": [
    "#  Initialisation de la structure moléculaire\n",
    "H2_mol = gto.M(atom=\"H 0 0 0; H 0 0 .735\", basis=\"sto-3g\")"
   ]
  },
  {
   "cell_type": "code",
   "execution_count": null,
   "metadata": {},
   "outputs": [],
   "source": [
    "# Calculs HF \n",
    "H2_h_f = scf.RHF(H2_mol).run()\n",
    "\n",
    "# Calculs post-HF\n",
    "# norb = H2_h_f.mo_coeff.shape[1]\n",
    "# nelec = H2_mol.nelec\n",
    "# nel = nelec[0] + nelec[1]\n",
    "norb, nel, mo = avas.avas(H2_h_f,['H 1s', 'H 1s'])\n",
    "nelec = (int(nel/2), int(nel/2))\n",
    "H2_cas = mcscf.CASCI(H2_h_f, norb, nel)\n",
    "\n",
    "# Intégration de l'algorithme quantique\n",
    "mapper = ParityMapper()\n",
    "optimizer = SLSQP()\n",
    "H2_cas.fcisolver = QiskitSolver(algorithm(mapper, optimizer, norb, nelec))\n",
    "\n",
    "H2_cas.run(mo)"
   ]
  },
  {
   "cell_type": "markdown",
   "metadata": {},
   "source": [
    "### Cas de la molécule d'hydride de lithium\n",
    "\n",
    "<center><img src=\"Graphics/Lithium_hydride.png\" width=\"150\"/></center>\n",
    "\n"
   ]
  },
  {
   "cell_type": "code",
   "execution_count": null,
   "metadata": {},
   "outputs": [],
   "source": [
    "LiH_mol = gto.M(atom=\"Li 0 0 0; H 0 0 1.6\", basis=\"sto-3g\")\n",
    "\n",
    "LiH_h_f = scf.RHF(LiH_mol).run()\n",
    "\n",
    "# Calculs post-HF\n",
    "# norb = LiH_h_f.mo_coeff.shape[1]\n",
    "# nelec = LiH_mol.nelec\n",
    "# nel = nelec[0] + nelec[1]\n",
    "norb, nel, mo = avas.avas(LiH_h_f,['Li 2s', 'H 1s'])\n",
    "nelec = (int(nel/2), int(nel/2))\n",
    "LiH_cas = mcscf.CASCI(LiH_h_f, norb, nel)\n",
    "\n",
    "mapper = JordanWignerMapper()\n",
    "optimizer = SLSQP()\n",
    "\n",
    "LiH_cas.fcisolver = QiskitSolver(algorithm(mapper, optimizer, norb, nelec))\n",
    "\n",
    "LiH_cas.run(mo)"
   ]
  },
  {
   "cell_type": "markdown",
   "metadata": {},
   "source": [
    "### Molecule d'eau\n",
    "\n",
    "<center><img src=\"Graphics/Water_structure1.png\" width=\"150\" /></center>"
   ]
  },
  {
   "cell_type": "code",
   "execution_count": null,
   "metadata": {},
   "outputs": [],
   "source": [
    "H2O_mol = gto.M(\n",
    "  atom=\"O 0 0 0.115; H 0 0.754 -0.459; H 0 -0.754 -0.459\",\n",
    "  basis=\"sto6g\",\n",
    ")\n",
    "\n",
    "H2O_h_f = scf.RHF(H2O_mol).run()\n",
    "\n",
    "# Calculs post-HF\n",
    "# norb = H2O_h_f.mo_coeff.shape[1]\n",
    "# nelec = H2O_mol.nelec\n",
    "# nel = nelec[0] + nelec[1]\n",
    "# norb, nel, mo = avas.avas(H2O_h_f,['O 2p', 'H 1s', 'H 1s'])\n",
    "# nelec = (int(nel/2), int(nel/2))\n",
    "H2O_cas = mcscf.CASCI(H2O_h_f, norb, nel)\n",
    "\n",
    "H2O_cas = mcscf.CASCI(H2O_h_f, 2, 2)\n",
    "\n",
    "mapper = BravyiKitaevMapper()\n",
    "optimizer = SLSQP()\n",
    "\n",
    "# H2O_cas.fcisolver = QiskitSolver(algorithm(mapper, optimizer, 2, nelec))\n",
    "H2O_cas.fcisolver = QiskitSolver(algorithm(mapper, optimizer, 2, (1,1)))\n",
    "\n",
    "H2O_cas.run()"
   ]
  },
  {
   "attachments": {},
   "cell_type": "markdown",
   "metadata": {},
   "source": [
    "# Macro molécule\n",
    "\n",
    "Lors de l'**IBM Quantum Challenge Africa 2021**, un challenger sur la chimie quantique pour le VIH visait à déterminer si un modèle d'essai d'une molécule antirétrovirale peut se lier à un modèle d'essai d'une molécule de protéase. Étant donné que la molécule anti-rétrovirale a de nombreux atomes, elle est approximée en utilisant un seul atome de carbone. Le modèle d'essai de la molécule de protéase est représenté par un composant de la molécule de formamide (HCONH2) ; en particulier, c'est la partie **carbone-oxygène-azote** de la molécule de formamide. En bref, l'expérience consiste à déterminer si un seul atome de carbone peut se lier au composant carbone-oxygène-azote de la molécule de formamide. La reponse à la question posée par IBM peut être obtenu en traçant le BOPES (Born-Oppenheimer Potential Energy Surface) d'une macromolécule, qui est la molécule de formamide plus l'atome de carbone.\n",
    "\n",
    "Pour visualiser cette macromolécule, décommenter la cellule suivante si vous avez installé `ase` (atomic simulation environment).\n",
    "> pip install ase -U"
   ]
  },
  {
   "cell_type": "code",
   "execution_count": null,
   "metadata": {},
   "outputs": [],
   "source": [
    "# from ase import Atoms\n",
    "# from ase.build import molecule\n",
    "# from ase.visualize import view\n",
    "\n",
    "# macro_ASE = Atoms('ONCHHHC', [(1.1280, 0.2091, 0.0000), \n",
    "#                           (-1.1878, 0.1791, 0.0000), \n",
    "#                           (0.0598, -0.3882, 0.0000),\n",
    "#                           (-1.3085, 1.1864, 0.0001),\n",
    "#                           (-2.0305, -0.3861, -0.0001),\n",
    "#                           (-0.0014, -1.4883, -0.0001),\n",
    "#                           (-0.1805, 1.3955, 0.0000)])\n",
    "\n",
    "# view(macro_ASE, viewer='x3d')"
   ]
  },
  {
   "cell_type": "code",
   "execution_count": null,
   "metadata": {},
   "outputs": [],
   "source": [
    "M_mol = gto.M(atom='''\n",
    "              O 1.128 0.2091 0.0; \n",
    "              N -1.1878 0.1791 0.0; \n",
    "              C 0.0598 -0.3882 0.0; \n",
    "              H -1.3085 1.1864 0.0001; \n",
    "              H -2.0305 -0.3861 -0.0001; \n",
    "              H -0.0014 -1.4883 -0.0001; \n",
    "              C -0.1805 1.3955 0.0\n",
    "              ''',\n",
    "              basis=\"sto-3g\")\n",
    "M_h_f = scf.RHF(M_mol).run()\n",
    "\n",
    "# Calculs post-HF\n",
    "# norb = M_h_f.mo_coeff.shape[1]\n",
    "# nelec = M_mol.nelec\n",
    "# nel = nelec[0] + nelec[1]\n",
    "M_cas = mcscf.CASCI(M_h_f, 2, 2)\n",
    "\n",
    "mapper = BravyiKitaevMapper()\n",
    "optimizer = SLSQP()\n",
    "\n",
    "M_cas.fcisolver = QiskitSolver(algorithm(mapper, optimizer, 2, (1,1)))\n",
    "\n",
    "M_cas.run()"
   ]
  },
  {
   "cell_type": "code",
   "execution_count": null,
   "metadata": {},
   "outputs": [],
   "source": [
    "# Display Qiskit Software and System information\n",
    "import qiskit.tools.jupyter\n",
    "%qiskit_version_table"
   ]
  }
 ],
 "metadata": {
  "jupytext": {
   "formats": "ipynb,md"
  },
  "kernelspec": {
   "display_name": "qiskit-env",
   "language": "python",
   "name": "qiskit-env"
  },
  "language_info": {
   "codemirror_mode": {
    "name": "ipython",
    "version": 3
   },
   "file_extension": ".py",
   "mimetype": "text/x-python",
   "name": "python",
   "nbconvert_exporter": "python",
   "pygments_lexer": "ipython3",
   "version": "3.10.10"
  }
 },
 "nbformat": 4,
 "nbformat_minor": 4
}
