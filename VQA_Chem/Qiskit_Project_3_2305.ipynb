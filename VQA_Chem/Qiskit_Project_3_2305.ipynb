{
 "cells": [
  {
   "attachments": {},
   "cell_type": "markdown",
   "metadata": {
    "ExecuteTime": {
     "end_time": "2020-08-06T14:35:30.766680Z",
     "start_time": "2020-08-06T14:35:30.540720Z"
    }
   },
   "source": [
    "# UE 4268 - QISKIT Project 3\n",
    "\n",
    "**`vos noms et prenoms`**, `matricule` et `email` \n",
    "\n",
    "\n",
    "Department of Physics - Faculty of Science - University of Yaoundé I\n",
    "\n",
    "`Nom du Laboratoire`\n",
    "\n",
    "`Date`"
   ]
  },
  {
   "attachments": {},
   "cell_type": "markdown",
   "metadata": {
    "tags": []
   },
   "source": [
    "$$\n",
    "\\newcommand{\\ket}[1]{|#1\\rangle} \n",
    "$$"
   ]
  },
  {
   "attachments": {},
   "cell_type": "markdown",
   "metadata": {},
   "source": [
    "## Introduction\n",
    "\n",
    "The purpose of this project is to illustrate some of the techniques described in the previous lab sessions, by explicitly demonstrating how to map molecular ground state problems onto a quantum computer. We do this in second quantization for the Hydrogen molecule (H$_2$) in the STO-3G basis. Across the project, we showcase the Jordan-Wigner (JW) and Bravyi-Kitaev (BK) mappings, reduction of active orbitals using the Natural Molecular Orbital (NMO) basis, reduction of qubits using symmetry conservation and the UCC ansatz. Many of these techniques are applicable to ground state and general chemical problems. \n",
    "\n",
    " It is strongly advised to exploit the excellent article of McArdle *et al.* [Quantum computational chemistry](https://doi.org/10.1103/RevModPhys.92.015003) which is freely accessible [here](https://arxiv.org/abs/1808.10402v3).\n",
    "\n",
    " The other useful articles are:\n",
    "* Seeley, J. T.; Richard, M. J.; Love, P. J., *The Bravyi-Kitaev Transformation for Quantum Computation of Electronic Structure*, J. Chem. Phys. **137**, 224109 (2012);\n",
    "* Whitfield, J. D.; Biamonte, J.; Aspuru-Guzik, A., *Simulation of Electronic Structure Hamiltonians Using Quantum Computers*, Mol. Phys. **109**, 735−750 (2011).\n"
   ]
  },
  {
   "attachments": {},
   "cell_type": "markdown",
   "metadata": {
    "ExecuteTime": {
     "end_time": "2020-07-22T08:24:10.770713Z",
     "start_time": "2020-07-22T08:23:43.237407Z"
    }
   },
   "source": [
    "## Defining the chemistry problem\n",
    "\n",
    "We address the problem of determining the electronic ground state energy of molecular hydrogen as a function of the distance between the nuclei. This relationship is otherwise known as the ground state energy dissociation curve. \n",
    "havehave\n",
    "<center> \n",
    "<img src=\"./Graphics/H2-STO-6G-The-ground.jpg\" width=300 />\n",
    " </center>\n",
    "\n",
    "An accurate description of this energy surface is a key challenge in quantum chemistry that can provide insight on a range of chemical phenomena, e.g., bond breaking and reaction dynamics. To simplify the problem, we apply the Born-Oppenheimer approximation, in which we treat the nuclei as stationary classical particles. This is justified as the ratio of electronic to nuclear mass is roughly 1:1000, leading to a separation in the timescale of their dynamics. The resulting quantum Hamiltonian describing the electronic system, in atomic units, can be written as\n",
    "\\begin{equation}\\label{eq:BO-approx}\n",
    "\\mathtt{H}_{\\rm elec} =  - \\sum_i \\frac{\\nabla^2_{\\mathbf{r}_i}}{2} - \\sum_{i,j} \\frac{Z_i}{|\\mathbf{R}_i - \\mathbf{r}_j|} + \\sum_{i,j>i} \\frac{Z_i Z_j}{|\\mathbf{R}_i - \\mathbf{R}_j|} + \\sum_{i,j>i} \\frac{1}{|\\mathbf{r}_i - \\mathbf{r}_j|},\n",
    "\\end{equation}\n",
    "where $\\mathbf{r}_i$ are the position coordinates of the electrons, which parametrically depend on the fixed position coordinates of the nuclei $\\mathbf{R}_i$, and $Z_i$ and $M_i$ denoting the nuclear charges and masses, respectively. The electronic system, as written in the first-quantized picture in Eq. \\eqref{eq:BO-approx}, assumes an infinite-dimensional Hilbert space. \n",
    "\n",
    "By considering a larger number of orbitals, we are able to recover a larger proportion of the correlation energy in a molecule, resulting in a more accurate estimate of the ground state energy. The figure above  shows the $H_2$ ground state dissociation curves in the STO-3G, 6-31G and cc-PVDZ bases plotted by McArdle *et al.* (2020). We can see that the differences in energy between the three minima are considerably larger than chemical accuracy (1.6mHartree). This highlights the fact that working in a suitably large basis set is crucial for obtaining accurate results.\n",
    "\n",
    "When applying quantum computation to chemistry, the Hamiltonian is instead often considered in the second-quantized formulation, in which the system can be described approximately using a finite basis. Within this framework, states are labeled by the occupation of the orbitals, and the exchange symmetry of the particles is naturally considered through the use of fermionic creation and annihilation operators. The electronic Hamiltonian can then be expressed in terms of these second-quantized operators as\n",
    "\\begin{equation} \\label{eq:H2quant}\n",
    "\\mathtt{H} = \\sum_{pq} h_{pq} a^{\\dagger}_p a_q + \\frac12\\sum_{pqrs} h_{pqrs}a^{\\dagger}_p a^{\\dagger}_q a_r a_s\n",
    "=\\mathtt{H}^{(1)}+\\mathtt{H}^{(2)},\n",
    "\\end{equation}\n",
    "where $a_p$ is an electron annihilation operator that removes an electron from an orbital with label $p$. The weights of the operators are given by the molecular integrals\n",
    "\\begin{align} \\label{eq:MolInt}\n",
    "&h_{pq} = \\int \\mathrm{d}x \\ \\phi^*_p(x) \\left(\\frac{\\nabla^2_r}{2} - \\sum_i\\frac{Z_i}{|\\boldsymbol{r}_i - \\boldsymbol{r}|}\\right) \\phi_q(x),\n",
    "&h_{pqrs} = \\int \\mathrm{d}x_1 \\ \\mathrm{d}x_2 \\frac{\\phi^*_p(x_2) \\phi^*_q(x_1)\\phi_r(x_1)\\phi_s(x_2)}{|\\boldsymbol{r}_1-\\boldsymbol{r}_2|}, \n",
    "\\end{align}\n",
    "where we use $x_i$ to denote the spatial and spin coordinates, i.e., $x_i = ({\\boldsymbol{r}}_i, \\sigma_i)$. In practice, several electronic structure packages and codes have been developed and optimized for computing these integrals. To prepare our quantum computation for molecular hydrogen, we use such classically pre-computed integrals to prepare the second-quantized Hamiltonian. \n"
   ]
  },
  {
   "attachments": {},
   "cell_type": "markdown",
   "metadata": {},
   "source": [
    "### Hydrogen Molecule\n",
    "\n",
    "<center> \n",
    " <figure>\n",
    "    <img src=\"Graphics/h2.png\" width=\"150\"/>\n",
    "  <img src=\"Graphics/H2-coordinates.png\" width=300>\n",
    "  <figcaption>$H_2$ coordinates. The nuclei are labeled $A$ and $B$, and the electrons are labeled 1 and 2.</figcaption>\n",
    "</figure> \n",
    " </center>\n",
    "\n",
    "Hereafter, the symbols $g$ and $u$ will be stood for *gerade* (even) and *ungerade* (odd) with the respect to inversion about the center of mass of the molecule. $\\sigma$ will indicate that the projection of the electronic angular momentum about the internuclear axis is zero.\n",
    "\n",
    "The ground state electronic configuration of $H_2$ is $(1s\\sigma_g)^2$ and the Slater determinant for this configuration is\n",
    "\\begin{equation*}\n",
    " \\psi(1,2) \n",
    "  = \\frac{1}{\\sqrt{2}}\\begin{vmatrix}1s\\sigma_g(1)\\chi_\\uparrow(1) & 1s\\sigma_g(1)\\chi_\\downarrow(1) \\\\ \n",
    "  1s\\sigma_g(2)\\chi_\\uparrow(2) & 1s\\sigma_g(2)\\chi_\\downarrow(2) \\end{vmatrix}\n",
    "  = \\frac{1}{\\sqrt{2}} \\ket{1s\\sigma_g}\\ket{1s\\sigma_g}\\left(\\ket{\\uparrow}\\ket{\\downarrow}-\\ket{\\downarrow}\\ket{\\uparrow}\\right),\n",
    "\\end{equation*}\n",
    "with the state function\n",
    "\\begin{align*}\n",
    "&\\ket{1s\\sigma_g}=\\frac{1}{\\sqrt{2(1+S_{AB})}}(\\ket{1s_A}+\\ket{1s_B}), \n",
    "&S_{AB}=\\langle 1s_A|1s_B\\rangle.\n",
    "\\end{align*}\n",
    "$S_{AB}$ is the **overlap integral**.\n"
   ]
  },
  {
   "attachments": {},
   "cell_type": "markdown",
   "metadata": {},
   "source": [
    "## Mapping the problem in the STO-3G basis\n",
    "\n",
    "\n",
    "### Spin-orbitals\n",
    "\n",
    "The STO-3G basis for $H_2$ includes only the $\\{1s\\}$ orbital for each hydrogen atom. The $1s$ orbital is represented by a linear combination of three Gaussian functions (GTOs). Each hydrogen atom contributes one spin-orbital, and there are two possible spins for each orbital - resulting in a total of 4 orbitals for STO-3G $H_2$. We denote these orbitals as \n",
    "\\begin{align*}\n",
    "\t&\\ket{1s_{A\\uparrow}}, &&\\ket{1s_{A\\downarrow}}, &&\\ket{1s_{B\\uparrow}}, &\\ket{1s_{B\\downarrow}},\n",
    "\\end{align*}\n",
    "where the subscript $A$ or $B$ denotes which of the two atoms the orbital is centred on, and the $\\uparrow,\\,\\downarrow$ denotes the spin $s_z$ of the electron in the orbital. For convenience, we work in the molecular orbital basis for $H_2$, which is simple to construct manually. These single electron molecular orbitals are given by\n",
    "\\begin{equation*}\n",
    "\t\\begin{aligned}\n",
    "\t\t&\\ket{\\sigma_{g \\uparrow}} = \\frac{1}{\\sqrt{2}}(| 1s_{A \\uparrow} \\rangle + | 1s_{B \\uparrow} \\rangle), \n",
    "\t\t&\\ket{\\sigma_{g \\downarrow}} = \\frac{1}{\\sqrt{2}}(| 1s_{A \\downarrow} \\rangle + | 1s_{B \\downarrow} \\rangle), \\\\\n",
    "\t\t&\\ket{\\sigma_{u \\uparrow}}= \\frac{1}{\\sqrt{2}}(| 1s_{A \\uparrow} \\rangle - | 1s_{B \\uparrow} \\rangle), \n",
    "\t\t&\\ket{\\sigma_{u \\downarrow}}= \\frac{1}{\\sqrt{2}}(| 1s_{A \\downarrow} \\rangle - | 1s_{B \\downarrow} \\rangle).\n",
    "\t\\end{aligned}\n",
    "\\end{equation*}\n",
    "\n",
    "We can write a Slater determinant in the occupation number basis as\n",
    "\\begin{equation*}\n",
    "\\ket{\\psi} = \\ket{f_{\\sigma_{u \\downarrow}}, f_{\\sigma_{u \\uparrow}}, f_{\\sigma_{g \\downarrow}}, f_{\\sigma_{g \\uparrow}}}\n",
    "\\equiv\\ket{f_3,f_2,f_1,f_0},\n",
    "\\end{equation*}\n",
    "where $f_i=1$ if spin-orbital $i$ is occupied, and $f_i=0$ if spin-orbital $i$ is unoccupied. \n",
    "\n",
    "We can now calculate the integrals given in Eq. \\eqref{eq:MolInt} using these molecular orbitals. These integrals have been calculated for a large number of basis sets, and the results can be obtained by using a computational chemistry package. We must then map the problem Hamiltonian from being written in terms of creation and annihilation operators to being written in terms of qubit operators.\n"
   ]
  },
  {
   "attachments": {},
   "cell_type": "markdown",
   "metadata": {},
   "source": [
    "## Pauli representation of the one-electron terms in the Hamiltonian\n",
    "\n",
    "We can write the one-electron terms in the Hamiltonian \\ref{eq:H2quant} as\n",
    "\\begin{equation*}\n",
    "\\mathtt{H}^{(1)} = h_{00} a^\\dagger_0 a_0 + h_{11} a^\\dagger_1 a_1 + h_{22} a^\\dagger_2 a_2 + h_{33} a^\\dagger_3 a_3. \n",
    "\\end{equation*}\n",
    "\n",
    "The Table below gives the overlap integrals $h_{pq}$ and $h_{pqrs}$ for molecular hydrogen in a minimal basis obtained through a restricted Hartree-Fock calculation in the PyQuante quantum chemistry package at an internuclear separation of $1.401000$ atomic units ($7.414 \\times 10^{-11}$ m).\n",
    "\n",
    "$$\n",
    "\\begin{array}{|l|r|}\\hline\n",
    "\\text{Integrals}& \\text{Value (a.u.)}\\\\\\hline\n",
    "h_{00} = h_{11} &-1.252477 \\\\\\hline\n",
    "h_{22} = h_{33} &-0.475934 \\\\\\hline\n",
    "h_{0110} = h_{1001} &  0.674493 \\\\\\hline\n",
    "h_{2332} = h_{3223} & 0.697397 \\\\\\hline\n",
    "h_{0220} = h_{0330} = h_{1221} = h_{1331}= h_{2002} = h_{3003} = h_{2112} = h_{3113} & 0.663472 \\\\\\hline\n",
    "h_{0202} = h_{1313} = h_{2130} = h_{2310} = h_{0312} = h_{0132}  & 0.181287 \\\\\\hline\n",
    "\\end{array}\n",
    "$$\n",
    "The one-electron and two-electron integrals for $H_2$ evaluated using molecular spatial orbitals obtained from restricted Hartree-Fock calculation an internuclear separation of $1.401000$ atomic units ($7.414 \\times 10^{-11}$ m). See Article of Whitfield et \\emph{al.} (2011) and reference therein.\n",
    "\n",
    "### JW transformation\n",
    "\n",
    "Using the JW encoding,\n",
    "\\begin{equation*}\n",
    "a^\\dagger_ia_i=\\frac12(\\mathbb{I}-\\mathtt{Z}_i),\n",
    "\\end{equation*}\n",
    "we can obtain \n",
    "\\begin{align*}\n",
    "&a^\\dagger_0a_0=\\frac12(\\mathbb{I}-\\mathtt{Z}_0),\n",
    "&&a^\\dagger_1a_1=\\frac12(\\mathbb{I}-\\mathtt{Z}_1),\n",
    "&&a^\\dagger_2a_2=\\frac12(\\mathbb{I}-\\mathtt{Z}_2),\n",
    "&a^\\dagger_3a_3=\\frac12(\\mathbb{I}-\\mathtt{Z}_3).\n",
    "\\end{align*}\n",
    "\n",
    "### BK transformation\n",
    "\n",
    "Using the BK encoding,\n",
    "\\begin{equation*}\n",
    "a^\\dagger_ia_i=\\frac12(\\mathbb{I}-\\mathtt{Z}_i)_{i=0,2},\\quad\\frac12(\\mathbb{I} - \\mathtt{Z}_1 \\mathtt{Z}_0)_{i=1},\n",
    "\\quad\\frac12(\\mathbb{I} - \\mathtt{Z}_3\\mathtt{Z}_2\\mathtt{Z}_1)_{i=3}, \n",
    "\\end{equation*}\n",
    "we can obtain \n",
    "\\begin{align*}\n",
    "&a^\\dagger_0a_0=\\frac12(\\mathbb{I}-\\mathtt{Z}_0),\n",
    "&&a^\\dagger_1a_1=\\frac12(\\mathbb{I}-\\mathtt{Z}_1\\mathtt{Z}_0),\n",
    "&&a^\\dagger_2a_2=\\frac12(\\mathbb{I}-\\mathtt{Z}_2),\n",
    "&a^\\dagger_3a_3=\\frac12(\\mathbb{I}-\\mathtt{Z}_3\\mathtt{Z}_2\\mathtt{Z}_1).\n",
    "\\end{align*}\n"
   ]
  },
  {
   "attachments": {},
   "cell_type": "markdown",
   "metadata": {},
   "source": [
    "## Pauli  representation of of the two-electron terms in the Hamiltonian\n",
    "\n",
    "Following the work of Whitfield *et al*. \\cite{Whitfield2011}, $\\mathtt{H}^{(2)}$ simplifies to the following expression for molecular hydrogen in a minimal basis:\n",
    "\\begin{equation*}\n",
    "\t\\begin{aligned}\n",
    "\t\\mathtt{H}^{(2)} &= h_{0110} a^\\dagger_0 a^\\dagger_1 a_1 a_0 + h_{2332} a^\\dagger_2 a^\\dagger_3 a_3 a_2\n",
    "\t + h_{0330} a^\\dagger_0 a^\\dagger_3 a_3 a_0 + h_{1221} a^\\dagger_1 a^\\dagger_2 a_2 a_1 + (h_{0220}- h_{0202}) a^\\dagger_0 a^\\dagger_2 a_2 a_0 \\\\\n",
    "    & + (h_{1331} - h_{1313})a^\\dagger_1 a^\\dagger_3 a_3 a_1 +h_{0132} (a^\\dagger_0 a^\\dagger_1 a_3 a_2 + a^\\dagger_2a^\\dagger_3 a_1 a_0)\n",
    "    + h_{0312} (a^\\dagger_0 a^\\dagger_3 a_1 a_2 + a^\\dagger_2 a^\\dagger_1 a_3a_0).\n",
    "\t\\end{aligned}\n",
    "\\end{equation*}\n",
    "This term in the Hamiltonian is made up of six Coulomb/exchange operators and two double-excitation operators, with the coefficients given by the electron integrals \\eqref{eq:MolInt}.\n",
    "\n",
    "### JW transformation\n",
    "\n",
    "We must map the problem Hamiltonian from being written in terms of creation and annihilation operators, to being written in terms of qubit operators. \n",
    "\n",
    "Using the JW encoding (see Whitfield *et al*. (2011) for details), we can obtain the 4 qubit Hamiltonian for H$_2$, given by\n",
    "\\begin{equation*}\n",
    "\t\\begin{aligned}\n",
    "\t\\mathtt{H} &=h_0\\mathbb{I} + h_1\\mathtt{Z}_0 + h_2\\mathtt{Z}_1 + h_3\\mathtt{Z}_2 + h_4\\mathtt{Z}_3\\\\\n",
    "    &+ h_5\\mathtt{Z}_0\\mathtt{Z}_1 + h_6\\mathtt{Z}_0\\mathtt{Z}_2 + h_7\\mathtt{Z}_1\\mathtt{Z}_2\\\\\n",
    "    & + h_8\\mathtt{Z}_0\\mathtt{Z}_3 + h_9\\mathtt{Z}_1\\mathtt{Z}_3 + h_{10}\\mathtt{Z}_2\\mathtt{Z}_3\\\\\n",
    "    &+h_{11}\\mathtt{Y}_0\\mathtt{Y}_1\\mathtt{X}_2\\mathtt{X}_3+ h_{12}\\mathtt{X}_0\\mathtt{Y}_1\\mathtt{Y}_2\\mathtt{X}_3\\\\\n",
    "    &+ h_{13}\\mathtt{Y}_0\\mathtt{X}_1\\mathtt{X}_2\\mathtt{Y}_3 + h_{14}\\mathtt{X}_0\\mathtt{X}_1\\mathtt{Y}_2\\mathtt{Y}_3.\n",
    "\t\\end{aligned}\n",
    "\\end{equation*}\n",
    "While it is important to understand this procedure, every step from selecting a basis to producing an encoded qubit Hamiltonian can be carried out using a quantum computational chemistry package such as [OpenFermion](https://quantumai.google/openfermion/overview) or [Qiskit-Nature ](https://qiskit.org/documentation/nature/). \n",
    "\n",
    "### BK transformation\n",
    "\n",
    "Using Section VI.B of [Seeley *et al.* (2012)](https://doi.org/10.1063/1.4768229), it is easy to give algebraic expressions for the Coulomb and exchange operators:\n",
    "\\begin{align*}\n",
    "&a^\\dagger_0 a^\\dagger_1 a_1 a_0 = \\frac14(\\mathbb{I} - \\mathtt{Z}_0 - \\mathtt{Z}_1 \\mathtt{Z}_0 + \\mathtt{Z}_1), \\\\\n",
    "&a^\\dagger_2 a^\\dagger_3 a_3 a_2 = \\frac14(\\mathbb{I} - \\mathtt{Z}_2 - \\mathtt{Z}_3 \\mathtt{Z}_2 \\mathtt{Z}_1 + \\mathtt{Z}_3 \\mathtt{Z}_1), \\\\\n",
    "&a^\\dagger_0 a^\\dagger_3 a_3 a_0 = \\frac14(\\mathbb{I} - \\mathtt{Z}_0 - \\mathtt{Z}_3 \\mathtt{Z}_2 \\mathtt{Z}_1 + \\mathtt{Z}_3 \\mathtt{Z}_2 \\mathtt{Z}_1 \\mathtt{Z}_0 ), \\\\\n",
    "&a^\\dagger_1 a^\\dagger_2 a_2 a_1 = \\frac14(\\mathbb{I} - \\mathtt{Z}_2 - \\mathtt{Z}_1 \\mathtt{Z}_0 + \\mathtt{Z}_2 \\mathtt{Z}_1 \\mathtt{Z}_0), \\\\\n",
    "&a^\\dagger_0 a^\\dagger_2 a_2 a_0 = \\frac14(\\mathbb{I} - \\mathtt{Z}_2 - \\mathtt{Z}_0 + \\mathtt{Z}_2 \\mathtt{Z}_0), \\\\\n",
    "&a^\\dagger_1 a^\\dagger_3 a_3 a_1 = \\frac14(\\mathbb{I} - \\mathtt{Z}_3 \\mathtt{Z}_2 \\mathtt{Z}_1 - \\mathtt{Z}_1 \\mathtt{Z}_0 + \\mathtt{Z}_3 \\mathtt{Z}_2 \\mathtt{Z}_0).\n",
    "\\end{align*}\n",
    "\n",
    "The two double-excitation operators are somewhat more complicated. As an example, we will derive the Pauli representation of $h_{0312}(a^\\dagger_0 a^\\dagger_3 a_1 a_2 + a^\\dagger_2 a^\\dagger_1 a_3 a_0)$. Following in Section VI.F of Seeley *et al.* (2012), we  consider $a^\\dagger_0 a^\\dagger_3 a_1 a_2$ as $(a^\\dagger_0 a_2) (a^\\dagger_3 a_1)$, a product of two operators of the form $a^\\dagger_i a_j$. The term $a^\\dagger_0 a_2$ is of the type when $i$ and $j$ are both even, while the term $a^\\dagger_1 a_3$ is of the type when $i$ and $j$ are odd, and $i \\in P(j)$, $j \\in U(i)$, and $|\\alpha_{ij}| = 0$. Using the appropriate expressions from Table II of Seeley *et al.* (2012), we find the following:\n",
    "\n",
    "\\begin{align*}\n",
    "& a^\\dagger_0 a_2 = \\frac14 (\\mathtt{Y}_2 \\mathtt{Y}_1 \\mathtt{X}_0 - \\mathtt{X}_2 \\mathtt{Y}_1 \\mathtt{Y}_0 - i \\mathtt{X}_2 \\mathtt{Y}_1 \\mathtt{X}_0 -i \\mathtt{Y}_2 \\mathtt{Y}_1 \\mathtt{Y}_0),\n",
    "& a^\\dagger_1 a_3 = \\frac14 (-i \\mathtt{Z}_2 \\mathtt{Y}_1 \\mathtt{Z}_0 + \\mathtt{Z}_2 \\mathtt{X}_1 - \\mathtt{Z}_3 \\mathtt{X}_1 \\mathtt{Z}_0 + i \\mathtt{Z}_3 \\mathtt{Y}_1).\n",
    "\\end{align*}\n",
    "\n",
    "Let's define $\\mathtt{supp(A)}$ as the support of the operator $\\mathtt{A}$, i.e., those tensor factors on which it acts nontrivially. Then, we note that $\\mathtt{supp}(a^\\dagger_0 a_2) \\cap \\mathtt{supp}(a^\\dagger_1 a_3 ) = \\{2,1,0\\}$, and so we must expect to simplify local operator products on qubits with these indices. Taking the product, we find the following:\n",
    "\n",
    "\\begin{equation*}\n",
    "\\begin{split}\n",
    "a^\\dagger_0 a_2 a^\\dagger_1 a_3 = \\frac{1}{16} (&\\mathtt{X}_2 \\mathtt{X}_0 - i \\mathtt{X}_2 \\mathtt{Y}_0 + \\mathtt{X}_2 \\mathtt{Z}_1 \\mathtt{X}_0 - i \\mathtt{X}_2 \\mathtt{Z}_1 \\mathtt{Y}_0 \n",
    " + i \\mathtt{Y}_2 \\mathtt{X}_0 + \\mathtt{Y}_2 \\mathtt{Y}_0 + i \\mathtt{Y}_2 \\mathtt{Z}_1 \\mathtt{X}_0 + \\mathtt{Y}_2 \\mathtt{Z}_1 \\mathtt{Y}_0 \\\\\n",
    " + &\\mathtt{Z}_3 \\mathtt{X}_2 \\mathtt{X}_0 - i \\mathtt{Z}_3 \\mathtt{X}_2 \\mathtt{Y}_0 + \\mathtt{Z}_3 \\mathtt{X}_2 \\mathtt{Z}_1 \\mathtt{X}_0 - i \\mathtt{Z}_3 \\mathtt{X}_2 \\mathtt{Z}_1 \\mathtt{Y}_0 \n",
    " + i \\mathtt{Z}_3 \\mathtt{Y}_2 \\mathtt{X}_0 + \\mathtt{Z}_3 \\mathtt{Y}_2 \\mathtt{Y}_0 + i \\mathtt{Z}_3 \\mathtt{Y}_2 \\mathtt{Z}_1 \\mathtt{X}_0 + \\mathtt{Z}_3 \\mathtt{Y}_2 \\mathtt{Z}_1 \\mathtt{Y}_0). \n",
    "\\end{split}\n",
    "\\end{equation*}\n",
    "Since the integral $h_{0132}$ is real, we can simply add the above result to its Hermitian conjugate to find the expression for the double-excitation operator. Repeating the above procedure for the second double excitation operator, we arrive at the following results:\n",
    "\n",
    "\\begin{align*}\n",
    "&a^\\dagger_0 a^\\dagger_3 a_1 a_2 + a^\\dagger_2 a^\\dagger_1 a_3 a_0 = \\frac{1}{8}(- \\mathtt{X}_2\\mathtt{X}_0\\ + \\mathtt{X}_2\\mathtt{Z}_1\\mathtt{X}_0\\ - \\mathtt{Y}_2\\mathtt{Y}_0\\ + \\mathtt{Y}_2\\mathtt{Z}_1\\mathtt{Y}_0\\ - \\mathtt{Z}_3\\mathtt{X}_2\\mathtt{X}_0 + \\mathtt{Z}_3\\mathtt{X}_2\\mathtt{Z}_1\\mathtt{X}_0\\ - \\mathtt{Z}_3\\mathtt{Y}_2\\mathtt{Y}_0\\ + \\mathtt{Z}_3\\mathtt{Y}_2\\mathtt{Z}_1\\mathtt{Y}_0),\\\\\n",
    "&a^\\dagger_0 a^\\dagger_1 a_3 a_2 + a^\\dagger_2 a^\\dagger_3 a_1 a_0 = \\frac{1}{8}(\\mathtt{X}_2\\mathtt{X}_0\\ + \\mathtt{X}_2\\mathtt{Z}_1\\mathtt{X}_0\\ + \\mathtt{Y}_2\\mathtt{Y}_0\\ + \\mathtt{Y}_2\\mathtt{Z}_1\\mathtt{Y}_0\\ + \\mathtt{Z}_3\\mathtt{X}_2\\mathtt{X}_0 + \\mathtt{Z}_3\\mathtt{X}_2\\mathtt{Z}_1\\mathtt{X}_0\\ + \\mathtt{Z}_3\\mathtt{Y}_2\\mathtt{Y}_0\\ + \\mathtt{Z}_3\\mathtt{Y}_2\\mathtt{Z}_1\\mathtt{Y}_0). \n",
    "\\end{align*}\n",
    "Thus, using the integrals from the avove Table and the Pauli expressions for the number operators derived previously, as well as the Coulomb/exchange operators and the double-excitation operators derived in this section, we can represent the molecular electronic Hamiltonian for the hydrogen molecule as a sum of products of Pauli matrices in the Bravyi-Kitaev basis:\n",
    "\n",
    "\\begin{equation*}\n",
    "\\begin{split}\n",
    "\\mathtt{H}_{\\rm BK} =\\ &-0.81261\\ \\mathbb{I}+0.171201\\ \\mathtt{Z}_0\\ +0.16862325\\ \\mathtt{Z}_1\\ -0.2227965\\ \\mathtt{Z}_2\\ +0.171201\\ \\mathtt{Z}_1 \\mathtt{Z}_0\\  \\\\\n",
    "&+0.12054625\\ \\mathtt{Z}_2\\mathtt{Z}_0\\ +0.17434925\\ \\mathtt{Z}_3\\mathtt{Z}_1\\ +0.04532175\\ \\mathtt{X}_2\\mathtt{Z}_1\\mathtt{X}_0\\ +0.04532175\\ \\mathtt{Y}_2\\mathtt{Z}_1\\mathtt{Y}_0\\ \\\\\n",
    "&+0.165868\\ \\mathtt{Z}_2\\mathtt{Z}_1\\mathtt{Z}_0\\ +0.12054625\\ \\mathtt{Z}_3\\mathtt{Z}_2\\mathtt{Z}_0\\ -0.2227965\\ \\mathtt{Z}_3\\mathtt{Z}_2\\mathtt{Z}_1\\\\\\\n",
    "&+0.04532175\\ \\mathtt{Z}_3\\mathtt{X}_2\\mathtt{Z}_1\\mathtt{X}_0\\ +0.04532175\\ \\mathtt{Z}_3\\mathtt{Y}_2\\mathtt{Z}_1\\mathtt{Y}_0\\ +0.165868\\ \\mathtt{Z}_3\\mathtt{Z}_2\\mathtt{Z}_1\\mathtt{Z}_0. \n",
    "\\end{split}\n",
    "\\end{equation*}"
   ]
  },
  {
   "attachments": {},
   "cell_type": "markdown",
   "metadata": {
    "ExecuteTime": {
     "end_time": "2020-07-22T08:24:10.833269Z",
     "start_time": "2020-07-22T08:24:10.772938Z"
    }
   },
   "source": [
    "## Reference (Hartree-Fock) States\n",
    "\n",
    "In the JW encoding, it is simple to construct the Hartree-Fock (HF) state for the $H_2$ molecule. The HF state for $H_2$ in the occupation number basis is given by\n",
    "\\begin{equation*}\n",
    "\t\\ket{\\psi_{\\mathrm{HF}}^{\\mathrm{H_2}}} = \\ket{0}^{\\otimes (M-N_e)}\\otimes\\ket{1}^{\\otimes N_e}=\\ket{0011}, \n",
    "\\end{equation*}\n",
    "with $M=4$ spin-orbitals and $N_e=2$ electrons. This represents the slater determinant\n",
    "\\begin{equation*}\n",
    "\\psi_{\\mathrm{HF}}^{\\mathrm{H_2}}(\\boldsymbol{r}_1,\\boldsymbol{r}_2) = \\frac{1}{\\sqrt{2}} (\\sigma_{g \\uparrow}(\\boldsymbol{r}_1) \\sigma_{g \\downarrow}(\\boldsymbol{r}_2) - \\sigma_{g \\uparrow}(\\boldsymbol{r}_2) \\sigma_{g \\downarrow}(\\boldsymbol{r}_1) ), \n",
    "\\end{equation*}\n",
    "where $\\boldsymbol{r}_i$ is the position of electron $i$. The most general state for $H_2$, with the same spin $s_z$ and electron number as the HF state, is given by\n",
    "\\begin{equation*}\n",
    "\t\\ket{\\psi^{\\mathrm{H_2}}} = \\alpha\\ket{0011} + \\beta \\ket{1100} + \\gamma \\ket{1001} + \\delta \\ket{0110},\n",
    "\\end{equation*}\n",
    "and the ground state of the $H_2$ molecule at its equilibrium bond distance is given by McArdle et *al* (2020)\n",
    "\\begin{equation}\\label{eq:H2MolEq}\n",
    "\t\\ket{\\psi_g^{\\mathrm{H_2}}} = 0.9939 \\ket{0011} - 0.1106 \\ket{1100}.\n",
    "\\end{equation}\n",
    "The first determinant in the ground state function is the HF state for $H_2$, showing that a mean-field solution is a good approximation for this molecule at this interatomic distance. The second determinant represents the antibonding state, and accounts for dynamical correlation between the electrons due to their electrostatic repulsion. While the HF determinant dominates at the equilibrium separation, at large separation the two determinants contribute equally to the state function. This is because the bonding and antibonding configurations become degenerate. We require both determinants to accurately describe the state, ensuring that only one electron locates around each atom. This is an example of static correlation, which can also be dealt with using multiconfigurational self-consistent field (MCSCF) methods."
   ]
  },
  {
   "attachments": {
    "H2_CUCCSD_Circuit.jpeg": {
     "image/jpeg": "[encoded data removed]"
    }
   },
   "cell_type": "markdown",
   "metadata": {},
   "source": [
    "## UCCSD *ansatz*\n",
    "\n",
    "In order to find the ground state of the $H_2$ molecule using the VQE, we need to construct the state on the quantum computer. This can be done using adiabatic state preparation, or using an *ansatz*. Here we explicitly derive the UCCSD *ansatz* for H$_2$. The UCCSD operator we seek to realize is given by\n",
    "\\begin{align*}\n",
    "&\\mathtt{U} = e^{(\\mathtt{T}_1 - \\mathtt{T}_1^\\dagger) + (\\mathtt{T}_2 - \\mathtt{T}_2^\\dagger)},  \n",
    "&&\\mathtt{T}_1 =  \\sum_{i \\in\\rm{unocc}\\atop \\alpha \\in\\rm{occ}} t_{i \\alpha} a^\\dagger_i a_\\alpha,  \n",
    "&\\mathtt{T}_2 = \\sum_{i, j \\in\\rm{unocc}\\atop \\alpha, \\beta \\in\\rm{occ}} t_{i j \\alpha \\beta}  a^\\dagger_i a^\\dagger_j a_\\alpha a_\\beta, \n",
    "\\end{align*}\n",
    "where occ are initially occupied orbitals in the HF state, unocc are initially unoccupied orbitals in the HF state, and $t_{i \\alpha}$ and $t_{ij\\alpha \\beta}$ are variational parameters to be optimised using VQE. For H$_2$, the only operators which do not change the spin $s_z$ of the molecule when acting upon the HF state are: $a^\\dagger_2 a_0,~a^\\dagger_3 a_1,~a^\\dagger_3 a^\\dagger_2 a_1 a_0$,\n",
    "\\begin{align*}\n",
    "&a^\\dagger_2a_0\\ket{0011}=\\ket{0110}, &&a^\\dagger_3a_1\\ket{0011}=\\ket{1001}, &a^\\dagger_3 a^\\dagger_2 a_1 a_0\\ket{0011}=\\ket{1100}.\n",
    "\\end{align*}\n",
    "Other valid operators are equivalent to these operators, and can be combined with them, such as $a^\\dagger_3 a^\\dagger_0 a_1 a_0 = -a^\\dagger_3 a_1$,\n",
    "\\begin{equation*}\n",
    "a^\\dagger_3a^\\dagger_0 a_1 a_0\\ket{0011}=-a^\\dagger_3 a_1a^\\dagger_0 a_0\\ket{0011} = -a^\\dagger_3 a_1\\ket{0011}.\n",
    "\\end{equation*}\n",
    "As a result, the UCCSD operator takes the form\n",
    "\\begin{equation*}\n",
    "\\mathtt{U} = e^{t_{02}(a^\\dagger_2 a_0 -a^\\dagger_0 a_2) + t_{13}(a^\\dagger_3 a_1 -a^\\dagger_1 a_3) + t_{0123}(a^\\dagger_3a^\\dagger_2 a_1 a_0 -a^\\dagger_0a^\\dagger_1 a_2 a_3)}. \n",
    "\\end{equation*}\n",
    "We can split this operator using Trotterization with a single Trotter step:\n",
    "\\begin{equation*}\\label{eq:TrotterUCC}\n",
    "\\mathtt{U} =e^{t_{02}(a^\\dagger_2 a_0 - a^\\dagger_0 a_2)} \\times e^{t_{13}(a^\\dagger_3 a_1 - a^\\dagger_1 a_3)} \n",
    "\\times e^{t_{0123}(a^\\dagger_3 a^\\dagger_2 a_1 a_0 - a^\\dagger_0 a^\\dagger_1 a_2 a_3)}.\n",
    "\\end{equation*}\n",
    "Using the JW encoding, we find that\n",
    "\n",
    "\\begin{align*}\n",
    "&(a^\\dagger_2 a_0 - a^\\dagger_0 a_2) = \\frac{i}{2}(\\mathtt{X}_2\\mathtt{Z}_1\\mathtt{Y}_0 -\\mathtt{Y}_2 \\mathtt{Z}_1 \\mathtt{X}_0), \\\\\n",
    "&(a^\\dagger_3 a_1 - a^\\dagger_1 a_3) = \\frac{i}{2}(\\mathtt{X}_3 \\mathtt{Z}_2 \\mathtt{Y}_1 - \\mathtt{Y}_3 \\mathtt{Z}_2 \\mathtt{X}_1),\\\\\n",
    "&\\begin{split}\n",
    "(a^\\dagger_3 a^\\dagger_2 a_1 a_0 - a^\\dagger_0 a^\\dagger_1 a_2 a_3) &= \\frac{i}{8}(\\mathtt{X}_3 \\mathtt{Y}_2 \\mathtt{X}_1 \\mathtt{X}_0 \n",
    "+ \\mathtt{Y}_3 \\mathtt{X}_2 \\mathtt{X}_1 \\mathtt{X}_0 + \\mathtt{Y}_3 \\mathtt{Y}_2 \\mathtt{Y}_1 \\mathtt{X}_0 + \\mathtt{Y}_3 \\mathtt{Y}_2 \\mathtt{X}_1 \\mathtt{Y}_0\\\\\n",
    "& - \\mathtt{X}_3 \\mathtt{X}_2 \\mathtt{Y}_1 \\mathtt{X}_0 - \\mathtt{X}_3 \\mathtt{X}_2 \\mathtt{X}_1 \\mathtt{Y}_0 - \\mathtt{Y}_3 \\mathtt{X}_2 \\mathtt{Y}_1 \\mathtt{Y}_0 - \\mathtt{X}_3 \\mathtt{Y}_2 \\mathtt{Y}_1 \\mathtt{Y}_0).\n",
    "\\end{split}\n",
    "\\end{align*}\n",
    "It was shown in cite{Romero2019a} that all Pauli terms arising from the same excitation operators commute. As a result, each of the exponentials in Eq. \\eqref{eq:TrotterUCC} can be separated into a product of exponentials of a single Pauli string. For example\n",
    "\\begin{equation*}\n",
    "e^{t_{02}(a^\\dagger_2 a_0 - a^\\dagger_0 a_2)} = e^{\\frac{i t_{02}}{2}\\mathtt{X}_2 \\mathtt{Z}_1 \\mathtt{Y}_0} \\times e^{\\frac{-i t_{02}}{2}\\mathtt{Y}_2 \\mathtt{Z}_1 \\mathtt{X}_0}.\n",
    "\\end{equation*}\n",
    "\\cite{Hempel2018} simplified the UCCSD operator for $H_2$ by implementing the single excitation terms as basis rotations, and combining terms in the double excitation operator (by considering the effect of each term on the HF state). We note that this latter technique is only possible because there is only one double excitation operator for this molecule, and so is not a scalable technique in general. The UCCSD operator is simplified to \n",
    "\\begin{equation}\\label{eq:H2UCCSD}\n",
    "U = e^{-i \\theta \\mathtt{X}_3 \\mathtt{X}_2 \\mathtt{X}_1 \\mathtt{Y}_0} .\n",
    "\\end{equation}\n",
    "This can be implemented using the following circuit\n",
    "\n",
    "![H2 UCCSD Circuit](attachment:H2_CUCCSD_Circuit.jpeg)\n",
    "\n",
    "The $\\mathtt{RX}(\\frac{\\pi}{2})$ and $\\mathtt{W}$ gates rotate the basis such that the exponentiated operator applied to the corresponding qubit is either $\\mathtt{Y}$ or $\\mathtt{X}$, respectively. Single excitation terms are implemented with a change of basis.\n",
    "\n",
    "Applying the simplified UCCSD operator to the HF state in $\\ket{0011}$ gives\n",
    "\\begin{equation*}\n",
    "\\mathtt{U}\\ket{0011}=\\left(\\cos(\\theta)\\mathbb{I}-i\\sin(\\theta)\\mathtt{X}_3 \\mathtt{X}_2 \\mathtt{X}_1 \\mathtt{Y}_0\\right)\\ket{0011}=\\cos\\theta\\ket{0011}-\\sin\\theta\\ket{1100}\n",
    "\\end{equation*}\n",
    "which can reproduce the ground state given by Eq. \\eqref{eq:H2MolEq}."
   ]
  },
  {
   "attachments": {},
   "cell_type": "markdown",
   "metadata": {},
   "source": [
    "## Using Qiskit\n",
    "### Classical Preparation"
   ]
  },
  {
   "attachments": {},
   "cell_type": "markdown",
   "metadata": {},
   "source": [
    "## Classical Preparation"
   ]
  },
  {
   "cell_type": "code",
   "execution_count": 109,
   "metadata": {},
   "outputs": [],
   "source": [
    "from qiskit_nature.units import DistanceUnit\n",
    "from qiskit_nature.second_q.drivers import PySCFDriver\n",
    "\n",
    "H2_driver = PySCFDriver(\n",
    "    atom=\"H 0 0 0; H 0 0 0.735\",\n",
    "    basis=\"sto3g\",\n",
    "    charge=0,\n",
    "    spin=0,\n",
    "    unit=DistanceUnit.ANGSTROM,\n",
    ")\n",
    "\n",
    "# Electronic structure problem\n",
    "H2_problem = H2_driver.run()\n",
    "H2_hamiltonian = H2_problem.hamiltonian\n",
    "H2_fermionic_op = H2_hamiltonian.second_q_op()"
   ]
  },
  {
   "cell_type": "code",
   "execution_count": 110,
   "metadata": {},
   "outputs": [
    {
     "name": "stdout",
     "output_type": "stream",
     "text": [
      "Molecule strcuture: Molecule:\n",
      "\tMultiplicity: 1\n",
      "\tCharge: 0\n",
      "\tUnit: Bohr\n",
      "\tGeometry:\n",
      "\t\tH\t(0.0, 0.0, 0.0)\n",
      "\t\tH\t(0.0, 0.0, 1.3889487015553204)\n",
      "\tMasses:\n",
      "\t\tH\t1\n",
      "\t\tH\t1\n",
      "Reference energy: -1.116998996754004\n",
      "Nuclear repulsion energy: 0.7199689944489797\n",
      "Number of particules: (1, 1)\n",
      "Number of spatial orbitals: 2\n",
      "Number of molecular orbitals: 4\n",
      "Number of alpha electrons: 1\n",
      "Number of beta electrons: 1\n",
      "Occupations of the alpha-spin orbitals: [1. 0.]\n"
     ]
    }
   ],
   "source": [
    "print(f'Molecule strcuture: {H2_problem.molecule}')\n",
    "print(f'Reference energy: {H2_problem.reference_energy}')\n",
    "print(f'Nuclear repulsion energy: {H2_problem.nuclear_repulsion_energy}')\n",
    "print(f'Number of particules: {H2_problem.num_particles}')\n",
    "print(f'Number of spatial orbitals: {H2_problem.num_spatial_orbitals}')\n",
    "print(f'Number of molecular orbitals: {H2_problem.num_spin_orbitals}')\n",
    "print(f'Number of alpha electrons: {H2_problem.num_alpha}')\n",
    "print(f'Number of beta electrons: {H2_problem.num_beta}')\n",
    "print(f'Occupations of the alpha-spin orbitals: {H2_problem.orbital_occupations}')"
   ]
  },
  {
   "attachments": {},
   "cell_type": "markdown",
   "metadata": {},
   "source": [
    "### Generate the Qubit Hamiltonian"
   ]
  },
  {
   "cell_type": "code",
   "execution_count": 111,
   "metadata": {},
   "outputs": [
    {
     "name": "stdout",
     "output_type": "stream",
     "text": [
      "Number of items in the JWT Pauli list: 15\n",
      "-0.8105479805373281 * IIII\n",
      "+ 0.17218393261915554 * IIIZ\n",
      "- 0.22575349222402397 * IIZI\n",
      "+ 0.12091263261776633 * IIZZ\n",
      "+ 0.17218393261915554 * IZII\n",
      "+ 0.16892753870087907 * IZIZ\n",
      "+ 0.04523279994605784 * YYYY\n",
      "+ 0.04523279994605784 * XXYY\n",
      "+ 0.04523279994605784 * YYXX\n",
      "+ 0.04523279994605784 * XXXX\n",
      "- 0.22575349222402402 * ZIII\n",
      "+ 0.1661454325638241 * ZIIZ\n",
      "+ 0.1661454325638241 * IZZI\n",
      "+ 0.17464343068300445 * ZIZI\n",
      "+ 0.12091263261776633 * ZZII\n"
     ]
    }
   ],
   "source": [
    "from qiskit_nature.second_q.mappers import JordanWignerMapper\n",
    "\n",
    "H2_qubit_JW_op = JordanWignerMapper().map(H2_fermionic_op)\n",
    "\n",
    "print(\"Number of items in the JWT Pauli list:\", len(H2_qubit_JW_op))\n",
    "print(H2_qubit_JW_op)"
   ]
  },
  {
   "attachments": {},
   "cell_type": "markdown",
   "metadata": {},
   "source": [
    "### Exact ground state energy"
   ]
  },
  {
   "cell_type": "code",
   "execution_count": 112,
   "metadata": {},
   "outputs": [
    {
     "name": "stdout",
     "output_type": "stream",
     "text": [
      "\n",
      " The exact ground state energy is: -1.8572750302023802\n"
     ]
    }
   ],
   "source": [
    "from qiskit.algorithms.minimum_eigensolvers import NumPyMinimumEigensolver\n",
    "\n",
    "exact_result = NumPyMinimumEigensolver().compute_minimum_eigenvalue(H2_qubit_JW_op)\n",
    "print(f'\\n The exact ground state energy is: {exact_result.eigenvalue}')"
   ]
  },
  {
   "attachments": {},
   "cell_type": "markdown",
   "metadata": {},
   "source": [
    "### VQE\n",
    "\n",
    "#### Ansatz Construction"
   ]
  },
  {
   "cell_type": "code",
   "execution_count": 113,
   "metadata": {},
   "outputs": [],
   "source": [
    "from qiskit import QuantumCircuit\n",
    "import numpy as np"
   ]
  },
  {
   "cell_type": "code",
   "execution_count": 114,
   "metadata": {},
   "outputs": [],
   "source": [
    "def ucc_ansatz(theta):\n",
    "    ucc = QuantumCircuit(4)\n",
    "    \n",
    "    # Generate HF state\n",
    "    ucc.x(0)\n",
    "    ucc.x(1)\n",
    "    \n",
    "    ucc.barrier()\n",
    "    ucc.rx(+np.pi/2,0)\n",
    "    ucc.h([1,2,3])\n",
    "    for i in range(3):\n",
    "        ucc.cx(i, i+1)      \n",
    "        \n",
    "    ucc.rz(theta,3)\n",
    "    \n",
    "    for i in reversed(range(3)):\n",
    "        ucc.cx(i, i+1)            \n",
    "    ucc.barrier()    \n",
    "    ucc.rx(-np.pi/2,0)\n",
    "    ucc.h([1,2,3])\n",
    "    ucc.barrier()\n",
    "    return ucc"
   ]
  },
  {
   "cell_type": "code",
   "execution_count": 115,
   "metadata": {},
   "outputs": [
    {
     "data": {
      "image/png": "[encoded data removed]",
      "text/plain": [
       "<Figure size 1207.22x367.889 with 1 Axes>"
      ]
     },
     "execution_count": 115,
     "metadata": {},
     "output_type": "execute_result"
    }
   ],
   "source": [
    "from qiskit.circuit import Parameter\n",
    "\n",
    "theta = Parameter('θ')\n",
    "ansatz = ucc_ansatz(theta)\n",
    "ansatz.draw('mpl')"
   ]
  },
  {
   "cell_type": "code",
   "execution_count": 116,
   "metadata": {},
   "outputs": [
    {
     "data": {
      "text/plain": [
       "1"
      ]
     },
     "execution_count": 116,
     "metadata": {},
     "output_type": "execute_result"
    }
   ],
   "source": [
    "ansatz.num_parameters"
   ]
  },
  {
   "attachments": {},
   "cell_type": "markdown",
   "metadata": {},
   "source": [
    "#### Optimizer and execution"
   ]
  },
  {
   "cell_type": "code",
   "execution_count": 117,
   "metadata": {},
   "outputs": [
    {
     "name": "stdout",
     "output_type": "stream",
     "text": [
      "{   'aux_operators_evaluated': None,\n",
      "    'cost_function_evals': 2,\n",
      "    'eigenvalue': -1.2445845498133263,\n",
      "    'optimal_circuit': <qiskit.circuit.quantumcircuit.QuantumCircuit object at 0x7f4a845c2ec0>,\n",
      "    'optimal_parameters': {Parameter(θ): 5.761131376850917},\n",
      "    'optimal_point': array([5.76113138]),\n",
      "    'optimal_value': -1.2445845498133263,\n",
      "    'optimizer_evals': None,\n",
      "    'optimizer_result': <qiskit.algorithms.optimizers.optimizer.OptimizerResult object at 0x7f4a84696fe0>,\n",
      "    'optimizer_time': 0.012929439544677734}\n",
      "\n",
      "VQE: -1.2445845498133263\n",
      "\n",
      "Delta from reference energy value is 0.61269\n"
     ]
    }
   ],
   "source": [
    "from qiskit.primitives import Estimator\n",
    "from qiskit.algorithms.optimizers import SLSQP\n",
    "from qiskit.algorithms.minimum_eigensolvers import VQE\n",
    "\n",
    "vqe_solver = VQE(Estimator(), ansatz, SLSQP(maxiter=1000))\n",
    "\n",
    "result = vqe_solver.compute_minimum_eigenvalue(\n",
    "    operator=H2_qubit_JW_op)\n",
    "\n",
    "print(result)\n",
    "\n",
    "print('\\nVQE:', result.eigenvalue)\n",
    "print(f\"\\nDelta from reference energy value is {(result.eigenvalue - exact_result.eigenvalue):.5f}\")"
   ]
  },
  {
   "cell_type": "code",
   "execution_count": 118,
   "metadata": {},
   "outputs": [
    {
     "data": {
      "text/html": [
       "<h3>Version Information</h3><table><tr><th>Qiskit Software</th><th>Version</th></tr><tr><td><code>qiskit-terra</code></td><td>0.24.0</td></tr><tr><td><code>qiskit-aer</code></td><td>0.12.0</td></tr><tr><td><code>qiskit-ibmq-provider</code></td><td>0.20.2</td></tr><tr><td><code>qiskit</code></td><td>0.43.0</td></tr><tr><td><code>qiskit-nature</code></td><td>0.6.0</td></tr><tr><td><code>qiskit-machine-learning</code></td><td>0.6.0</td></tr><tr><th>System information</th></tr><tr><td>Python version</td><td>3.10.11</td></tr><tr><td>Python compiler</td><td>GCC 11.3.0</td></tr><tr><td>Python build</td><td>main, May 10 2023 18:58:44</td></tr><tr><td>OS</td><td>Linux</td></tr><tr><td>CPUs</td><td>6</td></tr><tr><td>Memory (Gb)</td><td>7.12152099609375</td></tr><tr><td colspan='2'>Wed May 24 06:19:27 2023 WAT</td></tr></table>"
      ],
      "text/plain": [
       "<IPython.core.display.HTML object>"
      ]
     },
     "metadata": {},
     "output_type": "display_data"
    }
   ],
   "source": [
    "import qiskit.tools.jupyter\n",
    "%qiskit_version_table"
   ]
  }
 ],
 "metadata": {
  "author": "Lecture 3 - Quantum Chemistry with qubits - Example of Molecular Hydrogen",
  "kernelspec": {
   "display_name": "qiskit-env",
   "language": "python",
   "name": "qiskit-env"
  },
  "language_info": {
   "codemirror_mode": {
    "name": "ipython",
    "version": 3
   },
   "file_extension": ".py",
   "mimetype": "text/x-python",
   "name": "python",
   "nbconvert_exporter": "python",
   "pygments_lexer": "ipython3",
   "version": "3.10.11"
  },
  "latex_envs": {
   "LaTeX_envs_menu_present": true,
   "autoclose": true,
   "autocomplete": true,
   "bibliofile": "vqe.bib",
   "cite_by": "number",
   "current_citInitial": 1,
   "eqLabelWithNumbers": true,
   "eqNumInitial": 1,
   "hotkeys": {
    "equation": "Ctrl-E",
    "itemize": "Ctrl-I"
   },
   "labels_anchors": false,
   "latex_user_defs": true,
   "report_style_numbering": true,
   "user_envs_cfg": false
  },
  "nbTranslate": {
   "displayLangs": [
    "*"
   ],
   "hotkey": "alt-t",
   "langInMainMenu": true,
   "sourceLang": "en",
   "targetLang": "fr",
   "useGoogleTranslate": true
  },
  "toc": {
   "base_numbering": "1",
   "nav_menu": {},
   "number_sections": true,
   "sideBar": true,
   "skip_h1_title": false,
   "title_cell": "Table of Contents",
   "title_sidebar": "Contents",
   "toc_cell": false,
   "toc_position": {
    "height": "calc(100% - 180px)",
    "left": "10px",
    "top": "150px",
    "width": "165px"
   },
   "toc_section_display": false,
   "toc_window_display": true
  },
  "varInspector": {
   "cols": {
    "lenName": 16,
    "lenType": 16,
    "lenVar": 40
   },
   "kernels_config": {
    "python": {
     "delete_cmd_postfix": "",
     "delete_cmd_prefix": "del ",
     "library": "var_list.py",
     "varRefreshCmd": "print(var_dic_list())"
    },
    "r": {
     "delete_cmd_postfix": ") ",
     "delete_cmd_prefix": "rm(",
     "library": "var_list.r",
     "varRefreshCmd": "cat(var_dic_list()) "
    }
   },
   "types_to_exclude": [
    "module",
    "function",
    "builtin_function_or_method",
    "instance",
    "_Feature"
   ],
   "window_display": false
  }
 },
 "nbformat": 4,
 "nbformat_minor": 4
}
