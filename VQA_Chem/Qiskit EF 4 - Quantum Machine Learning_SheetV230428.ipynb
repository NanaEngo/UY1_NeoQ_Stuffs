{
 "cells": [
  {
   "attachments": {},
   "cell_type": "markdown",
   "metadata": {},
   "source": [
    "# Evaluation formative 4 - Quantum Machine Learning"
   ]
  },
  {
   "attachments": {},
   "cell_type": "markdown",
   "metadata": {},
   "source": [
    "## Supervised learning\n",
    "\n",
    "The basic structure of a supervised pattern recognition or prediction task can be formally defined as follows.\n",
    "\n",
    "**Given an input domain $\\mathcal{X}$ and an output domain $\\mathcal{Y}$, a training data set $\\mathcal{D} = \\{(x^1,y^1),\\ldots, (x^M,y^M)\\}$ of training pairs $(x^m,y^m)\\in\\mathcal{X}\\times\\mathcal{Y}$ with $m = 1,\\ldots, M$ of training inputs $x^m$ and target outputs $y^m$, as well as a new unclassified input $\\tilde{x}\\in\\mathcal{X}$, guess or predict the corresponding output $\\tilde{y}\\in\\mathcal{Y}$.**\n",
    "\n",
    "The input domain $\\mathcal{X}$ will mostly be chosen to be the space $\\mathbb{R}^N$ of real N-dimensional vectors, or for binary variables, the space of N-bit binary strings $\\{0, 1\\}^N$. The input vectors are also called **feature vectors** as they represent information on carefully selected features of an instance. In cases where the raw data is not from a numerical domain or does not have an obvious distance measure between instances one has to first find a suitable representation that maps the elements to numerical values.\n",
    "\n"
   ]
  },
  {
   "attachments": {},
   "cell_type": "markdown",
   "metadata": {},
   "source": []
  },
  {
   "attachments": {},
   "cell_type": "markdown",
   "metadata": {},
   "source": [
    "### Supervised pattern classification tasks in real-life applications\n",
    "\n",
    "Complete the following sentences with **classification** and **regression**:\n",
    "\n",
    "1. **....** is about finding a function to predict the relationship between\n",
    "some input and the dependent continuous output value. Given you know the\n",
    "income and the effective tax rates of your friends, can you estimate your tax\n",
    "rate given your income even though you don't know the actual calculation?\n",
    "\n",
    "2. In **.........**, we try to predict the discrete label of an instance. Given the\n",
    "input and a set of possible labels, which one is it? \n",
    "\n",
    "\n",
    "\n",
    "In the table given below, which gives somes examples of supervised pattern classification tasks in real-life applications, specify in the third colum, the type of tasks by writing (1) for ***Binary classification tasks***; (2) for ***Regression tasks*** and (3) for ***Multi-label classification tasks***.\n",
    "\n",
    "|Input| Output| Type of tasks\n",
    "|:-----|:------|-------------|\n",
    "|Last month's oil price| Tomorrow's oil price| |\n",
    "|Search history of a user|Chance to click on a car ad| |\n",
    "Insurance customer details| Chance of claiming| |\n",
    "|Images| Car, train or plane?| |\n",
    "|Recording of speech|Words contained in speech| |\n",
    "|Text segment| Prediction of next word to follow| |\n",
    "|Text| French or English?| |\n",
    "|Video| Contains a car?| |\n",
    "|Email| Is spam?| |\n",
    "|Spectrum of cancer cell| Malicious?| |\n"
   ]
  },
  {
   "attachments": {},
   "cell_type": "markdown",
   "metadata": {},
   "source": [
    "### Life Cycle of a Machine Learning Project\n",
    "\n",
    "Despite the diverse applications of machine learning, most machine learning projects follow a typical life cycle that includes some (or all) of the following steps : Visualize the data; Examine the data; Split the Dataset; Data Preprocessing; Load the data; Evaluate the models;  Train the Models.  Put that steps in the right order.\n",
    "1. ....\n",
    "2. ....\n",
    "3. ....\n",
    "4. ....\n",
    "5. ....\n",
    "6. ....\n",
    "7. ...."
   ]
  },
  {
   "attachments": {},
   "cell_type": "markdown",
   "metadata": {},
   "source": [
    "### Sklearn \n",
    "\n",
    "**Sklearn** est la librairie qui contient toutes les fonctions de l’état de l'art du Machine Learning. On y trouve les algorithmes les plus importants ainsi que diverses fonctions de pre-processing. \n",
    "\n",
    "Avec Sklearn, il suffit d'écrire quelques lignes pour développer des modèles de ML supervisés. Pour un modèle de Support Vector Classifier (SVC) par exemple, les fonctions suivantes\n",
    " sont utiliser pour... (compléter le tableau, x et y étant respectivement les features et les labels/target)\n",
    "\n",
    "|Fonction| pour ....   |\n",
    "|--------|-------------|\n",
    "|model = SVC()| .....|\n",
    "|model.fit(x, y)| ......|\n",
    "|model.score(x, y) |.....|\n",
    "|model.predict(x) | ......|"
   ]
  },
  {
   "attachments": {},
   "cell_type": "markdown",
   "metadata": {},
   "source": [
    "## Train a SMILES Dataset with Support Vector Regression\n",
    "\n",
    "Use a support vector regression (SVR) to predict QED (quantitative estimation of drug-likeness) from molecules of the ZING Dataset contained in the file `'./Dataset/Zn10.txt`. The input - structural feature of molecules is Morgan fingerprint and the output is QED.\n",
    "\n",
    "The workflow is\n",
    "1. Get molecular fingerprints of each molecules \n",
    "2. Split the dataset to training set and test set\n",
    "3. Train a SVR model\n",
    "4. Check the accuracy of prediction with $R²$ and mean-square error\n",
    "5. Visualize the results from the model.\n",
    "\n",
    "**The various necessaries libraries and modules will be import where there needed**.\n",
    "\n",
    "We recall that the **molecular fingerprint** represents the substructures of a molecule as a vector of binary numbers. It is a molecular structure descriptor use as input to reveal the relationship between molecular structure and properties, called **Quantitative Structure-Activity Relationships (QSAR)**."
   ]
  },
  {
   "cell_type": "code",
   "execution_count": 1,
   "metadata": {},
   "outputs": [
    {
     "name": "stdout",
     "output_type": "stream",
     "text": [
      "1.2.1\n"
     ]
    }
   ],
   "source": [
    "import sklearn\n",
    "print(sklearn.__version__)"
   ]
  },
  {
   "cell_type": "code",
   "execution_count": 2,
   "metadata": {},
   "outputs": [
    {
     "name": "stdout",
     "output_type": "stream",
     "text": [
      "2022.09.5\n"
     ]
    }
   ],
   "source": [
    "import rdkit\n",
    "print(rdkit.__version__)"
   ]
  }
 ],
 "metadata": {
  "kernelspec": {
   "display_name": "qiskit-env",
   "language": "python",
   "name": "qiskit-env"
  },
  "language_info": {
   "codemirror_mode": {
    "name": "ipython",
    "version": 3
   },
   "file_extension": ".py",
   "mimetype": "text/x-python",
   "name": "python",
   "nbconvert_exporter": "python",
   "pygments_lexer": "ipython3",
   "version": "3.10.10"
  },
  "orig_nbformat": 4
 },
 "nbformat": 4,
 "nbformat_minor": 2
}
