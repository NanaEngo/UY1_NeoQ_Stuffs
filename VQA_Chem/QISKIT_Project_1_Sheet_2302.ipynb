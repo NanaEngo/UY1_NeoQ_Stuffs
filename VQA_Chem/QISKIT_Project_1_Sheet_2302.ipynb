{
 "cells": [
  {
   "cell_type": "markdown",
   "id": "e3ef3941-940a-41a9-b3b0-f3eb848dbbaf",
   "metadata": {},
   "source": [
    "# UE 4268 - QISKIT Project 1\n",
    "\n",
    "\n",
    "**`vos noms et prenoms`**, `matricule` et `email` \n",
    "\n",
    "\n",
    "Department of Physics - Faculty of Science - University of Yaoundé I\n",
    "\n",
    "`Nom du Laboratoire`\n",
    "\n",
    "`Date`"
   ]
  },
  {
   "attachments": {},
   "cell_type": "markdown",
   "id": "acb86ba9-39fd-44a6-926f-f07f297f7f09",
   "metadata": {},
   "source": [
    "## Projet 1.1 Représentation matricielle dans la base standard\n",
    "\n",
    "1. Calculer manuellement\n",
    "$$\n",
    "\\rho = 4\\mathbb{I}\\otimes\\mathbb{I} + 2\\mathbb{I}\\otimes\\mathtt{X} \n",
    "+ 4\\mathbb{I}\\otimes\\mathtt{Z} - \\mathtt{X}\\otimes\\mathtt{X}\n",
    "+ 5\\mathtt{Y}\\otimes\\mathtt{Y} + 2\\mathtt{Z}\\otimes\\mathtt{X}.\n",
    "$$\n",
    "\n",
    "2. Utiliser les classes appropriées de Qiskit pour obtenir la représentation matricielle de $\\rho$ et avec visualisation en LaTeX. Quelle est la dimension de $\\rho$?"
   ]
  },
  {
   "attachments": {},
   "cell_type": "markdown",
   "id": "1f56f563-4ca5-4161-bd1b-cb9f5976a132",
   "metadata": {},
   "source": [
    "## Projet 1.2  Décomposition de Pauli d'une matrice\n",
    "\n",
    "1. Montrer manuellement que toute matrice $M$, en prenant le cas où $\\dim_M=2$ peut s'écrire sous la forme (voir la sous-section **4.1.0.1 Décomposition de Pauli**)\n",
    "$$\n",
    "\\mathtt{M}=\\sum_j^{N_k}w_j\\bigg(\\bigotimes_i^{M-1}\\mathtt{X}_i^j\\bigg),\n",
    "$$\n",
    "\n",
    "2. Utilisez la classe `qiskit.quantum_info.SparsePauliOp` pour trouver les coefficients $w_j$ de la matrice\n",
    "$$ \\begin{bmatrix}8 & 4 & 0 & -6  \\\\ 4 & 0 & 4 & 0  \\\\ 0 & 4 & 8 & 0  \\\\ -6 & 0 & 0 & 0  \\end{bmatrix}.$$\n"
   ]
  },
  {
   "cell_type": "code",
   "execution_count": null,
   "id": "2dab6a9d",
   "metadata": {
    "vscode": {
     "languageId": "python"
    }
   },
   "outputs": [],
   "source": [
    "# Insert your code here"
   ]
  },
  {
   "attachments": {},
   "cell_type": "markdown",
   "id": "458b41cb-2975-45e1-b076-c13135732099",
   "metadata": {},
   "source": [
    "## Projet 1.3 Simulation de la détection interférométrique d'une superposition quantique d'états d'énantiomères gauches et droits\n",
    "En chimie, les molécules ou les ions qui sont des images miroir les uns des autres sont appelés **énantiomères** ou **isomères optiques**. Si ces images ne sont pas superposables, on les appelle des **[molécules chirales](https://chem.libretexts.org/Bookshelves/Organic_Chemistry/Map:_Organic_Chemistry_(Vollhardt_and_Schore)/05._Stereoisomers/5.1:_Chiral__Molecules)**. Elles se distinguent par leur capacité à faire tourner la lumière polarisée plane vers la gauche ou la droite. Il existe une [expérience](https://journals.aps.org/prx/pdf/10.1103/PhysRevX.11.031056) permettant de préparer une superposition quantique d'états gauches et droits d'énantiomères et de réaliser une détection interférométrique des forces dépendant de la chiralité.\n",
    "\n",
    "Nous voulons concevoir, avec la bibliothèque Qiskit, un circuit quantique inspiré de l'interféromètre impliquant des énantiomères. Nous représentons un seul énantiomère avec deux qubits $\\ket{q_1q_0}$. \n",
    "\n",
    "Nous encodons la direction de propagation du qubit $\\ket{q_1}$ \n",
    "* suivant l'axe horizontale comme l'état $\\ket{0}$;\n",
    "* et suivant l'axe verticale comme l'état $\\ket{1}$. \n",
    "\n",
    "Nous encodons ce qui suit dans le qubit de la latéralité $\\ket{q_0}$:\n",
    "* un état gaucher comme l'état $\\ket{0}$;\n",
    "- Un état droitier comme l'état $\\ket{1}$;\n",
    "- une superposition d'états gauche et droit comme $\\frac{1}{\\sqrt{2}}(\\ket{0}+\\ket{1}$ obtenue par l'application d'une porte de walsh-Hadamard.\n",
    "\n",
    "Nous simulons\n",
    "* un miroir par la porte $\\mathtt{X}$;\n",
    "* un diviseur de faisceau ou Beam-Splitter par \n",
    "$$\\mathtt{BS}=\\tfrac{1}{\\sqrt{2}}(\\mathtt{I}+i\\mathtt{X})=\\tfrac{1}{\\sqrt{2}}\\begin{pmatrix} 1 & i\\\\i & 1\\end{pmatrix}.$$ \n",
    "Par convention, on affecte le changement de phase $\\frac{\\pi}{2}$ à la réflexion;\n",
    "* un diviseur de faisceau polarisant ou polarizing beam splitter par \n",
    "$$\\mathtt{PBS}=\\mathtt{CX}=\\begin{pmatrix} 1 & 0 & 0 & 0\\\\\n",
    "0 & 0 & 0& 1\\\\0 & 0 &1 & 0\\\\0 & 1 & 0 & 0\\end{pmatrix},$$ \n",
    "qui transmet l'état $\\ket{0}$ et réfléchi l'etat $\\ket{1}$. On note qu'ici il n'y a pas de changement de phase."
   ]
  },
  {
   "attachments": {},
   "cell_type": "markdown",
   "id": "fc00f217",
   "metadata": {},
   "source": [
    "Nous définissons la fonction `show()`, qui affiche le dessin d'un circuit quantique et le état du vecteur d'état en utilisant LaTeX comme suit:"
   ]
  },
  {
   "cell_type": "code",
   "execution_count": null,
   "id": "fadfa0b8",
   "metadata": {
    "vscode": {
     "languageId": "python"
    }
   },
   "outputs": [],
   "source": [
    "def show(qc):\n",
    "    display(qc.draw(output='mpl'))\n",
    "    s = qi.Statevector.from_instruction(qc)\n",
    "    display(array_to_latex(s, prefix=\"\\\\text{state vector} = \"))\n",
    "    return"
   ]
  },
  {
   "attachments": {},
   "cell_type": "markdown",
   "id": "c1c1809c",
   "metadata": {},
   "source": [
    "1. Utiliser la classe `qiskit.extensions.UnitaryGate` pour créer les portes BS et PBS.\n",
    "2. Simuler l'action du PBS sur un énantiomère évoluant horizontalement et étant dans l'état droit. Visualiser le circuit quantique correspondant avant et après l'action du PBS. Commenter.\n",
    "3. Simuler l'action du PBS sur un énantiomère évoluant horizontalement et étant dans une superposition d'états gauche et droit. Visualiser le circuit quantique correspondant avant et après l'action du PBS. Commenter.\n"
   ]
  },
  {
   "cell_type": "code",
   "execution_count": null,
   "id": "30e7334c",
   "metadata": {
    "vscode": {
     "languageId": "python"
    }
   },
   "outputs": [],
   "source": [
    "# Insert your code here"
   ]
  },
  {
   "cell_type": "code",
   "execution_count": null,
   "id": "f455aec8-49e2-45c6-a020-6ac9544f012e",
   "metadata": {
    "vscode": {
     "languageId": "python"
    }
   },
   "outputs": [],
   "source": [
    "import qiskit.tools.jupyter\n",
    "%qiskit_version_table"
   ]
  }
 ],
 "metadata": {
  "kernelspec": {
   "display_name": "qiskit-env",
   "language": "python",
   "name": "qiskit-env"
  }
 },
 "nbformat": 4,
 "nbformat_minor": 5
}
