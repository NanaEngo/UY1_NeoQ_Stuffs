{
 "cells": [
  {
   "cell_type": "markdown",
   "metadata": {},
   "source": [
    "# QISKIT Lab 4 - Fermionic Hamiltonian\n",
    "\n",
    "1. **S. G. Nana Engo**, serge.nana-engo@facsciences-uy1.cm\n",
    "    * Department of Physics, Faculty of Science, University of Yaounde I\n",
    "1. **J-P. Tchapet Njafa**, jean-pierre.tchapet-njafa@univ-maroua.cm\n",
    "    * Department of Physics, Faculty of Science, University of Maroua\n",
    "1. **P. Djorwe**, djorwepp@gmail.com\n",
    "    * Department of Physics, Faculty of Science, University of Ngaoundere\n",
    "       \n",
    "March 2023"
   ]
  },
  {
   "cell_type": "markdown",
   "metadata": {},
   "source": [
    "$$\n",
    "\\newcommand{\\HH}{\\mathtt{H}}  \n",
    "\\newcommand{\\ad}{a^\\dagger}  \n",
    "$$"
   ]
  },
  {
   "cell_type": "markdown",
   "metadata": {},
   "source": [
    "## Bases chimiques\n",
    "\n",
    "Un ensemble de base est un ensemble de fonctions, appelées **[fonctions de base](https://chem.libretexts.org/Bookshelves/Physical_and_Theoretical_Chemistry_Textbook_Maps/Supplemental_Modules_(Physical_and_Theoretical_Chemistry)/Quantum_Mechanics/17%3A_Quantum_Calculations/ab_initio_Basis_Sets)**, telles que toute orbitale moléculaire électronique peut être approchée\n",
    "comme une **combinaison linéaire de ses orbitales atomiques (LCAO, Linear) combination of atomic orbitals**.\n",
    "\n",
    "Les deux classes d'orbitales de base approximatives couramment utilisées sont les **Slater-tyoe orbitals (STOs)** basées sur le déterminant de Slater, et les **orbitales cartésiennes de type Gaussien (GTO)**. Ces deux types de fonctions de base peut être combiné comme **STO-nG (Slater-type orbital-n Gaussians)**, où n est le nombre de gaussiennes utilisées pour faire les approximations.\n",
    "\n",
    "Détaillons la structure de ces deux classes.\n",
    "\n",
    "### Orbitales de type Slater\n",
    " Ce sont les fonctions d'état radiales de la forme\n",
    "\n",
    " \\begin{align*}\n",
    "& R_\\ell(r) = A(\\ell,\\alpha) r^\\ell e^{-\\alpha r},\n",
    "& A(\\ell,\\alpha) = (2\\alpha)^{\\ell+1} \\sqrt{\\frac{2\\alpha}{(2\\ell+2)!}},\n",
    "\\end{align*}\n",
    "\n",
    "où,\n",
    " * $\\ell\\leq n$ est le nombre quantique de moment quantique orbital et $n$ le nombre quantique principal;\n",
    " * $r$ est la distance entre l'électron et le noyau atomique;\n",
    " * $\\alpha$ est l'exposant orbital qui contrôle la vitesse à laquelle la densité de l'orbite s'annule en fonction de la distance nucléaire $r$;\n",
    " * $A(\\ell,\\alpha)$ est le facteur de normalisation.\n",
    "\n",
    "Pour une orbitale $1s$, $\\ell=0$ et\n",
    "\\begin{align*}\n",
    "&A(0,\\alpha) = 2\\alpha^{3/2}, &R_0(r) =2\\alpha^{3/2}e^{-\\alpha r}.\n",
    "\\end{align*}\n",
    "\n",
    "Un code python permettant de visualiser cette fonction est le suivant:"
   ]
  },
  {
   "cell_type": "code",
   "execution_count": null,
   "metadata": {},
   "outputs": [],
   "source": [
    "import numpy as np\n",
    "import matplotlib.pyplot as plt"
   ]
  },
  {
   "cell_type": "code",
   "execution_count": null,
   "metadata": {},
   "outputs": [],
   "source": [
    "x = np.linspace(-5,5,num=1000)\n",
    "r = abs(x)\n",
    "alpha = 1.0\n",
    "\n",
    "R = 2*alpha**(1.5)*np.exp(-alpha*r)\n",
    "\n",
    "plt.figure(figsize=(4,3))\n",
    "plt.plot(x,R,label=\"STO 1s H\")\n",
    "plt.legend()\n"
   ]
  },
  {
   "cell_type": "markdown",
   "metadata": {},
   "source": [
    "### Do it yourself\n",
    "\n",
    "Ecriver un code python pour visualiser STO 2s H."
   ]
  },
  {
   "cell_type": "markdown",
   "metadata": {},
   "source": [
    "Un code python permettant visualiser la fonction d'état spatiale antisymétrique pour la molécule d'hydrogène comme une combinaison linéaire de la partie radiale précédente de l'orbitale de Slater pour un atome d'hydrogène est la suivante:"
   ]
  },
  {
   "cell_type": "code",
   "execution_count": null,
   "metadata": {},
   "outputs": [],
   "source": [
    "x = np.linspace(-7,7,num=1000)\n",
    "r1 = abs(x+2.5)\n",
    "r2 = abs(x-2.5)\n",
    "alpha = 1.0\n",
    "\n",
    "R = 2*alpha**(1.5)*np.exp(-alpha*r1)-2*alpha**(1.5)*np.exp(-\n",
    "alpha*r2)\n",
    "\n",
    "plt.figure(figsize=(4,3))\n",
    "plt.plot(x,R,label=\"Antisymmetric STO H2\")\n",
    "plt.legend()\n"
   ]
  },
  {
   "cell_type": "markdown",
   "metadata": {},
   "source": [
    "### Orbitales de type GTO\n",
    "\n",
    "Ce sont les fonctions d'état radiales de la forme\n",
    "\n",
    " \\begin{equation*}\n",
    " R_\\ell(r) = B(\\ell,\\alpha) r^\\ell e^{-\\alpha r^2},\n",
    "\\end{equation*}\n",
    "\n",
    "où,\n",
    " * $\\ell\\leq n$ est le nombre quantique de moment quantique orbital et $n$ le nombre quantique principal;\n",
    " * $r$ est la distance entre l'électron et le noyau atomique;\n",
    " * $\\alpha$ est l'exposant orbital qui contrôle la vitesse à laquelle la densité de l'orbite s'annule en fonction de la distance nucléaire $r$;\n",
    " * $B(\\ell,\\alpha)$ est le facteur de normalisation.\n",
    "\n",
    "En pratique, nous approximons la partie radiale d'un STO avec une combinaison linéaire de fonctions Gaussiennes primitives, appelée **fonction Gaussienne contractée**. Les ensembles de base STO-nG incluent une fonction Gaussienne contractée par orbitale atomique.\n",
    "\n",
    "Un code python permettant de visualiser la fonction STO-3G pour l'orbite 1 s de l'atome d'hydrogène fonction est le suivant:"
   ]
  },
  {
   "cell_type": "code",
   "execution_count": null,
   "metadata": {},
   "outputs": [],
   "source": [
    "x = np.linspace(-7,7,num=1000)\n",
    "r = abs(x)\n",
    "c = [0.444635,0.535328,0.154329]\n",
    "alpha = [0.109818,0.405771,2.227660]\n",
    "\n",
    "psi = 0\n",
    "for k in range(3):\n",
    "    psi += c[k]*(2*alpha[k]/np.pi)**0.75 * np.exp(-alpha[k]*r**2)\n",
    "\n",
    "plt.figure(figsize=(5,3))\n",
    "plt.plot(x,psi,label=\"STO-3G 1s H\")\n",
    "plt.legend()\n"
   ]
  },
  {
   "cell_type": "markdown",
   "metadata": {},
   "source": [
    "Un code python permettant de visualiser la fonction d'état spatiale antisymétrique pour la molécule d'hydrogène comme une combinaison linéaire de la partie radiale précédente de la fonction STO-3G pour l'orbite $1s$ d'un atome d'hydrogène est le suivant :"
   ]
  },
  {
   "cell_type": "code",
   "execution_count": null,
   "metadata": {},
   "outputs": [],
   "source": [
    "x = np.linspace(-7,7,num=1000)\n",
    "r1 = abs(x+2.5)\n",
    "r2 = abs(x-2.5)\n",
    "c = [0.444635,0.535328,0.154329]\n",
    "alpha = [0.109818,0.405771,2.227660]\n",
    "\n",
    "psi = 0\n",
    "for k in range(3):\n",
    "    psi += c[k]*(2*alpha[k]/np.pi)**0.75 * np.exp(-\n",
    "alpha[k]*r1**2) \\\n",
    "- c[k]*(2*alpha[k]/np.pi)**0.75 * np.exp(-alpha[k]*r2**2)\n",
    "\n",
    "plt.figure(figsize=(5,3))\n",
    "plt.plot(x,psi,label=\"Antisymmetric STO-3G H2\")\n",
    "plt.legend()"
   ]
  },
  {
   "cell_type": "markdown",
   "metadata": {},
   "source": [
    "## Construction d'un opérateur Hamiltonien fermionique \n",
    "\n",
    "L'Hamiltonien  est exprimé dans la base des solutions de la méthode HF, également appelées Orbitales Moléculaires (OM) :\n",
    "\n",
    "$$\n",
    "\\hat{H}_{elec}=\\sum_{pq} h_{pq} a^{\\dagger}_p a_q + \n",
    "\\frac{1}{2} \\sum_{pqrs} h_{pqrs}  a^{\\dagger}_p a^{\\dagger}_q a_r  a_s\n",
    "$$\n",
    "avec \n",
    "* les **intégrales à 1 électron**\n",
    "$$\n",
    "h_{pq} = \\int \\phi^*_p(r) \\left( -\\frac{1}{2} \\nabla^2 - \\sum_{I} \\frac{Z_I}{R_I- r} \\right)   \\phi_q(r)dr\n",
    "$$\n",
    "qui décrivent l’énergie cinétique des électrons individuels et leurs interactions avec les champs électriques du noyau ;\n",
    "* et **intégrales à 2 électrons**\n",
    "$$\n",
    "h_{pqrs} = \\int \\frac{\\phi^*_p(r_1)  \\phi^*_q(r_2) \\phi_r(r_2)  \\phi_s(r_1)}{|r_1-r_2|}dr_1dr_2,\n",
    "$$\n",
    "décrivent les interactions entre les électrons.\n",
    "\n",
    "Les MO ($\\phi_u$) peuvent être occupés ou virtuels (inoccupés). Un MO peut contenir 2 électrons. Cependant, dans ce qui suit, nous travaillons en fait avec des orbitales de spin qui sont associées à un spin up ($\\alpha$) d'électron spin down ($\\beta$). Ces deux spins sont également communément désignés par $\\alpha$ et $\\beta$, respectivement. Ainsi, les orbitales de spin peuvent contenir un électron ou être inoccupées.\n",
    "\n",
    "### Représentation interne\n",
    "\n",
    "On peut avoir une idée de ce que les termes intégraux signifie en observant les opérateurs de création et d’annihilation qui les composent. Par exemple, $h_{pq} a^{\\dagger}_p a_q$ décrit les sauts d’électron de l’orbital de rotation $q$ à l’orbital de rotation $p$. De même, le terme $ h_{pqrs}  a^{\\dagger}_p a^{\\dagger}_q a_r a_s$ (pour un p,q,r,s distinct) décrit deux électrons dans des orbitaux de rotation $r$ et $s$ se dispersant et se terminant par des orbitaux de rotation $p$ et $q$. Si $r=q$ et $p=s$ alors $ h_{prrp}  a^{\\dagger}_p a^{\\dagger}_r a_r  a_p = h_{prrp}n_pn_r$ donne la pénalité d’énergie associée aux deux électrons étant proches l’un de l’autre, mais ne décrit pas un processus dynamique.\n",
    "\n",
    "Dans l'expression de l'Hamiltonien, il existe au maximum $N^2+N^4$ coefficients. Cependant, un grand nombre de ces coefficients peuvent être collectés, car ils correspondent au même opérateur. Par exemple, dans le cas où $p,q,r,s$ sont des indices distincts, on peut utiliser les règles d'anti-commutation pour indiquer que :\n",
    "$$\n",
    "\\ad_p\\ad_qa_ra_s = -\\ad_q\\ad_pa_ra_s = -\\ad_p\\ad_qa_sa_r = \\ad_q\\ad_pa_sa_r.\n",
    "$$}\n",
    "En outre, comme $\\HH$ est Hermitien, tout opérateur fermionique non Hermitien, par exemple $h_{pqrs}\\ad_p\\ad_qa_ra_s$, a un conjugué Hermitien qui se trouve également dans $\\HH$. Afin d'indexer de manière unique les groupes de termes caractérisés par ces symétries, nous définissons un ordre canonique sur les indices $(i_1,\\cdots,i_n,j_1,\\cdots,j_m)$ de toute suite de $n+m$ opérateurs fermioniques $ \\ad_{i_1}\\cdots \\ad_{i_n}a_{j_1}\\cdots a_{j_m}$ comme suit :\n",
    "\n",
    "* Tous les opérateurs de création $\\ad_{i_\\cdot}$ sont placés avant tous les opérateurs d'annihilation $a_{j_\\cdot}$.\n",
    "\n",
    "* Tous les index des opérateurs de création sont triés par ordre croissant, c'est-à-dire $i_1< i_2< \\cdots < i_n$.\n",
    "\n",
    "* Tous les indices des opérateurs d'annihilation sont triés par ordre décroissant, c'est-à-dire $j_1> j_2 \\cdots > j_m$.\n",
    "\n",
    "* L'index le plus à gauche est inférieur ou égal à l'index le plus à droite, c'est-à-dire $i_1\\le j_m$.\n",
    "\n",
    "Identifions cet ensemble d'indices canoniquement ordonnés comme\n",
    "$$\n",
    "(i_1,\\cdots,i_n,j_1,\\cdots,j_m) \\in S_{n,m}.\n",
    "$$\n",
    "Avec cet ordre canonique, l'Hamiltonien fermionique peut être exprimé comme\n",
    "$$\n",
    "\\HH=\\frac12\\sum_{(p,q)\\in S_{1,1}}h'_{pq}(\\ad_pa_q+\\ad_qa_p)\n",
    "+\\frac12\\sum_{(p,q,r,s)\\in S_{2,2}}h'_{pqrs}(\\ad_p\\ad_qa_ra_s+\\ad_s\\ad_ra_qa_p),\n",
    "$$\n",
    "avec des intégrales à un et deux électrons convenablement adaptées $h'_{pq}$ et $h'_{pqrs}$, respectivement.\n"
   ]
  },
  {
   "attachments": {},
   "cell_type": "markdown",
   "metadata": {
    "tags": []
   },
   "source": [
    "## Qiskit Nature\n",
    "\n",
    "Ce tutoriel utilise essentiellement le package Qiskit Nature dont la conception abstraite est donnée par la figure ci-dessous.\n",
    "\n",
    "<center><img src=\"Graphics/Qiskit_Nature_overview.png\" width=\"700\" /></center>\n",
    "\n",
    "Le package se divise en deux concepts avec chacun trois piliers chacun :\n",
    "\n",
    "* `problems`,  qui sont des représentations de problèmes scientifiques auxquels on cherche une solution;\n",
    "    * _Electronic Structure Problem_ représentant le problème de l'équation de Schrödinger électronique des systèmes moléculaires;\n",
    "\n",
    "    * _Vibrational Structure Problem_ représentant le problème posé par l'Hamiltonien de Watson des systèmes moléculaires;\n",
    "\n",
    "    * _Lattice Model Problem_ représentant les problèmes définis sur des treillis;\n",
    "\n",
    "* `algorithms`, qui fournissent les moyens de trouver des solutions auxdits problèmes;\n",
    "\n",
    "    * _Ground State Solver_ pour trouver l'état fondamental d'un problème;\n",
    "\n",
    "    * _Excited States Solver_ pour trouver les états excités d'un problème;\n",
    "\n",
    "    * _Hamiltonian Simulation_ pour simuler la dynamique d'un problème (pas encore implémenté)."
   ]
  },
  {
   "cell_type": "markdown",
   "metadata": {},
   "source": [
    "### Articulation des modules de Qiskit Nature\n",
    "\n",
    "La bibliothèque Qiskit Nature comprend différents modules s'articulant autour de :\n",
    "\n",
    "- chargement de données à partir de pilotes (drivers) de chimie (PySCF, Psi4, Gaussian, etc.) ou de formats de fichiers;\n",
    "- construction et manipulation d'opérateurs de seconde quantification;\n",
    "- traduction de la seconde quantification à l'espace qubit;\n",
    "- une bibliothèque de circuits quantiques d'analyses ciblées en sciences naturelles;\n",
    "- algorithmes et utilitaires spécifiques aux sciences naturelles pour utiliser  les algorithmes de `Qiskit Terra` plus faciles;\n",
    "- et beaucoup plus.\n",
    "\n",
    "Par exemple, les pilotes (drivers) de chimie, lorsqu'ils sont fournis avec une configuration moléculaire, renverront des intégrales à 1 ($h_{pq}$) et 2 ($h_{pqrs}$) corps, ainsi que d'autres données qui sont efficacement calculées de manière classique. Ces données de sortie d'un pilote peuvent ensuite être utilisées comme entrée dans Qiskit Nature qui contient une logique capable de les traduire sous une forme adaptée aux algorithmes quantiques. La conversion crée d'abord un `FermionicOperator` qui doit ensuite être mappé, par ex. par une cartographie de **Jordan Wigner**, à un opérateur qubit prêt pour le calcul quantique.\n",
    "\n",
    "> pip install qiskit-nature[pyscf] -U\n",
    "\n",
    "Nous allons utiliser le plugin `qiskit_nature_pyscf` qui couple PySCF et Qiskit Nature.  C'est un solveur [FCI](https://en.wikipedia.org/wiki/Full_configuration_interaction) (Full Configuration Interaction) basé sur Qiskit qui permet à un utilisateur de PySCF (Python-based Simulations of Chemistry Framework) de tirer parti des algorithmes quantique implémentés dans Qiskit pour être utilisés à la place de leurs homologues classiques (dans un esprit similaire à l'intégration NWChemEx). Ce plugin est assez recent (début 2023).\n",
    "> pip install qiskit-nature-pyscf -U\n"
   ]
  },
  {
   "cell_type": "markdown",
   "metadata": {},
   "source": [
    "### Cas de la molécule d'hygrogène\n",
    "\n",
    "<center><img src=\"Graphics/h2.png\" width=\"150\"/></center>\n",
    "\n",
    "Dans ce qui suit, nous utilisons le driver PySCF, pouronstruction d'un opérateur Hamiltonien fermioniqu la molécule d'hydrogène à la longueur de la liaison d'équilibre (0,735 angström) à l'état singulet et sans charge."
   ]
  },
  {
   "cell_type": "markdown",
   "metadata": {},
   "source": [
    "#### Information sur la structure moléculaire\n",
    "\n",
    "1. [Qiskit Nature V0.5](https://qiskit.org/documentation/nature/migration/00b_Electronic_structure_with_v0.5.html) a introduit la classe `qiskit_nature.second_q.formats.molecule_info.MoleculeInfo` qui stocke les informations moléculaires sous le format\n",
    "    ```\n",
    "    MoleculeInfo(\n",
    "        symbols: 'Sequence[str]',the ordered sequence of atoms which make up this molecule\n",
    "\n",
    "        coords: 'Sequence[tuple[float, float, float]]', The XYZ coordinates of the atoms\n",
    "\n",
    "        multiplicity: 'int' = 1, the multiplicity of the molecule (`= 2 * spin + 1`)\n",
    "\n",
    "        charge: 'int' = 0, he total charge of the molecule\n",
    "\n",
    "        units: 'DistanceUnit' = <DistanceUnit.ANGSTROM: 'Angstrom'>, the distance unit in which the XYZ coordinates are stored\n",
    "\n",
    "        masses: 'Sequence[float] | None' = None, the sequence of masses for all atoms part of the molecule\n",
    "    ) \n",
    "    ```\n",
    "    Par la suite, `qiskit_nature.second_q.drivers.PySCFDriver.from_molecule` la met sous une forme requise par  `PySCFDriver`:\n",
    "    ```\n",
    "    PySCFDriver.from_molecule(\n",
    "    molecule: 'MoleculeInfo', the molecular information\n",
    "    \n",
    "    basis: 'str', the basis set\n",
    "    method: 'MethodType' = <MethodType.RHF: 'rhf'>, the SCF method type\n",
    "    )\n",
    "    ```\n",
    "\n",
    " 2. Mais, si on utilise le plugin `qiskt_nature_pyscf`, l initialisation de ls structure moléculaire va se faire avec `pyscf.gto.mole` sous le format \n",
    " > gto.M(atom='H 0 0 0; F 0 0 1', basis='6-31g')\n",
    "\n",
    "Comme ce format étant aussi celui de `qiskit_nature.second_q.drivers.PySCFDriver`, c'est lui nous allons préférentiellement utiliser. La structure d'une molécule est renseignée ses coordonnées atomiques (au format xyz), sa charge q, son spin, son ensemble de base et éventuellement ses orbitales moléculaires gélées."
   ]
  },
  {
   "cell_type": "code",
   "execution_count": null,
   "metadata": {},
   "outputs": [],
   "source": [
    "# Pour les données moléculaires\n",
    "from qiskit_nature.units import DistanceUnit\n",
    "from qiskit_nature.second_q.drivers import PySCFDriver"
   ]
  },
  {
   "cell_type": "code",
   "execution_count": null,
   "metadata": {},
   "outputs": [],
   "source": [
    "PySCFDriver?"
   ]
  },
  {
   "cell_type": "code",
   "execution_count": null,
   "metadata": {},
   "outputs": [],
   "source": [
    "H2_driver = PySCFDriver(\n",
    "    atom=\"H 0 0 0; H 0 0 0.735\",\n",
    "    basis=\"sto3g\",\n",
    "    charge=0,\n",
    "    spin=0,\n",
    "    unit=DistanceUnit.ANGSTROM,\n",
    ")"
   ]
  },
  {
   "cell_type": "markdown",
   "metadata": {},
   "source": [
    "Qiskit fournit une classe utile nommée `ElectronicStructureProblem`, qui appelle le driver (qui contient déjà les informations moléculaires stockées à l'étape précédente) pour construire les orbitales moléculaires. Nous effectuons un calcul HF pour la base 1 et 2 STO-3G.\n",
    "\n",
    " Il s'agit en réalité représenter le problème de l'equation de Schrödinguer électronique, $\\mathtt{H}_{\\rm el}|\\Psi\\rangle = E_{\\rm el}|\\Psi\\rangle$. $\\mathtt{H}_{\\rm el}$ est l'Hamiltonien de la classe `qiskit_nature.second_q.hamiltonians.ElectronicEnergy`"
   ]
  },
  {
   "cell_type": "code",
   "execution_count": null,
   "metadata": {},
   "outputs": [],
   "source": [
    "H2_problem = H2_driver.run()\n",
    "print(H2_problem)"
   ]
  },
  {
   "cell_type": "markdown",
   "metadata": {},
   "source": [
    "### `ElectronicStructureProblem` et ses composants\n",
    "\n",
    "Examinons cette instance de problème et ses composants.\n",
    "\n",
    "#### Hamiltonien `ElectronicEnergy`\n",
    "\n",
    "L'aspect le plus important est l'Hamiltonien interne ; dans ce cas, un Hamiltonien `ElectronicEnergy`. Cette classe est capable de générer un opérateur de seconde quantification à partir des intégrales à 1 ($h_{pq}$) et 2 ($h_{pqrs}$) corps qu'un code classique a calculées pour nous.\n",
    "\n",
    "> **NB :** La classe de conteneur pour les coefficients intégraux (`PolynomialTensor`) nécessite que les termes à 2 corps soient fournis dans **l'ordre du physicien** !\n",
    "\n",
    "Ces tenseurs sont soumis à certaines attentes, à savoir :\n",
    "\n",
    "* pour les intégrales électroniques $\\alpha$ (spins-up) et $\\beta$ (spins-down), seules les clés suivantes sont autorisées : \"\", \"+-\", \"++--\";\n",
    "* pour les intégrales électroniques $\\alpha\\beta$ (spins-down-up) la seule clé autorisée est \"++--\".\n"
   ]
  },
  {
   "cell_type": "code",
   "execution_count": null,
   "metadata": {},
   "outputs": [],
   "source": [
    "H2_hamiltonian = H2_problem.hamiltonian\n",
    "\n",
    "H2_coefficients = H2_hamiltonian.electronic_integrals\n",
    "print(H2_coefficients.alpha)"
   ]
  },
  {
   "cell_type": "markdown",
   "metadata": {},
   "source": [
    "Nous utilisons la méthode `second_q_ops()`, pour obtenir les integrales $h_{pq}$ et $h_{pqrs}$ en seconde quantication."
   ]
  },
  {
   "cell_type": "code",
   "execution_count": null,
   "metadata": {},
   "outputs": [],
   "source": [
    "H2_fermionic_op = H2_hamiltonian.second_q_op()\n",
    "print(H2_fermionic_op)"
   ]
  },
  {
   "cell_type": "markdown",
   "metadata": {},
   "source": [
    "Notez qu'il s'agit purement de l'Hamiltonien **électronique** du système. Cela signifie que l'_énergie de répulsion nucléaire_ n'est pas incluse. Au lieu de cela, Qiskit Nature ajoutera ce décalage d'énergie constant dans une étape de post-traitement, afin de calculer l'énergie totale de votre système. Pour savoir comment inclure l'énergie de répulsion nucléaire dans cet opérateur, veuillez vous référer à la documentation de la classe `ElectronicEnergy` [ici](https://qiskit.org/documentation/nature/stubs/qiskit<_>nature.second<_>q.hamiltonians.ElectronicEnergy.html).\n",
    "\n",
    "Par exemple que les termes $\\alpha$ sont\n",
    "```\n",
    " -1.2563390730032498 * ( +_0 -_0 )\n",
    " -0.47189600728114245 * ( +_1 -_1 )\n",
    "```\n",
    "et les termes $\\beta$ sont\n",
    "```\n",
    " -1.2563390730032498 * ( +_2 -_2 )\n",
    " -0.47189600728114245 * ( +_3 -_3 )\n",
    "```\n"
   ]
  },
  {
   "cell_type": "code",
   "execution_count": null,
   "metadata": {},
   "outputs": [],
   "source": [
    "H2_hamiltonian.nuclear_repulsion_energy "
   ]
  },
  {
   "cell_type": "markdown",
   "metadata": {},
   "source": [
    "#### Plus d'attributs du `ElectronicStructureProblem`\n",
    "\n",
    "Examinons quelques attributs supplémentaires de notre instance \"problème\"."
   ]
  },
  {
   "cell_type": "code",
   "execution_count": null,
   "metadata": {},
   "outputs": [],
   "source": [
    "H2_problem.molecule"
   ]
  },
  {
   "cell_type": "code",
   "execution_count": null,
   "metadata": {},
   "outputs": [],
   "source": [
    "H2_problem.reference_energy"
   ]
  },
  {
   "cell_type": "code",
   "execution_count": null,
   "metadata": {},
   "outputs": [],
   "source": [
    "H2_problem.num_particles"
   ]
  },
  {
   "cell_type": "code",
   "execution_count": null,
   "metadata": {},
   "outputs": [],
   "source": [
    "H2_problem.num_spatial_orbitals"
   ]
  },
  {
   "cell_type": "code",
   "execution_count": null,
   "metadata": {},
   "outputs": [],
   "source": [
    "H2_problem.basis"
   ]
  },
  {
   "cell_type": "code",
   "execution_count": null,
   "metadata": {},
   "outputs": [],
   "source": [
    "H2_problem.orbital_energies"
   ]
  },
  {
   "cell_type": "code",
   "execution_count": null,
   "metadata": {},
   "outputs": [],
   "source": [
    "H2_problem.num_alpha"
   ]
  },
  {
   "cell_type": "code",
   "execution_count": null,
   "metadata": {},
   "outputs": [],
   "source": [
    "H2_problem.num_beta"
   ]
  },
  {
   "cell_type": "code",
   "execution_count": null,
   "metadata": {},
   "outputs": [],
   "source": [
    "H2_problem.num_spin_orbitals"
   ]
  },
  {
   "cell_type": "markdown",
   "metadata": {},
   "source": [
    "Définissons la fonction `get_particle_number()` qui permet d'obtenir les propriétés d'une instance `problem` d'une structure électronique."
   ]
  },
  {
   "cell_type": "code",
   "execution_count": null,
   "metadata": {},
   "outputs": [],
   "source": [
    "def get_particle_number(problem):\n",
    "    print(\"Hydrogen molecule, basis: sto3g, Hartree-Fock calculation\")\n",
    "    print(f\"Number of alpha electrons: {problem.num_alpha}\")\n",
    "    print(f\"Number of beta electrons: {problem.num_beta}\")\n",
    "    print(f\"Number of spin orbitals: {problem.num_spin_orbitals}\")\n",
    " "
   ]
  },
  {
   "cell_type": "markdown",
   "metadata": {},
   "source": [
    "Nous appelons la fonction `get_particle_number()` pour obtenir et imprimer les propriétés du nombre de particules comme suit :"
   ]
  },
  {
   "cell_type": "code",
   "execution_count": null,
   "metadata": {},
   "outputs": [],
   "source": [
    "get_particle_number(H2_problem)"
   ]
  },
  {
   "cell_type": "markdown",
   "metadata": {},
   "source": [
    "Pour comprendre l'expression du Hamiltonien en seconde quantification affichée, il faut comprendre la classe `FermionicOp`.\n",
    "\n",
    "#### `FermionicOp` Class\n",
    "\n",
    "Un `FermionicOp` représente une somme pondérée de termes d'opérateurs de création/annihilation fermioniques. Ces termes sont codés sous forme d'étiquettes éparses, qui sont des chaînes constituées d'une liste d'expressions séparées par des espaces. Chaque expression doit ressembler à `[+-]_<index>`, où `<index>` est un entier non négatif représentant l'index du mode fermionique où l'opération `+` (création) ou `-` (annihilation) doit être effectuée. La valeur de l'indice est liée par le nombre d'orbitales de spin (`num_spin_orbitals`) de l'opérateur. Puisque les indices Python commencent par 0, la valeur maximale qu'un indice peut prendre est donnée par `num_spin_orbitals`-1.\n",
    "\n",
    "Par exemple, `(+_0 -_0)`$\\equiv a_0^\\dagger a_0$, `( +_2 +_3 -_2 -_3 )`$\\equiv a_2^\\dagger a_3^\\dagger a_2 a_3$."
   ]
  },
  {
   "cell_type": "markdown",
   "metadata": {},
   "source": [
    "Imprimons seulement les 10 premiers termes de l'opérateur fermionique de la molécule:"
   ]
  },
  {
   "cell_type": "code",
   "execution_count": null,
   "metadata": {},
   "outputs": [],
   "source": [
    "print(\"\\n\".join(str(H2_fermionic_op).splitlines()[:12] + [\"...\"]))"
   ]
  },
  {
   "cell_type": "markdown",
   "metadata": {},
   "source": [
    "Utilisons la méthode `FermionicOp.to_matrix` pour obtenir une représentation matricielle de la molécule d'hydrogène dans la base de Fock, où les états de base sont classés dans l'ordre croissant des chaines de bits, comme 0000, 0001, ..., 1111."
   ]
  },
  {
   "cell_type": "code",
   "execution_count": null,
   "metadata": {},
   "outputs": [],
   "source": [
    "print(H2_fermionic_op.to_matrix())"
   ]
  },
  {
   "cell_type": "markdown",
   "metadata": {},
   "source": [
    "Ce résultat indique que l'opérateur Hamiltonien fermionique de la molécule d'hydrogène contient \n",
    "\n",
    "1. 4 opérateurs nombre de particules\n",
    "\n",
    "$h_{pq}$ | $a_p^\\dagger a_q$ | +0 | -0 | +1 | -1|  +2 | -2 | +3 |  -3 \n",
    "---------|-------------------|----|----|----|---|-----|----|----|-----\n",
    "$-0.4719$| $a_3^\\dagger a_3$ |    |    |    |   |     |    |  + | +  |\n",
    "$-1.2563$| $a_2^\\dagger a_2$ |    |    |    |   | +   | +  |    |    |\n",
    "$-0.4719$| $a_1^\\dagger a_1$ |    |    |  + | + |     |    |    |    |\n",
    "$-1.2563$| $a_0^\\dagger a_0$ |  + | +  |    |   |     |    |    |    |\n",
    "\n",
    "2. 10 opérateurs d'échange entre 2 électrons\n",
    "\n",
    "$h_{pqrs}$|$a_p^\\dagger a_q^\\dagger a_r a_s$ | +0 | -0 | +1 | -1|  +2 | -2 | +3 |  -3 \n",
    "---------|------------------------------|----|----|----|----|---|-----|----|--------- \n",
    "$+0.1809$| $a_0^\\dagger a_2^\\dagger a_3 a_1$ |  + |    |    | + |  +  |    |    | +  |\n",
    "$-0.1809$| $a_0^\\dagger a_3^\\dagger a_2 a_1$ |  + |    |    |   |     | +  | +  |    |\n",
    "$-0.1809$| $a_1^\\dagger a_2^\\dagger a_3 a_0$ |    | +  |  + |   |  +  |    |    | +  |\n",
    "$+0.1809$| $a_1^\\dagger a_3^\\dagger a_2 a_0$ |    | +  |  + |   |     |  + | +  |    |\n",
    "$+0.4836$| $a_2^\\dagger a_3^\\dagger a_3 a_2$ |    |    |    |   | +   |  + |  + | +  |\n",
    "$+0.6986$| $a_1^\\dagger a_3^\\dagger a_3 a_1$ |    |    | +  | + |     |    |  + | +  |\n",
    "$+0.6646$| $a_1^\\dagger a_2^\\dagger a_2 a_1$ |    |    |  + | + |  +  | +  |    |    |\n",
    "$+0.6646$| $a_0^\\dagger a_3^\\dagger a_3 a_0$ |  + | +  |    |   |     |    |  + | +  |\n",
    "$+0.6757$| $a_0^\\dagger a_2^\\dagger a_2 a_0$ | +  | +  |    |   |  +  | +  |    |    |\n",
    "$+0.4836$| $a_0^\\dagger a_1^\\dagger a_1 a_0$ | +  | *  | +  | + |     |    |    |    |\n"
   ]
  },
  {
   "cell_type": "markdown",
   "metadata": {},
   "source": [
    "### Utilisation du plugin `qiskiy_nature_pyscf`"
   ]
  },
  {
   "cell_type": "code",
   "execution_count": null,
   "metadata": {},
   "outputs": [],
   "source": [
    "from pyscf import gto, scf, mcscf\n",
    "from pyscf.mcscf import avas #AVAS method to construct mcscf active space"
   ]
  },
  {
   "cell_type": "markdown",
   "metadata": {},
   "source": [
    "- Initialisons la structure moléculaire"
   ]
  },
  {
   "cell_type": "code",
   "execution_count": null,
   "metadata": {},
   "outputs": [],
   "source": [
    "H2_mol = gto.M(atom=\"H 0 0 0; H 0 0 .735\", basis=\"sto-3g\")"
   ]
  },
  {
   "cell_type": "markdown",
   "metadata": {},
   "source": [
    "- Effectuons les calculs HF avec `pyscf.scf.RHF` (Restricted)."
   ]
  },
  {
   "cell_type": "code",
   "execution_count": null,
   "metadata": {},
   "outputs": [],
   "source": [
    "H2_h_f = scf.RHF(H2_mol).run()"
   ]
  },
  {
   "cell_type": "markdown",
   "metadata": {},
   "source": [
    "- Effectuons les calculs post-HF avec `pyscf.mcscf.CASCI` (Complete active space configuration interaction) pour améliorer les solutions de l'équation de Schrödinger précédent."
   ]
  },
  {
   "cell_type": "code",
   "execution_count": null,
   "metadata": {},
   "outputs": [],
   "source": [
    "# To obtain norb, the number of (active) orbitals and nelec, the number of (active) electrons. \n",
    "norb, nel, mo =avas.avas(H2_h_f,['Li 2s','H 1s'])\n",
    "\n",
    "H2_cas = mcscf.CASCI(H2_h_f, norb, nel)\n",
    "\n",
    "H2_cas"
   ]
  },
  {
   "cell_type": "markdown",
   "metadata": {},
   "source": [
    "Il ne reste plus qu'à intégrer un algorithme quantique à notre simulation! Nous allons donc, lors du prochain tutorial ou lab session, élaborer cet algorithme."
   ]
  },
  {
   "cell_type": "markdown",
   "metadata": {},
   "source": [
    "## Cas de la molécule d'hydride de lithium\n",
    "\n",
    "<center><img src=\"Graphics/Lithium_hydride.png\" width=\"150\"/></center>\n",
    "\n",
    "Do it yourself\n",
    "\n",
    "```\n",
    "LiH_molecule = Molecule(geometry=[['Li', [0., 0., 0.]], ['H', [0., 0., 1.5474]]], charge=0, multiplicity=1)\n",
    "```\n"
   ]
  },
  {
   "attachments": {
    "water_dimer.jpg": {
     "image/jpeg": "[encoded data removed]"
    }
   },
   "cell_type": "markdown",
   "metadata": {},
   "source": [
    "## PySCF\n",
    "\n",
    "**Python-based Simulations of Chemistry Framework (PySCF)** est un programme de chimie computationnelle *ab initio* implémenté nativement dans le langage de programme Python. Le package vise à fournir une plate-forme simple, légère et efficace pour le développement et le calcul de codes de chimie quantique. Il fournit diverses fonctions pour faire la théorie Hartree-Fock, MP2, la théorie fonctionnelle de la densité (DFT), MCSCF, la théorie des clusters couplés au niveau non relativiste et la théorie relativiste Hartree-Fock à 4 composants. PySCF est utilisé dans la plupart des packages de calculs quantiques pour les calculs HF (première quantification) et diverses étapes des transformations de seconde quantification.\n",
    "\n",
    "Dans cette section, nous examinons un peu plus en détails, quelques modules usuels.\n",
    "\n",
    "### Creating a molecule (mol) object with `gto.Mole()`\n",
    "\n",
    "Considérons le dimère d'eau (deux molécules d'eau à liaison hydrogène) illustré par la figure suivante\n",
    "\n",
    "![water_dimer.jpg](attachment:water_dimer.jpg)\n",
    "\n"
   ]
  },
  {
   "cell_type": "code",
   "execution_count": null,
   "metadata": {},
   "outputs": [],
   "source": [
    "from pyscf import gto # Gaussian type orbitals"
   ]
  },
  {
   "cell_type": "code",
   "execution_count": null,
   "metadata": {},
   "outputs": [],
   "source": [
    "DWat_mol=gto.Mole(\n",
    "    atom=\"\"\"\n",
    "    O  -1.551007  -0.114520   0.000000\n",
    "    H  -1.934259   0.762503   0.000000\n",
    "    H  -0.599677   0.040712   0.000000\n",
    "    O   1.350625   0.111469   0.000000\n",
    "    H   1.680398  -0.373741  -0.758561\n",
    "    H   1.680398  -0.373741   0.758561\"\"\",\n",
    "    basis='aug-cc-pVDZ',\n",
    "    cart=False, #mol.cart=0 specifices spherical functions and mol.cart=1 specifies Cartesian functions\n",
    "    charge=0,\n",
    "    ecp={}, # Effective core potentials (ECP) which replace core electrons around a nucleus by pseudopotentials. It's useful for heavy elements present in a molecule.\n",
    "    spin=0,\n",
    "    unit='Angstrom'\n",
    ")\n",
    "DWat_mol.build()"
   ]
  },
  {
   "cell_type": "markdown",
   "metadata": {},
   "source": [
    "### Accéder aux AO integrals"
   ]
  },
  {
   "cell_type": "code",
   "execution_count": null,
   "metadata": {},
   "outputs": [],
   "source": [
    "DWat_mol.intor('int1e_kin')"
   ]
  },
  {
   "cell_type": "code",
   "execution_count": null,
   "metadata": {},
   "outputs": [],
   "source": [
    "DWat_mol.intor('int1e_nuc')"
   ]
  },
  {
   "cell_type": "code",
   "execution_count": null,
   "metadata": {},
   "outputs": [],
   "source": [
    "DWat_mol.intor('int1e_ovlp')"
   ]
  },
  {
   "cell_type": "code",
   "execution_count": null,
   "metadata": {},
   "outputs": [],
   "source": [
    "DWat_mol.intor('int2e')"
   ]
  },
  {
   "cell_type": "markdown",
   "metadata": {},
   "source": [
    "### Calculs de champ moyen\n",
    "\n",
    "Une fois l'objet `gto.Mole()` construit, il est nécessaire de créer un objet de champ moyen (mean-field object) Hartree-Fock (HF) ou Kohn-Sham Density Functional Theory (KS-DFT).\n",
    "\n",
    "Afin de créer un objet champ moyen, il est nécessaire d'importer le sous-module scf (champ auto-cohérent) :"
   ]
  },
  {
   "cell_type": "code",
   "execution_count": null,
   "metadata": {},
   "outputs": [],
   "source": [
    "from pyscf import scf"
   ]
  },
  {
   "cell_type": "markdown",
   "metadata": {},
   "source": [
    "Pour la plupart des usages, les types de calculs SCF pertinents seront :\n",
    "\n",
    "1. RHF (Restricted Hartree – Fock)\n",
    "2. UHF (Hartree-Fock sans restriction)\n",
    "3. ROHF (Restricted Open-Shell Hartree–Fock)\n",
    "4. RKS (Kohn-Sham restreint)\n",
    "5. UKS (Kohn-Sham sans restriction)\n",
    "6. ROKS (Restricted Open-Shell Kohn – Sham)\n",
    "\n",
    "L'initialisation de l'objet champ moyen pour ces six types de calculs est illustrée ci-dessous. Ces classes nécessitent au moins un argument, à savoir un objet molécule, mol.\n",
    "\n",
    "1. `mf=scf.RHF(mol)`\n",
    "2. `mf=scf.UHF(mol)`\n",
    "3. `mf=scf.RHF(mol)` (où mol est définie comme étant à couche ouverte (open-shell), mol.spin!=0)\n",
    "4. `mf=scf.RKS(mol)`\n",
    "5. `mf=scf.UKS(mol)`\n",
    "6. `mf=scf.RKS(mol)` (où mol est définie comme open-shell, mol.spin!=0)"
   ]
  },
  {
   "cell_type": "markdown",
   "metadata": {},
   "source": [
    "#### Création d'un objet mean-field (mf) avec `scf.RHF()`\n",
    "\n",
    "RHF, ROHF et UHF ont des attributs presque identiques. La première étape consiste à créer l'objet mean-field (RHF dans ce cas) :"
   ]
  },
  {
   "cell_type": "code",
   "execution_count": null,
   "metadata": {},
   "outputs": [],
   "source": [
    "mf=scf.RHF(DWat_mol)"
   ]
  },
  {
   "cell_type": "markdown",
   "metadata": {},
   "source": [
    "Par la suite, on exécute le caclul avec la méthode `.run()`ou `.kernel()"
   ]
  },
  {
   "cell_type": "code",
   "execution_count": null,
   "metadata": {},
   "outputs": [],
   "source": [
    "mf.run()"
   ]
  },
  {
   "cell_type": "code",
   "execution_count": null,
   "metadata": {},
   "outputs": [],
   "source": [
    "mf.kernel()"
   ]
  },
  {
   "cell_type": "markdown",
   "metadata": {},
   "source": [
    "Une fois l'exécution du noyau (kernel) SCF achevée, l'objet mean-field (mf) est mis à jour avec plusieurs attributs de sortie utiles :\n",
    "1. `mf.mo_coeff` - Coefficients d'orbite moléculaire (MO) (matrice où les lignes sont des orbitales atomiques (AO) et les colonnes sont des MO)"
   ]
  },
  {
   "cell_type": "code",
   "execution_count": null,
   "metadata": {},
   "outputs": [],
   "source": [
    "mf.mo_coeff"
   ]
  },
  {
   "cell_type": "markdown",
   "metadata": {},
   "source": [
    "2. `mf.mo_energy` - énergies MO (vecteur de longueur égale au nombre de MO)"
   ]
  },
  {
   "cell_type": "code",
   "execution_count": null,
   "metadata": {},
   "outputs": [],
   "source": [
    "mf.mo_energy"
   ]
  },
  {
   "cell_type": "markdown",
   "metadata": {},
   "source": [
    "3. `mf.mo_occ` - Occupation MO (vecteur de longueur égale au nombre de MO)"
   ]
  },
  {
   "cell_type": "code",
   "execution_count": null,
   "metadata": {},
   "outputs": [],
   "source": [
    "mf.mo_occ"
   ]
  },
  {
   "cell_type": "markdown",
   "metadata": {},
   "source": [
    "4. `mf.e_tot` - Énergie SCF totale en unités de Hartrees"
   ]
  },
  {
   "cell_type": "code",
   "execution_count": null,
   "metadata": {},
   "outputs": [],
   "source": [
    "mf.e_tot"
   ]
  },
  {
   "cell_type": "markdown",
   "metadata": {},
   "source": [
    "5. `mf.converged` - État de la convergence SCF (True indique convergé et False indique non convergé)"
   ]
  },
  {
   "cell_type": "code",
   "execution_count": null,
   "metadata": {},
   "outputs": [],
   "source": [
    "mf.converged"
   ]
  },
  {
   "cell_type": "markdown",
   "metadata": {},
   "source": [
    "On peut aussi spécifier les paramètres de calculs du mf."
   ]
  },
  {
   "cell_type": "code",
   "execution_count": null,
   "metadata": {},
   "outputs": [],
   "source": [
    "mf=scf.RHF(DWat_mol)\n",
    "\n",
    "mf.conv_tol=1e-12 # the difference in the SCF energy (in Hartrees) between two successive cycles\n",
    "mf.conv_tol_grad=1e-8 # the root-mean-square of the orbital gradient\n",
    "mf.direct_scf_tol=1e-13 #the threshold for discarding integrals\n",
    "mf.init_guess='atom' #  vital for the efficient completion of the SCF procedure\n",
    "mf.max_cycle=100 # the maximum number of SCF cycles that should be performed before the calculation terminates. For systems that are notoriously difficult to converge, the value should be increased to 100 or even 1000\n",
    "mf.max_memory=4000 #determines the maximum amount of memory (in Megabytes) that PySCF is allowed to utilize during the SCF procedure\n",
    "mf.verbose=4 #controls the print level for the mean-field objec\n",
    "\n",
    "mf.kernel()"
   ]
  },
  {
   "cell_type": "markdown",
   "metadata": {},
   "source": [
    "#### Création d'un objet mean-field (mf) avec scf.RKS()\n",
    "\n",
    "La méthode SCF la plus largement utilisée en chimie quantique est sans aucun doute la théorie de la fonctionnelle de la densité (DFT), et exécuter un calcul DFT dans PySCF est presque aussi simple que d'exécuter un calcul Hartree-Fock.\n",
    "\n",
    "Afin d'accéder à des fonctions supplémentaires qui ne relèvent pas de la norme SCF/HF, il est nécessaire d'importer le module dft (théorie fonctionnelle de la densité) :"
   ]
  },
  {
   "cell_type": "code",
   "execution_count": null,
   "metadata": {},
   "outputs": [],
   "source": [
    "from pyscf import dft"
   ]
  },
  {
   "cell_type": "code",
   "execution_count": null,
   "metadata": {},
   "outputs": [],
   "source": [
    "mf=scf.RKS(DWat_mol)\n",
    "\n",
    "mf.conv_tol=1e-12\n",
    "mf.conv_tol_grad=1e-8\n",
    "mf.direct_scf_tol=1e-13\n",
    "mf.init_guess='atom'\n",
    "mf.max_cycle=100\n",
    "mf.max_memory=8000\n",
    "mf.verbose=0\n",
    "\n",
    "mf.xc='B3LYP'\n",
    "mf.grids.atom_grid=(50,194)\n",
    "mf.grids.becke_scheme=dft.gen_grid.original_becke\n",
    "mf.grids.prune=None\n",
    "mf.grids.radi_method=dft.radi.gauss_chebyshev\n",
    "mf.grids.radii_adjust=None\n",
    "mf.grids.verbose=4\n",
    "mf.small_rho_cutoff=1e-10\n",
    "\n",
    "mf.kernel()"
   ]
  },
  {
   "cell_type": "markdown",
   "metadata": {},
   "source": [
    "RHF and RKS (as well as UHF and UKS) share many attributes, so we will only cover the ones that pertain specifically to DFT. These additional attributes primarily concern the exchange-correlation functional and the grid used for its numerical integration.\n",
    "\n",
    "#### xc attribute\n",
    "\n",
    "(NO DEFAULT)\n",
    "\n",
    "The xc attribute sets the density functional approximation. A vast number of exchange-correlation functionals are available for use in PySCF, essentially all of those that are available in the installed version of libxc.\n",
    "\n",
    "While the parsing rules for the xc attribute are explained in the [PySCF manual](http://sunqm.github.io/pyscf/dft.html#customizing-xc-functional), we will go through a main relevant examples here:\n",
    "\n",
    "1. Standard (pre-coded) exchange-correlation functional\n",
    "\n",
    "  * A classic example of this scenario is the beloved B3LYP functional. To run a B3LYP calculation, simply specify `mf.xc='B3LYP'`.\n",
    "  \n",
    "  * As long as commas and operators are not used, PySCF will assume that the string indicates a full exchange-correlation functional. Other examples may include `mf.xc='PBE'`, `mf.xc='TPSS'`, `mf.xc='M06-L'`, etc.\n",
    "\n",
    "2. Combination of a single exchange functional with a single correlation functional\n",
    "\n",
    "  * This is a popular choice, particularly for using various combinations of the older exchange and correlation functionals from the 1980s and 1990s.\n",
    "  \n",
    "  * In PySCF, inserting a comma into the xc attribute string indicates a separation into exchange (left of the comma) and correlation (right of the comma). For instance, if once wants to run B88 exchange with PBE correlation, it is as simple as `mf.xc='B88,PBE'`.\n",
    "  \n",
    "  * Since the PBE exchange-correlation functional is a combination of PBE exchange and PBE correlation, it follows that `mf.xc='PBE'` and `mf.xc='PBE,PBE'` are exactly equivalant ways of using the PBE xc functional.\n",
    "  \n",
    "  * Other popular combinations of a single exchange functional with a single correlation functional include `mf.xc='B88,LYP'`, `mf.xc='revPBE,PBE'`, and `mf.xc='OPTX,LYP'`. These combinations are historically known as BLYP, revPBE, and OLYP, and can equivalently be called as `mf.xc='BLYP'`, `mf.xc='revPBE'`, and `mf.xc='OLYP'`.\n",
    "  \n",
    "  * This option is most useful when one is interested in an unconventional combination, for example, the combination of PBE exchange with TPSS correlation, `mf.xc='PBE,TPSS'`.\n",
    "\n",
    "3. Single exchange functional or single correlation functional\n",
    "\n",
    "  * Using a single exchange functional, for example, PBE exchange only, is as simple as `mf.xc='PBE,'`. Similarly, PBE correlation only can be specified with `mf.xc=',PBE'`. In the first case (PBE exchange only), the fact that there is a comma indicates to the parser that that a pre-coded xc functional is not being utilized. Therefore, anything to the left of the comma (PBE) is taken to be the exchange functional, while anything to the right of the comma (nothing) is taken to be the correlation functional. The reverse situation applies to the second case with PBE correlation only.\n",
    "\n",
    "4. Custom exchange-correlation functional\n",
    "\n",
    "  * Naturally, it is possible to fully customize the xc attribute. Once again, anything to the left of the comma is assumed to be referring to exchange, and anything to the right of the comma is assumed to be reffering to correlation.\n",
    "  \n",
    "  * In order to start with something simple, we will demonstrate how to specify the popular [PBE0](https://aip.scitation.org/doi/abs/10.1063/1.478522) xc functional by building it from its components (the easy way to do this is simply `mf.xc='PBE0'`). PBE0 is comprised of 25% exact (Hartree–Fock) exchange, 75% PBE exchange, and 100% PBE correlation. This can be accomplished by the following line: `mf.xc='0.25*HF+0.75*PBE,PBE'`.\n",
    "  \n",
    "  * A more complicated example is that of B3LYP. B3LYP is comprised of 20% exact (Hartree–Fock) exchange, 8% LDA exchange, 72% B88 exchange, 19% VWN correlation, and 81% LYP correlation. Unfortunately, there are 6 existing parameterization of the VWN LDA correlation functional, and this has led to much confusion through the years.\n",
    "  \n",
    "  * PySCF, TURBOMOLE, GAMESS, ORCA, and PSI4 all use the VWN5 parameterization, and the following two assignments are equivalent:\n",
    "    * `mf.xc='B3LYP'`\n",
    "    * `mf.xc='0.2*HF+0.08*LDA+0.72*B88,0.19*VWN5+0.81*LYP'`\n",
    "  * Q-Chem and NWChem use the VWN1RPA parameterization:\n",
    "    * `mf.xc='0.2*HF+0.08*LDA+0.72*B88,0.19*VWN_RPA+0.81*LYP'`\n",
    "  * Gaussian uses the VWN3 parameterization:\n",
    "    * `mf.xc='0.2*HF+0.08*LDA+0.72*B88,0.19*VWN3+0.81*LYP'`\n",
    "    \n",
    "#### nlc attribute\n",
    "\n",
    "DEFAULT: `mf.nlc=''`\n",
    "\n",
    "The nlc attribute is used to specify the inclusion of the [VV10 nonlocal correlation functional](https://aip.scitation.org/doi/abs/10.1063/1.3521275). This can simply be accomplished by `mf.nlc='VV10'`. Certain density functionals such as [ωB97X-V](http://pubs.rsc.org/en/Content/ArticleLanding/2014/CP/c3cp54374a#!divAbstract), [ωB97M-V](https://aip.scitation.org/doi/abs/10.1063/1.4952647), and [B97M-V](https://aip.scitation.org/doi/abs/10.1063/1.4907719) require this attribute to run correctly. \n",
    "\n",
    "\n",
    "#### grids attribute/class\n",
    "\n",
    "Although PySCF allows for the comprehensive customization of the DFT integration grid, non-expert users are advised to rely on the default settings as they have been fine-tuned to maximize accuracy and minimize computational cost.\n",
    "\n",
    "##### grids.level attribute\n",
    "\n",
    "DEFAULT: `mf.grids.level=3`\n",
    "\n",
    "This is the simplest grid attribute to manipulate in order to increase or decrease the number of grid points. While the default value is 3, the range of possible values starts at `mf.grids.level=0` and continues to `mf.grids.level=3`.\n",
    "\n",
    "#### grids.atom_grid attribute\n",
    "\n",
    "(NO DEFAULT)\n",
    "\n",
    "This attribute can be used to set the total number of radial shells and the number of angular grid points per shell. The format is (radial,angular). \n",
    "\n",
    "The number of radial shells can be set to any number larger than 0, while the number of angular grid points per shell must adhere to a valid Lebedev quadrature:\n",
    "\n",
    "{6,14,26,38,50,74,86,110,146,170,194,230,266,302,350,434,590,770,974,1202,1454,1730,2030,2354,2702,3074,3470,3890,4334,4802,5294,5810}\n",
    "\n",
    "Commonly used combinations include:\n",
    "* very coarse: `mf.grids.atom_grid=(23,170)`\n",
    "* coarse: `mf.grids.atom_grid=(50,194)`\n",
    "* moderate: `mf.grids.atom_grid=(75,302)`\n",
    "* fine: `mf.grids.atom_grid=(99,590)`\n",
    "* extremely fine: `mf.grids.atom_grid=(500,974)`\n",
    "\n",
    "Setting this attribute will override the `mf.grids.level` attribute.\n",
    "\n",
    "\n",
    "#### grids.atomic_radii attribute\n",
    "\n",
    "DEFAULT: `mf.grids.atomic_radii=dft.radi.BRAGG_RADII`\n",
    "\n",
    "This attribute chooses the atomic radius values that will be used to adjust the spacing of the radial shells. If `grids.radii_adjust=None`, setting this parameter will have no affect. There are two built-in options in PySCF:\n",
    "\n",
    "1. `mf.grids.atomic_radii=dft.radi.BRAGG_RADII`\n",
    "2. `mf.grids.atomic_radii=dft.radi.COVALENT_RADII`\n",
    "\n",
    "The first one corresponds to the values found in this 1964 [paper](https://aip.scitation.org/doi/10.1063/1.1725697) by J. C. Slater, while the second one is primarily constructed from the values found in this [paper](http://pubs.rsc.org/en/content/articlelanding/2008/dt/b801115j#!divAbstract).\n",
    "\n",
    "#### grids.becke_scheme attribute\n",
    "\n",
    "DEFAULT: `mf.grids.becke_scheme=dft.gen_grid.original_becke`\n",
    "\n",
    "This attribute selects the partition function used to determine the grid point weights. PySCF allows for two options:\n",
    "\n",
    "1. `mf.grids.becke_scheme=dft.gen_grid.original_becke`\n",
    "2. `mf.grids.becke_scheme=dft.gen_grid.stratmann`\n",
    "\n",
    "The first scheme is from the famous 1988 [paper](https://aip.scitation.org/doi/abs/10.1063/1.454033) by Axel Becke, while the second scheme devised by Stratmann, Scuseria, and Frisch is found in this [paper](https://www.sciencedirect.com/science/article/pii/0009261496006008).\n",
    "\n",
    "#### grids.prune attribute\n",
    "\n",
    "DEFAULT: `mf.grids.prune=dft.gen_grid.nwchem_prune`\n",
    "\n",
    "Pruning integration grids offers the benefit of reducing the number of grid points (as well as the computation time) without significantly affecting the total energy. PySCF has several build in pruning options:\n",
    "\n",
    "1. `mf.grids.prune=dft.gen_grid.nwchem_prune`\n",
    "2. `mf.grids.prune=dft.gen_grid.sg1_prune`\n",
    "3. `mf.grids.prune=dft.gen_grid.treutler_prune`\n",
    "4. `mf.grids.prune=None`\n",
    "\n",
    "#### grids.radi_method attribute\n",
    "\n",
    "DEFAULT: `mf.grids.radi_method=dft.radi.treutler_ahlrichs`\n",
    "\n",
    "Setting up the radial shells.\n",
    "\n",
    "1. `mf.grids.radi_method=dft.radi.treutler_ahlrichs`\n",
    "2. `mf.grids.radi_method=dft.radi.delley`\n",
    "3. `mf.grids.radi_method=dft.radi.mura_knowles`\n",
    "4. `mf.grids.radi_method=dft.radi.gauss_chebyshev`\n",
    "\n",
    "#### grids.radii_adjust attribute\n",
    "\n",
    "DEFAULT: `mf.grids.radii_adjust=dft.radi.treutler_atomic_radii_adjust` \n",
    "\n",
    "There are two options for adjusting the atomic radii.\n",
    "\n",
    "1. `mf.grids.radii_adjust=dft.radi.treutler_atomic_radii_adjust`\n",
    "2. `mf.grids.radii_adjust=dft.radi.becke_atomic_radii_adjust`\n",
    "3. `mf.grids.radii_adjust=None`\n",
    "\n",
    "#### grids.verbose attribute\n",
    "\n",
    "DEFAULT: `mf.grids.verbose=0`\n",
    "\n",
    "The verbose attribute controls the print level for the integration grid. Setting `mf.grids.verbose=0` will print no information about the grid, while setting `mf.grids.verbose=4` prints useful information such as the total number of grid points, as well as information regarding the schemes used to set up the grid.\n",
    "\n",
    "#### nlcgrids attribute/class\n",
    "\n",
    "The nlcgrids attribute functions identically to the grids attribute. The only difference is that nlcgrids controls the grid settings for the nonlocal correlation functional, whereas grids controls the grid for the local exchange-correlation functional. The VV10 nonlocal correlation functional requires a much coarser grid than needed for the local xc functional, which is a good thing b/c the scaling of nlc is quadratic in grid points (loops through r and r'). Example of specifying a coarse grid here.\n",
    "\n",
    "#### small_rho_cutoff attribute\n",
    "\n",
    "DEFAULT: `mf.small_rho_cutoff=1e-07`\n",
    "\n",
    "This attribute is used to discard grid points that contribute negligibly to the total electron count as computed by the chosen integration grid. Given a vector, **r**, of length ng (number of grid points), that contains the value of the electron density at each grid point, and a vector, **w**, of length ng that contains the weights associated with each grid point, grid points are discarded if **r**∘**w** ≤ `mf.small_rho_cutoff`."
   ]
  },
  {
   "cell_type": "markdown",
   "metadata": {},
   "source": []
  },
  {
   "cell_type": "code",
   "execution_count": null,
   "metadata": {},
   "outputs": [],
   "source": [
    "import qiskit.tools.jupyter\n",
    "\n",
    "%qiskit_version_table"
   ]
  }
 ],
 "metadata": {
  "jupytext": {
   "formats": "ipynb,md"
  },
  "kernelspec": {
   "display_name": "qiskit-env",
   "language": "python",
   "name": "qiskit-env"
  },
  "language_info": {
   "codemirror_mode": {
    "name": "ipython",
    "version": 3
   },
   "file_extension": ".py",
   "mimetype": "text/x-python",
   "name": "python",
   "nbconvert_exporter": "python",
   "pygments_lexer": "ipython3",
   "version": "3.10.10"
  },
  "widgets": {
   "application/vnd.jupyter.widget-state+json": {
    "state": {},
    "version_major": 1,
    "version_minor": 0
   }
  }
 },
 "nbformat": 4,
 "nbformat_minor": 4
}
