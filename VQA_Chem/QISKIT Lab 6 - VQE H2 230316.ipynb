{
 "cells": [
  {
   "cell_type": "markdown",
   "metadata": {},
   "source": [
    "# QISKIT Lab 6 - VQE H2 and LiH\n",
    " 1. **S. G. Nana Engo**, serge.nana-engo@facsciences-uy1.cm\n",
    "    * Department of Physics, Faculty of Science, University of Yaounde I\n",
    "1. **J-P. Tchapet Njafa**, jean-pierre.tchapet-njafa@univ-maroua.cm\n",
    "    * Department of Physics, Faculty of Science, University of Maroua\n",
    "1. **P. Djorwe**, djorwepp@gmail.com\n",
    "    * Department of Physics, Faculty of Science, University of Ngaoundere\n",
    "       \n",
    "March 2023"
   ]
  },
  {
   "cell_type": "markdown",
   "metadata": {},
   "source": [
    "$$ \n",
    "\\newcommand{\\ad}{a^\\dagger} % Operateur bosonique adjoint \n",
    "\\newcommand{\\T}{\\mathtt{T}} %Operateur T quelconque\n",
    "\\newcommand{\\U}{\\mathtt{Z}} %Operateur Z quelconque\n",
    "\\newcommand{\\HH}{\\mathtt{U}} %Operateur U quelconque\n",
    "\\newcommand{\\mt}[1]{\\mathtt{#1}} %  Use mathtt\n",
    "\\newcommand{\\mel}[3]{\\langle #1|#2|#3\\rangle} %Matrix element\n",
    "\\renewcommand{\\ket}{|#1\\rangle} \n",
    "$$"
   ]
  },
  {
   "cell_type": "markdown",
   "metadata": {},
   "source": [
    "L'algorithme VQE (Variational Quantum Eigensolver), dans la contexte de la chimie quantique ou de la modélisation moléculaire, utilise la méthode variationelle, et deux processeurs, quantique et classique, pour déterminer l'énergie la plus basse associée à la valeur propre de l'etat fondamental ou des états excités."
   ]
  },
  {
   "attachments": {},
   "cell_type": "markdown",
   "metadata": {},
   "source": [
    "## Algorithme détaillé de la VQE\n",
    "On peut résumer cet algorithme en deux grandes parties qu'illustre la figure ci-dessous.\n",
    "\n",
    "<center>\n",
    "<img src=\"./Graphics/VQE_Diagram.png\" width=400 />\n",
    "</center>\n",
    "                                                          \n",
    "\n",
    "### Processeur quantique\n",
    "\n",
    "Le processeur quantique comporte trois étapes fondamentales :\n",
    "\n",
    "1. Définir le circuit quantique ou porte quantique $\\mathtt{U}(\\vec{\\theta})$;\n",
    "2. Préparer de la fonction d'essai paramétré $|\\Psi (\\vec{\\theta})\\rangle$ appelée **Ansatz**, qui est essentiellement une estimation de l'état fondamental, à cet effet, on choisit arbitrairement un état de référence $|\\psi_0\\rangle$ sur lequel on applique $\\mathtt{U}(\\vec{\\theta})$,\n",
    "\t\\begin{equation}\n",
    "\t\t|\\Psi (\\vec{\\theta})\\rangle= \\mathtt{U}(\\vec{\\theta})|\\psi_0 \\rangle=\\sum_i\\alpha_i|E_i\\rangle.\n",
    "\t\\end{equation}\n",
    "3. Mesurer de la valeur moyenne ou fonction de coût\n",
    "\\begin{equation}\n",
    "C(\\vec\\theta)=\\langle\\Psi(\\vec\\theta)|\\mathtt{H}|\\Psi(\\vec\\theta)\\rangle\n",
    "=\\langle \\psi_0| \\mathtt{U}^\\dagger (\\vec{\\theta})\\mathtt{HU} (\\vec{\\theta})|\\psi_0\\rangle.\n",
    "\\end{equation}\n",
    "Selon la décomposition spectrale, $\\mathtt{H}$ peut être représenté par:\n",
    "\\begin{equation}\n",
    "\\mathtt{H}=\\sum_i E_i|E_i\\rangle\\langle E_i|.\n",
    "\\end{equation}\n",
    "En vertu du [théorème variationnel](https://en.wikipedia.org/wiki/Vcorrespondariational_method_(quantum_mechanics)) de Rayleigh-Ritz, la valeur moyenne est toujours supérieure ou égale à la valeur propre $E_0$ la plus basse de l'Hamiltonien $\\mathtt{H}$, qui correspond à l'état fondamental $|E_{\\min}\\rangle$:\n",
    "\\begin{equation}\n",
    "C(\\vec\\theta)=\\langle \\psi_0| \\mathtt{U}^\\dagger (\\vec{\\theta})\\mathtt{HU} (\\vec{\\theta})|\\psi_0\\rangle\n",
    "=\\sum_i|\\alpha_i|^2E_i\\geq E_{\\min}.\n",
    "\\end{equation}\n",
    "Le problème se résume à trouver un tel choix optimal de paramètres $\\vec\\theta=(\\theta_1,\\dots,\\theta_n)^T$ à valeurs réelles, permettant de trouver la valeur moyenne minimale $E_{\\min}$ qui est l'énergie de l'état fondamental et l'état correspondant est l'état fondamental $|E_{\\min}\\rangle$.\n",
    "\n",
    "\n",
    "### Processeur classique\n",
    "\n",
    "Grâce au processeur quantique, on obtient une valeur moyenne dépendante des paramètres. Cette valeur peut être minimisée avec une méthode d'optimisation qui permet d'ajuster les paramètres de l'état d'essai. L'algorithme procède alors de façon itérative, l'optimiseur classique proposant de nouvelles valeurs de paramètres pour l'état d'essai.\n",
    "\n",
    "En gros, dans le processeur classique :\n",
    "1. Minimiser la valeur moyenne ou fonction de coût $C(\\vec\\theta)$ en faisant varier les paramètres $\\vec{\\theta}$ de l'_Ansatz_, en utilisant un optimiseur classique.\n",
    "2. Itèrer jusqu'à ce que le critère de convergence ($10^{-7}$) soit atteint et que $|\\psi(\\vec{\\theta})\\rangle\\simeq |E_0(\\vec{\\theta})\\rangle$.\n"
   ]
  },
  {
   "cell_type": "markdown",
   "metadata": {},
   "source": [
    "### Défis ou challenges de la VQE\n",
    "\n",
    "1. La taille de l'espace de Hilbert en fonction du nombre des opérations de portes nécessaires ou profondeur du circuit pour obtenir le précisions souhaitée pour les valeurs attendues (comme l'énergie du système).\n",
    "\n",
    "2. Le nombre de portes parametrés (nombre de paramètres à optimiser) en fonction de l'amplitude des gradients pour variables de circuits.\n",
    "\n",
    "3. La taille de l'espace de Hilbert en fonction du nombre de mesures nécessaire pour parvenir à la convergence des propriétés physiques (par exemple, l'énergie du système).\n"
   ]
  },
  {
   "cell_type": "markdown",
   "metadata": {},
   "source": [
    "Dans ce qui suit, nous utilisons les **Unitary Coupled Clusters Singles and Doubles** (UCCSD) comme point de départ pour déterminer une fonction d'état d'essai pour la méthode variationnelle, car il est essentiel que l'ansatz VQE soit proche de l'état fondamental réel pour que les calculs VQE réussissent. Dans ce tutoriel, nous nous concentrons sur le calcul de l'état fondamental et de la surface d'énergie potentielle de Born-Oppenheimer (BOPES) pour les molécules d'hydrogène (H2) et d'hydrure de lithium (M) et une macromolécule."
   ]
  },
  {
   "cell_type": "markdown",
   "metadata": {},
   "source": [
    "### Unitary Coupled Cluster (UCC) *Ansatz*\n",
    "\n",
    "En chimie quantique, la méthode **Unitary Coupled Cluster (UCC)** (de [cluster à couplage unitaire](https://fr.wikipedia.org/wiki/M%C3%A9thode_du_cluster_coupl%C3%A9)) apparait comme une extension de la méthode *Coupled Cluster (CC)* qui est une méthode de traitement de la corrélation électronique. Elle est basée sur l'expression de la fonction d'état à $N$ électrons comme une combinaison linéaire de déterminants de Slater incluant la fonction d'état HF de l'état fondamental et toutes les excitations possibles des orbitales occupées vers des orbitales inoccupées. Ainsi, il sera possible de générer un *Unitary Coupled Cluster Ansatz* en appliquant à un état de référence $\\ket{\\psi_0}$ un opérateur unitaire qui est une somme anti-Hermitienne d'opérateurs d'excitation et de désexcitation sous la forme $e^{\\T(\\theta)-\\T^\\dagger(\\theta)}$, qui est un opérateur unitaire\n",
    "$$\n",
    "\\ket{\\psi(\\theta)} = \\mt{U}(\\theta) \\ket{\\psi_0}\n",
    "= e^{\\T(\\theta)-\\T^\\dagger(\\theta)} \\ket{\\psi_0(\\theta)} ,\n",
    "$$\n",
    "* $\\theta$ est l'amplitude CC. Il représente aussi le paramètre d'optimisation pouvant prendre des valeurs réelles ou imaginaires. Mais les paramètres réels se sont révélés plus précises et plus réalisables ;\n",
    "\n",
    "* $\\T(\\theta)$ est l'opérateur de *Cluster* ou opérateur d'excitation complète, défini comme  $\\T(\\theta)=\\sum_{k=1}^N\\T_k(\\theta)$ avec $\\T_k(\\theta)$ l'opérateur d'excitation au $k$-ième ordre, qui contient des termes $k$-corps. Par exemple,\n",
    "    * l'opérateur \n",
    "\\begin{equation}\n",
    "\\T_1 = \\underset{i\\in\\rm{unocc}}{\\sum_{j\\in\\rm{occ}}}\\theta_{ij}\\ad_i a_j,\n",
    "\\end{equation}  \n",
    "engendre les **excitations simples** $j\\rightarrow i$ (transforme le déterminant HF de référence en une combinaison linéaire des déterminants monoexcités),\n",
    "    * l'opérateur\n",
    " \\begin{equation}\n",
    "\\T_2 = \\underset{l>k\\in\\rm{occ}}{\\sum_{i>j\\in\\rm{unocc}}}\\theta_{ijkl} \n",
    "\\ad_i\\ad_j a_k a_l,\\ \\dots,\n",
    "\\end{equation}  \n",
    "engendre les **doubles excitations** (transforme le déterminant HF de référence en une combinaison linéaire des déterminants doublement excités).\n",
    "    * Les termes d'ordre supérieur (triple, quadruple, etc.) sont possibles, mais sont actuellement rarement pris en charge par les bibliothèques de chimie quantique.\n",
    "    * \"occ\" et \"unocc\" sont définis comme les sites occupés et les sites inoccupés dans l'état de référence.\n",
    "    * Les opérateurs $\\ad_i$ et $a_i$ dans les termes de clusters couplés ci-dessus sont écrits dans une forme canonique, dans laquelle chaque terme est en ordre normal (opérateurs de création sont à gauche de tous les opérateurs d'annihilation)."
   ]
  },
  {
   "cell_type": "markdown",
   "metadata": {},
   "source": [
    "### Workflow de la VQE \n",
    "\n",
    "<center><img src=\"Graphics/VQE_Flowchart.jpeg\" width=\"500\"/></center>"
   ]
  },
  {
   "attachments": {},
   "cell_type": "markdown",
   "metadata": {},
   "source": [
    "\n",
    "1. Renseigner la structure de la molécule.\n",
    "\n",
    "2. Effectuer le calcul HF dans la base chimique indiquée. Il s'agit en réalité représenter le problème de l'equation de Schrödinguer électronique, $\\mathtt{H}_{\\rm el}|\\Psi\\rangle = E_{\\rm el}|\\Psi\\rangle. $\\mathtt{H}_{\\rm el}$ est l'Hamiltonien de la classe `qiskit_nature.second_q.hamiltonians.ElectronicEnergy`\n",
    "\n",
    "3. Extraire, à l'aide du calcul HF précédent, les éléments de matrice 1-integrals $h_{pq}$ et 2-integrals $h_{pqrs}$ qui relient l'Hamiltonien de la seconde quantification 1a celui de la première quantification. Les utiliser pour construire l'Hamiltonien fermionique de la seconde quantification\n",
    "\\begin{equation}\n",
    "\\mathtt{H} = h_0+\\sum_{p,q=1}^M h_{pq}\\ad_p a_q + \\frac12\\sum_{p,q,r,s=1}^M h_{pqrs}\\ad_p \\ad_q a_ra_s ,\n",
    "\\end{equation} \n",
    "que `qiskit_nature.second_q.mappers.QubitConverter` converti, grâce à un encodage approprié (JWT, PT ou BKT) en Hamiltonien qubit.\n",
    "\n",
    "   * Exploiter les symmétries\n",
    "   \\begin{align}\n",
    "   &[\\mathtt{H},\\mathtt{N_\\uparrow}] = [\\mathtt{H},\\mathtt{N_\\downarrow}] = 0, \n",
    "   && \\mathtt{N_\\uparrow} = \\sum_{p=1}^{M/2} \\alpha^\\dagger_p \\alpha_p,\n",
    "   & \\mathtt{N_\\downarrow} = \\sum_{p=M/2+1}^M \\alpha^\\dagger_p \\alpha_p,\n",
    "   \\end{align}\n",
    "   pour effectuer la **reduction 2-qubit** (une pour chaque symétrie $\\mathbb{Z}$ de l'Hamiltionien) sans modifier la partie inférieure du spectre d'énergie (y compris l'état fondamental). $\\mathtt{N_\\downarrow}$ et $\\mathtt{N_\\uparrow}$ sont les opérateurs nombre de particules de spin down et up.\n",
    "\n",
    "   * Utiliser `qiskit_nature.second_q.transformers.FreezeCoreTransformer` afin d'appliquer l'approximation du noyau gelé (**frozen-core approximation**) pour réduire le nombre possible des excitations uniques ou double et le nombre de qubits.\n",
    "\n",
    "4. La fonction d'état d'essai ou *Ansatz* $\\ket{\\psi(\\theta)}$ est généré à partir de l'état HF $\\ket{\\Phi_0}$ en appliquant les opérateurs de clusters q-UCC ou autre forme d'*Ansatz* variationnel (`qiskit_nature.second_q.circuit.library.UCCSD`).\n",
    "\n",
    "5. Evaluer l'énergie du système $\\mel{\\psi(\\theta)}{\\mathtt{H}}{\\psi(\\theta)}$ en utilisant\n",
    "   * la primitive `qiskit.primitives.Estimator`;\n",
    "   * l'optimisation des paramètres du circuit (grâce à `qiskit.algorithms.optimizers`), suivi par la séquence de mesure des propriétés physiques. Ceci peut se faire avec ou sans les mesures du bruit.\n",
    "\n",
    "6. Repeter les étapes (4) et (5) jusqu'à la convergence, en utilisant un optimiseur classique. Par usage, on fixe le critère de convergence à $10^{-7}$. En effet, il est essentiel que l'*Ansatz* VQE soit proche de l'état fondamental réel pour que les calculs VQE réussissent. Pour obtenir une estimation d'énergie précise de 1 milli-Hartree (mHA), l'*Ansatz* pour le VQE doit être proche du véritable état fondamental de moins d'un sur un million.\n",
    "\n",
    "<center><img src=\"Graphics/Qiskit_nature_Flow.png\" width=\"500\"/></center>\n"
   ]
  },
  {
   "cell_type": "markdown",
   "metadata": {},
   "source": [
    "## Molécule H2\n",
    "\n",
    "Ici, nous calculons en fait uniquement la partie électronique. Lors de l'utilisation du package Qiskit Nature, l'énergie de répulsion nucléaire sera ajoutée automatiquement pour obtenir l'énergie totale de l'état fondamental."
   ]
  },
  {
   "cell_type": "markdown",
   "metadata": {},
   "source": [
    "### Structure électronique\n",
    "\n",
    "Nous allons renseigner les données de la molécule et effectuer la conversion en créant un Hamiltonien fermionique (problème électronique précisement) qui sera ensuite converti par la transformation de Jordan Wigner, à un Hamiltonien qubit prêt pour le calcul quantique. "
   ]
  },
  {
   "cell_type": "markdown",
   "metadata": {},
   "source": [
    "-  On commence par définir la géométrie de la molécule d'hydrogène."
   ]
  },
  {
   "cell_type": "code",
   "execution_count": null,
   "metadata": {},
   "outputs": [],
   "source": [
    "from qiskit_nature.units import DistanceUnit\n",
    "from qiskit_nature.second_q.drivers import PySCFDriver\n",
    "from qiskit_nature.second_q.transformers import FreezeCoreTransformer"
   ]
  },
  {
   "cell_type": "code",
   "execution_count": null,
   "metadata": {},
   "outputs": [],
   "source": [
    "H2_driver = PySCFDriver(\n",
    "    atom=\"H 0 0 0; H 0 0 0.735\",\n",
    "    basis=\"sto3g\",\n",
    "    charge=0,\n",
    "    spin=0,\n",
    "    unit=DistanceUnit.ANGSTROM,\n",
    ")\n",
    "\n",
    "# Electronic structure problem\n",
    "H2_problem = H2_driver.run()\n",
    "transformer = FreezeCoreTransformer()\n",
    "H2_problem = transformer.transform(H2_problem)"
   ]
  },
  {
   "cell_type": "markdown",
   "metadata": {},
   "source": [
    "- Configurons le mappeur et le convertisseur qubit (pour avoir la décomposition de Pauli de l'Hamiltonien). Pour des raisons de comparabilité, nous allons utiliser trois mappers (JWT, PT, BKT). A cet effet, définissons la fonction `qubit_converter()`."
   ]
  },
  {
   "cell_type": "code",
   "execution_count": null,
   "metadata": {},
   "outputs": [],
   "source": [
    "from qiskit_nature.second_q.mappers import (\n",
    "    ParityMapper,\n",
    "    JordanWignerMapper,\n",
    "    BravyiKitaevMapper, \n",
    "    QubitConverter\n",
    ")\n",
    "\n",
    "def qubit_converter(mapper):\n",
    "    \"\"\"A mapper instance used to convert second quantized to qubit operators\n",
    "\n",
    "    Args:\n",
    "        mapper : Mapper string that can be \"Parity\" or \"JordanWigner\" or \"Bravyi-Kitaev\"\n",
    "        \n",
    "    Returns: The QubitConverter instance\n",
    "    \"\"\"    \n",
    "    return QubitConverter(mapper, two_qubit_reduction=True)"
   ]
  },
  {
   "cell_type": "markdown",
   "metadata": {},
   "source": [
    "### Solveur\n",
    "\n",
    "Nous devons définir un solveur. Le solveur est l'algorithme par lequel l'état fondamental est calculé.\n",
    "\n",
    "- Commençons par un exemple purement classique: le `qiskit.algorithms.minimum_eigensolvers.NumPyMinimumEigensolver`. Cet algorithme diagonise exactement l'Hamiltonien. Bien qu'il ne soit pas très performant, il peut être utilisé sur de petits systèmes pour vérifier les résultats des algorithmes quantiques."
   ]
  },
  {
   "cell_type": "code",
   "execution_count": null,
   "metadata": {},
   "outputs": [],
   "source": [
    "from qiskit.algorithms.minimum_eigensolvers import NumPyMinimumEigensolver"
   ]
  },
  {
   "cell_type": "markdown",
   "metadata": {},
   "source": [
    "- Pour définir le solveur VQE, il faut quatre éléments essentiels :\n",
    "  1. Une **forme variationnelle ou *ansatz***. Nous utilisons ici l'*ansatz* Unitary Coupled Cluster (UCC). La valeur par défaut est d'utiliser toutes les excitations simples et doubles. Cependant, le type d'excitation (S, D, SD) ainsi que d'autres paramètres peuvent être sélectionnés.\n",
    "  2. Une primitive, qui sera ici `qiskit.primitives import Estimator` pour le calcul des valeurs moyennes;\n",
    "  3. Un optimiseur classique;\n",
    "  4. Un `factory` permettant une initialisation rapide d'un VQE avec l'*ansatz* UCC. Ici, nous utilisons le `qiskit_nature.second_q.algorithms.VQEUCCFactory` qui ajoutera la forme variationnelle `UCCSD` avec un état initial ou de référence `HartreeFock`, qui initialise l'occupation de nos qubits en fonction du problème que nous essayons de résoudre."
   ]
  },
  {
   "cell_type": "markdown",
   "metadata": {},
   "source": [
    "- Configurons l'*ansatz* et plus précisement, le circuit quantique paramétré, du VQE"
   ]
  },
  {
   "cell_type": "code",
   "execution_count": null,
   "metadata": {},
   "outputs": [],
   "source": [
    "from qiskit_nature.second_q.circuit.library import UCCSD\n",
    "\n",
    "ansatz = UCCSD()"
   ]
  },
  {
   "cell_type": "markdown",
   "metadata": {},
   "source": [
    "- Configurons la primitive `Estimator` pour le VQE. Elle calcule les valeurs moyennes des circuits d'entrée et des propriétés physiques."
   ]
  },
  {
   "cell_type": "code",
   "execution_count": null,
   "metadata": {},
   "outputs": [],
   "source": [
    "from qiskit.primitives import Estimator\n",
    "\n",
    "estimator = Estimator()"
   ]
  },
  {
   "cell_type": "markdown",
   "metadata": {},
   "source": [
    "- Configurons l'optimisseur classique pour le VQE. Pour des raisons de comparabilité, nous allons configurer trois optimisseurs classiques."
   ]
  },
  {
   "cell_type": "code",
   "execution_count": null,
   "metadata": {},
   "outputs": [],
   "source": [
    "from qiskit.algorithms.optimizers import SPSA, SLSQP, L_BFGS_B"
   ]
  },
  {
   "cell_type": "markdown",
   "metadata": {},
   "source": [
    "- Utilisons un `factory` pour assembler les composants de l'algorithme VQE. "
   ]
  },
  {
   "cell_type": "code",
   "execution_count": null,
   "metadata": {},
   "outputs": [],
   "source": [
    "from qiskit_nature.second_q.algorithms import VQEUCCFactory"
   ]
  },
  {
   "attachments": {},
   "cell_type": "markdown",
   "metadata": {},
   "source": [
    "### Calcul et résultats\n",
    "\n",
    " - Préparons le solveur d'état fondamental et exécutons-le pour calculer l'état fondamental de la molécule grâce à la classe `qiskit_nature.second_q.algorithms.GroundStateEigensolver`. Il s'agit d'envelopper notre `qiskit_nature.second_q.mappers.QubitConverter` et notre algorithme quantique `qiskit_nature.second_q.algorithms.VQEUCCFactory` (ou classique `qiskit_nature.second_q.algorithms.NumPyMinimumEigensolver`) dans un seul `GroundStateEigensolver`. Pour des raisons de commodité définissons la fonction `run_vqe()`.\n",
    "\n",
    "Le workflow interne est le suivant :\n",
    "1. générer les opérateurs de seconde quantification stockés dans notre `problem`\" (electronic structure problem);\n",
    "2. mapper (et potentiellement réduire) les opérateurs dans l'espace qubit;\n",
    "3. finaliser la configuration de `VQEUCCFactory` en fonction du `problem`;\n",
    "4. exécuter l'algorithme quantique sur l'opérateur Hamiltonien qubit;\n",
    "5. une fois le critère de convergence vérifié, évaluer les proprités physiques supplémentaires de l'état fondamental déterminé."
   ]
  },
  {
   "cell_type": "code",
   "execution_count": null,
   "metadata": {},
   "outputs": [],
   "source": [
    "def run_vqe(name, problem, mapper, optimizer, solver, show=True):\n",
    "    \"\"\"Computing of the molecular ground state with the class `GroundStateEigensolver`\n",
    "\n",
    "    Args:\n",
    "        name (str):  a string of characters to be printed, such as 'NumPy exact solver'\n",
    "\n",
    "        problem :  Electronic structure problem\n",
    "\n",
    "        mapper : Mapper string that can be \"Parity\" or \"JordanWigner\" or \"Bravyi-Kitaev\"\n",
    "        \n",
    "        optimizer :  Optimizer string that can be either \"SPSA\" or \"SLSQP\" or \"L_BFGS_B\"\n",
    "\n",
    "        solver :  Sting that can be either \"NumPy\" or \"VQE\"\n",
    "\n",
    "        \n",
    "    Returns:\n",
    "          The ground state of the molecule\n",
    "\n",
    "    \"\"\"    \n",
    "    # Mapper\n",
    "    dmap = {\"Jordan-Wigner\": JordanWignerMapper(), \"Parity\": ParityMapper(),  \"Bravyi-Kitaev\": BravyiKitaevMapper()}\n",
    "    for k, v in dmap.items():\n",
    "        if k == mapper:        \n",
    "            q_conv = qubit_converter(v)\n",
    "    \n",
    "    # Optimizer\n",
    "    dopt = {\"SPSA\": SPSA(), \"SLSQP\": SLSQP(), \"L_BFGS_B\": L_BFGS_B()}\n",
    "    for n, m in dopt.items():\n",
    "        if n == optimizer:        \n",
    "            vqe_factory = VQEUCCFactory(estimator=estimator, ansatz=ansatz, optimizer=m)\n",
    "    \n",
    "    # Factory\n",
    "    dfact = {\"VQE\": vqe_factory,\n",
    "            \"NumPy\": NumPyMinimumEigensolver()}\n",
    "    for i, j in dfact.items():\n",
    "        if i == solver:        \n",
    "            factory = j\n",
    "    \n",
    "    # Ground state computation using a minimum eigensolver. Returns the solver.\n",
    "    Algo = GroundStateEigensolver(q_conv, factory) \n",
    "    \n",
    "    # Leveraging Qiskit Runtime\n",
    "    start = time.time()\n",
    "    # Compute Ground State properties.\n",
    "    ground_state = Algo.solve(problem)\n",
    "    elapsed = str(datetime.timedelta(seconds = time.time()- start))\n",
    "    if show:\n",
    "        print(f'Running the VQE using the {name} and {mapper} transformation with {optimizer} optimize')\n",
    "        print(f'Elapsed time: {elapsed} \\n')\n",
    "        print(ground_state.total_energies[0])\n",
    "    return name, mapper, optimizer, ground_state, elapsed\n"
   ]
  },
  {
   "cell_type": "markdown",
   "metadata": {},
   "source": [
    "* Resulat VQE"
   ]
  },
  {
   "cell_type": "code",
   "execution_count": null,
   "metadata": {},
   "outputs": [],
   "source": [
    "from qiskit_nature.second_q.algorithms import GroundStateEigensolver\n",
    "import time, datetime\n",
    "\n",
    "res_vqe = run_vqe('VQE UCCSD Solver', H2_problem, mapper=\"Parity\", optimizer=\"SPSA\", solver=\"VQE\")"
   ]
  },
  {
   "cell_type": "markdown",
   "metadata": {},
   "source": [
    "- Résultat solveur exact NumPy."
   ]
  },
  {
   "cell_type": "code",
   "execution_count": null,
   "metadata": {},
   "outputs": [],
   "source": [
    "res_np = run_vqe('Numpy Exact Solver', H2_problem, mapper=\"Parity\", optimizer=\"SPSA\", solver=\"VQE\")"
   ]
  },
  {
   "cell_type": "markdown",
   "metadata": {},
   "source": [
    "* Nous calculons l'erreur relative entre les deux solvers avec le mapper \"Parity\"."
   ]
  },
  {
   "cell_type": "code",
   "execution_count": null,
   "metadata": {},
   "outputs": [],
   "source": [
    "rel_error = (res_np[3].total_energies[0] - res_vqe[3].total_energies[0])*100/res_np[3].total_energies[0] \n",
    "print(f'\\n The relative error between the two calculations : {rel_error:7.4f}%')"
   ]
  },
  {
   "cell_type": "markdown",
   "metadata": {},
   "source": [
    "- Améliorons l'affichage des résultats"
   ]
  },
  {
   "cell_type": "code",
   "execution_count": null,
   "metadata": {},
   "outputs": [],
   "source": [
    "print(f\"Type of solver   | Mapper  | Optimizer | GS electronic energy| Rel. error |Elapsed time  | Optimizer time    \")\n",
    "print('===================================================================================================================')\n",
    "#print(f'Solver {name}   | {mapper}        |{optimizer}|{res_vqe.groundenergy}')\n",
    "print(f'{res_vqe[0]}  | {res_vqe[1]}  |{res_vqe[2]}    |{res_vqe[3].total_energies[0]} |{rel_error:7.4f}%|{res_vqe[4]} | {res_vqe[3].raw_result.optimizer_time}')\n",
    "#print('------------------------------------------------------------------------------------------')\n",
    "print(f'{res_np[0]}| {res_np[1]}  |{res_np[2]}    |{res_np[3].total_energies[0]} |{rel_error:7.4f}%|{res_np[4]} | {res_np[3].raw_result.optimizer_time}')\n"
   ]
  },
  {
   "cell_type": "markdown",
   "metadata": {},
   "source": [
    "On note que cette présentation n'est pas tout à fait satisfaisante."
   ]
  },
  {
   "cell_type": "markdown",
   "metadata": {},
   "source": [
    "### Visualisation de l'ensemble des résultats avec la bibliothèque `Pandas`\n",
    "\n",
    "Afin d'analyser les résultats en fonction des `mappers`et des `optimizers` nous allons utiliser la bibliothèque `Pandas`.\n",
    "\n",
    "A cet effet, il nous vaudra créer un repertoire dans lequel placé le fichier où sera imprimer les résultats au format `csv` que `pandas` va par la suite lire et afficher."
   ]
  },
  {
   "cell_type": "code",
   "execution_count": null,
   "metadata": {},
   "outputs": [],
   "source": [
    "# Creation of a simulation results folder\n",
    "import os\n",
    "\n",
    "cwd = os.getcwd()\n",
    "directory = \"Resultats\"\n",
    "targetPath = os.path.join(cwd, directory)\n",
    "\n",
    "if not os.path.exists(targetPath):\n",
    "    os.makedirs(targetPath)"
   ]
  },
  {
   "cell_type": "code",
   "execution_count": null,
   "metadata": {},
   "outputs": [],
   "source": [
    "# File containing the results\n",
    "QFile = os.path.join(targetPath, f\"H2_results.csv\")\n",
    "q_result = open(QFile, \"w\")\n",
    "\n",
    "q_result.write(f\"Type of solver,Mapper,Optimizer,Ground state electronique energy,Relative error (%),Elapsed time,Optimizer time (s)\\n\")\n",
    "q_result.close()"
   ]
  },
  {
   "cell_type": "code",
   "execution_count": null,
   "metadata": {},
   "outputs": [],
   "source": [
    "Mapper = [\"Parity\",\"Jordan-Wigner\",\"Bravyi-Kitaev\"]\n",
    "Optimizer = [\"SPSA\",\"SLSQP\",\"L_BFGS_B\"]"
   ]
  },
  {
   "cell_type": "code",
   "execution_count": null,
   "metadata": {},
   "outputs": [],
   "source": [
    "q_result = open(QFile, \"a\")\n",
    "for i in Mapper:\n",
    "    for j in Optimizer:\n",
    "        res_vqeH2 = run_vqe('VQE UCCSD Solver', H2_problem, mapper=i, optimizer=j, solver=\"VQE\", show=False)\n",
    "        res_npH2 = run_vqe('Numpy Exact Solver', H2_problem, mapper=i, optimizer=j, solver=\"VQE\", show=False)\n",
    "        rel_errorH2 = (res_npH2[3].groundenergy - res_vqeH2[3].groundenergy)*100/res_npH2[3].groundenergy\n",
    "        q_result.write(f'{res_vqeH2[0]},{res_vqeH2[1]},{res_vqeH2[2]},{res_vqeH2[3].total_energies[0]},{rel_errorH2:7.4f},{res_vqeH2[4]},{res_vqeH2[3].raw_result.optimizer_time}\\n')\n",
    "        q_result.write(f'{res_npH2[0]},{res_npH2[1]},{res_npH2[2]},{res_npH2[3].total_energies[0]},{rel_errorH2:7.4f},{res_npH2[4]},{res_npH2[3].raw_result.optimizer_time}\\n')\n",
    "q_result.close()"
   ]
  },
  {
   "cell_type": "code",
   "execution_count": null,
   "metadata": {},
   "outputs": [],
   "source": [
    "import pandas as pd\n",
    "\n",
    "H2_data = pd.DataFrame(pd.read_csv(f\"Resultats/H2_results.csv\"))\n",
    "\n",
    "H2_data"
   ]
  },
  {
   "cell_type": "code",
   "execution_count": null,
   "metadata": {},
   "outputs": [],
   "source": [
    "# Grouping solver by type and mapper\n",
    "H2_group = H2_data.sort_values(by=['Type of solver', 'Mapper'])"
   ]
  },
  {
   "cell_type": "code",
   "execution_count": null,
   "metadata": {},
   "outputs": [],
   "source": [
    "# Grouping solver\n",
    "H2_dataNP = H2_group[0:int(H2_data.shape[0]/2)]\n",
    "H2_dataVQE = H2_group[int(H2_data.shape[0]/2):int(H2_data.shape[0])]"
   ]
  },
  {
   "cell_type": "code",
   "execution_count": null,
   "metadata": {},
   "outputs": [],
   "source": [
    "# VQE UCCSD solver\n",
    "H2_dataVQE"
   ]
  },
  {
   "cell_type": "code",
   "execution_count": null,
   "metadata": {},
   "outputs": [],
   "source": [
    "# Numpy exact solver\n",
    "H2_dataNP"
   ]
  },
  {
   "attachments": {},
   "cell_type": "markdown",
   "metadata": {},
   "source": [
    "## Plugin `qiskit_nature_solver`\n",
    "\n",
    "Nous allons maintenant utiliser le plugin `qiskit_nature_pyscf` qui, nous le rappelons, couple PySCF et Qiskit Nature.  C'est un solveur [FCI](https://en.wikipedia.org/wiki/Full_configuration_interaction) (Full Configuration Interaction) basé sur Qiskit qui permet à un utilisateur de PySCF (Python-based Simulations of Chemistry Framework) de tirer parti des algorithmes quantique implémentés dans Qiskit pour être utilisés à la place de leurs homologues classiques (dans un esprit similaire à l'intégration NWChemEx).\n"
   ]
  },
  {
   "cell_type": "code",
   "execution_count": null,
   "metadata": {},
   "outputs": [],
   "source": [
    "from pyscf import gto, scf, mcscf\n",
    "from pyscf.mcscf import avas #AVAS method to construct mcscf active space\n",
    "\n",
    "from qiskit_nature_pyscf import QiskitSolver"
   ]
  },
  {
   "attachments": {},
   "cell_type": "markdown",
   "metadata": {},
   "source": [
    "* Afin de ne pas interférer avec ce qui a été fait dans les sections précédentes, construisons à nouveau un algorithme quantique. Comme nous connaissons déja la procédure, nous n'allons plus la détailler."
   ]
  },
  {
   "cell_type": "code",
   "execution_count": null,
   "metadata": {},
   "outputs": [],
   "source": [
    "from qiskit_nature.second_q.mappers import (\n",
    "    ParityMapper, \n",
    "    JordanWignerMapper,\n",
    "    BravyiKitaevMapper,\n",
    "    QubitConverter\n",
    ")\n",
    "from qiskit.primitives import Estimator\n",
    "from qiskit_nature.second_q.algorithms import GroundStateEigensolver, VQEUCCFactory\n",
    "from qiskit_nature.second_q.circuit.library import UCCSD\n",
    "from qiskit.algorithms.optimizers import SLSQP"
   ]
  },
  {
   "cell_type": "code",
   "execution_count": null,
   "metadata": {},
   "outputs": [],
   "source": [
    "def algorithm(mapper):\n",
    "    mapper = mapper\n",
    "\n",
    "    converter = QubitConverter(mapper, two_qubit_reduction=True)\n",
    "\n",
    "    vqe = VQEUCCFactory(Estimator(), UCCSD(), SLSQP())\n",
    "\n",
    "    algorithm = GroundStateEigensolver(converter, vqe)\n",
    "    \n",
    "    return algorithm"
   ]
  },
  {
   "attachments": {},
   "cell_type": "markdown",
   "metadata": {},
   "source": [
    "### Cas de la molécule d'hydrogène"
   ]
  },
  {
   "cell_type": "code",
   "execution_count": null,
   "metadata": {},
   "outputs": [],
   "source": [
    "#  Initialisation de la structure moléculaire\n",
    "H2_mol = gto.M(atom=\"H 0 0 0; H 0 0 .735\", basis=\"sto-3g\")"
   ]
  },
  {
   "cell_type": "code",
   "execution_count": null,
   "metadata": {},
   "outputs": [],
   "source": [
    "# Calculs HF \n",
    "H2_h_f = scf.RHF(H2_mol).run()\n",
    "\n",
    "# Calculs post-HF\n",
    "norb, nelec, mo =avas.avas(H2_h_f,['H 1s','H 1s'])\n",
    "\n",
    "H2_cas = mcscf.CASCI(H2_h_f, norb, nelec)\n",
    "\n",
    "# Intégration de l'algorithme quantique\n",
    "mapper = JordanWignerMapper()\n",
    "\n",
    "H2_cas.fcisolver = QiskitSolver(algorithm(mapper))\n",
    "\n",
    "H2_cas.run()"
   ]
  },
  {
   "attachments": {},
   "cell_type": "markdown",
   "metadata": {},
   "source": [
    "### Cas de la molécule d'hydride de lithium\n",
    "\n",
    "<center><img src=\"Graphics/Lithium_hydride.png\" width=\"150\"/></center>\n",
    "\n"
   ]
  },
  {
   "cell_type": "code",
   "execution_count": null,
   "metadata": {},
   "outputs": [],
   "source": [
    "LiH_mol = gto.M(atom=\"Li 0 0 0; H 0 0 1.6\", basis=\"sto-3g\")\n",
    "\n",
    "LiH_h_f = scf.RHF(LiH_mol).run()\n",
    "\n",
    "norb, nelec = 2, 2\n",
    "\n",
    "LiH_cas = mcscf.CASCI(LiH_h_f, norb, nelec)\n",
    "\n",
    "mapper = JordanWignerMapper()\n",
    "\n",
    "LiH_cas.fcisolver = QiskitSolver(algorithm(mapper))\n",
    "\n",
    "LiH_cas.run()"
   ]
  },
  {
   "cell_type": "markdown",
   "metadata": {},
   "source": [
    "### Molecule d'eau\n",
    "\n",
    "<center><img src=\"Graphics/Water_structure1.png\" width=\"150\" /></center>"
   ]
  },
  {
   "cell_type": "code",
   "execution_count": null,
   "metadata": {},
   "outputs": [],
   "source": [
    "H2O_mol = gto.M(\n",
    "  atom=\"O 0 0 0.115; H 0 0.754 -0.459; H 0 -0.754 -0.459\",\n",
    "  basis=\"sto6g\",\n",
    ")\n",
    "\n",
    "H2O_h_f = scf.RHF(H2O_mol).run()\n",
    "\n",
    "# norb, nelec, mo =avas.avas(H2O_h_f,['O 2p', 'H 1s','H 1s'])\n",
    "\n",
    "H2O_cas = mcscf.CASSCF(H2O_h_f, 2, 2)\n",
    "\n",
    "# H2O_cas = mcscf.CASSCF(H2O_h_f, norb, nelec)\n",
    "\n",
    "mapper = BravyiKitaevMapper()\n",
    "\n",
    "H2O_cas.fcisolver = QiskitSolver(algorithm(mapper))\n",
    "\n",
    "H2O_cas.run()"
   ]
  },
  {
   "attachments": {},
   "cell_type": "markdown",
   "metadata": {},
   "source": [
    "# Macro molécule\n",
    "\n",
    "Pour visualiser cette macromolécule (en relation avec le HIV), décommenter la cellule suivante si vous avez installé `ase` (atomic simulation environment).\n",
    "> pip install ase -U"
   ]
  },
  {
   "cell_type": "code",
   "execution_count": null,
   "metadata": {},
   "outputs": [],
   "source": [
    "# from ase import Atoms\n",
    "# from ase.build import molecule\n",
    "# from ase.visualize import view\n",
    "\n",
    "# macro_ASE = Atoms('ONCHHHC', [(1.1280, 0.2091, 0.0000), \n",
    "#                           (-1.1878, 0.1791, 0.0000), \n",
    "#                           (0.0598, -0.3882, 0.0000),\n",
    "#                           (-1.3085, 1.1864, 0.0001),\n",
    "#                           (-2.0305, -0.3861, -0.0001),\n",
    "#                           (-0.0014, -1.4883, -0.0001),\n",
    "#                           (-0.1805, 1.3955, 0.0000)])\n",
    "\n",
    "# view(macro_ASE, viewer='x3d')"
   ]
  },
  {
   "cell_type": "code",
   "execution_count": null,
   "metadata": {},
   "outputs": [],
   "source": [
    "from qiskit_nature.second_q.formats.molecule_info import MoleculeInfo\n",
    "\n",
    "M_atoms = [\"O\",\"N\",\"C\",\"H\",\"H\",\"H\",\"C\"]\n",
    "M_coords = [(1.1280, 0.2091, 0.0000), \n",
    "                    (-1.1878, 0.1791, 0.0000),\n",
    "                    (0.0598, -0.3882, 0.0000),\n",
    "                    (-1.3085, 1.1864, 0.0001),\n",
    "                    (-2.0305, -0.3861, -0.0001),\n",
    "                    (-0.0014, -1.4883, -0.0001),\n",
    "                    (-0.1805, 1.3955, 0.0000)]\n",
    "M_charge = 0\n",
    "M_multiplicity = 1\n",
    "M_atom_pair=(6, 1)\n",
    "M_info_dict={'atoms':M_atoms, 'coords':M_coords, 'charge':M_charge, 'multiplicity':M_multiplicity, 'atom_pair':M_atom_pair}\n",
    "\n",
    "macromoleculeinfo = MoleculeInfo(M_atoms, M_coords, charge=M_charge, multiplicity=M_multiplicity)"
   ]
  },
  {
   "cell_type": "code",
   "execution_count": null,
   "metadata": {},
   "outputs": [],
   "source": [
    "s = ''\n",
    "k = 0\n",
    "for atom in M_atoms:\n",
    "  s += M_atoms[k] + ' ' + str(M_coords[k][0]) + ' ' + str(M_coords[k][1]) + ' ' + str(M_coords[k][2]) + '; '\n",
    "  k += 1\n",
    "s = s[0:-2]\n",
    "\n",
    "M_mol = gto.M(atom = s)\n"
   ]
  },
  {
   "cell_type": "code",
   "execution_count": null,
   "metadata": {},
   "outputs": [],
   "source": [
    "M_h_f = scf.RHF(M_mol).run()\n",
    "\n",
    "norb, nelec = 2, 2\n",
    "\n",
    "M_cas = mcscf.CASCI(M_h_f, norb, nelec)\n",
    "\n",
    "mapper = BravyiKitaevMapper()\n",
    "\n",
    "M_cas.fcisolver = QiskitSolver(algorithm(mapper))\n",
    "\n",
    "M_cas.run()"
   ]
  },
  {
   "cell_type": "code",
   "execution_count": null,
   "metadata": {},
   "outputs": [],
   "source": [
    "# Display Qiskit Software and System information\n",
    "import qiskit.tools.jupyter\n",
    "%qiskit_version_table"
   ]
  }
 ],
 "metadata": {
  "kernelspec": {
   "display_name": "qiskit-env",
   "language": "python",
   "name": "qiskit-env"
  },
  "language_info": {
   "codemirror_mode": {
    "name": "ipython",
    "version": 3
   },
   "file_extension": ".py",
   "mimetype": "text/x-python",
   "name": "python",
   "nbconvert_exporter": "python",
   "pygments_lexer": "ipython3",
   "version": "3.10.9"
  }
 },
 "nbformat": 4,
 "nbformat_minor": 4
}
