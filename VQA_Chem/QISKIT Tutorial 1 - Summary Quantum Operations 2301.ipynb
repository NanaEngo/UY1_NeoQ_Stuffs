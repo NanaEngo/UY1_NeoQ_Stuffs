{
 "cells": [
  {
   "cell_type": "markdown",
   "metadata": {},
   "source": [
    "# Summary of Quantum Operations "
   ]
  },
  {
   "cell_type": "markdown",
   "metadata": {
    "lang": "fr"
   },
   "source": [
    "Dans ce tutoriel, nous faisons la synthèse des différentes opérations disponibles dans Qiskit Terra, à savoir:\n",
    "\n",
    "- Portes quantiques à un seul qubit\n",
    "- Portes quantiques multi-qubits\n",
    "- Mesures\n",
    "- Réinitialisation\n",
    "- Portes conditionnelles\n",
    "- Initialisation de l'état\n",
    "\n",
    "Nous également revoir comment utiliser les trois différents simulateurs :\n",
    "\n",
    "- unitary_simulator\n",
    "- qasm_simulator\n",
    "- statevector_simulator"
   ]
  },
  {
   "cell_type": "markdown",
   "metadata": {},
   "source": [
    "$\n",
    "\\newcommand{\\bra}[1]{\\langle#1|} \n",
    "\\newcommand{\\ket}[1]{|#1\\rangle} \n",
    "%\n",
    "\\newcommand{\\X}{\\mathtt{X}} \n",
    "\\newcommand{\\Y}{\\mathtt{Y}} \n",
    "\\newcommand{\\Z}{\\mathtt{Z}} \n",
    "\\newcommand{\\W}{\\mathtt{W}} \n",
    "\\newcommand{\\U}{\\mathtt{U}} \n",
    "\\newcommand{\\R}{\\mathtt{R}} \n",
    "\\newcommand{\\I}{\\mathbb{I}} \n",
    "\\newcommand{\\CX}{\\mathtt{CX}} \n",
    "\\newcommand{\\CZ}{\\mathtt{CZ}} \n",
    "%\n",
    "$"
   ]
  },
  {
   "cell_type": "code",
   "execution_count": null,
   "metadata": {
    "ExecuteTime": {
     "end_time": "2021-07-31T05:10:07.863361Z",
     "start_time": "2021-07-31T05:10:06.401320Z"
    }
   },
   "outputs": [],
   "source": [
    "from qiskit import QuantumCircuit, ClassicalRegister, QuantumRegister, transpile\n",
    "from qiskit.tools.visualization import circuit_drawer, array_to_latex\n",
    "from qiskit.quantum_info import state_fidelity\n",
    "from qiskit import BasicAer\n",
    "\n",
    "backend = BasicAer.get_backend('unitary_simulator')"
   ]
  },
  {
   "cell_type": "markdown",
   "metadata": {
    "lang": "fr"
   },
   "source": [
    "* Packages supplémentaires utiles"
   ]
  },
  {
   "cell_type": "code",
   "execution_count": null,
   "metadata": {
    "ExecuteTime": {
     "end_time": "2021-07-31T05:10:06.399483Z",
     "start_time": "2021-07-31T05:10:06.113598Z"
    }
   },
   "outputs": [],
   "source": [
    "import matplotlib.pyplot as plt\n",
    "import numpy as np\n",
    "from math import pi"
   ]
  },
  {
   "cell_type": "markdown",
   "metadata": {
    "lang": "en"
   },
   "source": [
    "## États quantiques à un seul Qubit <a name=\"single_states\"/>\n",
    "\n",
    "Un état quantique d'un seul qubit peut être écrit comme\n",
    "$$\\ket{\\psi} = \\alpha\\ket{0} + \\beta \\ket{1},$$\n",
    "où $\\alpha$ et $\\beta$ sont des nombres complexes. Dans une mesure, la probabilité que le bit soit dans $\\ket{0}$ est $|\\alpha|^2$ et $\\ket{1}$ est $|\\beta|^2$. En tant que vecteur, c'est\n",
    "$$\n",
    "\\ket{\\psi} =  \n",
    "\\begin{pmatrix}\n",
    "\\alpha \\\\\n",
    "\\beta\n",
    "\\end{pmatrix}.\n",
    "$$\n",
    "Notez qu'en raison de la conservation de la probabilité $|\\alpha|^2+ |\\beta|^2 = 1$, et puisque la phase globale est indétectable $\\ket{\\psi} := e^{i\\delta} \\ket{\\psi}$, nous n'avons besoin que de deux nombres réels pour décrire un seul état quantique de qubit.\n",
    "\n",
    "Une représentation pratique est\n",
    "$$\\ket{\\psi} = \\cos(\\frac{\\theta}{2})\\ket{0} + \\sin(\\frac{\\theta}{2})e^{i\\phi}\\ket{1},$$\n",
    "où $0\\leq \\phi < 2\\pi$ et $0\\leq \\theta \\leq \\pi$. À partir de là, il est clair qu'il existe une correspondance biunivoque entre les états de qubit ($\\mathbb{C}^2$) et les points à la surface d'une sphère unitaire ($\\mathbb{R}^3$). C'est ce qu'on appelle la représentation de la sphère de Bloch d'un état qubit.\n",
    "\n",
    "Les portes/opérations quantiques sont généralement représentées sous forme de matrices. Une porte qui agit sur un qubit est représentée par une matrice unitaire $2\\times 2$ $\\U$. L'action de la porte quantique est trouvée en multipliant la matrice représentant la porte avec le vecteur qui représente l'état quantique.\n",
    "$$\\ket{\\psi'} = \\U\\ket{\\psi}$$\n",
    "\n",
    "Un unitaire général doit pouvoir amener le $\\ket{0}$ à l'état ci-dessus. C'est-à-dire\n",
    "$$\n",
    "\\U = \\begin{pmatrix}\n",
    "\\cos(\\frac{\\theta}{2}) & a \\\\\n",
    "e^{i\\phi}\\sin(\\frac{\\theta}{2}) & b \n",
    "\\end{pmatrix},\n",
    "$$\n",
    "où $a$ et $b$ sont des nombres complexes contraints tels que $\\U^\\dagger\\U =\\I$ pour tous $0\\leq\\theta\\leq\\pi$ et $0\\leq \\phi<2\\pi$. Cela donne 3 contraintes et ainsi $a\\rightarrow -e^{i\\lambda}\\sin(\\frac{\\theta}{2})$ et $b\\rightarrow e^{i\\lambda+i\\phi}\\cos(\\frac{\\theta}{2})$ où $0\\leq \\lambda<2\\pi$ donnant\n",
    "$$\n",
    "\\U(\\theta, \\phi, \\lambda) =\n",
    "    \\begin{pmatrix}\n",
    "        \\cos\\left(\\frac{\\theta}{2}\\right)          & -e^{i\\lambda}\\sin\\left(\\frac{\\theta}{2}\\right) \\\\\n",
    "        e^{i\\phi}\\sin\\left(\\frac{\\theta}{2}\\right) & e^{i(\\phi+\\lambda)}\\cos\\left(\\frac{\\theta}{2}\\right)\n",
    "    \\end{pmatrix}.\n",
    "$$\n",
    "C'est la forme la plus générale d'un seul qubit unitaire."
   ]
  },
  {
   "cell_type": "markdown",
   "metadata": {
    "lang": "fr"
   },
   "source": [
    "## États quantiques à un seul Qubit <a name=\"single_states\"/>\n",
    "\n",
    "Un état quantique d'un seul qubit peut être écrit comme\n",
    "$$\\ket{\\psi} = \\alpha\\ket{0} + \\beta \\ket{1},$$\n",
    "où $\\alpha$ et $\\beta$ sont des nombres complexes. Dans une mesure, la probabilité que le bit soit dans $\\ket{0}$ est $|\\alpha|^2$ et $\\ket{1}$ est $|\\beta|^2$. En tant que vecteur, c'est\n",
    "$$\n",
    "\\ket{\\psi} =  \n",
    "\\begin{pmatrix}\n",
    "\\alpha \\\\\n",
    "\\beta\n",
    "\\end{pmatrix}.\n",
    "$$\n",
    "Notez qu'en raison de la conservation de la probabilité $|\\alpha|^2+ |\\beta|^2 = 1$, et puisque la phase globale est indétectable $\\ket{\\psi} := e^{i\\delta} \\ket{\\psi}$, nous n'avons besoin que de deux nombres réels pour décrire un seul état quantique de qubit.\n",
    "\n",
    "Une représentation pratique est\n",
    "$$\\ket{\\psi} = \\cos(\\frac{\\theta}{2})\\ket{0} + \\sin(\\frac{\\theta}{2})e^{i\\phi}\\ket{1},$$\n",
    "où $0\\leq \\phi < 2\\pi$ et $0\\leq \\theta \\leq \\pi$. À partir de là, il est clair qu'il existe une correspondance biunivoque entre les états de qubit ($\\mathbb{C}^2$) et les points à la surface d'une sphère unitaire ($\\mathbb{R}^3$). C'est ce qu'on appelle la représentation de la sphère de Bloch d'un état qubit.\n",
    "\n",
    "Les portes/opérations quantiques sont généralement représentées sous forme de matrices. Une porte qui agit sur un qubit est représentée par une matrice unitaire $2\\times 2$ $\\U$. L'action de la porte quantique est trouvée en multipliant la matrice représentant la porte avec le vecteur qui représente l'état quantique.\n",
    "$$\\ket{\\psi'} = \\U\\ket{\\psi}$$\n",
    "\n",
    "Un unitaire général doit pouvoir amener le $\\ket{0}$ à l'état ci-dessus. C'est-à-dire\n",
    "$$\n",
    "\\U = \\begin{pmatrix}\n",
    "\\cos(\\frac{\\theta}{2}) & a \\\\\n",
    "e^{i\\phi}\\sin(\\frac{\\theta}{2}) & b \n",
    "\\end{pmatrix},\n",
    "$$\n",
    "où $a$ et $b$ sont des nombres complexes contraintes tels que $\\U^\\dagger\\U =\\I$ pour tous $0\\leq\\theta\\leq\\pi$ et $0\\leq \\phi<2\\pi$. Cela donne 3 contraintes et ainsi $a\\rightarrow -e^{i\\lambda}\\sin(\\frac{\\theta}{2})$ et $b\\rightarrow e^{i\\lambda+i\\phi}\\cos(\\frac{\\theta}{2})$ où $0\\leq \\lambda<2\\pi$ donnant\n",
    "$$\n",
    "\\U(\\theta, \\phi, \\lambda) =\n",
    "    \\begin{pmatrix}\n",
    "        \\cos\\left(\\frac{\\theta}{2}\\right)          & -e^{i\\lambda}\\sin\\left(\\frac{\\theta}{2}\\right) \\\\\n",
    "        e^{i\\phi}\\sin\\left(\\frac{\\theta}{2}\\right) & e^{i(\\phi+\\lambda)}\\cos\\left(\\frac{\\theta}{2}\\right)\n",
    "    \\end{pmatrix}.\n",
    "$$\n",
    "C'est la forme la plus générale d'un seul qubit unitaire."
   ]
  },
  {
   "cell_type": "markdown",
   "metadata": {
    "lang": "fr"
   },
   "source": [
    "## Portes à un seul qubit <a name=\"single_gates\"/>\n",
    "\n",
    "Les portes à un seul qubit disponibles sont :\n",
    "- Porte en U\n",
    "- porte P\n",
    "- Porte d'identité\n",
    "- Portes Pauli\n",
    "- Portes Clifford\n",
    "- portes C3\n",
    "- Portes de rotation standard\n",
    "\n",
    "Nous avons fourni un backend : `unitary_simulator` pour vous permettre de calculer les matrices unitaires."
   ]
  },
  {
   "cell_type": "code",
   "execution_count": null,
   "metadata": {
    "ExecuteTime": {
     "end_time": "2021-07-31T05:10:08.577924Z",
     "start_time": "2021-07-31T05:10:08.575044Z"
    }
   },
   "outputs": [],
   "source": [
    "q = QuantumRegister(1)"
   ]
  },
  {
   "cell_type": "markdown",
   "metadata": {
    "lang": "fr"
   },
   "source": [
    "### Porte U\n",
    "\n",
    "Dans Qiskit, nous avous accès à l'unité générale en utilisant la porte $\\U$, qui a la forme matricielle suivante\n",
    "$$\n",
    "\\U(\\theta, \\phi, \\lambda) =\n",
    "    \\begin{pmatrix}\n",
    "        \\cos\\left(\\frac{\\theta}{2}\\right)          & -e^{i\\lambda}\\sin\\left(\\frac{\\theta}{2}\\right) \\\\\n",
    "        e^{i\\phi}\\sin\\left(\\frac{\\theta}{2}\\right) & e^{i(\\phi+\\lambda)}\\cos\\left(\\frac{\\theta}{2}\\right)\n",
    "    \\end{pmatrix}\n",
    "$$"
   ]
  },
  {
   "cell_type": "code",
   "execution_count": null,
   "metadata": {
    "ExecuteTime": {
     "end_time": "2021-07-31T05:10:09.406278Z",
     "start_time": "2021-07-31T05:10:09.398661Z"
    }
   },
   "outputs": [],
   "source": [
    "qc = QuantumCircuit(q)\n",
    "qc.u(pi/2,pi/4,pi/8,q)\n",
    "qc.draw('mpl')"
   ]
  },
  {
   "cell_type": "code",
   "execution_count": null,
   "metadata": {
    "ExecuteTime": {
     "end_time": "2021-07-31T05:10:10.420628Z",
     "start_time": "2021-07-31T05:10:10.342207Z"
    }
   },
   "outputs": [],
   "source": [
    "job = backend.run(transpile(qc, backend))\n",
    "array_to_latex(job.result().get_unitary(qc, decimals=3))"
   ]
  },
  {
   "cell_type": "markdown",
   "metadata": {
    "lang": "fr"
   },
   "source": [
    "<div class=\"alert alert-info\">\n",
    "Remarque sur la dépréciation de la porte U\n",
    "\n",
    "Les méthodes QuantumCircuit $u1$, $u2$ et $u3$ sont désormais obsolètes. Au lieu de cela, les remplacements suivants doivent être utilisés.\n",
    "\n",
    "- $u1(\\lambda) = p(\\lambda) = u(0, 0, \\lambda)$\n",
    "\n",
    "- $u2(\\phi, \\lambda) = u(\\frac{\\pi}{2}, \\phi, \\lambda) = p(\\frac{\\pi}{2} + \\phi) \\cdot sx \\cdot p(\\frac{\\pi}{2} - \\lambda)$\n",
    "\n",
    "- $u3(\\theta, \\phi, \\lambda) = u(\\theta, \\phi, \\lambda) = p(\\phi + \\pi) \\cdot sx \\cdot p(\\theta + \\pi) \\cdot sx \\cdot p(\\lambda)$\n",
    "\n",
    "```python\n",
    "# qc.u1(lambda) est maintenant :\n",
    "qc.p(lambda)\n",
    "\n",
    "# qc.u2(phi, lambda) est maintenant :\n",
    "qc.u(pi/2, phi, lambda)\n",
    "\n",
    "# qc.u3(theta, phi, lambda) est maintenant :\n",
    "qc.u(theta, phi, lambda)\n",
    "```\n",
    "</div>"
   ]
  },
  {
   "cell_type": "markdown",
   "metadata": {
    "lang": "fr"
   },
   "source": [
    "### Porte P\n",
    "\n",
    "Pour appliquer une phase quantique, on utilise la porte $p(\\lambda)= u(0, 0, \\lambda)$ dont la forme matricielle est\n",
    "$$\n",
    "p(\\lambda) = \n",
    "\\begin{pmatrix}\n",
    "1 & 0 \\\\\n",
    "0 & e^{i \\lambda}\n",
    "\\end{pmatrix}.\n",
    "$$"
   ]
  },
  {
   "cell_type": "code",
   "execution_count": null,
   "metadata": {
    "ExecuteTime": {
     "end_time": "2021-07-31T05:10:51.997454Z",
     "start_time": "2021-07-31T05:10:51.992620Z"
    }
   },
   "outputs": [],
   "source": [
    "qc = QuantumCircuit(q)\n",
    "qc.p(pi/2,q)\n",
    "qc.draw('mpl')"
   ]
  },
  {
   "cell_type": "code",
   "execution_count": null,
   "metadata": {
    "ExecuteTime": {
     "end_time": "2021-07-31T05:10:58.149042Z",
     "start_time": "2021-07-31T05:10:58.138158Z"
    }
   },
   "outputs": [],
   "source": [
    "job = backend.run(transpile(qc, backend))\n",
    "array_to_latex(job.result().get_unitary(qc, decimals=3))"
   ]
  },
  {
   "cell_type": "markdown",
   "metadata": {
    "lang": "fr"
   },
   "source": [
    "### Porte d'identité\n",
    "\n",
    "La porte d'identité est $\\I = p(0)$."
   ]
  },
  {
   "cell_type": "code",
   "execution_count": null,
   "metadata": {
    "ExecuteTime": {
     "end_time": "2021-07-31T05:11:00.799001Z",
     "start_time": "2021-07-31T05:11:00.794172Z"
    }
   },
   "outputs": [],
   "source": [
    "qc = QuantumCircuit(q)\n",
    "qc.id(q)\n",
    "qc.draw('mpl')"
   ]
  },
  {
   "cell_type": "code",
   "execution_count": null,
   "metadata": {
    "ExecuteTime": {
     "end_time": "2021-07-31T05:11:03.627749Z",
     "start_time": "2021-07-31T05:11:03.619164Z"
    }
   },
   "outputs": [],
   "source": [
    "job = backend.run(transpile(qc, backend))\n",
    "array_to_latex(job.result().get_unitary(qc, decimals=3))"
   ]
  },
  {
   "cell_type": "markdown",
   "metadata": {
    "lang": "fr"
   },
   "source": [
    "### Portes Pauli\n",
    "\n",
    "#### $\\X$ : porte bit-flip \n",
    "\n",
    "La porte bit-flip $\\X$ est définie comme suit :\n",
    "$$\n",
    "\\X   =  \n",
    "\\begin{pmatrix}\n",
    "0 & 1\\\\\n",
    "1 & 0\n",
    "\\end{pmatrix}= u(\\pi,0,\\pi).\n",
    "$$"
   ]
  },
  {
   "cell_type": "code",
   "execution_count": null,
   "metadata": {
    "ExecuteTime": {
     "end_time": "2021-07-31T05:11:05.287138Z",
     "start_time": "2021-07-31T05:11:05.281859Z"
    }
   },
   "outputs": [],
   "source": [
    "qc = QuantumCircuit(q)\n",
    "qc.x(q)\n",
    "qc.draw('mpl')"
   ]
  },
  {
   "cell_type": "code",
   "execution_count": null,
   "metadata": {
    "ExecuteTime": {
     "end_time": "2021-07-31T05:11:07.285569Z",
     "start_time": "2021-07-31T05:11:07.276242Z"
    }
   },
   "outputs": [],
   "source": [
    "job = backend.run(transpile(qc, backend))\n",
    "array_to_latex(job.result().get_unitary(qc, decimals=3))"
   ]
  },
  {
   "cell_type": "markdown",
   "metadata": {},
   "source": [
    "#### $\\Y$: Porte bit- and phase-flip\n",
    "\n",
    "La porte $\\Y$ est définie comme suit:\n",
    "$$\n",
    "\\Y  = \n",
    "\\begin{pmatrix}\n",
    "0 & -i\\\\\n",
    "i & 0\n",
    "\\end{pmatrix}=u(\\pi,\\pi/2,\\pi/2).\n",
    "$$"
   ]
  },
  {
   "cell_type": "code",
   "execution_count": null,
   "metadata": {
    "ExecuteTime": {
     "end_time": "2021-07-31T05:11:09.274252Z",
     "start_time": "2021-07-31T05:11:09.270141Z"
    }
   },
   "outputs": [],
   "source": [
    "qc = QuantumCircuit(q)\n",
    "qc.y(q)\n",
    "qc.draw('mpl')"
   ]
  },
  {
   "cell_type": "code",
   "execution_count": null,
   "metadata": {
    "ExecuteTime": {
     "end_time": "2021-07-31T05:11:11.878524Z",
     "start_time": "2021-07-31T05:11:11.868931Z"
    }
   },
   "outputs": [],
   "source": [
    "job = backend.run(transpile(qc, backend))\n",
    "array_to_latex(job.result().get_unitary(qc, decimals=3))"
   ]
  },
  {
   "cell_type": "markdown",
   "metadata": {},
   "source": [
    "#### $\\Z$: Porte phase-flip \n",
    "\n",
    "La porte $\\Z$ est définie comme suit:\n",
    "$$\n",
    "\\Z = \\begin{pmatrix}\n",
    "1 & 0\\\\\n",
    "0 & -1\n",
    "\\end{pmatrix}=p(\\pi).\n",
    "$$"
   ]
  },
  {
   "cell_type": "code",
   "execution_count": null,
   "metadata": {
    "ExecuteTime": {
     "end_time": "2021-07-31T05:11:13.903719Z",
     "start_time": "2021-07-31T05:11:13.898408Z"
    }
   },
   "outputs": [],
   "source": [
    "qc = QuantumCircuit(q)\n",
    "qc.z(q)\n",
    "qc.draw('mpl')"
   ]
  },
  {
   "cell_type": "code",
   "execution_count": null,
   "metadata": {
    "ExecuteTime": {
     "end_time": "2021-07-31T05:11:17.430999Z",
     "start_time": "2021-07-31T05:11:17.420906Z"
    }
   },
   "outputs": [],
   "source": [
    "job = backend.run(transpile(qc, backend))\n",
    "array_to_latex(job.result().get_unitary(qc, decimals=3))"
   ]
  },
  {
   "cell_type": "markdown",
   "metadata": {},
   "source": [
    "### Portes de Clifford \n",
    "\n",
    "#### Porte Hadamard \n",
    "\n",
    "$$\n",
    "H = \n",
    "\\frac{1}{\\sqrt{2}}\n",
    "\\begin{pmatrix}\n",
    "1 & 1\\\\\n",
    "1 & -1\n",
    "\\end{pmatrix}= u(\\pi/2,0,\\pi).\n",
    "$$"
   ]
  },
  {
   "cell_type": "code",
   "execution_count": null,
   "metadata": {
    "ExecuteTime": {
     "end_time": "2021-07-31T05:11:24.374244Z",
     "start_time": "2021-07-31T05:11:24.369684Z"
    }
   },
   "outputs": [],
   "source": [
    "qc = QuantumCircuit(q)\n",
    "qc.h(q)\n",
    "qc.draw('mpl')"
   ]
  },
  {
   "cell_type": "code",
   "execution_count": null,
   "metadata": {
    "ExecuteTime": {
     "end_time": "2021-07-31T05:11:24.964793Z",
     "start_time": "2021-07-31T05:11:24.956019Z"
    }
   },
   "outputs": [],
   "source": [
    "job = backend.run(transpile(qc, backend))\n",
    "array_to_latex(job.result().get_unitary(qc, decimals=3))"
   ]
  },
  {
   "cell_type": "markdown",
   "metadata": {},
   "source": [
    "#### Porte $S$ (ou, $\\sqrt{Z}$ phase) \n",
    "\n",
    "$$\n",
    "S = \n",
    "\\begin{pmatrix}\n",
    "1 & 0\\\\\n",
    "0 & i\n",
    "\\end{pmatrix}= p(\\pi/2).\n",
    "$$"
   ]
  },
  {
   "cell_type": "code",
   "execution_count": null,
   "metadata": {
    "ExecuteTime": {
     "end_time": "2021-07-31T05:11:27.577029Z",
     "start_time": "2021-07-31T05:11:27.572229Z"
    }
   },
   "outputs": [],
   "source": [
    "qc = QuantumCircuit(q)\n",
    "qc.s(q)\n",
    "qc.draw('mpl')"
   ]
  },
  {
   "cell_type": "code",
   "execution_count": null,
   "metadata": {
    "ExecuteTime": {
     "end_time": "2021-07-31T05:11:30.150288Z",
     "start_time": "2021-07-31T05:11:30.141012Z"
    }
   },
   "outputs": [],
   "source": [
    "job = backend.run(transpile(qc, backend))\n",
    "array_to_latex(job.result().get_unitary(qc, decimals=3))"
   ]
  },
  {
   "cell_type": "markdown",
   "metadata": {},
   "source": [
    "#### $S^{\\dagger}$ (ou, conjugué de phase $\\sqrt{Z}$) \n",
    "\n",
    "$$\n",
    "S^{\\dagger} = \n",
    "\\begin{pmatrix}\n",
    "1 & 0\\\\\n",
    "0 & -i\n",
    "\\end{pmatrix}= p(-\\pi/2).\n",
    "$$\n"
   ]
  },
  {
   "cell_type": "code",
   "execution_count": null,
   "metadata": {
    "ExecuteTime": {
     "end_time": "2021-07-31T05:11:31.674786Z",
     "start_time": "2021-07-31T05:11:31.669677Z"
    }
   },
   "outputs": [],
   "source": [
    "qc = QuantumCircuit(q)\n",
    "qc.sdg(q)\n",
    "qc.draw('mpl')"
   ]
  },
  {
   "cell_type": "code",
   "execution_count": null,
   "metadata": {
    "ExecuteTime": {
     "end_time": "2021-07-31T05:11:34.228098Z",
     "start_time": "2021-07-31T05:11:34.218323Z"
    }
   },
   "outputs": [],
   "source": [
    "job = backend.run(transpile(qc, backend))\n",
    "array_to_latex(job.result().get_unitary(qc, decimals=3))"
   ]
  },
  {
   "cell_type": "markdown",
   "metadata": {},
   "source": [
    "### Portes $C3$ \n",
    "#### $T$ (ou Porte $\\sqrt{S}$ phase) \n",
    "\n",
    "$$\n",
    "T = \n",
    "\\begin{pmatrix}\n",
    "1 & 0\\\\\n",
    "0 & e^{i \\pi/4}\n",
    "\\end{pmatrix}= p(\\pi/4) .\n",
    "$$"
   ]
  },
  {
   "cell_type": "code",
   "execution_count": null,
   "metadata": {
    "ExecuteTime": {
     "end_time": "2021-07-31T05:11:35.573569Z",
     "start_time": "2021-07-31T05:11:35.568858Z"
    }
   },
   "outputs": [],
   "source": [
    "qc = QuantumCircuit(q)\n",
    "qc.t(q)\n",
    "qc.draw('mpl')"
   ]
  },
  {
   "cell_type": "code",
   "execution_count": null,
   "metadata": {
    "ExecuteTime": {
     "end_time": "2021-07-31T05:11:38.030353Z",
     "start_time": "2021-07-31T05:11:38.020798Z"
    }
   },
   "outputs": [],
   "source": [
    "job = backend.run(transpile(qc, backend))\n",
    "array_to_latex(job.result().get_unitary(qc, decimals=3))"
   ]
  },
  {
   "cell_type": "markdown",
   "metadata": {},
   "source": [
    "#### $T^{\\dagger}$ (ou, porte conjugué $\\sqrt{S}$ phase) \n",
    "\n",
    "$$\n",
    "T^{\\dagger} =  \n",
    "\\begin{pmatrix}\n",
    "1 & 0\\\\\n",
    "0 & e^{-i \\pi/4}\n",
    "\\end{pmatrix}= p(-\\pi/4).\n",
    "$$"
   ]
  },
  {
   "cell_type": "code",
   "execution_count": null,
   "metadata": {
    "ExecuteTime": {
     "end_time": "2021-07-31T05:11:39.747528Z",
     "start_time": "2021-07-31T05:11:39.742799Z"
    }
   },
   "outputs": [],
   "source": [
    "qc = QuantumCircuit(q)\n",
    "qc.tdg(q)\n",
    "qc.draw('mpl')"
   ]
  },
  {
   "cell_type": "code",
   "execution_count": null,
   "metadata": {
    "ExecuteTime": {
     "end_time": "2021-07-31T05:11:43.129450Z",
     "start_time": "2021-07-31T05:11:43.119304Z"
    }
   },
   "outputs": [],
   "source": [
    "job = backend.run(transpile(qc, backend))\n",
    "array_to_latex(job.result().get_unitary(qc, decimals=3))"
   ]
  },
  {
   "cell_type": "markdown",
   "metadata": {},
   "source": [
    "###  Rotations Standard\n",
    "\n",
    "Les portes de rotation standard rotation sont celles qui definissent les rotations autour des  Paulis $P=\\{\\X,\\Y,\\Z\\}$. Elles sont définies comme\n",
    "$$ \\R_P(\\theta) = \\exp(-i \\theta P/2) = \\cos(\\theta/2)\\I -i \\sin(\\theta/2)P$$\n",
    "\n",
    "#### Rotation autour de X\n",
    "$$\n",
    "\\R_x(\\theta) = \n",
    "\\begin{pmatrix}\n",
    "\\cos(\\theta/2) & -i\\sin(\\theta/2)\\\\\n",
    "-i\\sin(\\theta/2) & \\cos(\\theta/2)\n",
    "\\end{pmatrix} = u(\\theta, -\\pi/2,\\pi/2)\n",
    "$$"
   ]
  },
  {
   "cell_type": "code",
   "execution_count": null,
   "metadata": {
    "ExecuteTime": {
     "end_time": "2021-07-31T05:11:43.968605Z",
     "start_time": "2021-07-31T05:11:43.963670Z"
    }
   },
   "outputs": [],
   "source": [
    "qc = QuantumCircuit(q)\n",
    "qc.rx(pi/2,q)\n",
    "qc.draw('mpl')"
   ]
  },
  {
   "cell_type": "code",
   "execution_count": null,
   "metadata": {
    "ExecuteTime": {
     "end_time": "2021-07-31T05:11:47.140262Z",
     "start_time": "2021-07-31T05:11:47.128900Z"
    }
   },
   "outputs": [],
   "source": [
    "job = backend.run(transpile(qc, backend))\n",
    "array_to_latex(job.result().get_unitary(qc, decimals=3))"
   ]
  },
  {
   "cell_type": "markdown",
   "metadata": {},
   "source": [
    "#### Rotation autour de Y\n",
    "$$\n",
    "\\R_y(\\theta) =\n",
    "\\begin{pmatrix}\n",
    "\\cos(\\theta/2) & - \\sin(\\theta/2)\\\\\n",
    "\\sin(\\theta/2) & \\cos(\\theta/2)\n",
    "\\end{pmatrix} =u(\\theta,0,0).\n",
    "$$"
   ]
  },
  {
   "cell_type": "code",
   "execution_count": null,
   "metadata": {
    "ExecuteTime": {
     "end_time": "2021-07-31T05:11:48.483090Z",
     "start_time": "2021-07-31T05:11:48.477062Z"
    }
   },
   "outputs": [],
   "source": [
    "qc = QuantumCircuit(q)\n",
    "qc.ry(pi/2,q)\n",
    "qc.draw('mpl')"
   ]
  },
  {
   "cell_type": "code",
   "execution_count": null,
   "metadata": {
    "ExecuteTime": {
     "end_time": "2021-07-31T05:11:51.011307Z",
     "start_time": "2021-07-31T05:11:51.001011Z"
    }
   },
   "outputs": [],
   "source": [
    "job = backend.run(transpile(qc, backend))\n",
    "array_to_latex(job.result().get_unitary(qc, decimals=3))"
   ]
  },
  {
   "cell_type": "markdown",
   "metadata": {},
   "source": [
    "#### Rotation autour de  Z\n",
    "$$\n",
    "\\R_z(\\phi) = \n",
    "\\begin{pmatrix}\n",
    "e^{-i \\phi/2} & 0 \\\\\n",
    "0 & e^{i \\phi/2}\n",
    "\\end{pmatrix}\\equiv p(\\phi).\n",
    "$$\n",
    "Notez qu'ici nous avons utilisé un équivalent car il est différent de $p$ par une phase globale $e^{-i \\phi/2}$."
   ]
  },
  {
   "cell_type": "code",
   "execution_count": null,
   "metadata": {
    "ExecuteTime": {
     "end_time": "2021-07-31T05:11:51.729618Z",
     "start_time": "2021-07-31T05:11:51.724574Z"
    }
   },
   "outputs": [],
   "source": [
    "qc = QuantumCircuit(q)\n",
    "qc.rz(pi/2,q)\n",
    "qc.draw('mpl')"
   ]
  },
  {
   "cell_type": "code",
   "execution_count": null,
   "metadata": {
    "ExecuteTime": {
     "end_time": "2021-07-31T05:11:54.372720Z",
     "start_time": "2021-07-31T05:11:54.363623Z"
    }
   },
   "outputs": [],
   "source": [
    "job = backend.run(transpile(qc, backend))\n",
    "array_to_latex(job.result().get_unitary(qc, decimals=3))"
   ]
  },
  {
   "cell_type": "markdown",
   "metadata": {
    "lang": "fr"
   },
   "source": [
    "Notez que ceci est différent en raison uniquement d'une phase globale."
   ]
  },
  {
   "cell_type": "markdown",
   "metadata": {
    "lang": "fr"
   },
   "source": [
    "## Portes multi-qubits <a name=\"multi_gates\"/>\n",
    "\n",
    "### Préliminaires mathématiques\n",
    "\n",
    "L'espace d'un calculateur quantique croît de manière exponentielle avec le nombre de qubits. Pour les qubits $n$, l'espace vectoriel complexe a la dimension $d=2^n$. Pour décrire les états d'un système multi-qubit, le produit tensoriel est utilisé pour \"coller ensemble\" les opérateurs et les vecteurs de base.\n",
    "\n",
    "Commençons par considérer un système à 2 qubits. Étant donné deux opérateurs $A$ et $B$ qui agissent chacun sur un qubit, l'opérateur conjoint $A \\otimes B$ agissant sur deux qubits est\n",
    "\\begin{equation}\n",
    "\tA\\otimes B = \n",
    "\t\\begin{pmatrix} \n",
    "\t\tA_{00} \\begin{pmatrix} \n",
    "\t\t\tB_{00} & B_{01} \\\\\n",
    "\t\t\tB_{10} & B_{11}\n",
    "\t\t\\end{pmatrix} & A_{01} \t\\begin{pmatrix} \n",
    "\t\t\t\tB_{00} & B_{01} \\\\\n",
    "\t\t\t\tB_{10} & B_{11}\n",
    "\t\t\t\\end{pmatrix} \\\\\n",
    "\t\tA_{10} \t\\begin{pmatrix} \n",
    "\t\t\t\t\tB_{00} & B_{01} \\\\\n",
    "\t\t\t\t\tB_{10} & B_{11}\n",
    "\t\t\t\t\\end{pmatrix} & A_{11} \t\\begin{pmatrix} \n",
    "\t\t\t\t\t\t\tB_{00} & B_{01} \\\\\n",
    "\t\t\t\t\t\t\tB_{10} & B_{11}\n",
    "\t\t\t\t\t\t\\end{pmatrix}\n",
    "\t\\end{pmatrix},\t\t\t\t\t\t\n",
    "\\end{equation}\n",
    "où $A_{jk}$ et $B_{lm}$ sont les éléments de matrice de $A$ et $B$, respectivement.\n",
    "\n",
    "De manière analogue, les vecteurs de base pour le système à 2 qubits sont formés à l'aide du produit tensoriel des vecteurs de base pour un seul qubit :\n",
    "\\begin{equation}\n",
    "\\begin{aligned}\n",
    "&\\ket{00} = \\begin{pmatrix} \n",
    "\t\t1 \\begin{pmatrix} \n",
    "\t\t\t1  \\\\\n",
    "\t\t\t0\n",
    "\t\t\\end{pmatrix} \\\\\n",
    "\t\t0 \\begin{pmatrix} \n",
    "\t\t\t1  \\\\\n",
    "\t\t\t0 \n",
    "\t\t\\end{pmatrix}\n",
    "\t\\end{pmatrix} = \\begin{pmatrix} 1 \\\\ 0 \\\\ 0 \\\\0 \\end{pmatrix},\n",
    "&\\ket{01} = \\begin{pmatrix} \n",
    "\t1 \\begin{pmatrix} \n",
    "\t0 \\\\\n",
    "\t1\n",
    "\t\\end{pmatrix} \\\\\n",
    "\t0 \\begin{pmatrix} \n",
    "\t0  \\\\\n",
    "\t1 \n",
    "\t\\end{pmatrix}\n",
    "\t\\end{pmatrix} = \\begin{pmatrix}0 \\\\ 1 \\\\ 0 \\\\ 0 \\end{pmatrix}.\n",
    "\\\\\n",
    "&\\ket{10} = \\begin{pmatrix} \n",
    "\t0\\begin{pmatrix} \n",
    "\t1  \\\\\n",
    "\t0\n",
    "\t\\end{pmatrix} \\\\\n",
    "\t1\\begin{pmatrix} \n",
    "\t1 \\\\\n",
    "\t0 \n",
    "\t\\end{pmatrix}\n",
    "\t\\end{pmatrix} = \\begin{pmatrix} 0 \\\\ 0 \\\\ 1 \\\\ 0 \\end{pmatrix},\n",
    "\t&\\ket{11} = \\begin{pmatrix} \n",
    "\t0 \\begin{pmatrix} \n",
    "\t0  \\\\\n",
    "\t1\n",
    "\t\\end{pmatrix} \\\\\n",
    "\t1\\begin{pmatrix} \n",
    "\t0  \\\\\n",
    "\t1 \n",
    "\t\\end{pmatrix}\n",
    "\t\\end{pmatrix} = \\begin{pmatrix} 0 \\\\ 0 \\\\ 0 \\\\1 \\end{pmatrix}.\n",
    "\\end{aligned}\n",
    "\\end{equation}\n",
    "\n",
    "Notez que nous avons introduit un raccourci pour le produit tensoriel des vecteurs de base, où $\\ket{0} \\otimes \\ket{0}$ s'écrit $\\ket{00}$. L'état d'un système $n$-qubit peut être décrit à l'aide du produit tenseur $n$ fois de vecteurs de base à un seul qubit. Notez que les vecteurs de base d'un système à 2 qubits sont en 4 dimensions. En général, les vecteurs de base d'un système $n$-qubit sont de dimension $2^n$, comme indiqué précédemment.\n",
    "\n",
    "### Ordre des vecteurs de base dans Qiskit\n",
    "\n",
    "Au sein de la communauté des physiciens, les qubits d'un système multi-qubit sont généralement ordonnés avec le premier qubit sur le côté le plus à gauche du produit tensoriel et le dernier qubit sur le côté le plus à droite. Par exemple, si le premier qubit est dans l'état $\\ket{0}$ et le second dans l'état $\\ket{1}$, leur état commun serait $\\ket{01}$. Qiskit utilise un ordre légèrement différent des qubits, dans lequel les qubits sont représentés du bit le plus significatif (MSB) à gauche au bit le moins significatif (LSB) à droite (little-endian). Ceci est similaire à la représentation des chaînes de bits sur les ordinateurs classiques et permet une conversion facile des chaînes de bits en nombres entiers une fois les mesures effectuées. Pour l'exemple qui vient d'être donné, l'état conjoint serait représenté par $\\ket{10}$. Il est important de noter que *ce changement dans la représentation des états multi-qubits affecte la manière dont les portes multi-qubits sont représentées dans Qiskit*, comme indiqué ci-dessous.\n",
    "\n",
    "La représentation utilisée dans Qiskit énumère les vecteurs de base dans l'ordre croissant des nombres entiers qu'ils représentent. Par exemple, les vecteurs de base pour un système à 2 qubits seraient classés comme $\\ket{00}$, $\\ket{01}$, $\\ket{10}$ et $\\ket{11}$. Considérant les vecteurs de base comme des chaînes de bits, ils codent respectivement les entiers 0, 1, 2 et 3.\n",
    "\n",
    "\n",
    "### Opérations contrôlées sur les qubits\n",
    "\n",
    "Une porte multi-qubit commune implique l'application d'une porte à un qubit, conditionnée par l'état d'un autre qubit. Par exemple, nous pourrions vouloir inverser l'état du deuxième qubit lorsque le premier qubit est dans $\\ket{0}$. Ces portes sont appelées _portes contrôlées_. Les portes multi-qubits standard se composent de portes à deux qubits et de portes à trois qubits. Les portes à deux qubits sont :\n",
    "- portes Pauli contrôlées\n",
    "- portail Hadamard contrôlé\n",
    "- portails à rotation contrôlée\n",
    "- porte de phase contrôlée\n",
    "- porte u3 contrôlée\n",
    "- porte d'échange\n",
    "\n",
    "Les portes à trois qubits sont :\n",
    "- Porte Toffoli\n",
    "- Porte Fredkin"
   ]
  },
  {
   "cell_type": "markdown",
   "metadata": {
    "lang": "fr"
   },
   "source": [
    "## Portes à deux qubits <a name=\"two_gates\"/>\n",
    "\n",
    "La plupart des portes à deux qubits sont de type contrôlé (la porte SWAP étant l'exception). En général, une porte contrôlée à deux qubits $C_{U}$ agit pour appliquer le $U$ unitaire à un seul qubit au deuxième qubit lorsque l'état du premier qubit est dans $\\ket{1}$. Supposons que $U$ ait une représentation matricielle\n",
    "\n",
    "$$U = \\begin{pmatrix} u_{00} & u_{01} \\\\ u_{10} & u_{11}\\end{pmatrix}.$$\n",
    "\n",
    "Nous pouvons calculer l'action de $C_{U}$ comme suit. Rappelez-vous que les vecteurs de base pour un système à deux qubits sont ordonnés comme $\\ket{00}, \\ket{01}, \\ket{10}, \\ket{11}$. Supposons que le **qubit de contrôle** est **qubit 0** (qui, selon la convention de Qiskit, est l'un des côtés _droit_ du produit tensoriel). Si le qubit de contrôle est dans $\\ket{1}$, $U$ doit être appliqué à la **cible** (qubit 1, sur le côté _gauche_ du produit tensoriel). Donc, sous l'action de $C_{U}$, les vecteurs de base sont transformés selon\n",
    "\n",
    "$$\\begin{align*}\n",
    "C_{U}: \\underset{\\text{qubit}~1}{\\ket{0}}\\otimes \\underset{\\text{qubit}~0}{\\ket{0}} &\\rightarrow \\underset{\\text{qubit}~1}{\\ket{0}}\\otimes \\underset{\\text{qubit}~0}{\\ket{0}}\\\\\n",
    "C_{U}: \\underset{\\text{qubit}~1}{\\ket{0}}\\otimes \\underset{\\text{qubit}~0}{\\ket{1}} &\\rightarrow \\underset{\\text{qubit}~1}{U\\ket{0}}\\otimes \\underset{\\text{qubit}~0}{\\ket{1}}\\\\\n",
    "C_{U}: \\underset{\\text{qubit}~1}{\\ket{1}}\\otimes \\underset{\\text{qubit}~0}{\\ket{0}} &\\rightarrow \\underset{\\text{qubit}~1}{\\ket{1}}\\otimes \\underset{\\text{qubit}~0}{\\ket{0}}\\\\\n",
    "C_{U}: \\underset{\\text{qubit}~1}{\\ket{1}}\\otimes \\underset{\\text{qubit}~0}{\\ket{1}} &\\rightarrow \\underset{\\text{qubit}~1}{U\\ket{1}}\\otimes \\underset{\\text{qubit}~0}{\\ket{1}}\\\\\n",
    "\\end{align*}.$$\n",
    "\n",
    "Sous forme matricielle, l'action de $C_{U}$ est\n",
    "\n",
    "$$\\begin{equation}\n",
    "\tC_U = \\begin{pmatrix}\n",
    "\t1 & 0 & 0 & 0 \\\\\n",
    "\t0 & u_{00} & 0 & u_{01} \\\\\n",
    "\t0 & 0 & 1 & 0 \\\\\n",
    "\t0 & u_{10} &0 & u_{11}\n",
    "\t\t\\end{pmatrix}.\n",
    "\\end{equation}$$\n",
    "\n",
    "Pour calculer ces éléments de matrice, soit\n",
    "\n",
    "$$C_{(jk), (lm)} = \\left(\\underset{\\text{qubit}~1}{\\left\\langle j \\right|} \\otimes \\underset{\\text{qubit}~0}{\\left\\langle k \\right|}\\right) C_{U} \\left(\\underset{\\text{qubit}~1}{\\left| l \\right\\rangle} \\otimes \\underset{\\text{qubit}~0}{\\left| m \\right\\rangle}\\right),$$\n",
    "\n",
    "calculez l'action de $C_{U}$ (donnée ci-dessus) et calculez les produits internes.\n",
    "\n",
    "Comme le montrent les exemples ci-dessous, cette opération est implémentée dans Qiskit sous la forme `cU(q[0],q[1])`.\n",
    "\n",
    "\n",
    "Si **qubit 1 est le contrôle et qubit 0 est la cible**, alors les vecteurs de base sont transformés selon\n",
    "$$\\begin{align*}\n",
    "C_{U}: \\underset{\\text{qubit}~1}{\\ket{0}}\\otimes \\underset{\\text{qubit}~0}{\\ket{0}} &\\rightarrow \\underset{\\text{qubit}~1}{\\ket{0}}\\otimes \\underset{\\text{qubit}~0}{\\ket{0}}\\\\\n",
    "C_{U}: \\underset{\\text{qubit}~1}{\\ket{0}}\\otimes \\underset{\\text{qubit}~0}{\\ket{1}} &\\rightarrow \\underset{\\text{qubit}~1}{\\ket{0}}\\otimes \\underset{\\text{qubit}~0}{\\ket{1}}\\\\\n",
    "C_{U}: \\underset{\\text{qubit}~1}{\\ket{1}}\\otimes \\underset{\\text{qubit}~0}{\\ket{0}} &\\rightarrow \\underset{\\text{qubit}~1}{\\ket{1}}\\otimes \\underset{\\text{qubit}~0}{U\\ket{0}}\\\\\n",
    "C_{U}: \\underset{\\text{qubit}~1}{\\ket{1}}\\otimes \\underset{\\text{qubit}~0}{\\ket{1}} &\\rightarrow \\underset{\\text{qubit}~1}{\\ket{1}}\\otimes \\underset{\\text{qubit}~0}{U\\ket{1}}\\\\\n",
    "\\end{align*},$$\n",
    "\n",
    "\n",
    "ce qui implique que la forme matricielle de $C_{U}$ est\n",
    "$$\\begin{equation}\n",
    "\tC_U = \\begin{pmatrix}\n",
    "\t1 & 0 & 0  & 0 \\\\\n",
    "\t0 & 1 & 0 & 0 \\\\\n",
    "\t0 & 0 & u_{00} & u_{01} \\\\\n",
    "\t0 & 0 & u_{10} & u_{11}\n",
    "\t\t\\end{pmatrix}.\n",
    "\\end{equation}$$"
   ]
  },
  {
   "cell_type": "code",
   "execution_count": null,
   "metadata": {
    "ExecuteTime": {
     "end_time": "2021-07-31T05:11:57.864527Z",
     "start_time": "2021-07-31T05:11:57.861603Z"
    }
   },
   "outputs": [],
   "source": [
    "q = QuantumRegister(2)"
   ]
  },
  {
   "cell_type": "markdown",
   "metadata": {
    "lang": "fr"
   },
   "source": [
    "### Portes Pauli contrôlées\n",
    "\n",
    "#### Porte Contrôlée-X (ou, Contrôlée-NON)\n",
    "La porte Controlled-NOT retourne le qubit `target` lorsque le qubit de contrôle est dans l'état $\\ket{1}$. Si nous prenons le MSB comme qubit de contrôle (par exemple `cx(q[1],q[0])`), alors la matrice ressemblerait à\n",
    "\n",
    "$$\n",
    "C_X = \n",
    "\\begin{pmatrix}\n",
    "1 & 0 & 0 & 0\\\\\n",
    "0 & 1 & 0 & 0\\\\\n",
    "0 & 0 & 0 & 1\\\\\n",
    "0 & 0 & 1 & 0\n",
    "\\end{pmatrix}. \n",
    "$$\n",
    "\n",
    "Cependant, lorsque le LSB est le qubit de contrôle (par exemple, `cx(q[0],q[1])`), cette porte est équivalente à la matrice suivante :\n",
    "\n",
    "$$\n",
    "C_X = \n",
    "\\begin{pmatrix}\n",
    "1 & 0 & 0 & 0\\\\\n",
    "0 & 0 & 0 & 1\\\\\n",
    "0 & 0 & 1 & 0\\\\\n",
    "0 & 1 & 0 & 0\n",
    "\\end{pmatrix}. \n",
    "$$"
   ]
  },
  {
   "cell_type": "code",
   "execution_count": null,
   "metadata": {
    "ExecuteTime": {
     "end_time": "2021-07-31T05:11:59.251955Z",
     "start_time": "2021-07-31T05:11:59.245837Z"
    }
   },
   "outputs": [],
   "source": [
    "qc = QuantumCircuit(q)\n",
    "qc.cx(q[0],q[1])\n",
    "qc.draw('mpl')"
   ]
  },
  {
   "cell_type": "code",
   "execution_count": null,
   "metadata": {
    "ExecuteTime": {
     "end_time": "2021-07-31T05:12:02.300793Z",
     "start_time": "2021-07-31T05:12:02.292637Z"
    }
   },
   "outputs": [],
   "source": [
    "job = backend.run(transpile(qc, backend))\n",
    "array_to_latex(job.result().get_unitary(qc, decimals=3))"
   ]
  },
  {
   "cell_type": "markdown",
   "metadata": {
    "lang": "fr"
   },
   "source": [
    "#### Porte $Y$ contrôlée\n",
    "\n",
    "Appliquez la porte $Y$ au qubit cible si le qubit de contrôle est le MSB\n",
    "\n",
    "$$\n",
    "C_Y = \n",
    "\\begin{pmatrix}\n",
    "1 & 0 & 0 & 0\\\\\n",
    "0 & 1 & 0 & 0\\\\\n",
    "0 & 0 & 0 & -i\\\\\n",
    "0 & 0 & i & 0\n",
    "\\end{pmatrix},\n",
    "$$\n",
    "\n",
    "ou lorsque le LSB est le contrôle\n",
    "\n",
    "$$\n",
    "C_Y = \n",
    "\\begin{pmatrix}\n",
    "1 & 0 & 0 & 0\\\\\n",
    "0 & 0 & 0 & -i\\\\\n",
    "0 & 0 & 1 & 0\\\\\n",
    "0 & i & 0 & 0\n",
    "\\end{pmatrix}.\n",
    "$$"
   ]
  },
  {
   "cell_type": "code",
   "execution_count": null,
   "metadata": {
    "ExecuteTime": {
     "end_time": "2021-07-31T05:12:04.293988Z",
     "start_time": "2021-07-31T05:12:04.285941Z"
    }
   },
   "outputs": [],
   "source": [
    "qc = QuantumCircuit(q)\n",
    "qc.cy(q[0],q[1])\n",
    "qc.draw('mpl')"
   ]
  },
  {
   "cell_type": "code",
   "execution_count": null,
   "metadata": {
    "ExecuteTime": {
     "end_time": "2021-07-31T05:12:07.042556Z",
     "start_time": "2021-07-31T05:12:07.031367Z"
    }
   },
   "outputs": [],
   "source": [
    "job = backend.run(transpile(qc, backend))\n",
    "array_to_latex(job.result().get_unitary(qc, decimals=3))"
   ]
  },
  {
   "cell_type": "markdown",
   "metadata": {
    "lang": "fr"
   },
   "source": [
    "#### Porte $Z$ contrôlée (ou Phase-Flip contrôlée)\n",
    "\n",
    "De même, la porte Z contrôlée inverse la phase du qubit cible si le qubit de contrôle est $\\ket{1}$. La matrice a la même apparence, que le MSB ou le LSB soit le qubit de contrôle :\n",
    "\n",
    "$$\n",
    "C_Z = \n",
    "\\begin{pmatrix}\n",
    "1 & 0 & 0 & 0\\\\\n",
    "0 & 1 & 0 & 0\\\\\n",
    "0 & 0 & 1 & 0\\\\\n",
    "0 & 0 & 0 & -1\n",
    "\\end{pmatrix}\n",
    "$$"
   ]
  },
  {
   "cell_type": "code",
   "execution_count": null,
   "metadata": {
    "ExecuteTime": {
     "end_time": "2021-07-31T05:12:08.397786Z",
     "start_time": "2021-07-31T05:12:08.392065Z"
    }
   },
   "outputs": [],
   "source": [
    "qc = QuantumCircuit(q)\n",
    "qc.cz(q[0],q[1])\n",
    "qc.draw('mpl')"
   ]
  },
  {
   "cell_type": "code",
   "execution_count": null,
   "metadata": {
    "ExecuteTime": {
     "end_time": "2021-07-31T05:12:10.259460Z",
     "start_time": "2021-07-31T05:12:10.246478Z"
    }
   },
   "outputs": [],
   "source": [
    "job = backend.run(transpile(qc, backend))\n",
    "array_to_latex(job.result().get_unitary(qc, decimals=3))"
   ]
  },
  {
   "cell_type": "markdown",
   "metadata": {
    "lang": "fr"
   },
   "source": [
    "### Porte Hadamard contrôlée\n",
    "\n",
    "Appliquez la porte $H$ au qubit cible si le qubit de contrôle est $\\ket{1}$. Ci-dessous, le cas où le contrôle est le qubit LSB.\n",
    "\n",
    "$$\n",
    "C_H = \n",
    "\\begin{pmatrix}\n",
    "1 & 0 & 0 & 0\\\\\n",
    "0 & \\frac{1}{\\sqrt{2}} & 0 & \\frac{1}{\\sqrt{2}}\\\\\n",
    "0 & 0 & 1 & 0\\\\\n",
    "0 & \\frac{1}{\\sqrt{2}}  & 0& -\\frac{1}{\\sqrt{2}}\n",
    "\\end{pmatrix}\n",
    "$$"
   ]
  },
  {
   "cell_type": "code",
   "execution_count": null,
   "metadata": {
    "ExecuteTime": {
     "end_time": "2021-07-31T05:12:11.524751Z",
     "start_time": "2021-07-31T05:12:11.518946Z"
    }
   },
   "outputs": [],
   "source": [
    "qc = QuantumCircuit(q)\n",
    "qc.ch(q[0],q[1])\n",
    "qc.draw('mpl')"
   ]
  },
  {
   "cell_type": "code",
   "execution_count": null,
   "metadata": {
    "ExecuteTime": {
     "end_time": "2021-07-31T05:12:13.607426Z",
     "start_time": "2021-07-31T05:12:13.594156Z"
    }
   },
   "outputs": [],
   "source": [
    "job = backend.run(transpile(qc, backend))\n",
    "array_to_latex(job.result().get_unitary(qc, decimals=3))"
   ]
  },
  {
   "cell_type": "markdown",
   "metadata": {
    "lang": "fr"
   },
   "source": [
    "### Portes à rotation contrôlée\n",
    "\n",
    "#### Rotation contrôlée autour de l'axe Z\n",
    "\n",
    "Effectuez une rotation autour de l'axe Z sur le qubit cible si le qubit de contrôle (ici LSB) est $\\ket{1}$.\n",
    "\n",
    "$$\n",
    "C_{Rz}(\\lambda) = \n",
    "\\begin{pmatrix}\n",
    "1 & 0 & 0 & 0\\\\\n",
    "0 & e^{-i\\lambda/2} & 0 & 0\\\\\n",
    "0 & 0 & 1 & 0\\\\\n",
    "0 & 0 & 0 & e^{i\\lambda/2}\n",
    "\\end{pmatrix}\n",
    "$$"
   ]
  },
  {
   "cell_type": "code",
   "execution_count": null,
   "metadata": {
    "ExecuteTime": {
     "end_time": "2021-07-31T05:12:14.970661Z",
     "start_time": "2021-07-31T05:12:14.961038Z"
    }
   },
   "outputs": [],
   "source": [
    "qc = QuantumCircuit(q)\n",
    "qc.crz(pi/2,q[0],q[1])\n",
    "qc.draw('mpl')"
   ]
  },
  {
   "cell_type": "code",
   "execution_count": null,
   "metadata": {
    "ExecuteTime": {
     "end_time": "2021-07-31T05:12:17.186696Z",
     "start_time": "2021-07-31T05:12:17.171628Z"
    }
   },
   "outputs": [],
   "source": [
    "job = backend.run(transpile(qc, backend))\n",
    "array_to_latex(job.result().get_unitary(qc, decimals=3))"
   ]
  },
  {
   "cell_type": "markdown",
   "metadata": {
    "lang": "fr"
   },
   "source": [
    "### Rotation de phase contrôlée\n",
    "\n",
    "Effectuez une rotation de phase si les deux qubits sont dans l'état $\\ket{11}$. La matrice a la même apparence, que le MSB ou le LSB soit le qubit de contrôle.\n",
    "\n",
    "$$\n",
    "C_{p}(\\lambda) = \n",
    "\\begin{pmatrix}\n",
    "1 & 0 & 0 & 0\\\\\n",
    "0 & 1 & 0 & 0\\\\\n",
    "0 & 0 & 1 & 0\\\\\n",
    "0 & 0 & 0 & e^{i\\lambda}\n",
    "\\end{pmatrix}\n",
    "$$"
   ]
  },
  {
   "cell_type": "code",
   "execution_count": null,
   "metadata": {
    "ExecuteTime": {
     "end_time": "2021-07-31T05:12:36.826264Z",
     "start_time": "2021-07-31T05:12:36.820988Z"
    }
   },
   "outputs": [],
   "source": [
    "qc = QuantumCircuit(q)\n",
    "qc.cp(pi/2,q[0], q[1])\n",
    "qc.draw('mpl')"
   ]
  },
  {
   "cell_type": "code",
   "execution_count": null,
   "metadata": {
    "ExecuteTime": {
     "end_time": "2021-07-31T05:12:39.234989Z",
     "start_time": "2021-07-31T05:12:39.222992Z"
    }
   },
   "outputs": [],
   "source": [
    "job = backend.run(transpile(qc, backend))\n",
    "array_to_latex(job.result().get_unitary(qc, decimals=3))"
   ]
  },
  {
   "cell_type": "markdown",
   "metadata": {
    "lang": "fr"
   },
   "source": [
    "### Rotation $u$ contrôlée\n",
    "\n",
    "Effectuez une rotation contrôlée-$u$ sur le qubit cible si le qubit de contrôle (ici LSB) est $\\ket{1}$.\n",
    "\n",
    "$$\n",
    "C_{u}(\\theta, \\phi, \\lambda) \\equiv \n",
    "\\begin{pmatrix}\n",
    "1 & 0 & 0 & 0\\\\\n",
    "0 & e^{-i(\\phi+\\lambda)/2}\\cos(\\theta/2) & 0 & -e^{-i(\\phi-\\lambda)/2}\\sin(\\theta/2)\\\\\n",
    "0 & 0 & 1 & 0\\\\\n",
    "0 & e^{i(\\phi-\\lambda)/2}\\sin(\\theta/2) & 0 & e^{i(\\phi+\\lambda)/2}\\cos(\\theta/2)\n",
    "\\end{pmatrix}.\n",
    "$$"
   ]
  },
  {
   "cell_type": "code",
   "execution_count": null,
   "metadata": {
    "ExecuteTime": {
     "end_time": "2021-07-31T05:13:19.155213Z",
     "start_time": "2021-07-31T05:13:19.148466Z"
    }
   },
   "outputs": [],
   "source": [
    "qc = QuantumCircuit(q)\n",
    "qc.cu(pi/2, pi/2, pi/2, 0, q[0], q[1])\n",
    "qc.draw('mpl')"
   ]
  },
  {
   "cell_type": "code",
   "execution_count": null,
   "metadata": {
    "ExecuteTime": {
     "end_time": "2021-07-31T05:13:24.393740Z",
     "start_time": "2021-07-31T05:13:24.378958Z"
    }
   },
   "outputs": [],
   "source": [
    "job = backend.run(transpile(qc, backend))\n",
    "array_to_latex(job.result().get_unitary(qc, decimals=3))"
   ]
  },
  {
   "cell_type": "markdown",
   "metadata": {
    "lang": "fr"
   },
   "source": [
    "### Portail SWAP\n",
    "\n",
    "La porte SWAP échange les deux qubits. Il transforme les vecteurs de base comme\n",
    "\n",
    "$$\\ket{00} \\rightarrow \\ket{00}~,~\\ket{01} \\rightarrow \\ket{10}~,~\\ket{10} \\rightarrow \\ket{01}~,~\\ket{11} \\rightarrow \\ket{11},$$\n",
    "\n",
    "qui donne une représentation matricielle de la forme\n",
    "\n",
    "$$\n",
    "\\mathrm{SWAP} = \n",
    "\\begin{pmatrix}\n",
    "1 & 0 & 0 & 0\\\\\n",
    "0 & 0 & 1 & 0\\\\\n",
    "0 & 1 & 0 & 0\\\\\n",
    "0 & 0 & 0 & 1\n",
    "\\end{pmatrix}.\n",
    "$$"
   ]
  },
  {
   "cell_type": "code",
   "execution_count": null,
   "metadata": {
    "ExecuteTime": {
     "end_time": "2021-07-31T05:13:26.189896Z",
     "start_time": "2021-07-31T05:13:26.184311Z"
    }
   },
   "outputs": [],
   "source": [
    "qc = QuantumCircuit(q)\n",
    "qc.swap(q[0], q[1])\n",
    "qc.draw('mpl')"
   ]
  },
  {
   "cell_type": "code",
   "execution_count": null,
   "metadata": {
    "ExecuteTime": {
     "end_time": "2021-07-31T05:13:28.555864Z",
     "start_time": "2021-07-31T05:13:28.545777Z"
    }
   },
   "outputs": [],
   "source": [
    "job = backend.run(transpile(qc, backend))\n",
    "array_to_latex(job.result().get_unitary(qc, decimals=3))"
   ]
  },
  {
   "cell_type": "markdown",
   "metadata": {
    "lang": "fr"
   },
   "source": [
    "## Portes à trois qubits <a name=\"three_gates\"/>\n",
    "\n",
    "\n",
    "Il existe deux portes à trois qubits couramment utilisées. Pour trois qubits, les vecteurs de base sont ordonnés comme\n",
    "\n",
    "$$\\left|000\\right\\rangle, \\left|001\\right\\rangle, \\left|010\\right\\rangle, \\left|011\\right\\rangle, \\left|100\\right\\rangle, \\left|101\\right\\rangle, \\left|110\\right\\rangle, \\left|111\\right\\rangle,$$\n",
    "\n",
    "qui, sous forme de chaînes de bits, représentent les entiers $0,1,2,\\cdots, 7$. Encore une fois, Qiskit utilise une représentation dans laquelle le premier qubit est du côté le plus à droite du produit tensoriel et le troisième qubit est du côté le plus à gauche :\n",
    "\n",
    "$$\\left|abc\\right\\rangle : \\underset{\\text{qubit 2}}{\\left|a\\right\\rangle}\\otimes \\underset{\\text{qubit 1}}{\\left|b\\right\\rangle}\\otimes \\underset{\\text{qubit 0}}{\\left|c\\right\\rangle}.$$"
   ]
  },
  {
   "cell_type": "markdown",
   "metadata": {
    "lang": "fr"
   },
   "source": [
    "### Porte Toffoli (porte $ccx$)\n",
    "\n",
    "La [porte de Toffoli](https://en.wikipedia.org/wiki/Quantum_logique_porte#Toffoli_(CCNOT)_porte) retourne le troisième qubit si les deux premiers qubits ( LSB) sont tous deux $\\ket{1}$ :\n",
    "\n",
    "$$\\left|abc\\right\\rangle \\rightarrow \\left|bc\\oplus a\\right\\rangle \\otimes \\left|b\\right\\rangle \\otimes \\left|c\\right\\rangle.$$\n",
    "\n",
    "Sous forme matricielle, la porte de Toffoli est\n",
    "$$\n",
    "C_{CX} = \n",
    "\\begin{pmatrix}\n",
    "1 & 0 & 0 & 0 & 0 & 0 & 0 & 0\\\\\n",
    "0 & 1 & 0 & 0 & 0 & 0 & 0 & 0\\\\\n",
    "0 & 0 & 1 & 0 & 0 & 0 & 0 & 0\\\\\n",
    "0 & 0 & 0 & 0 & 0 & 0 & 0 & 1\\\\\n",
    "0 & 0 & 0 & 0 & 1 & 0 & 0 & 0\\\\\n",
    "0 & 0 & 0 & 0 & 0 & 1 & 0 & 0\\\\\n",
    "0 & 0 & 0 & 0 & 0 & 0 & 1 & 0\\\\\n",
    "0 & 0 & 0 & 1 & 0 & 0 & 0 & 0\n",
    "\\end{pmatrix}.\n",
    "$$"
   ]
  },
  {
   "cell_type": "code",
   "execution_count": null,
   "metadata": {
    "ExecuteTime": {
     "end_time": "2021-07-31T05:13:31.317251Z",
     "start_time": "2021-07-31T05:13:31.314100Z"
    }
   },
   "outputs": [],
   "source": [
    "q = QuantumRegister(3)"
   ]
  },
  {
   "cell_type": "code",
   "execution_count": null,
   "metadata": {
    "ExecuteTime": {
     "end_time": "2021-07-31T05:13:31.638567Z",
     "start_time": "2021-07-31T05:13:31.633001Z"
    }
   },
   "outputs": [],
   "source": [
    "qc = QuantumCircuit(q)\n",
    "qc.ccx(q[0], q[1], q[2])\n",
    "qc.draw('mpl')"
   ]
  },
  {
   "cell_type": "code",
   "execution_count": null,
   "metadata": {
    "ExecuteTime": {
     "end_time": "2021-07-31T05:13:33.704467Z",
     "start_time": "2021-07-31T05:13:33.686210Z"
    }
   },
   "outputs": [],
   "source": [
    "job = backend.run(transpile(qc, backend))\n",
    "array_to_latex(job.result().get_unitary(qc, decimals=3))"
   ]
  },
  {
   "cell_type": "markdown",
   "metadata": {
    "lang": "fr"
   },
   "source": [
    "### Porte d'échange contrôlée (Fredkin Gate)\n",
    "\n",
    "La [porte Fredkin](https://en.wikipedia.org/wiki/Quantum_logique_porte#Fredkin_(CSWAP)_porte), ou la *porte d'échange contrôlée*, échange les deuxième et troisième qubits si le premier qubit (LSB) est $\\ket{1}$ :\n",
    "\n",
    "$$ \\left|abc\\right\\rangle \\rightarrow \\begin{cases} \\left|bac\\right\\rangle~~\\text{if}~c=1 \\cr \\left|abc\\right\\rangle~~\\text{if}~c=0 \\end{cases}.$$\n",
    "\n",
    "Sous forme matricielle, la porte de Fredkin est\n",
    "\n",
    "$$\n",
    "C_{\\mathrm{SWAP}} = \n",
    "\\begin{pmatrix}\n",
    "1 & 0 & 0 & 0 & 0 & 0 & 0 & 0\\\\\n",
    "0 & 1 & 0 & 0 & 0 & 0 & 0 & 0\\\\\n",
    "0 & 0 & 1 & 0 & 0 & 0 & 0 & 0\\\\\n",
    "0 & 0 & 0 & 0 & 0 & 1 & 0 & 0\\\\\n",
    "0 & 0 & 0 & 0 & 1 & 0 & 0 & 0\\\\\n",
    "0 & 0 & 0 & 1 & 0 & 0 & 0 & 0\\\\\n",
    "0 & 0 & 0 & 0 & 0 & 0 & 1 & 0\\\\\n",
    "0 & 0 & 0 & 0 & 0 & 0 & 0 & 1\n",
    "\\end{pmatrix}.\n",
    "$$"
   ]
  },
  {
   "cell_type": "code",
   "execution_count": null,
   "metadata": {
    "ExecuteTime": {
     "end_time": "2021-07-31T05:13:35.557144Z",
     "start_time": "2021-07-31T05:13:35.551515Z"
    }
   },
   "outputs": [],
   "source": [
    "qc = QuantumCircuit(q)\n",
    "qc.cswap(q[0], q[1], q[2])\n",
    "qc.draw('mpl')"
   ]
  },
  {
   "cell_type": "code",
   "execution_count": null,
   "metadata": {
    "ExecuteTime": {
     "end_time": "2021-07-31T05:13:38.233786Z",
     "start_time": "2021-07-31T05:13:38.215070Z"
    }
   },
   "outputs": [],
   "source": [
    "job = backend.run(transpile(qc, backend))\n",
    "array_to_latex(job.result().get_unitary(qc, decimals=3))"
   ]
  },
  {
   "cell_type": "markdown",
   "metadata": {
    "lang": "fr"
   },
   "source": [
    "## Opérations non unitaires <a name=\"non_unitary\"/>\n",
    "\n",
    "Maintenant que nous avons parcouru toutes les opérations unitaires dans les circuits quantiques, nous avons également accès aux opérations non unitaires. Celles-ci incluent les mesures, la réinitialisation des qubits et les opérations conditionnelles classiques."
   ]
  },
  {
   "cell_type": "code",
   "execution_count": null,
   "metadata": {
    "ExecuteTime": {
     "end_time": "2021-07-31T05:13:39.580221Z",
     "start_time": "2021-07-31T05:13:39.576248Z"
    }
   },
   "outputs": [],
   "source": [
    "q = QuantumRegister(1)\n",
    "c = ClassicalRegister(1)"
   ]
  },
  {
   "cell_type": "markdown",
   "metadata": {
    "lang": "fr"
   },
   "source": [
    "### Des mesures\n",
    "\n",
    "Nous n'avons pas accès à toutes les informations lorsque nous effectuons une mesure dans un calculateur quantique. L'état quantique est projeté sur la base standard. Ci-dessous, deux exemples montrant un circuit préparé dans un état de base et le calculateur quantique préparé dans un état de superposition."
   ]
  },
  {
   "cell_type": "code",
   "execution_count": null,
   "metadata": {
    "ExecuteTime": {
     "end_time": "2021-07-31T05:13:40.203535Z",
     "start_time": "2021-07-31T05:13:40.197117Z"
    }
   },
   "outputs": [],
   "source": [
    "qc = QuantumCircuit(q, c)\n",
    "qc.measure(q, c)\n",
    "qc.draw('mpl')"
   ]
  },
  {
   "cell_type": "code",
   "execution_count": null,
   "metadata": {
    "ExecuteTime": {
     "end_time": "2021-07-31T05:13:47.891765Z",
     "start_time": "2021-07-31T05:13:47.879060Z"
    }
   },
   "outputs": [],
   "source": [
    "backend = BasicAer.get_backend('qasm_simulator')\n",
    "job = backend.run(transpile(qc, backend))\n",
    "job.result().get_counts(qc)"
   ]
  },
  {
   "cell_type": "markdown",
   "metadata": {
    "lang": "fr"
   },
   "source": [
    "Le simulateur prédit que 100 % du temps, le registre classique renvoie 0."
   ]
  },
  {
   "cell_type": "code",
   "execution_count": null,
   "metadata": {
    "ExecuteTime": {
     "end_time": "2021-07-31T05:13:49.501725Z",
     "start_time": "2021-07-31T05:13:49.495404Z"
    }
   },
   "outputs": [],
   "source": [
    "qc = QuantumCircuit(q, c)\n",
    "qc.h(q)\n",
    "qc.measure(q, c)\n",
    "qc.draw('mpl')"
   ]
  },
  {
   "cell_type": "code",
   "execution_count": null,
   "metadata": {
    "ExecuteTime": {
     "end_time": "2021-07-31T05:13:51.913804Z",
     "start_time": "2021-07-31T05:13:51.902540Z"
    }
   },
   "outputs": [],
   "source": [
    "job = backend.run(transpile(qc, backend))\n",
    "job.result().get_counts(qc)"
   ]
  },
  {
   "cell_type": "markdown",
   "metadata": {
    "lang": "fr"
   },
   "source": [
    "Le simulateur prédit que 50 % du temps, le registre classique renvoie 0 ou 1."
   ]
  },
  {
   "cell_type": "markdown",
   "metadata": {
    "lang": "fr"
   },
   "source": [
    "### Réinitialiser\n",
    "Il est également possible de réinitialiser (`reset`) les qubits à l'état $\\ket{0}$ au milieu du calcul. Notez que `reset` n'est pas une opération porte, car elle est irréversible."
   ]
  },
  {
   "cell_type": "code",
   "execution_count": null,
   "metadata": {
    "ExecuteTime": {
     "end_time": "2021-07-31T05:13:55.048748Z",
     "start_time": "2021-07-31T05:13:55.043325Z"
    }
   },
   "outputs": [],
   "source": [
    "qc = QuantumCircuit(q, c)\n",
    "qc.reset(q[0])\n",
    "qc.measure(q, c)\n",
    "qc.draw('mpl')"
   ]
  },
  {
   "cell_type": "code",
   "execution_count": null,
   "metadata": {
    "ExecuteTime": {
     "end_time": "2021-07-31T05:13:57.317513Z",
     "start_time": "2021-07-31T05:13:57.305706Z"
    }
   },
   "outputs": [],
   "source": [
    "job = backend.run(transpile(qc, backend))\n",
    "job.result().get_counts(qc)"
   ]
  },
  {
   "cell_type": "code",
   "execution_count": null,
   "metadata": {
    "ExecuteTime": {
     "end_time": "2021-07-31T05:13:57.866910Z",
     "start_time": "2021-07-31T05:13:57.860240Z"
    }
   },
   "outputs": [],
   "source": [
    "qc = QuantumCircuit(q, c)\n",
    "qc.h(q)\n",
    "qc.reset(q[0])\n",
    "qc.measure(q, c)\n",
    "qc.draw('mpl')"
   ]
  },
  {
   "cell_type": "code",
   "execution_count": null,
   "metadata": {
    "ExecuteTime": {
     "end_time": "2021-07-31T05:14:01.210349Z",
     "start_time": "2021-07-31T05:14:01.065350Z"
    }
   },
   "outputs": [],
   "source": [
    "job = backend.run(transpile(qc, backend))\n",
    "job.result().get_counts(qc)"
   ]
  },
  {
   "cell_type": "markdown",
   "metadata": {
    "lang": "fr"
   },
   "source": [
    "Ici, nous voyons que pour ces deux circuits, le simulateur prédit toujours que la sortie est de 100 % à l'état 0."
   ]
  },
  {
   "cell_type": "markdown",
   "metadata": {
    "lang": "fr"
   },
   "source": [
    "### Opérations conditionnelles\n",
    "Il est également possible de faire des opérations conditionnées sur l'état du registre classique"
   ]
  },
  {
   "cell_type": "code",
   "execution_count": null,
   "metadata": {
    "ExecuteTime": {
     "end_time": "2021-07-31T05:14:03.421890Z",
     "start_time": "2021-07-31T05:14:03.416090Z"
    }
   },
   "outputs": [],
   "source": [
    "qc = QuantumCircuit(q, c)\n",
    "qc.x(q[0]).c_if(c, 0)\n",
    "qc.measure(q,c)\n",
    "qc.draw('mpl')"
   ]
  },
  {
   "cell_type": "markdown",
   "metadata": {
    "lang": "fr"
   },
   "source": [
    "Ici le bit classique prend toujours la valeur 0 donc l'état du qubit est toujours inversé."
   ]
  },
  {
   "cell_type": "code",
   "execution_count": null,
   "metadata": {
    "ExecuteTime": {
     "end_time": "2021-07-31T05:14:05.763405Z",
     "start_time": "2021-07-31T05:14:05.753665Z"
    }
   },
   "outputs": [],
   "source": [
    "job = backend.run(transpile(qc, backend))\n",
    "job.result().get_counts(qc)"
   ]
  },
  {
   "cell_type": "code",
   "execution_count": null,
   "metadata": {
    "ExecuteTime": {
     "end_time": "2021-07-31T05:14:07.187387Z",
     "start_time": "2021-07-31T05:14:07.180366Z"
    }
   },
   "outputs": [],
   "source": [
    "qc = QuantumCircuit(q, c)\n",
    "qc.h(q)\n",
    "qc.measure(q,c)\n",
    "qc.x(q[0]).c_if(c, 0)\n",
    "qc.measure(q,c)\n",
    "qc.draw('mpl')"
   ]
  },
  {
   "cell_type": "code",
   "execution_count": null,
   "metadata": {
    "ExecuteTime": {
     "end_time": "2021-07-31T05:14:09.366351Z",
     "start_time": "2021-07-31T05:14:09.199972Z"
    }
   },
   "outputs": [],
   "source": [
    "job = backend.run(transpile(qc, backend))\n",
    "job.result().get_counts(qc)"
   ]
  },
  {
   "cell_type": "markdown",
   "metadata": {
    "lang": "fr"
   },
   "source": [
    "Ici, le bit classique de la première mesure est aléatoire, mais l'opération conditionnelle aboutit à ce que le qubit soit placé de manière déterministe dans $\\ket{1}$."
   ]
  },
  {
   "cell_type": "markdown",
   "metadata": {
    "lang": "fr"
   },
   "source": [
    "## Initialisation arbitraire <a name=\"initialization\"/>\n",
    "Et si nous voulions initialiser un registre qubit à un état arbitraire ? Un état arbitraire pour les qubits $n$ peut être spécifié par un vecteur d'amplitudes $2^n$, où la somme des normes d'amplitude au carré est égale à 1. Par exemple, l'état suivant à trois qubits peut être préparé :\n",
    "\n",
    "$$\\left|\\psi\\right\\rangle = \\frac{i}{4}\\left|000\\right\\rangle + \\frac{1}{\\sqrt{8}}\\left|001\\right\\rangle + \\frac{1+i}{4}\\left|010\\right\\rangle + \\frac{1+2i}{\\sqrt{8}}\\left|101\\right\\rangle + \\frac{1}{4}\\left|110\\right\\rangle$$"
   ]
  },
  {
   "cell_type": "code",
   "execution_count": null,
   "metadata": {
    "ExecuteTime": {
     "end_time": "2021-07-31T05:14:12.127664Z",
     "start_time": "2021-07-31T05:14:12.118291Z"
    }
   },
   "outputs": [],
   "source": [
    "# Initializing a three-qubit quantum state\n",
    "import math\n",
    "desired_vector = [\n",
    "    1 / math.sqrt(16) * complex(0, 1),\n",
    "    1 / math.sqrt(8) * complex(1, 0),\n",
    "    1 / math.sqrt(16) * complex(1, 1),\n",
    "    0,\n",
    "    0,\n",
    "    1 / math.sqrt(8) * complex(1, 2),\n",
    "    1 / math.sqrt(16) * complex(1, 0),\n",
    "    0]\n",
    "\n",
    "\n",
    "q = QuantumRegister(3)\n",
    "\n",
    "qc = QuantumCircuit(q)\n",
    "\n",
    "qc.initialize(desired_vector, [q[0],q[1],q[2]])\n",
    "qc.draw('mpl')"
   ]
  },
  {
   "cell_type": "code",
   "execution_count": null,
   "metadata": {
    "ExecuteTime": {
     "end_time": "2021-07-31T05:14:16.873547Z",
     "start_time": "2021-07-31T05:14:16.800233Z"
    }
   },
   "outputs": [],
   "source": [
    "backend = BasicAer.get_backend('statevector_simulator')\n",
    "job = backend.run(transpile(qc, backend))\n",
    "qc_state = job.result().get_statevector(qc)\n",
    "array_to_latex(qc_state)"
   ]
  },
  {
   "cell_type": "markdown",
   "metadata": {},
   "source": [
    "La fidélité permet de savoir si deux états sont égaux ou non. Pour deux états quantiques pures, $\\ket{\\psi_1}$ et $\\ket{\\psi_2}$, la fidélité est\n",
    "$$\n",
    "F(\\ket{\\psi_1},\\ket{\\psi_1}) = |\\langle\\psi_1\\ket{\\psi_2}|^2.\n",
    "$$\n",
    "\n",
    "La fidélité est égale à 1 si et suelement si les eux états sont égaux."
   ]
  },
  {
   "cell_type": "code",
   "execution_count": null,
   "metadata": {
    "ExecuteTime": {
     "end_time": "2021-07-31T05:14:19.163449Z",
     "start_time": "2021-07-31T05:14:19.157945Z"
    }
   },
   "outputs": [],
   "source": [
    "round(state_fidelity(desired_vector,qc_state),3)"
   ]
  },
  {
   "cell_type": "code",
   "execution_count": null,
   "metadata": {
    "ExecuteTime": {
     "end_time": "2021-07-31T05:14:22.630626Z",
     "start_time": "2021-07-31T05:14:21.651868Z"
    }
   },
   "outputs": [],
   "source": [
    "import qiskit.tools.jupyter\n",
    "%qiskit_version_table"
   ]
  },
  {
   "cell_type": "code",
   "execution_count": null,
   "metadata": {},
   "outputs": [],
   "source": []
  }
 ],
 "metadata": {
  "anaconda-cloud": {},
  "kernelspec": {
   "display_name": "qiskit-env",
   "language": "python",
   "name": "qiskit-env"
  },
  "language_info": {
   "codemirror_mode": {
    "name": "ipython",
    "version": 3
   },
   "file_extension": ".py",
   "mimetype": "text/x-python",
   "name": "python",
   "nbconvert_exporter": "python",
   "pygments_lexer": "ipython3",
   "version": "3.11.0"
  },
  "nbTranslate": {
   "displayLangs": [
    "*"
   ],
   "hotkey": "alt-t",
   "langInMainMenu": true,
   "sourceLang": "en",
   "targetLang": "fr",
   "useGoogleTranslate": true
  },
  "varInspector": {
   "cols": {
    "lenName": 16,
    "lenType": 16,
    "lenVar": 40
   },
   "kernels_config": {
    "python": {
     "delete_cmd_postfix": "",
     "delete_cmd_prefix": "del ",
     "library": "var_list.py",
     "varRefreshCmd": "print(var_dic_list())"
    },
    "r": {
     "delete_cmd_postfix": ") ",
     "delete_cmd_prefix": "rm(",
     "library": "var_list.r",
     "varRefreshCmd": "cat(var_dic_list()) "
    }
   },
   "types_to_exclude": [
    "module",
    "function",
    "builtin_function_or_method",
    "instance",
    "_Feature"
   ],
   "window_display": false
  }
 },
 "nbformat": 4,
 "nbformat_minor": 4
}
