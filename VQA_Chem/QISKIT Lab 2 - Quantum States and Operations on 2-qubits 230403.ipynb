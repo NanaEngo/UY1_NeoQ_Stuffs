{
 "cells": [
  {
   "cell_type": "markdown",
   "metadata": {},
   "source": [
    "<!-- \\title{}\n",
    "\\author{}\n",
    "\\maketitle -->\n",
    "# QISKIT Lab 2 - Quantum States and Operations on 2-qubits"
   ]
  },
  {
   "attachments": {},
   "cell_type": "markdown",
   "metadata": {},
   "source": [
    "1. S. G. Nana Engo, serge.nana-engo@facsciences-uy1.cm\n",
    "    * Department of Physics, Faculty of Science, University of Yaounde I\n",
    "1. J-P. Tchapet Njafa, jean-pierre.tchapet-njafa@univ-maroua.cm\n",
    "    * Department of Physics, Faculty of Science, University of Maroua\n",
    "1. P. Djorwe, djorwepp@gmail.com\n",
    "    * Department of Physics, Faculty of Science, University of Ngaoundere\n",
    "       \n",
    "*Adaptation of the __Qiskit Global Summer School 2020.__*\n",
    "\n",
    "April 2023"
   ]
  },
  {
   "cell_type": "markdown",
   "metadata": {},
   "source": [
    "*Prérequis cours*\n",
    "- Chapitre 1 Systèmes Multi-qubits\n",
    "- Chapitre 2 Portes Quantiques\n",
    "\n",
    "*Autres documents pertinents (web)*\n",
    "- [Access IBM Quantum Systems](https://qiskit.org/documentation/install.html#access-ibm-quantum-systems)\n",
    "- [IBM Quantum Systems Configuration](https://quantum-computing.ibm.com/docs/manage/backends/configuration)\n",
    "- [Transpile](https://qiskit.org/documentation/apidoc/transpiler.html)\n",
    "- [IBM Quantum account](https://quantum-computing.ibm.com/docs/manage/account/ibmq)\n",
    "- [Quantum Circuits](https://qiskit.org/documentation/apidoc/circuit.html)"
   ]
  },
  {
   "cell_type": "markdown",
   "metadata": {
    "lang": "fr"
   },
   "source": [
    "# États de Bell\n",
    "\n",
    "Nous pouvons également explorer les portes multi-qubit dans `Qiskit`. Nous allons voir comment créer, à partir de l'état $\\ket{000}$, l'état de Bell \n",
    "\\begin{equation}\n",
    "|B_{00}\\rangle=\\frac{1}{\\sqrt{2}}(|00\\rangle + |11\\rangle).\n",
    "\\end{equation}\n"
   ]
  },
  {
   "cell_type": "markdown",
   "metadata": {
    "lang": "fr"
   },
   "source": [
    "# Importer les modules nécessaires"
   ]
  },
  {
   "cell_type": "code",
   "execution_count": null,
   "metadata": {
    "ExecuteTime": {
     "end_time": "2022-04-03T20:17:22.201012Z",
     "start_time": "2022-04-03T20:17:21.679211Z"
    }
   },
   "outputs": [],
   "source": [
    "from qiskit import QuantumCircuit \n",
    "from qiskit.quantum_info import Statevector\n",
    "from qiskit.quantum_info.operators import Operator, Pauli\n",
    "from qiskit.extensions import XGate, CXGate, HGate\n",
    "from qiskit.visualization import array_to_latex, plot_bloch_multivector, plot_histogram, visualize_transition \n",
    "\n",
    "import numpy as np"
   ]
  },
  {
   "cell_type": "markdown",
   "metadata": {},
   "source": [
    "Qiskit est trop généreusement avec la précision numérique, que nous supprimons pour une meilleure lisibilité de la sortie:"
   ]
  },
  {
   "cell_type": "code",
   "execution_count": null,
   "metadata": {
    "ExecuteTime": {
     "end_time": "2022-04-03T20:17:22.206469Z",
     "start_time": "2022-04-03T20:17:22.203169Z"
    }
   },
   "outputs": [],
   "source": [
    "np.set_printoptions(precision=4, suppress=True)"
   ]
  },
  {
   "cell_type": "markdown",
   "metadata": {
    "lang": "fr"
   },
   "source": [
    "## Initialiser et visualiser un état un état |00>\n",
    "\n",
    "Nous allons commencer par visualiser l'état $|00\\rangle$."
   ]
  },
  {
   "cell_type": "code",
   "execution_count": null,
   "metadata": {
    "ExecuteTime": {
     "end_time": "2022-04-03T20:17:22.723503Z",
     "start_time": "2022-04-03T20:17:22.208292Z"
    }
   },
   "outputs": [],
   "source": [
    "sv00 = Statevector.from_label('00')\n",
    "sv00.draw('latex')"
   ]
  },
  {
   "cell_type": "code",
   "execution_count": null,
   "metadata": {
    "ExecuteTime": {
     "end_time": "2022-04-03T20:17:25.037082Z",
     "start_time": "2022-04-03T20:17:22.728963Z"
    }
   },
   "outputs": [],
   "source": [
    "sv00.draw('qsphere')"
   ]
  },
  {
   "cell_type": "markdown",
   "metadata": {},
   "source": [
    "La couleur représentant le vecteur $|00\\rangle $ que sa phase est $e^{i0}=1$."
   ]
  },
  {
   "cell_type": "code",
   "execution_count": null,
   "metadata": {
    "ExecuteTime": {
     "end_time": "2022-04-03T20:17:25.276918Z",
     "start_time": "2022-04-03T20:17:25.039800Z"
    }
   },
   "outputs": [],
   "source": [
    "plot_bloch_multivector(sv00, title='2-qubit |00>')"
   ]
  },
  {
   "cell_type": "markdown",
   "metadata": {
    "lang": "fr"
   },
   "source": [
    "## Construire un circuit d'état de Bell\n",
    "\n",
    "On utilise une porte Hadamard $\\mathtt{H}$ et une porte $\\mathtt{CX}$,\n",
    "\\begin{align}\n",
    "&\\mathtt{CX}|yx\\rangle =\\mathtt{X}^x|y\\rangle\\otimes|x\\rangle,\n",
    "&&\\mathtt{CX}|y0\\rangle =\\mathtt{X}^0|y\\rangle\\otimes|x\\rangle=|y0\\rangle,\n",
    "&\\mathtt{CX}|y1\\rangle =\\mathtt{X}^1|y\\rangle\\otimes|x\\rangle=|(1-y)1\\rangle.\n",
    "\\end{align}\n",
    "pour créer l'état de Bell\n",
    "\\begin{equation}\n",
    "|B_{00}\\rangle =\\mathtt{CX}(\\mathbb{I}\\otimes\\mathtt{H})|00\\rangle \n",
    "=\\frac{1}{\\sqrt{2}}(|00\\rangle+|11\\rangle.\n",
    "\\end{equation}\n",
    "\n",
    "* Deux opérateurs $\\mathtt{A}$ et $\\mathtt{B}$ peuvent être combinés en un opérateur de produit tensoriel $\\mathtt{A}\\otimes \\mathtt{B}$ en utilisant les fonctions `Operator.tensor` et `Operator.expand`.\n",
    "\n",
    "<div class=\"alert alert-info\">\n",
    "Comme dans Qiskit, le qubit (opérateur) le moins significatif est à l'extrême droite et le plus à l'extrême gauche, c'est-à-dire:\n",
    "\\begin{align*}\n",
    "& |j_{n-1}...j_1j_0\\rangle&&\\text{ pour un système de $n$-qubits}\\\\\n",
    "&Q_{n-1}\\otimes\\cdots\\otimes Q_1\\otimes Q_0&&\\text{ pour un produit tensoriel} \n",
    "\\end{align*}\n",
    "il faut faire attention aux représentations mathématiques des opérateurs ne sont pas exactement les mêmes que celles des notes de cours.\n",
    "</div>\n",
    "\n",
    "Par conséquent, si $\\mathtt{A}$ et $\\mathtt{B}$ sont des opérateurs à un seul qubit, alors\n",
    "\n",
    "1. $\\mathtt{A}$.tensor ($\\mathtt{B}$) = $\\mathtt{A}\\otimes \\mathtt{B}$ aura les sous-systèmes indexés comme matrice $\\mathtt{B}$ sur le sous-système 0 et matrice $\\mathtt{A}$ sur le sous-système 1;\n",
    "\n",
    "2. $\\mathtt{A}$.expand ($\\mathtt{B}$) = $\\mathtt{B}\\otimes \\mathtt{A}$ aura les sous-systèmes indexés en tant que matrice $\\mathtt{A}$ sur le sous-système 0 et matrice $\\mathtt{B}$ sur le sous-système 1."
   ]
  },
  {
   "cell_type": "markdown",
   "metadata": {},
   "source": [
    "### Methode 1 - Statevector"
   ]
  },
  {
   "cell_type": "markdown",
   "metadata": {},
   "source": [
    "#### Construction de l'opérateur d'évolution"
   ]
  },
  {
   "cell_type": "code",
   "execution_count": null,
   "metadata": {
    "ExecuteTime": {
     "end_time": "2022-04-03T20:17:25.290218Z",
     "start_time": "2022-04-03T20:17:25.278506Z"
    }
   },
   "outputs": [],
   "source": [
    " H = (Operator(Pauli('X')) + Operator(Pauli('Z')))/np.sqrt(2)\n",
    "\n",
    "array_to_latex(H.tensor(Pauli('I')), prefix='\\mathtt{H}\\otimes\\mathbb{I}=')"
   ]
  },
  {
   "cell_type": "code",
   "execution_count": null,
   "metadata": {
    "ExecuteTime": {
     "end_time": "2022-04-03T20:17:25.380043Z",
     "start_time": "2022-04-03T20:17:25.292069Z"
    }
   },
   "outputs": [],
   "source": [
    "array_to_latex(H.expand(Pauli('I')), prefix='\\mathbb{I}\\otimes\\mathtt{H}=')"
   ]
  },
  {
   "cell_type": "code",
   "execution_count": null,
   "metadata": {
    "ExecuteTime": {
     "end_time": "2022-04-03T20:17:25.447635Z",
     "start_time": "2022-04-03T20:17:25.385167Z"
    }
   },
   "outputs": [],
   "source": [
    "array_to_latex(Operator(CXGate()), prefix='\\mathtt{CX}=')"
   ]
  },
  {
   "cell_type": "markdown",
   "metadata": {
    "lang": "fr"
   },
   "source": [
    "<div class=\"alert alert-info\">\n",
    "Cette matrice est cohérente avec le fait que dans Qiskit, $|01\\rangle\\equiv\\underset{\\text{qubit 1}}{|0\\rangle}\\ \\underset{\\text{qubit 0}}{|1\\rangle}$, qui est à l'opposé de ce que nous utilisons dans les notes de cours, $|01\\rangle\\equiv\\underset{\\text{qubit 0}}{|0\\rangle}\\ \\underset{\\text{qubit 1}}{|1\\rangle}$.\n",
    "</div>"
   ]
  },
  {
   "cell_type": "code",
   "execution_count": null,
   "metadata": {
    "ExecuteTime": {
     "end_time": "2022-04-03T20:17:25.532288Z",
     "start_time": "2022-04-03T20:17:25.449752Z"
    }
   },
   "outputs": [],
   "source": [
    "BellOp = H.expand(Pauli('I'))&Operator(CXGate()) # Note that B & A = A * B\n",
    "array_to_latex(BellOp, prefix='\\mathtt{CX}(\\mathbb{I}\\otimes\\mathtt{H}) = ')"
   ]
  },
  {
   "cell_type": "markdown",
   "metadata": {},
   "source": [
    "#### Evolution de |00>"
   ]
  },
  {
   "cell_type": "code",
   "execution_count": null,
   "metadata": {
    "ExecuteTime": {
     "end_time": "2022-04-03T20:17:25.956720Z",
     "start_time": "2022-04-03T20:17:25.545368Z"
    }
   },
   "outputs": [],
   "source": [
    "Bell00 = sv00.evolve(BellOp)\n",
    "Bell00.draw('latex', prefix='|\\\\text{B}_{00}\\\\rangle=')"
   ]
  },
  {
   "cell_type": "code",
   "execution_count": null,
   "metadata": {
    "ExecuteTime": {
     "end_time": "2022-04-03T20:17:26.228193Z",
     "start_time": "2022-04-03T20:17:25.958869Z"
    }
   },
   "outputs": [],
   "source": [
    "Bell00.draw('city')"
   ]
  },
  {
   "cell_type": "code",
   "execution_count": null,
   "metadata": {
    "ExecuteTime": {
     "end_time": "2022-04-03T20:17:26.728492Z",
     "start_time": "2022-04-03T20:17:26.229592Z"
    }
   },
   "outputs": [],
   "source": [
    "Bell00.draw('qsphere')"
   ]
  },
  {
   "attachments": {},
   "cell_type": "markdown",
   "metadata": {
    "lang": "fr"
   },
   "source": [
    "Notez comment cela ressemble beaucoup à une superposition d'un seul qubit avec une phase nulle. Suite à cet __intrication__, il n'est plus possible de traiter les deux qubits individuellement, et ils doivent être considérés comme un seul système."
   ]
  },
  {
   "cell_type": "markdown",
   "metadata": {},
   "source": [
    "#### Probabilités"
   ]
  },
  {
   "cell_type": "code",
   "execution_count": null,
   "metadata": {
    "ExecuteTime": {
     "end_time": "2022-04-03T20:17:26.733985Z",
     "start_time": "2022-04-03T20:17:26.729952Z"
    }
   },
   "outputs": [],
   "source": [
    "Bell00.probabilities_dict()"
   ]
  },
  {
   "cell_type": "code",
   "execution_count": null,
   "metadata": {
    "ExecuteTime": {
     "end_time": "2022-04-03T20:17:26.811013Z",
     "start_time": "2022-04-03T20:17:26.736402Z"
    }
   },
   "outputs": [],
   "source": [
    "array_to_latex(Bell00.probabilities())"
   ]
  },
  {
   "cell_type": "code",
   "execution_count": null,
   "metadata": {
    "ExecuteTime": {
     "end_time": "2022-04-03T20:17:26.997222Z",
     "start_time": "2022-04-03T20:17:26.813899Z"
    }
   },
   "outputs": [],
   "source": [
    "Bell00_counts = Bell00.sample_counts(shots=1000)\n",
    "\n",
    "plot_histogram(Bell00_counts)"
   ]
  },
  {
   "cell_type": "markdown",
   "metadata": {
    "lang": "fr"
   },
   "source": [
    "Comme nous pouvons le voir ci-dessus, toutes les mesures donnent le résultat `00` ou `11`. En d'autres termes, si le résultat de la mesure pour l'un des qubits est connu, le résultat pour l'autre est entièrement déterminé."
   ]
  },
  {
   "cell_type": "markdown",
   "metadata": {},
   "source": [
    "- Probabilités pour mesurer uniquement le qubit-0"
   ]
  },
  {
   "cell_type": "code",
   "execution_count": null,
   "metadata": {
    "ExecuteTime": {
     "end_time": "2022-04-03T20:17:27.004017Z",
     "start_time": "2022-04-03T20:17:26.999391Z"
    }
   },
   "outputs": [],
   "source": [
    "array_to_latex(Bell00.probabilities([0]))"
   ]
  },
  {
   "cell_type": "markdown",
   "metadata": {},
   "source": [
    "- Probabilités pour mesurer uniquement le qubit-1"
   ]
  },
  {
   "cell_type": "code",
   "execution_count": null,
   "metadata": {
    "ExecuteTime": {
     "end_time": "2022-04-03T20:17:27.088559Z",
     "start_time": "2022-04-03T20:17:27.005481Z"
    }
   },
   "outputs": [],
   "source": [
    "array_to_latex(Bell00.probabilities([1]))"
   ]
  },
  {
   "cell_type": "markdown",
   "metadata": {},
   "source": [
    "### Exercices\n",
    "\n",
    "En utilisant une procédure similaire créer respectivement les états\n",
    "\\begin{align*}\n",
    "&\\frac{1}{\\sqrt{2}}(|01\\rangle + |10\\rangle), &\\frac{1}{\\sqrt{2}}(|01\\rangle - |10\\rangle).\n",
    "\\end{align*}"
   ]
  },
  {
   "cell_type": "markdown",
   "metadata": {},
   "source": [
    "#### Methode 2  -  QuantumCircuit\n"
   ]
  },
  {
   "cell_type": "code",
   "execution_count": null,
   "metadata": {
    "ExecuteTime": {
     "end_time": "2022-04-03T20:17:27.292061Z",
     "start_time": "2022-04-03T20:17:27.089907Z"
    }
   },
   "outputs": [],
   "source": [
    "circuitQ = QuantumCircuit(2)\n",
    "\n",
    "# Add a H gate on qubit 0, putting this qubit in superposition.\n",
    "circuitQ.h(0)\n",
    "\n",
    "# Add a CX (CNOT) gate on control qubit 0 and target qubit 1, putting\n",
    "# the qubits in a Bell state.\n",
    "circuitQ.cx(0, 1)\n",
    "\n",
    "# Draw the circuit with 'mpl'\n",
    "circuitQ.draw('mpl',initial_state=True) "
   ]
  },
  {
   "cell_type": "code",
   "execution_count": null,
   "metadata": {
    "ExecuteTime": {
     "end_time": "2022-04-03T20:17:27.304452Z",
     "start_time": "2022-04-03T20:17:27.296215Z"
    }
   },
   "outputs": [],
   "source": [
    "array_to_latex(Operator(circuitQ),prefix='\\mathtt{CX}(\\mathtt{H}\\otimes\\mathbb{I})=')"
   ]
  },
  {
   "cell_type": "markdown",
   "metadata": {
    "lang": "fr"
   },
   "source": [
    "* Le résultat de ce circuit quantique sur l'état $\\ket{000}$ est trouvé en écrivant"
   ]
  },
  {
   "cell_type": "code",
   "execution_count": null,
   "metadata": {
    "ExecuteTime": {
     "end_time": "2022-04-03T20:17:27.399642Z",
     "start_time": "2022-04-03T20:17:27.306668Z"
    }
   },
   "outputs": [],
   "source": [
    "Bell00 = sv00.evolve(circuitQ)\n",
    "Bell00.draw('latex', prefix='|B_{00}\\\\rangle=')"
   ]
  },
  {
   "cell_type": "code",
   "execution_count": null,
   "metadata": {
    "ExecuteTime": {
     "end_time": "2022-04-03T20:17:27.588951Z",
     "start_time": "2022-04-03T20:17:27.403960Z"
    }
   },
   "outputs": [],
   "source": [
    "Bell00_counts = Bell00.sample_counts(shots=1000)\n",
    "\n",
    "plot_histogram(Bell00_counts)"
   ]
  },
  {
   "cell_type": "markdown",
   "metadata": {
    "lang": "fr"
   },
   "source": [
    "* __Exercice__: Écrivez script Qiskit pour exprimer les quatre états de Bell:\n",
    "\\begin{equation}\n",
    "|B_{yx}\\rangle=\\frac{1}{\\sqrt{2}}(|y0\\rangle + (-1)^x|(1-y)1\\rangle).\n",
    "\\end{equation}\n",
    "\n"
   ]
  },
  {
   "cell_type": "code",
   "execution_count": null,
   "metadata": {
    "ExecuteTime": {
     "end_time": "2022-04-03T20:17:27.601327Z",
     "start_time": "2022-04-03T20:17:27.590704Z"
    }
   },
   "outputs": [],
   "source": [
    "def state(X):\n",
    "    sv = Statevector.from_label(X) # X est une chaine de  2 caractères (bits)\n",
    "    mycircuit = QuantumCircuit(2)\n",
    "    mycircuit.h(0)\n",
    "    mycircuit.cx(0,1)\n",
    "    \n",
    "    new_sv = sv.evolve(mycircuit)\n",
    "    return new_sv\n",
    "\n",
    "for x in ['00', '01','10','11']:\n",
    "    new_sv = state(x)\n",
    "   \n",
    "    print(f'B{x} = {new_sv.data}\\n')"
   ]
  },
  {
   "cell_type": "markdown",
   "metadata": {
    "lang": "fr"
   },
   "source": [
    "<div class=\"alert alert-info\">\n",
    "Ces résultats sont cohérents avec le fait que dans Qiskit, $|01\\rangle\\equiv\\underset{\\text{qubit 1}}{|0\\rangle}\\ \\underset{\\text{qubit 0}}{|1\\rangle}$, qui est à l'opposé de ce que nous utilisons dans les notes de cours, $|01\\rangle\\equiv\\underset{\\text{qubit 0}}{|0\\rangle}\\ \\underset{\\text{qubit 1}}{|1\\rangle}$.\n",
    "</div>"
   ]
  },
  {
   "cell_type": "markdown",
   "metadata": {},
   "source": [
    "## Quick Exercises\n",
    "\n",
    "1.\tWrite down the tensor product of the qubits:    \n",
    "    a)\t$|0\\rangle|1\\rangle$    \n",
    "    b)\t$|0\\rangle|+\\rangle$    \n",
    "    c)\t$|+\\rangle|1\\rangle$    \n",
    "    d)\t$|-\\rangle|+\\rangle$    \n",
    "\n",
    "2.\tWrite the state $|\\psi\\rangle = \\tfrac{1}{\\sqrt{2}}|00\\rangle + \\tfrac{i}{\\sqrt{2}}|01\\rangle $ as two separate qubits.\n"
   ]
  },
  {
   "cell_type": "markdown",
   "metadata": {
    "lang": "fr"
   },
   "source": [
    "# Mesures\n",
    "\n",
    "Jusqu'à présent, nous avons simulé l'action d'une mesure en comptant les échantillons à partir du `statevector`. Une mesure peut également être explicitement insérée dans un circuit quantique (`QuantumCircuit`). Voici un exemple qui crée le même état de Bell et applique une mesure.\n"
   ]
  },
  {
   "cell_type": "markdown",
   "metadata": {},
   "source": [
    "## Construction et visualisation du circuit"
   ]
  },
  {
   "cell_type": "code",
   "execution_count": null,
   "metadata": {
    "ExecuteTime": {
     "end_time": "2022-04-03T20:17:27.808720Z",
     "start_time": "2022-04-03T20:17:27.603798Z"
    }
   },
   "outputs": [],
   "source": [
    "# Create a Quantum Circuit acting on the q register\n",
    "circuit = QuantumCircuit(2, 2)\n",
    "\n",
    "# Add a H gate on qubit 0\n",
    "circuit.h(0)\n",
    "circuit.barrier()\n",
    "\n",
    "# Add a CX (CNOT) gate on control qubit 0 and target qubit 1\n",
    "circuit.cx(0, 1)\n",
    "circuit.barrier()\n",
    "\n",
    "# Map the quantum measurement to the classical bits\n",
    "circuit.measure([0,1], [0,1])\n",
    "circuit.draw('mpl',initial_state=True)\n"
   ]
  },
  {
   "cell_type": "markdown",
   "metadata": {},
   "source": [
    "Les portes sont ajoutées une par une pour former l'état de Bell souhaité.\n",
    "\n",
    "- `QuantumCircuit.h (qubit _index)`: appliquer la porte de Hadamar $\\mathtt{H}$ sur le qubit indexé par `qubit_ index` (ici l'indice est $0$ pour le premier qubit) et le mettre en superposition;\n",
    "- `QuantumCircuit.cx (int _control, int_ target)`: applique la porte $\\mathtt{CNOT}$. `int _control` est l'indice du qubit de contrôle (ici c'est le premier qubit indexé par $0$) tandis que` int_ target` est l'indice du qubit cible (ici le deuxième qubit indexé par $1$). Ici, cette porte met nos qubits dans un état *intriqué*;\n",
    "- `QuantumCircuit.measure ([Measur _1st_ qb, Measur _2nd_ qb, ...], [cb _Store_ 1st _qb_ résultat , cb _Store_ 2nd _qb_ result, ...]) `: permet de mesurer un qubit et de stocker le résultat dans un bit classique dédié.\n",
    "\n",
    "Ici, si vous passez la totalité des registres quantique et classique à `measure`, le résultat de la mesure du *i* ème qubit sera stocké dans le *i* ème bit classique."
   ]
  },
  {
   "cell_type": "markdown",
   "metadata": {},
   "source": [
    "## Simuler l'expérience\n",
    "\n",
    "Qiskit Aer est un cadre de simulation haute performance pour les circuits quantiques. Il fournit plusieurs _backends_ pour atteindre différents objectifs de simulation.\n",
    "\n",
    "Pour simuler notre circuit en mode expérience, nous allons utilisez le simulateur `QasmSimulator`. Chaque exécution de ce circuit donnera la chaîne de bits 00 ou 11."
   ]
  },
  {
   "cell_type": "code",
   "execution_count": null,
   "metadata": {
    "ExecuteTime": {
     "end_time": "2022-04-03T20:17:28.125795Z",
     "start_time": "2022-04-03T20:17:27.810308Z"
    }
   },
   "outputs": [],
   "source": [
    "from qiskit_aer import AerSimulator\n",
    "from qiskit import transpile\n",
    "\n",
    "# Select the QasmSimulator from the Aer provider\n",
    "q_sim = AerSimulator()\n",
    "\n",
    "#Compile the circuit (by adding the transpiler) to reduce the circuit to QASM instructions\n",
    "# supported by the backend\n",
    "compiled_circuit = transpile(circuit, q_sim)\n",
    "\n",
    "# Run the simulator on 1000 shots\n",
    "job = q_sim.run(compiled_circuit, shots=1000)\n",
    "\n",
    "# Collect results and count\n",
    "result = job.result()\n",
    "B00counts = result.get_counts(compiled_circuit)\n",
    "\n",
    "# Print \n",
    "print(\"\\nTotal count for 00 and 11 are:\",B00counts)"
   ]
  },
  {
   "cell_type": "markdown",
   "metadata": {},
   "source": [
    "Comme prévu, la chaîne de bits de sortie est '00' environ $50\\%$ du temps. Le nombre d'exécutions du circuit peut être spécifié via l'argument `shots` dont la valeur par défaut est 1024.\n",
    "\n",
    "Une fois que vous avez un objet `result`, vous pouvez accéder aux décomptes via `get_counts(circuit)`. Cela vous donne les résultats globaux de l'expérience que vous avez menée."
   ]
  },
  {
   "cell_type": "markdown",
   "metadata": {
    "lang": "fr"
   },
   "source": [
    "<div class=\"alert alert-info\">\n",
    "Il est important de savoir que lors de l'exécution d'un circuit sur un véritable ordinateur quantique, les cicruits doivent généralement être transpilés pour le backend que vous sélectionnez afin que le circuit ne contienne que les portes que le claculateur quantique peut réellement exécuter. Cela implique principalement l'ajout de portes d'échange afin que les portes 2-qubits du circuit correspondent aux paires de qubits sur l'appareil qui peuvent réellement exécuter ces portes.\n",
    " </div>"
   ]
  },
  {
   "cell_type": "markdown",
   "metadata": {},
   "source": [
    "## Visualisez les résultats\n"
   ]
  },
  {
   "cell_type": "code",
   "execution_count": null,
   "metadata": {
    "ExecuteTime": {
     "end_time": "2022-04-03T20:17:28.239884Z",
     "start_time": "2022-04-03T20:17:28.128468Z"
    }
   },
   "outputs": [],
   "source": [
    "plot_histogram(B00counts)"
   ]
  },
  {
   "cell_type": "markdown",
   "metadata": {
    "lang": "fr"
   },
   "source": [
    "Nous voyons qu'environ $50\\%$ de l'époque, la chaîne de bits de sortie est $00$."
   ]
  },
  {
   "cell_type": "markdown",
   "metadata": {
    "lang": "fr"
   },
   "source": [
    "# Autres exemples"
   ]
  },
  {
   "cell_type": "markdown",
   "metadata": {
    "lang": "fr"
   },
   "source": [
    "## Exemple 1\n",
    "\n",
    "Considérons un état de produit de 2 qubits $|\\psi\\rangle=|+\\rangle\\otimes|0\\rangle$."
   ]
  },
  {
   "cell_type": "code",
   "execution_count": null,
   "metadata": {
    "ExecuteTime": {
     "end_time": "2022-04-03T20:17:28.246425Z",
     "start_time": "2022-04-03T20:17:28.242495Z"
    }
   },
   "outputs": [],
   "source": [
    "psi = Statevector.from_label('+0')"
   ]
  },
  {
   "cell_type": "markdown",
   "metadata": {
    "lang": "fr"
   },
   "source": [
    "1. Probabilités de mesurer les deux qubits"
   ]
  },
  {
   "cell_type": "code",
   "execution_count": null,
   "metadata": {
    "ExecuteTime": {
     "end_time": "2022-04-03T20:17:28.341567Z",
     "start_time": "2022-04-03T20:17:28.248814Z"
    }
   },
   "outputs": [],
   "source": [
    "psi.probabilities()"
   ]
  },
  {
   "cell_type": "markdown",
   "metadata": {
    "lang": "fr"
   },
   "source": [
    "2. Probabilités de mesurer uniquement le qubit-0"
   ]
  },
  {
   "cell_type": "code",
   "execution_count": null,
   "metadata": {
    "ExecuteTime": {
     "end_time": "2022-04-03T20:17:28.423298Z",
     "start_time": "2022-04-03T20:17:28.344463Z"
    }
   },
   "outputs": [],
   "source": [
    "psi.probabilities([0])"
   ]
  },
  {
   "cell_type": "markdown",
   "metadata": {
    "lang": "fr"
   },
   "source": [
    "3. Probabilités de mesurer uniquement le qubit-1"
   ]
  },
  {
   "cell_type": "code",
   "execution_count": null,
   "metadata": {
    "ExecuteTime": {
     "end_time": "2022-04-03T20:17:28.831906Z",
     "start_time": "2022-04-03T20:17:28.426268Z"
    }
   },
   "outputs": [],
   "source": [
    "psi.probabilities([1])"
   ]
  },
  {
   "cell_type": "markdown",
   "metadata": {
    "lang": "fr"
   },
   "source": [
    "## Exemple 2\n",
    "\n",
    "Nous pouvons utiliser la propriété `statevector.todic ()` pour convertir un statevector en dictionnaire. Pour $|\\psi\\rangle=|-\\rangle\\otimes|0\\rangle$,"
   ]
  },
  {
   "cell_type": "code",
   "execution_count": null,
   "metadata": {
    "ExecuteTime": {
     "end_time": "2022-04-03T20:17:28.910800Z",
     "start_time": "2022-04-03T20:17:28.837277Z"
    }
   },
   "outputs": [],
   "source": [
    "psi = Statevector.from_label('-0')\n",
    "psi.to_dict()"
   ]
  },
  {
   "cell_type": "markdown",
   "metadata": {
    "lang": "fr"
   },
   "source": [
    "# Exercices"
   ]
  },
  {
   "cell_type": "markdown",
   "metadata": {
    "lang": "fr"
   },
   "source": [
    "## État GHZ\n",
    "\n",
    "Créer l'état $\\mathtt{GHZ}$\n",
    "\\begin{equation}\n",
    "|\\rm{GHZ}\\rangle=\\mathtt{CX}_{20}\\mathtt{CX}_{10}(\\mathbb{I}\\otimes\\mathbb{I}\\otimes\\mathtt{H})|000\\rangle \n",
    "=\\frac{1}{\\sqrt{2}}\\left(|000\\rangle + |111\\rangle\\right),\n",
    "\\end{equation}\n",
    "et évaluer la probabilité de trouver la chaîne de bits $111$."
   ]
  },
  {
   "cell_type": "markdown",
   "metadata": {
    "lang": "fr"
   },
   "source": [
    "## Portes Multi Hadamard\n",
    "\n",
    "Utilisez les portes Hadamard pour construire un circuit qui produit en sortie (cf. vos notes de cours), avec l'état initial $\\ket{000}$,\n",
    "\\begin{equation}\n",
    "\\frac{1}{\\sqrt{8}}(|000\\rangle + |001\\rangle + \\cdots + |111\\rangle).\n",
    "\\end{equation}"
   ]
  },
  {
   "cell_type": "markdown",
   "metadata": {
    "lang": "fr"
   },
   "source": [
    "## Retropropagation de la phase\n",
    "\n",
    "1. Créez l'état $|+-\\rangle$ avec un `Statevector` et visualisez avec `plot_bloch_multivector ()`.\n",
    "2. Donnez le résultat de l'action de la porte CX sur celle-ci et visualisez avec `plot_bloch_multivector ()`.\n",
    "3. Vérifiez que $\\mathtt{CX}_{[01]}\\equiv\\mathtt{(H\\otimes H)}\\mathtt{CX}_{[10]}\\mathtt{(H\\otimes H)}$."
   ]
  },
  {
   "cell_type": "code",
   "execution_count": null,
   "metadata": {
    "ExecuteTime": {
     "end_time": "2022-04-03T20:17:29.382713Z",
     "start_time": "2022-04-03T20:17:28.914821Z"
    }
   },
   "outputs": [],
   "source": [
    "import qiskit.tools.jupyter #only in jupyter notebook\n",
    "%qiskit_version_table"
   ]
  }
 ],
 "metadata": {
  "author": "",
  "kernelspec": {
   "display_name": "qiskit-env",
   "language": "python",
   "name": "qiskit-env"
  },
  "language_info": {
   "codemirror_mode": {
    "name": "ipython",
    "version": 3
   },
   "file_extension": ".py",
   "mimetype": "text/x-python",
   "name": "python",
   "nbconvert_exporter": "python",
   "pygments_lexer": "ipython3",
   "version": "3.10.9"
  },
  "latex_envs": {
   "LaTeX_envs_menu_present": true,
   "autoclose": true,
   "autocomplete": true,
   "bibliofile": "vqe.bib",
   "cite_by": "apalike",
   "current_citInitial": 1,
   "eqLabelWithNumbers": true,
   "eqNumInitial": 1,
   "hotkeys": {
    "equation": "Ctrl-E",
    "itemize": "Ctrl-I"
   },
   "labels_anchors": false,
   "latex_user_defs": false,
   "report_style_numbering": true,
   "user_envs_cfg": true
  },
  "nbTranslate": {
   "displayLangs": [
    "*"
   ],
   "hotkey": "alt-t",
   "langInMainMenu": true,
   "sourceLang": "en",
   "targetLang": "fr",
   "useGoogleTranslate": true
  },
  "toc": {
   "base_numbering": 1,
   "nav_menu": {},
   "number_sections": true,
   "sideBar": true,
   "skip_h1_title": false,
   "title_cell": "Table of Contents",
   "title_sidebar": "Contents",
   "toc_cell": false,
   "toc_position": {
    "height": "calc(100% - 180px)",
    "left": "10px",
    "top": "150px",
    "width": "175.857px"
   },
   "toc_section_display": true,
   "toc_window_display": true
  },
  "varInspector": {
   "cols": {
    "lenName": 16,
    "lenType": 16,
    "lenVar": 40
   },
   "kernels_config": {
    "python": {
     "delete_cmd_postfix": "",
     "delete_cmd_prefix": "del ",
     "library": "var_list.py",
     "varRefreshCmd": "print(var_dic_list())"
    },
    "r": {
     "delete_cmd_postfix": ") ",
     "delete_cmd_prefix": "rm(",
     "library": "var_list.r",
     "varRefreshCmd": "cat(var_dic_list()) "
    }
   },
   "types_to_exclude": [
    "module",
    "function",
    "builtin_function_or_method",
    "instance",
    "_Feature"
   ],
   "window_display": false
  },
  "widgets": {
   "application/vnd.jupyter.widget-state+json": {
    "state": {},
    "version_major": 2,
    "version_minor": 0
   }
  }
 },
 "nbformat": 4,
 "nbformat_minor": 4
}
