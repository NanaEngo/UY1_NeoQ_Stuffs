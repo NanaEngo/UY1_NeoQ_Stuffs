{
 "cells": [
  {
   "cell_type": "markdown",
   "metadata": {},
   "source": [
    "# QISKIT Lab 4 - Fermionic Hamiltonian\n",
    "\n",
    "1. **S. G. Nana Engo**, serge.nana-engo@facsciences-uy1.cm\n",
    "    * Department of Physics, Faculty of Science, University of Yaounde I\n",
    "1. **J-P. Tchapet Njafa**, jean-pierre.tchapet-njafa@univ-maroua.cm\n",
    "    * Department of Physics, Faculty of Science, University of Maroua\n",
    "1. **P. Djorwe**, djorwepp@gmail.com\n",
    "    * Department of Physics, Faculty of Science, University of Ngaoundere\n",
    "       \n",
    "March 2023"
   ]
  },
  {
   "cell_type": "markdown",
   "metadata": {},
   "source": [
    "## Bases chimiques\n",
    "\n",
    "Un ensemble de base est un ensemble de fonctions, appelées **[fonctions de base](https://chem.libretexts.org/Bookshelves/Physical_and_Theoretical_Chemistry_Textbook_Maps/Supplemental_Modules_(Physical_and_Theoretical_Chemistry)/Quantum_Mechanics/17%3A_Quantum_Calculations/ab_initio_Basis_Sets)**, telles que toute orbitale moléculaire électronique peut être approchée\n",
    "comme une **combinaison linéaire de ses orbitales atomiques (LCAO, Linear) combination of atomic orbitals**.\n",
    "\n",
    "Les deux classes d'orbitales de base approximatives couramment utilisées sont les **Slater-tyoe orbitals (STOs)** basées sur le déterminant de Slater, et les **orbitales cartésiennes de type Gaussien (GTO)**. Ces deux types de fonctions de base peut être combiné comme **STO-nG (Slater-type orbital-n Gaussians)**, où n est le nombre de gaussiennes utilisées pour faire les approximations.\n",
    "\n",
    "Détaillons la structure de ces deux classes.\n",
    "\n",
    "### Orbitales de type Slater\n",
    " Ce sont les fonctions d'état radiales de la forme\n",
    "\n",
    " \\begin{align*}\n",
    "& R_\\ell(r) = A(\\ell,\\alpha) r^\\ell e^{-\\alpha r},\n",
    "& A(\\ell,\\alpha) = (2\\alpha)^{\\ell+1} \\sqrt{\\frac{2\\alpha}{(2\\ell+2)!}},\n",
    "\\end{align*}\n",
    "\n",
    "où,\n",
    " * $\\ell\\leq n$ est le nombre quantique de moment quantique orbital et $n$ le nombre quantique principal;\n",
    " * $r$ est la distance entre l'électron et le noyau atomique;\n",
    " * $\\alpha$ est l'exposant orbital qui contrôle la vitesse à laquelle la densité de l'orbite s'annule en fonction de la distance nucléaire $r$;\n",
    " * $A(\\ell,\\alpha)$ est le facteur de normalisation.\n",
    "\n",
    "Pour une orbitale $1s$, $\\ell=0$ et\n",
    "\\begin{align*}\n",
    "&A(0,\\alpha) = 2\\alpha^{3/2}, &R_0(r) =2\\alpha^{3/2}e^{-\\alpha r}.\n",
    "\\end{align*}\n",
    "\n",
    "Un code python permettant de visualiser cette fonction est le suivant:"
   ]
  },
  {
   "cell_type": "code",
   "execution_count": null,
   "metadata": {},
   "outputs": [],
   "source": [
    "import numpy as np\n",
    "import matplotlib.pyplot as plt"
   ]
  },
  {
   "cell_type": "code",
   "execution_count": null,
   "metadata": {},
   "outputs": [],
   "source": [
    "x = np.linspace(-5,5,num=1000)\n",
    "r = abs(x)\n",
    "alpha = 1.0\n",
    "\n",
    "R = 2*alpha**(1.5)*np.exp(-alpha*r)\n",
    "\n",
    "plt.figure(figsize=(4,3))\n",
    "plt.plot(x,R,label=\"STO 1s H\")\n",
    "plt.legend()\n"
   ]
  },
  {
   "cell_type": "markdown",
   "metadata": {},
   "source": [
    "### Do it yourself\n",
    "\n",
    "Ecriver un code python pour visualiser STO 2s H."
   ]
  },
  {
   "cell_type": "markdown",
   "metadata": {},
   "source": [
    "Un code python permettant visualiser la fonction d'état spatiale antisymétrique pour la molécule d'hydrogène comme une combinaison linéaire de la partie radiale précédente de l'orbitale de Slater pour un atome d'hydrogène est la suivante:"
   ]
  },
  {
   "cell_type": "code",
   "execution_count": null,
   "metadata": {},
   "outputs": [],
   "source": [
    "x = np.linspace(-7,7,num=1000)\n",
    "r1 = abs(x+2.5)\n",
    "r2 = abs(x-2.5)\n",
    "alpha = 1.0\n",
    "\n",
    "R = 2*alpha**(1.5)*np.exp(-alpha*r1)-2*alpha**(1.5)*np.exp(-\n",
    "alpha*r2)\n",
    "\n",
    "plt.figure(figsize=(4,3))\n",
    "plt.plot(x,R,label=\"Antisymmetric STO H2\")\n",
    "plt.legend()\n"
   ]
  },
  {
   "cell_type": "markdown",
   "metadata": {},
   "source": [
    "### Orbitales de type GTO\n",
    "\n",
    "Ce sont les fonctions d'état radiales de la forme\n",
    "\n",
    " \\begin{equation*}\n",
    " R_\\ell(r) = B(\\ell,\\alpha) r^\\ell e^{-\\alpha r^2},\n",
    "\\end{equation*}\n",
    "\n",
    "où,\n",
    " * $\\ell\\leq n$ est le nombre quantique de moment quantique orbital et $n$ le nombre quantique principal;\n",
    " * $r$ est la distance entre l'électron et le noyau atomique;\n",
    " * $\\alpha$ est l'exposant orbital qui contrôle la vitesse à laquelle la densité de l'orbite s'annule en fonction de la distance nucléaire $r$;\n",
    " * $B(\\ell,\\alpha)$ est le facteur de normalisation.\n",
    "\n",
    "En pratique, nous approximons la partie radiale d'un STO avec une combinaison linéaire de fonctions Gaussiennes primitives, appelée **fonction Gaussienne contractée**. Les ensembles de base STO-nG incluent une fonction Gaussienne contractée par orbitale atomique.\n",
    "\n",
    "Un code python permettant de visualiser la fonction STO-3G pour l'orbite 1 s de l'atome d'hydrogène fonction est le suivant:"
   ]
  },
  {
   "cell_type": "code",
   "execution_count": null,
   "metadata": {},
   "outputs": [],
   "source": [
    "x = np.linspace(-7,7,num=1000)\n",
    "r = abs(x)\n",
    "c = [0.444635,0.535328,0.154329]\n",
    "alpha = [0.109818,0.405771,2.227660]\n",
    "\n",
    "psi = 0\n",
    "for k in range(3):\n",
    "    psi += c[k]*(2*alpha[k]/np.pi)**0.75 * np.exp(-alpha[k]*r**2)\n",
    "\n",
    "plt.figure(figsize=(5,3))\n",
    "plt.plot(x,psi,label=\"STO-3G 1s H\")\n",
    "plt.legend()\n"
   ]
  },
  {
   "cell_type": "markdown",
   "metadata": {},
   "source": [
    "Un code python permettant de visualiser la fonction d'état spatiale antisymétrique pour la molécule d'hydrogène comme une combinaison linéaire de la partie radiale précédente de la fonction STO-3G pour l'orbite $1s$ d'un atome d'hydrogène est le suivant :"
   ]
  },
  {
   "cell_type": "code",
   "execution_count": null,
   "metadata": {},
   "outputs": [],
   "source": [
    "x = np.linspace(-7,7,num=1000)\n",
    "r1 = abs(x+2.5)\n",
    "r2 = abs(x-2.5)\n",
    "c = [0.444635,0.535328,0.154329]\n",
    "alpha = [0.109818,0.405771,2.227660]\n",
    "\n",
    "psi = 0\n",
    "for k in range(3):\n",
    "    psi += c[k]*(2*alpha[k]/np.pi)**0.75 * np.exp(-\n",
    "alpha[k]*r1**2) \\\n",
    "- c[k]*(2*alpha[k]/np.pi)**0.75 * np.exp(-alpha[k]*r2**2)\n",
    "\n",
    "plt.figure(figsize=(5,3))\n",
    "plt.plot(x,psi,label=\"Antisymmetric STO-3G H2\")\n",
    "plt.legend()"
   ]
  },
  {
   "cell_type": "markdown",
   "metadata": {},
   "source": [
    "## Qiskit Nature\n",
    "\n",
    "**Qiskit Nature** est un framework open source qui prend en charge des problèmes tels que les calculs d'énergie à l'état fondamental, les états excités et les moments dipolaires de la molécule, à la fois pour des sous-couches ouvertes et fermées. \n",
    "\n",
    "<center><img src=\"Graphics/Qiskit_Nature_overview.png\" width=\"300\"/></center>\n",
    "\n",
    "La bibliothèque Qiskit Nature comprend différents modules s'articulant autour de :\n",
    "\n",
    "- chargement de données à partir de pilotes (drivers) de chimie (PySCF, Psi4, Gaussian, etc.) ou de formats de fichiers;\n",
    "- construction et manipulation d'opérateurs de seconde quantification;\n",
    "- traduction de la seconde quantification à l'espace qubit;\n",
    "- une bibliothèque de circuits quantiques d'analyses ciblées en sciences naturelles;\n",
    "- algorithmes et utilitaires spécifiques aux sciences naturelles pour utiliser Qiskit\n",
    "   Les algorithmes de Terra plus faciles;\n",
    "- et beaucoup plus.\n",
    "\n",
    "Par exemple, les pilotes (drivers) de chimie, lorsqu'ils sont fournis avec une configuration moléculaire, renverront des intégrales à 1 ($h_{pq}$) et 2 ($h_{pqrs}$) corps, ainsi que d'autres données qui sont efficacement calculées de manière classique. Ces données de sortie d'un pilote peuvent ensuite être utilisées comme entrée dans Qiskit Nature qui contient une logique capable de les traduire sous une forme adaptée aux algorithmes quantiques. La conversion crée d'abord un `FermionicOperator` qui doit ensuite être mappé, par ex. par une cartographie de **Jordan Wigner**, à un opérateur qubit prêt pour le calcul quantique.\n",
    "\n",
    "> pip install qiskit-nature[pyscf] -U\n"
   ]
  },
  {
   "cell_type": "markdown",
   "metadata": {},
   "source": [
    "## Construction d'un opérateur Hamiltonien fermionique de la molécule d'hydrogène\n",
    "\n",
    "<center><img src=\"Graphics/h2.png\" width=\"150\"/></center>\n",
    "\n",
    "L'Hamiltonien  est exprimé dans la base des solutions de la méthode HF, également appelées Orbitales Moléculaires (OM) :\n",
    "\n",
    "$$\n",
    "\\hat{H}_{elec}=\\sum_{pq} h_{pq} a^{\\dagger}_p a_q + \n",
    "\\frac{1}{2} \\sum_{pqrs} h_{pqrs}  a^{\\dagger}_p a^{\\dagger}_q a_r  a_s\n",
    "$$\n",
    "avec \n",
    "* les **intégrales à 1 électron**\n",
    "$$\n",
    "h_{pq} = \\int \\phi^*_p(r) \\left( -\\frac{1}{2} \\nabla^2 - \\sum_{I} \\frac{Z_I}{R_I- r} \\right)   \\phi_q(r)dr\n",
    "$$\n",
    "qui décrivent l’énergie cinétique des électrons individuels et leurs interactions avec les champs électriques du noyau ;\n",
    "* et **intégrales à 2 électrons**\n",
    "$$\n",
    "h_{pqrs} = \\int \\frac{\\phi^*_p(r_1)  \\phi^*_q(r_2) \\phi_r(r_2)  \\phi_s(r_1)}{|r_1-r_2|}dr_1dr_2,\n",
    "$$\n",
    "décrivent les interactions entre les électrons.\n",
    "\n",
    "Les MO ($\\phi_u$) peuvent être occupés ou virtuels (inoccupés). Un MO peut contenir 2 électrons. Cependant, dans ce qui suit, nous travaillons en fait avec des orbitales de spin qui sont associées à un spin up ($\\alpha$) d'électron spin down ($\\beta$). Ces deux spins sont également communément désignés par $\\alpha$ et $\\beta$, respectivement. Ainsi, les orbitales de spin peuvent contenir un électron ou être inoccupées.\n",
    "\n",
    "### Représentation interne\n",
    "\n",
    "On peut avoir une idée de ce que les termes intégraux signifie en observant les opérateurs de création et d’annihilation qui les composent. Par exemple, $h_{pq} a^{\\dagger}_p a_q$ décrit les sauts d’électron de l’orbital de rotation $q$ à l’orbital de rotation $p$. De même, le terme $ h_{pqrs}  a^{\\dagger}_p a^{\\dagger}_q a_r a_s$ (pour un p,q,r,s distinct) décrit deux électrons dans des orbitaux de rotation $r$ et $s$ se dispersant et se terminant par des orbitaux de rotation $p$ et $q$. Si $r=q$ et $p=s$ alors $ h_{prrp}  a^{\\dagger}_p a^{\\dagger}_r a_r  a_p = h_{prrp}n_pn_r$ donne la pénalité d’énergie associée aux deux électrons étant proches l’un de l’autre, mais ne décrit pas un processus dynamique.\n",
    "\n",
    "Dans l'expression de l'Hamiltonien, il existe au maximum $N^2+N^4$ coefficients. Cependant, un grand nombre de ces coefficients peuvent être collectés, car ils correspondent au même opérateur. Par exemple, dans le cas où $p,q,r,s$ sont des indices distincts, on peut utiliser les règles d'anti-commutation pour indiquer que :\n",
    "$$\n",
    "\\ad_p\\ad_qa_ra_s = -\\ad_q\\ad_pa_ra_s = -\\ad_p\\ad_qa_sa_r = \\ad_q\\ad_pa_sa_r.\n",
    "$$}\n",
    "En outre, comme $\\HH$ est Hermitien, tout opérateur fermionique non Hermitien, par exemple $h_{pqrs}\\ad_p\\ad_qa_ra_s$, a un conjugué Hermitien qui se trouve également dans $\\HH$. Afin d'indexer de manière unique les groupes de termes caractérisés par ces symétries, nous définissons un ordre canonique sur les indices $(i_1,\\cdots,i_n,j_1,\\cdots,j_m)$ de toute suite de $n+m$ opérateurs fermioniques $ \\ad_{i_1}\\cdots \\ad_{i_n}a_{j_1}\\cdots a_{j_m}$ comme suit :\n",
    "\n",
    "* Tous les opérateurs de création $\\ad_{i_\\cdot}$ sont placés avant tous les opérateurs d'annihilation $a_{j_\\cdot}$.\n",
    "\n",
    "* Tous les index des opérateurs de création sont triés par ordre croissant, c'est-à-dire $i_1< i_2< \\cdots < i_n$.\n",
    "\n",
    "* Tous les indices des opérateurs d'annihilation sont triés par ordre décroissant, c'est-à-dire $j_1> j_2 \\cdots > j_m$.\n",
    "\n",
    "* L'index le plus à gauche est inférieur ou égal à l'index le plus à droite, c'est-à-dire $i_1\\le j_m$.\n",
    "\n",
    "Identifions cet ensemble d'indices canoniquement ordonnés comme\n",
    "$$\n",
    "(i_1,\\cdots,i_n,j_1,\\cdots,j_m) \\in S_{n,m}.\n",
    "$$\n",
    "Avec cet ordre canonique, l'Hamiltonien fermionique peut être exprimé comme\n",
    "$$\n",
    "\\HH=\\frac{1}{2}\\sum_{(p,q)\\in S_{1,1}}h'_{pq}(\\ad_pa_q+\\ad_qa_p)\n",
    "+\\frac{1}{2}\\sum_{(p,q,r,s)\\in S_{2,2}}h'_{pqrs}(\\ad_p\\ad_qa_ra_s+\\ad_s\\ad_ra_qa_p),\n",
    "$$\n",
    "avec des intégrales à un et deux électrons convenablement adaptées $h'_{pq}$ et $h'_{pqrs}$, respectivement.\n",
    "\n",
    "Dans ce qui suit, nous utilisons le driver PySCF, pour la molécule d'hydrogène à la longueur de la liaison d'équilibre (0,735 angström) à l'état singulet et sans charge."
   ]
  },
  {
   "cell_type": "code",
   "execution_count": null,
   "metadata": {},
   "outputs": [],
   "source": [
    "# Pour les données moléculaires\n",
    "from qiskit_nature.units import DistanceUnit\n",
    "from qiskit_nature.second_q.drivers import PySCFDriver"
   ]
  },
  {
   "cell_type": "code",
   "execution_count": null,
   "metadata": {},
   "outputs": [],
   "source": [
    "H2driver = PySCFDriver(\n",
    "    atom=\"H 0 0 0; H 0 0 0.735\",\n",
    "    basis=\"sto3g\",\n",
    "    charge=0,\n",
    "    spin=0,\n",
    "    unit=DistanceUnit.ANGSTROM,\n",
    ")"
   ]
  },
  {
   "cell_type": "markdown",
   "metadata": {},
   "source": [
    "Qiskit fournit une classe utile nommée `ElectronicStructureProblem`, qui appelle le driver (qui contient déjà les informations moléculaires stockées à l'étape précédente) pour construire les orbitales moléculaires. Nous effectuons un calcul HF pour la base 1 et 2 STO-3G."
   ]
  },
  {
   "cell_type": "code",
   "execution_count": null,
   "metadata": {},
   "outputs": [],
   "source": [
    "H2problem = H2driver.run()\n",
    "print(H2problem)"
   ]
  },
  {
   "cell_type": "markdown",
   "metadata": {},
   "source": [
    "### `ElectronicStructureProblem` et ses composants\n",
    "\n",
    "Examinons cette instance de problème et ses composants.\n",
    "\n",
    "#### Hamiltonien `ElectronicEnergy`\n",
    "\n",
    "L'aspect le plus important est l'Hamiltonien interne ; dans ce cas, un Hamiltonien `ElectronicEnergy`. Cette classe est capable de générer un opérateur de seconde quantification à partir des intégrales à 1 ($h_{pq}$) et 2 ($h_{pqrs}$) corps qu'un code classique a calculées pour nous.\n",
    "\n",
    "> **NB :** La classe de conteneur pour les coefficients intégraux (`PolynomialTensor`) nécessite que les termes à 2 corps soient fournis dans **l'ordre du physicien** !\n",
    "\n",
    "Ces tenseurs sont soumis à certaines attentes, à savoir :\n",
    "\n",
    "* pour les intégrales électroniques $\\alpha$ (spins-up) et $\\beta$ (spins-down), seules les clés suivantes sont autorisées : \"\", \"+-\", \"++--\";\n",
    "* pour les intégrales électroniques $\\alpha\\beta$ (spins-down-up) la seule clé autorisée est \"++--\".\n"
   ]
  },
  {
   "cell_type": "code",
   "execution_count": null,
   "metadata": {},
   "outputs": [],
   "source": [
    "H2hamiltonian = H2problem.hamiltonian\n",
    "\n",
    "H2coefficients = H2hamiltonian.electronic_integrals\n",
    "print(H2coefficients.alpha)"
   ]
  },
  {
   "cell_type": "markdown",
   "metadata": {},
   "source": [
    "Nous utilisons la méthode `second_q_ops()`, pour obtenir les integrales $h_{pq}$ et $h_{pqrs}$ en seconde quantication."
   ]
  },
  {
   "cell_type": "code",
   "execution_count": null,
   "metadata": {},
   "outputs": [],
   "source": [
    "H2fermionic_op = H2hamiltonian.second_q_op()\n",
    "print(H2fermionic_op)"
   ]
  },
  {
   "cell_type": "markdown",
   "metadata": {},
   "source": [
    "Notez qu'il s'agit purement de l'Hamiltonien **électronique** du système. Cela signifie que l'_énergie de répulsion nucléaire_ n'est pas incluse. Au lieu de cela, Qiskit Nature ajoutera ce décalage d'énergie constant dans une étape de post-traitement, afin de calculer l'énergie totale de votre système. Pour savoir comment inclure l'énergie de répulsion nucléaire dans cet opérateur, veuillez vous référer à la documentation de la classe `ElectronicEnergy` [ici](https://qiskit.org/documentation/nature/stubs/qiskit<_>nature.second<_>q.hamiltonians.ElectronicEnergy.html).\n",
    "\n",
    "Par exemple que les termes $\\alpha$ sont\n",
    "```\n",
    " -1.2563390730032498 * ( +_0 -_0 )\n",
    " -0.47189600728114245 * ( +_1 -_1 )\n",
    "```\n",
    "et les termes $\\beta$ sont\n",
    "```\n",
    " -1.2563390730032498 * ( +_2 -_2 )\n",
    " -0.47189600728114245 * ( +_3 -_3 )\n",
    "```\n"
   ]
  },
  {
   "cell_type": "code",
   "execution_count": null,
   "metadata": {},
   "outputs": [],
   "source": [
    "H2hamiltonian.nuclear_repulsion_energy "
   ]
  },
  {
   "cell_type": "markdown",
   "metadata": {},
   "source": []
  },
  {
   "cell_type": "markdown",
   "metadata": {},
   "source": [
    "#### Plus d'attributs du `ElectronicStructureProblem`\n",
    "\n",
    "Examinons quelques attributs supplémentaires de notre instance \"problème\".\n",
    " <!-- qui renvoie une liste de seconds opérateurs quantifiés : \n",
    "* opérateur hamiltonien, \n",
    "* opérateur du nombre total de particules, \n",
    "* opérateur moment angulaire total,\n",
    "* opérateur d'aimantation totale \n",
    "* et,opérateur du dipôle x, y, z,  si disponible. -->"
   ]
  },
  {
   "cell_type": "code",
   "execution_count": null,
   "metadata": {},
   "outputs": [],
   "source": [
    "H2problem.molecule"
   ]
  },
  {
   "cell_type": "code",
   "execution_count": null,
   "metadata": {},
   "outputs": [],
   "source": [
    "H2problem.reference_energy"
   ]
  },
  {
   "cell_type": "code",
   "execution_count": null,
   "metadata": {},
   "outputs": [],
   "source": [
    "H2problem.num_particles"
   ]
  },
  {
   "cell_type": "code",
   "execution_count": null,
   "metadata": {},
   "outputs": [],
   "source": [
    "H2problem.num_spatial_orbitals"
   ]
  },
  {
   "cell_type": "code",
   "execution_count": null,
   "metadata": {},
   "outputs": [],
   "source": [
    "H2problem.basis"
   ]
  },
  {
   "cell_type": "code",
   "execution_count": null,
   "metadata": {},
   "outputs": [],
   "source": [
    "H2problem.orbital_energies"
   ]
  },
  {
   "cell_type": "code",
   "execution_count": null,
   "metadata": {},
   "outputs": [],
   "source": [
    "H2problem.num_alpha"
   ]
  },
  {
   "cell_type": "code",
   "execution_count": null,
   "metadata": {},
   "outputs": [],
   "source": [
    "H2problem.num_beta"
   ]
  },
  {
   "cell_type": "code",
   "execution_count": null,
   "metadata": {},
   "outputs": [],
   "source": [
    "H2problem.num_spin_orbitals"
   ]
  },
  {
   "cell_type": "markdown",
   "metadata": {},
   "source": [
    "Définissons la fonction `get_particle_number()` qui permet d'obtenir les propriétés d'une instance `problem` d'une structure électronique."
   ]
  },
  {
   "cell_type": "code",
   "execution_count": null,
   "metadata": {},
   "outputs": [],
   "source": [
    "def get_particle_number(problem):\n",
    "    print(\"Hydrogen molecule, basis: sto3g, Hartree-Fock calculation\")\n",
    "    print(f\"Number of alpha electrons: {problem.num_alpha}\")\n",
    "    print(f\"Number of beta electrons: {problem.num_beta}\")\n",
    "    print(f\"Number of spin orbitals: {problem.num_spin_orbitals}\")\n",
    " "
   ]
  },
  {
   "cell_type": "markdown",
   "metadata": {},
   "source": [
    "Nous appelons la fonction `get_particle_number()` pour obtenir et imprimer les propriétés du nombre de particules comme suit :"
   ]
  },
  {
   "cell_type": "code",
   "execution_count": null,
   "metadata": {},
   "outputs": [],
   "source": [
    "get_particle_number(H2problem)"
   ]
  },
  {
   "cell_type": "markdown",
   "metadata": {},
   "source": [
    "Pour comprendre l'expression du Hamiltonien en seconde quantification affichée, il faut comprendre la classe `FermionicOp`.\n",
    "\n",
    "#### `FermionicOp` Class\n",
    "\n",
    "Un `FermionicOp` représente une somme pondérée de termes d'opérateurs de création/annihilation fermioniques. Ces termes sont codés sous forme d'étiquettes éparses, qui sont des chaînes constituées d'une liste d'expressions séparées par des espaces. Chaque expression doit ressembler à `[+-]_<index>`, où `<index>` est un entier non négatif représentant l'index du mode fermionique où l'opération `+` (création) ou `-` (annihilation) doit être effectuée. La valeur de l'indice est liée par le nombre d'orbitales de spin (`num_spin_orbitals`) de l'opérateur. Puisque les indices Python commencent par 0, la valeur maximale qu'un indice peut prendre est donnée par `num_spin_orbitals`-1.\n",
    "\n",
    "Par exemple, `(+_0 -_0)`$\\equiv a_0^\\dagger a_0$, `( +_2 +_3 -_2 -_3 )`$\\equiv a_2^\\dagger a_3^\\dagger a_2 a_3$."
   ]
  },
  {
   "cell_type": "markdown",
   "metadata": {},
   "source": [
    "Imprimons seulement les 10 premiers termes de l'opérateur fermionique de la molécule:"
   ]
  },
  {
   "cell_type": "code",
   "execution_count": null,
   "metadata": {},
   "outputs": [],
   "source": [
    "print(\"\\n\".join(str(H2fermionic_op).splitlines()[:12] + [\"...\"]))"
   ]
  },
  {
   "cell_type": "markdown",
   "metadata": {},
   "source": [
    "Utilisons la méthode `FermionicOp.to_matrix` pour obtenir une représentation matricielle de la molécule d'hydrogène dans la base de Fock, où les états de base sont classés dans l'ordre croissant des chaines de bits, comme 0000, 0001, ..., 1111."
   ]
  },
  {
   "cell_type": "code",
   "execution_count": null,
   "metadata": {},
   "outputs": [],
   "source": [
    "print(H2fermionic_op.to_matrix())"
   ]
  },
  {
   "cell_type": "markdown",
   "metadata": {},
   "source": [
    "Ce résultat indique que l'opérateur Hamiltonien fermionique de la molécule d'hydrogène contient \n",
    "\n",
    "1. 4 opérateurs nombre de particules\n",
    "\n",
    "$h_{pq}$ | $a_p^\\dagger a_q$ | +0 | -0 | +1 | -1|  +2 | -2 | +3 |  -3 \n",
    "---------|-------------------|----|----|----|---|-----|----|----|-----\n",
    "$-0.4719$| $a_3^\\dagger a_3$ |    |    |    |   |     |    |  + | +  |\n",
    "$-1.2563$| $a_2^\\dagger a_2$ |    |    |    |   | +   | +  |    |    |\n",
    "$-0.4719$| $a_1^\\dagger a_1$ |    |    |  + | + |     |    |    |    |\n",
    "$-1.2563$| $a_0^\\dagger a_0$ |  + | +  |    |   |     |    |    |    |\n",
    "\n",
    "2. 10 opérateurs d'échange entre 2 électrons\n",
    "\n",
    "$h_{pqrs}$|$a_p^\\dagger a_q^\\dagger a_r a_s$ | +0 | -0 | +1 | -1|  +2 | -2 | +3 |  -3 \n",
    "---------|------------------------------|----|----|----|----|---|-----|----|--------- \n",
    "$+0.1809$| $a_0^\\dagger a_2^\\dagger a_3 a_1$ |  + |    |    | + |  +  |    |    | +  |\n",
    "$-0.1809$| $a_0^\\dagger a_3^\\dagger a_2 a_1$ |  + |    |    |   |     | +  | +  |    |\n",
    "$-0.1809$| $a_1^\\dagger a_2^\\dagger a_3 a_0$ |    | +  |  + |   |  +  |    |    | +  |\n",
    "$+0.1809$| $a_1^\\dagger a_3^\\dagger a_2 a_0$ |    | +  |  + |   |     |  + | +  |    |\n",
    "$+0.4836$| $a_2^\\dagger a_3^\\dagger a_3 a_2$ |    |    |    |   | +   |  + |  + | +  |\n",
    "$+0.6986$| $a_1^\\dagger a_3^\\dagger a_3 a_1$ |    |    | +  | + |     |    |  + | +  |\n",
    "$+0.6646$| $a_1^\\dagger a_2^\\dagger a_2 a_1$ |    |    |  + | + |  +  | +  |    |    |\n",
    "$+0.6646$| $a_0^\\dagger a_3^\\dagger a_3 a_0$ |  + | +  |    |   |     |    |  + | +  |\n",
    "$+0.6757$| $a_0^\\dagger a_2^\\dagger a_2 a_0$ | +  | +  |    |   |  +  | +  |    |    |\n",
    "$+0.4836$| $a_0^\\dagger a_1^\\dagger a_1 a_0$ | +  | *  | +  | + |     |    |    |    |\n"
   ]
  },
  {
   "cell_type": "markdown",
   "metadata": {},
   "source": [
    "## Construction d'un opérateur Hamiltonien fermionique de la molécule d'hydride de lithium\n",
    "\n",
    "<center><img src=\"Graphics/Lithium_hydride.png\" width=\"150\"/></center>\n",
    "\n",
    "Do it yourself"
   ]
  },
  {
   "cell_type": "code",
   "execution_count": null,
   "metadata": {},
   "outputs": [],
   "source": []
  },
  {
   "cell_type": "code",
   "execution_count": null,
   "metadata": {},
   "outputs": [],
   "source": [
    "import qiskit.tools.jupyter\n",
    "\n",
    "%qiskit_version_table"
   ]
  }
 ],
 "metadata": {
  "kernelspec": {
   "display_name": "qiskit-env",
   "language": "python",
   "name": "qiskit-env"
  },
  "language_info": {
   "codemirror_mode": {
    "name": "ipython",
    "version": 3
   },
   "file_extension": ".py",
   "mimetype": "text/x-python",
   "name": "python",
   "nbconvert_exporter": "python",
   "pygments_lexer": "ipython3",
   "version": "3.10.9"
  }
 },
 "nbformat": 4,
 "nbformat_minor": 4
}
