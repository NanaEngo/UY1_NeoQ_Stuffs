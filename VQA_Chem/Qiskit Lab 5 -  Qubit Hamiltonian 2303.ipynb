{
 "cells": [
  {
   "attachments": {},
   "cell_type": "markdown",
   "metadata": {},
   "source": [
    "# QISKIT Lab 5 - Qubit Hamiltonian\n",
    "\n",
    "1. S. G. Nana Engo, serge.nana-engo@facsciences-uy1.cm\n",
    "    * Department of Physics, Faculty of Science, University of Yaounde I\n",
    "1. J-P. Tchapet Njafa, jean-pierre.tchapet-njafa@univ-maroua.cm\n",
    "    * Department of Physics, Faculty of Science, University of Maroua\n",
    "1. P. Djorwe, djorwepp@gmail.com\n",
    "    * Department of Physics, Faculty of Science, University of Ngaoundere\n",
    "       \n",
    "March 2023"
   ]
  },
  {
   "attachments": {},
   "cell_type": "markdown",
   "metadata": {},
   "source": [
    "$$\n",
    "\\renewcommand{\\Q}{\\mathtt{Q}}  \n",
    "\\renewcommand{\\X}{\\mathtt{X}} \n",
    "\\renewcommand{\\Y}{\\mathtt{Y}} \n",
    "\\renewcommand{\\Z}{\\mathtt{Z}} \n",
    "\\renewcommand{\\I}{\\mathbb{I}}  \n",
    "\\newcommand{\\ad}{a^\\dagger}  \n",
    "%\n",
    "\\newcommand{\\kb}[2]{|#1\\rangle\\langle#2|} \n",
    "\\newcommand{\\proj}[1]{|#1\\rangle\\langle#1|}\n",
    "\\newcommand{\\bk}[2]{\\langle#1\\ket{#2}} \n",
    "$$ "
   ]
  },
  {
   "attachments": {},
   "cell_type": "markdown",
   "metadata": {},
   "source": [
    "## Correspondance (mapping) fermion qubit\n",
    "\n",
    "En simulation quantique, encoder un problème de structure électronique en seconde quantification sur un calculateur quantique revient à établir une correspondance entre les opérateurs d'échelle fermioniques et les opérateurs de Pauli. Les transformations de Jordan-Wigner (JWT) et de Bravyi-Kitaev (BKT) sont parmis les plus utilisés en calculs quantiques.\n",
    "\n",
    "### Décomposition de Pauli \n",
    "\n",
    "Comme $\\{\\I, \\X, \\Y, \\Z\\}$ forme une base complète pour tout opérateur Hermitien 1- ou multi-qubit, l'ingrédient clé des algorithmes variationnels est de\n",
    "décomposer l'Hamiltonien électronique en termes de produits des matrices de Pauli,\n",
    "\\begin{equation*}\n",
    "\\mathtt{P}_j=\\X_{M-1}^j\\otimes\\X_{M-2}^j\\otimes\\X_k^j\\otimes\\dots\\X_0^j,\n",
    "\\end{equation*}\n",
    "où les opérateurs de Pauli $\\X^j\\in\\{\\I,\\X,\\Y,\\Z\\}$ sont tels que\n",
    "\\begin{equation*}\n",
    "\\begin{aligned}\n",
    "    &\\X^i\\X^j=\\I\\delta_{ij}+i\\varepsilon_{ijk}\\X^k, \\\\\n",
    "    &\\varepsilon_{ijk}=\\begin{cases}+1 & \\text{ pour les permutations circulaires droites de } (i,j,k) \\\\\n",
    "    -1 & \\text{ pour les permutations circulaires gauches de }(i,j,k) \\\\\n",
    "    0 & \\text{ sinon} \\end{cases}\n",
    "\\end{aligned}\n",
    "\\end{equation*}\n",
    "\\begin{align*}\n",
    "&\\X:=\\kb{0}{1}+\\kb{1}{0}, &\\Y&:=i(-\\kb{0}{1}+\\kb{1}{0}), &\\Z:=\\proj{0}-\\proj{1}.\n",
    "\\end{align*}\n",
    "Les opérateurs de Pauli sont à la fois unitaires et Hermitiens.\n",
    "\n",
    "L'Hamiltonien total peut alors être représenté comme la combinaison linéaire de $\\mathtt{P}_j$,\n",
    "\\begin{align*}\n",
    "&\\mathtt{H}=\\sum_j^{N_k}w_j\\mathtt{P}_j=\\sum_j^{N_k}w_j\\left(\\bigotimes_i^{M-1}\\X_i^j\\right),\n",
    "&w_j=\\langle\\mathtt{H},\\mathtt{P}_j\\rangle=\\rm{Tr}(\\mathtt{H}^\\dagger\\mathtt{P}_j),\n",
    "\\end{align*}\n",
    "où $w_j$ sont les poids de la chaîne de Pauli $\\mathtt{P}_j$, i indique sur quel qubit\n",
    "l'opérateur agit, et j désigne le terme dans l'Hamiltonien.\n",
    "\n",
    "Pour un Hamiltonien de la 2e quantification, le nombre total de chaînes de Pauli\n",
    "$N_k$ dépend du nombre de termes $h_{pq}$ à 1-électron et $h_{pqrs}$ à\n",
    "2-électrons.\n",
    "\n",
    "\n",
    "### Opérateurs d'échelle qubit\n",
    "\n",
    "Ce sont les opérateurs suivants qui agissent localement sur les qubits:\n",
    "\n",
    "Opérateur qubit             |  Description\n",
    "----------------------------|---------------------\n",
    "$\\I=\\begin{pmatrix}1 | 0 | 0 |1 \\end{pmatrix}$ |Identité\n",
    "$\\Q^-=\\begin{pmatrix}0 | 1 | 1 |0 \\end{pmatrix}=\\frac12(\\X + i\\Y) =\\kb{1}{0}$ | Annihilation \n",
    "$\\Q^+=\\begin{pmatrix}0 | 0 | 1 |0 \\end{pmatrix}=\\frac12(\\X - i\\Y) =\\kb{0}{1}$ | Creation\n",
    "$\\Q^+\\Q^-=\\begin{pmatrix}0 | 0 |0 |1 \\end{pmatrix}=\\frac12(\\I - \\Z) =\\proj{1}$ | Un nombre (particule)\n",
    "$\\Q^-\\Q^+=\\begin{pmatrix}0 | 0 |0 |1 \\end{pmatrix}=\\frac12(\\I + \\Z) =\\proj{0}$ | Zéron nombre (trou)\n",
    "\n",
    "Les opérateurs qubits sont antisymétrique: $\\{\\Q^,\\Q^-\\}=\\Q^+\\Q^- + \\Q^-\\Q^+ = \\I$."
   ]
  },
  {
   "attachments": {},
   "cell_type": "markdown",
   "metadata": {},
   "source": [
    "### Transformation de Jordan-Wigner (JWT)\n",
    "\n",
    "<center><img src=\"Graphics/jw_mapping.png\" alt=\"Jordan Mapping\" width=\"500\"/></center>\n",
    "\n",
    "Elle stocke l'occupation de chaque spin-orbite dans chaque qubit, i.e.,\n",
    "\\begin{align*}\n",
    "\\ket{f_{M-1},\\dots,f_k,\\dots, f_1,f_0} \\rightarrow \\ket{q_{m-1},\n",
    "\\dots,q_k,\\dots, q_1, q_0}, \n",
    "|q_k :=\\{\\uparrow,\\downarrow\\}\\equiv f_k | \\in \\{0, 1 \\}.\n",
    "\\end{align*}\n",
    "et les opérateurs fermioniques de création et d'annihilation (respectivement\n",
    "$a_k$ et $\\ad_x$) sur des opérateurs de qubits non locaux de la forme\n",
    "\\begin{align*}\n",
    "\\begin{aligned}\n",
    "|a_k \\mapsto \\frac12(\\X_k - i\\Y_k)\\otimes \\Z_{k-1} \\otimes \\dots \\otimes \\Z_0\n",
    "\\equiv \\Q^+_k \\Z^{k-1}_0,\n",
    "|\n",
    "|\\ad_k \\mapsto \\frac12(\\X_k + i \\Y_k)\\otimes\\Z^{k-1}\\otimes \\dots \\otimes \\Z_0 \n",
    "\\equiv \\Q_k^- \\Z^{k-1}_0.\n",
    "\\end{aligned}\n",
    "\\end{align*}\n",
    "\n",
    "Par exemple \n",
    " Fermion | Qubit    |\n",
    "---------|----------|\n",
    "$a\\ket{0001}+b\\ket{0010}+c\\ket{0100}+d\\ket{1000}$ | $a\\ket{0001}+b\\ket{0010}+c\\ket{0100}+d\\ket{1000}$  |\n",
    "$a_0,\\quad$  $a_1,\\quad$  $a_2,\\quad$ $a_3$ |$\\Q^-_0,\\quad$ $\\Q^-_1\\Z_0,\\quad$ $\\Q^-_2\\Z_1 \\Z_0,\\quad$ $\\Q^-_3\\Z_2 \\Z_1 \\Z_0$ |\n",
    "$\\ad_0,\\quad$ $\\ad_1,\\quad$ $\\ad_2,\\quad$ $\\ad_3$ | $\\Q^+_0,\\quad$ $\\Q^+_1\\Z_0,\\quad$ $\\Q^+_2\\Z_1 \\Z_0,\\quad$ $\\Q^+_3\\Z_2 \\Z_1 \\Z_0$ |\n",
    "$n_k = \\ad_k a_k$ |$\\Q^+_k \\Q^-_k = \\proj{1}_k=\\frac12(\\I - \\Z_k)$ \\|\n"
   ]
  },
  {
   "cell_type": "code",
   "execution_count": null,
   "metadata": {},
   "outputs": [],
   "source": [
    "import numpy as np"
   ]
  },
  {
   "cell_type": "code",
   "execution_count": null,
   "metadata": {},
   "outputs": [],
   "source": [
    "from qiskit_nature.units import DistanceUnit\n",
    "from qiskit_nature.second_q.drivers import PySCFDriver\n",
    "\n",
    "H2driver = PySCFDriver(\n",
    "    atom=\"H 0 0 0; H 0 0 0.735\",\n",
    "    basis=\"sto3g\",\n",
    "    charge=0,\n",
    "    spin=0,\n",
    "    unit=DistanceUnit.ANGSTROM,\n",
    ")\n",
    "\n",
    "H2problem = H2driver.run()\n",
    "H2hamiltonian = H2problem.hamiltonian\n",
    "H2fermionic_op = H2hamiltonian.second_q_op()"
   ]
  },
  {
   "cell_type": "code",
   "execution_count": null,
   "metadata": {},
   "outputs": [],
   "source": [
    "from qiskit_nature.second_q.mappers import QubitConverter\n",
    "from qiskit_nature.second_q.mappers import ParityMapper, JordanWignerMapper, BravyiKitaevMapper\n",
    "from qiskit_nature.second_q.operators import FermionicOp"
   ]
  },
  {
   "attachments": {},
   "cell_type": "markdown",
   "metadata": {},
   "source": [
    "Définissons une fonction `label_to_qubit()` pour convertir les opérateurs fermioniques en opérateurs qubits."
   ]
  },
  {
   "cell_type": "code",
   "execution_count": null,
   "metadata": {},
   "outputs": [],
   "source": [
    "# A FermionicOp is initialized with a dictionary, mapping terms to their respective coefficients\n",
    "def label_to_qubit(label, converter):\n",
    "    qubit_converter = QubitConverter(converter)\n",
    "    f_op = FermionicOp(label)\n",
    "    qubit_op = qubit_converter.convert(f_op)\n",
    "    return qubit_op"
   ]
  },
  {
   "attachments": {},
   "cell_type": "markdown",
   "metadata": {},
   "source": [
    "Convertissons les opérateurs fermioniques {\"+_0\":1.0}, {\"+_1\":1.0}, {\"+_2\":1.0}, {\"+_3\":1.0}, {\"+_4\":1.0} en opérateurs qubits avec la JWT:"
   ]
  },
  {
   "cell_type": "code",
   "execution_count": null,
   "metadata": {},
   "outputs": [],
   "source": [
    "for k in ({\"+_0\":1.0}, {\"+_1\":1.0}, {\"+_2\":1.0}, {\"+_3\":1.0}, {\"+_4\":1.0}):\n",
    "  qubit_op = label_to_qubit(k, JordanWignerMapper())\n",
    "  print(\"{}:\\n {}\\n\".format(k, qubit_op))"
   ]
  },
  {
   "cell_type": "code",
   "execution_count": null,
   "metadata": {},
   "outputs": [],
   "source": [
    "H2qubit_JW_op = JordanWignerMapper().map(H2fermionic_op)\n",
    "\n",
    "print(\"Number of items in the JWT Pauli list:\", len(H2qubit_JW_op))\n",
    "print(H2qubit_JW_op)"
   ]
  },
  {
   "attachments": {},
   "cell_type": "markdown",
   "metadata": {},
   "source": [
    "`QubitConverter` peut permet d'effectuer des réductions de qubit, basées sur la recherche de symétries Z2 dans l'espace de Hilbert du qubit. Une exigence pour que cela soit utile est que l'on sache dans quel sous-espace de symétrie on doit rechercher la solution d'intérêt réelle. Cela peut être un peu délicat, mais heureusement, les classes de problèmes de Qiskit Nature nous fournissent un utilitaire pour déterminer automatiquement ce sous-espace correct.\n",
    "\n",
    "Voici comment nous pouvons l'utiliser:"
   ]
  },
  {
   "cell_type": "code",
   "execution_count": null,
   "metadata": {},
   "outputs": [],
   "source": [
    "H2_JWT_converter = QubitConverter(JordanWignerMapper(), z2symmetry_reduction=\"auto\")\n",
    "\n",
    "H2z2qubit_JW_op = H2_JWT_converter.convert(H2fermionic_op, sector_locator=H2problem.symmetry_sector_locator)\n",
    "\n",
    "print(\"Number of items in the JWT Z2 Pauli list:\", len(H2z2qubit_JW_op))\n",
    "print(H2z2qubit_JW_op)"
   ]
  },
  {
   "cell_type": "code",
   "execution_count": null,
   "metadata": {},
   "outputs": [],
   "source": [
    "print(H2_JWT_converter._z2symmetries)"
   ]
  },
  {
   "cell_type": "code",
   "execution_count": null,
   "metadata": {},
   "outputs": [],
   "source": [
    "H2_JW_particle_number_op = H2problem.properties.particle_number.second_q_ops()[\"ParticleNumber\"]\n",
    "print(H2_JW_particle_number_op)"
   ]
  },
  {
   "attachments": {},
   "cell_type": "markdown",
   "metadata": {},
   "source": [
    "### Transformation de parité\n",
    "\n",
    "C'est la transformation dual de la JWT: les opérateurs de la parité sont légers alors que les les opérateurs d'occupation sont lourds. Le calcul des\n",
    "parités peut être réalisé en utilisant uniquement des opérateurs $\\Z$ à 1-qubit en utilisant la transformation de parité suivante,\n",
    "\\begin{align*}\n",
    "&\\ket{f_{M-1},\\dots,f_k,\\dots, f_1,f_0} \\mapsto \\ket{\\mathbf{p}} , \\qquad p_k = \\sum_{j=0}^k q_j \\pmod 2 = q_0\\oplus\\dots\\oplus q_k\\\\\n",
    "& \\ad_k \\mapsto \\X_{M-1} \\otimes \\dots \\otimes \\X_{k+1} \\otimes\n",
    "\\frac12(\\X_k\\otimes \\Z_{k-1} - i \\Y_k)\\equiv \\X_{M-1} \\otimes \\dots \\otimes \\X_{k+1} \\otimes \\mathtt{P}_k^+,\\\\\n",
    "& a_k \\mapsto \\X_{M-1} \\otimes \\dots \\otimes \\X_{k+1} \\otimes\n",
    "\\frac12(\\X_k\\otimes \\Z_{k-1} + i \\Y_k)\\equiv \\X_{M-1} \\otimes \\dots \\otimes \\X_{k+1} \\otimes \\mathtt{P}_k^-,\\\\\n",
    "&\\mathtt{P}_k^\\pm =Q^\\pm_k \\otimes \\proj{0}_{k-1} - Q^\\mp_k \\otimes \\proj{1}_{k-1} .\n",
    "\\end{align*}\n",
    "\n",
    "Fermion | Qubit | \n",
    "--------|--------|\n",
    "$a\\ket{0001}+b\\ket{0010}+c\\ket{0100}+d\\ket{1000}$ | $a\\ket{1111}+b\\ket{1110}+c\\ket{1100}+d\\ket{1000}$  |\n",
    "$a_0 ,\\quad$ $a_1 ,\\quad$ $a_2 ,\\quad$ $a_3$ | $\\X_3\\X_2\\X_1Q^-_0 ,\\quad$ $\\X_3\\X_2\\big( Q^-_1\\proj{0}_0 - Q^+_1\\proj{1}_0 \\big) ,\\quad$ $\\X_3\\big( Q^-_2\\proj{0}_1 - Q^+_2\\proj{1}_1 \\big) ,\\quad$ $Q^-_3\\proj{0}_2 - Q^+_3\\proj{1}_2$ |\n",
    "$\\ad_0 ,\\quad$ $\\ad_1 ,\\quad$ $\\ad_2 ,\\quad$ $\\ad_3$ | $\\X_3\\X_2\\X_1Q^+_0 ,\\quad$ $\\X_3\\X_2\\big( Q^+_1\\proj{0}_0 - Q^-_1\\proj{1}_0 \\big) ,\\quad$ $\\X_3\\big( Q^+_2\\proj{0}_1 - Q^-_2\\proj{1}_1 \\big) ,\\quad$ $Q^+_3\\proj{0}_2 - Q^-_3\\proj{1}_2$ |\n",
    "$n_k = \\ad_k a_k$ | $\\proj{1}_{k=0}=\\frac12(\\I - \\Z_0) ,\\quad$  $\\frac12(\\I - \\Z_k\\Z_{k-1})_{k=1,2,3}$|"
   ]
  },
  {
   "attachments": {},
   "cell_type": "markdown",
   "metadata": {},
   "source": [
    "Convertissons les opérateurs fermioniques {\"+_0\":1.0}, {\"+_1\":1.0}, {\"+_2\":1.0}, {\"+_3\":1.0}, {\"+_4\":1.0} en opérateurs qubits avec la transformation de la parité :"
   ]
  },
  {
   "cell_type": "code",
   "execution_count": null,
   "metadata": {},
   "outputs": [],
   "source": [
    "for k in ({\"+_0\":1.0}, {\"+_1\":1.0}, {\"+_2\":1.0}, {\"+_3\":1.0}, {\"+_4\":1.0}):\n",
    "  qubit_op = label_to_qubit(k, ParityMapper())\n",
    "  print(\"{}:\\n {}\\n\".format(k, qubit_op))\n"
   ]
  },
  {
   "cell_type": "code",
   "execution_count": null,
   "metadata": {},
   "outputs": [],
   "source": [
    "H2qubit_P_op = ParityMapper().map(H2fermionic_op)\n",
    "\n",
    "print(\"Number of items in the PT Pauli list:\", len(H2qubit_P_op))\n",
    "print(H2qubit_P_op)"
   ]
  },
  {
   "attachments": {},
   "cell_type": "markdown",
   "metadata": {},
   "source": [
    "Pour le cas des problèmes dans lesquels on veut conserver le nombre de particules de chaque espèce de spin, la transformation de la parité présente un avantage majeur: elle nous permet de supprimer 2 qubits, car les informations qu'ils contiennent deviennent redondantes. Étant donné que Qiskit Nature organise les qubits dans l'ordre des blocs, de sorte que la première moitié code le spin alpha et la seconde moitié les informations de spin bêta, cela signifie que nous pouvons supprimer le N/2-ième et le N-ième qubit.\n",
    "\n",
    "Pour ce faire, vous devez utiliser le `QubitConverter` comme suit :"
   ]
  },
  {
   "cell_type": "code",
   "execution_count": null,
   "metadata": {},
   "outputs": [],
   "source": [
    "converter = QubitConverter(ParityMapper(), two_qubit_reduction=True)"
   ]
  },
  {
   "attachments": {},
   "cell_type": "markdown",
   "metadata": {},
   "source": [
    "Pour que la réduction fonctionne, il faut également fournir le nombre de particules :"
   ]
  },
  {
   "cell_type": "code",
   "execution_count": null,
   "metadata": {},
   "outputs": [],
   "source": [
    "H2qubit_P2r_op = converter.convert(H2fermionic_op, num_particles=H2problem.num_particles)\n",
    "\n",
    "print(\"Number of items in the PT 2QR Pauli list:\", len(H2qubit_P2r_op))\n",
    "print(H2qubit_P2r_op)"
   ]
  },
  {
   "attachments": {},
   "cell_type": "markdown",
   "metadata": {},
   "source": [
    "### Transformation de Bravyi-Kitaev (BKT)\n",
    "\n",
    "Cette [transformation](J. T. Seeley, M. J. Richard, and P. J. Love,\\emph{ The Bravyi-Kitaev transformation for quantum computation of electronic structure}, J. Chem. Phys \\textbf{137}, 224109 (2012).) combine la localité des nombres d'occupation et celle des parités, afin d'établir une correspondance entre les opérateurs de création et\n",
    "de destruction fermioniques et les opérateurs qubits sur $\\mathcal{O}(\\log_2M)$. Pour ce faire, elle fait correspondre les états du nombre d'occupations à\n",
    "des chaînes binaires définies de manière appropriée,\n",
    "\\begin{align*}\n",
    "&\\ket{f_{M-1},\\dots,f_k,\\dots, f_1,f_0}\\mapsto \\ket{\\mathbf{b}} , &&b_k = \\sum_{j=0}^k B_{kj} \\, f_j \\, \\pmod 2,\\\\\n",
    "&B_1 = [1], &&B_{2^{x+1}}= \\begin{pmatrix} B_{2^x} & \\mathtt{A}\\\\ \\mathbb{O} & B_{2^x}\\end{pmatrix} ,\n",
    "\\end{align*}\n",
    "où la matrice binaire $B$ $M \\times M$ a la structure d'un arbre binaire,\n",
    "$\\mathbf{A}$ est une matrice $(2^x \\times 2^x)$ de 0, la rangée supérieure étant\n",
    "remplie de 1, et $\\mathbb{O}$ est une matrice zéro $(2^x \\times 2^x)$. À titre\n",
    "d'exemple, lorsque $M = 2,4$ ($x=0,1$), la matrice $B_{kj}$ est la suivante\n",
    "\\begin{align*}\n",
    "&\\mathtt{B}_2 = \\begin{pmatrix}1 & 1\\\\0 & 1 \\end{pmatrix}\n",
    "&\\mathtt{B}_4 = \\left(\\begin{array}{cc|cc}\n",
    "    1 & 1 & 1 & 1 \\\\\n",
    "    0 & 1 & 0 & 0 \\\\\\hline\n",
    "    0 & 0 & 1 & 1 \\\\\n",
    "    0 & 0 & 0 & 1 \n",
    " \\end{array}\\right)\n",
    "\\end{align*}\n",
    "\n",
    " Puisqu'elle ne nécessite que $\\mathcal{O}(\\log_2 M)$ opérateurs qubits, \\textbf{les transformations BK permettent un codage plus économique des\n",
    " opérateurs fermioniques en opérateurs qubits}, avec un coût réduit pour les  mesures et les circuits quantiques. Mais elle ne s'applique que sur des\n",
    " systèmes de $N$ est pair, c'est-à-dire $N=2^m$.\n",
    "\n"
   ]
  },
  {
   "cell_type": "code",
   "execution_count": null,
   "metadata": {},
   "outputs": [],
   "source": [
    "def BK(m):\n",
    "  I = [[1, 0], [0, 1]]\n",
    "  d = {}\n",
    "  d[0] = [1]\n",
    "  for k in range(0, m):\n",
    "      B = np.kron(I,d[k])\n",
    "      for l in range(2**k, 2**(k+1)):\n",
    "          B[0,l] = 1\n",
    "      d[k+1] = B\n",
    "  return d\n",
    "  "
   ]
  },
  {
   "cell_type": "code",
   "execution_count": null,
   "metadata": {},
   "outputs": [],
   "source": [
    "from qiskit.visualization import array_to_latex\n",
    "\n",
    "d = BK(3)\n",
    "for k, v in d.items():\n",
    "  s = \"B_{\"+str(2**k)+\"} = \"\n",
    "  display(array_to_latex(v, prefix=s, precision = 0))\n",
    "  print(\" \")"
   ]
  },
  {
   "attachments": {},
   "cell_type": "markdown",
   "metadata": {},
   "source": [
    "Convertissons les opérateurs fermioniques {\"+_0\":1.0}, {\"+_1\":1.0}, {\"+_2\":1.0}, {\"+_3\":1.0}, {\"+_4\":1.0} en opérateurs qubits avec la BKT:"
   ]
  },
  {
   "cell_type": "code",
   "execution_count": null,
   "metadata": {},
   "outputs": [],
   "source": [
    "for k in ({\"+_0\":1.0}, {\"+_1\":1.0}, {\"+_2\":1.0}, {\"+_3\":1.0}, {\"+_4\":1.0}):\n",
    "  qubit_op = label_to_qubit(k, BravyiKitaevMapper())\n",
    "  print(\"{}:\\n {}\\n\".format(k, qubit_op))"
   ]
  },
  {
   "cell_type": "code",
   "execution_count": null,
   "metadata": {},
   "outputs": [],
   "source": [
    "H2qubit_BK_op = BravyiKitaevMapper().map(H2fermionic_op)\n",
    "\n",
    "print(\"Number of items in the BKT Pauli list:\", len(H2qubit_BK_op))\n",
    "print(H2qubit_BK_op)"
   ]
  },
  {
   "attachments": {},
   "cell_type": "markdown",
   "metadata": {},
   "source": [
    "## SRésiudre le `ElectronicStructureProblem` de la molécule d'hydrogène\n",
    "\n",
    "Nous pouvons maintenant calculer les propriétés de l'etat fondamentale de l'intance `problem` de la molécule d'hydrogène."
   ]
  },
  {
   "cell_type": "code",
   "execution_count": null,
   "metadata": {},
   "outputs": [],
   "source": [
    "from qiskit_nature.second_q.algorithms import GroundStateEigensolver, NumPyMinimumEigensolverFactory"
   ]
  },
  {
   "cell_type": "code",
   "execution_count": null,
   "metadata": {},
   "outputs": [],
   "source": [
    "solver = GroundStateEigensolver(\n",
    "    QubitConverter(JordanWignerMapper()),\n",
    "    NumPyMinimumEigensolverFactory(),\n",
    ")\n",
    "\n",
    "H2result = solver.solve(H2problem)\n",
    "print(H2result)"
   ]
  },
  {
   "attachments": {},
   "cell_type": "markdown",
   "metadata": {},
   "source": [
    "## Molécule d'hydride de lithium\n",
    "\n",
    "**Do it yourself**"
   ]
  },
  {
   "attachments": {},
   "cell_type": "markdown",
   "metadata": {},
   "source": [
    "# Questions\n",
    "\n",
    "1. Which of the following terms is neglected in the BO approximation?\n",
    "\n",
    "    A.\tElectronic kinetic energy operator.\n",
    "\n",
    "    B.\tNuclear kinetic energy operator.\n",
    "\n",
    "    C.\tPotential energy between the electrons and nuclei. It is the sum of all electron-nucleus Coulomb interactions.\n",
    "\n",
    "    D.\tPotential energy operator arising from electron-electron Coulomb repulsions.\n",
    "    \n",
    "2. The Slater determinant wave function is antisymmetric with respect to: \n",
    "\n",
    "    A.\tthe exchange of two electrons (permutation of two rows) or, \n",
    "\n",
    "    B.\twith respect to the exchange of two spin orbitals (permutation of two columns)\n",
    "\n",
    "    C.\tOr both the above?\n",
    "\n",
    "3. Name three fermion to qubit transformations currently supported by Qiskit Nature.\n",
    "\n",
    "4. Name two fermion to qubit transformations that simulates a system of electrons with the same number of qubits as electrons.\n",
    "\n",
    "5.\tFor which transformation does the resulting Hamiltonian commute with the number spin up and number spin down operators which can be used to taper off two qubits?\n"
   ]
  },
  {
   "cell_type": "code",
   "execution_count": null,
   "metadata": {},
   "outputs": [],
   "source": [
    "# Display Qiskit Software and System information\n",
    "import qiskit.tools.jupyter\n",
    "%qiskit_version_table"
   ]
  }
 ],
 "metadata": {
  "kernelspec": {
   "display_name": "qiskit-env",
   "language": "python",
   "name": "qiskit-env"
  },
  "language_info": {
   "codemirror_mode": {
    "name": "ipython",
    "version": 3
   },
   "file_extension": ".py",
   "mimetype": "text/x-python",
   "name": "python",
   "nbconvert_exporter": "python",
   "pygments_lexer": "ipython3",
   "version": "3.10.9"
  },
  "orig_nbformat": 4
 },
 "nbformat": 4,
 "nbformat_minor": 2
}
