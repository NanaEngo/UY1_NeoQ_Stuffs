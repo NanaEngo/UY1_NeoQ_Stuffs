{
 "cells": [
  {
   "attachments": {},
   "cell_type": "markdown",
   "metadata": {},
   "source": [
    "# Qiskit Tutorial 2 - Circuits quantiques paramétrés\n",
    " 1. **S. G. Nana Engo**, serge.nana-engo@facsciences-uy1.cm\n",
    "    * Department of Physics, Faculty of Science, University of Yaounde I\n",
    "1. **J-P. Tchapet Njafa**, jean-pierre.tchapet-njafa@univ-maroua.cm\n",
    "    * Department of Physics, Faculty of Science, University of Maroua\n",
    "1. **O. Zang**, orlane.zang@facsciences-uy1.cm\n",
    "    * Department of Physics, Faculty of Science, University of Yaounde I\n",
    "  \n",
    "April 2023"
   ]
  },
  {
   "attachments": {},
   "cell_type": "markdown",
   "metadata": {},
   "source": [
    "Dans ce tutoriel, nous apprendrons comment construire des circuits paramétrés et attribuer des valeurs aux paramètres de circuit dans Qiskit.\n",
    "\n",
    "## Construire un circuit paramétré\n",
    "\n",
    "La création d'un circuit quantique avec des paramètres dans Qiskit n'est pas très différente de la création d'un circuit quantique standard. Nous initialisons simplement les paramètres à l'aide de la classe `qiskit.circuit.Parameter`  et les utilisons en conséquence lors de l'ajout de portes au circuit construit. \n",
    "\n",
    "Dans l'exemple suivant, nous utilisons des paramètres pour l'angle de rotation des portes quantiques rotationnelles."
   ]
  },
  {
   "cell_type": "code",
   "execution_count": null,
   "metadata": {},
   "outputs": [],
   "source": [
    "from qiskit import QuantumCircuit\n",
    "from qiskit.circuit import Parameter\n",
    "\n",
    "import numpy as np"
   ]
  },
  {
   "cell_type": "code",
   "execution_count": null,
   "metadata": {},
   "outputs": [],
   "source": [
    "#Parameters are initialized with a simple string identifier\n",
    "parameter_0 = Parameter('\\\\theta[0]')\n",
    "parameter_1 = Parameter('\\\\theta[1]')\n",
    "circuit = QuantumCircuit(1)\n",
    "\n",
    "#We can then pass the initialized parameters as the rotation angle argument to the Rx and Ry gates\n",
    "circuit.ry(theta = parameter_0, qubit = 0)\n",
    "circuit.rx(theta = parameter_1, qubit = 0)\n",
    "circuit.draw('latex')"
   ]
  },
  {
   "attachments": {},
   "cell_type": "markdown",
   "metadata": {},
   "source": [
    "Le même paramètre peut également être utilisé plusieurs fois dans le même circuit. Considérez la forme du circuit comme ci-dessus, mais avec le même paramètre utilisé à plusieurs reprises pour différentes portes."
   ]
  },
  {
   "cell_type": "code",
   "execution_count": null,
   "metadata": {},
   "outputs": [],
   "source": [
    "parameter = Parameter('\\\\theta')\n",
    "circuit = QuantumCircuit(1)\n",
    "circuit.ry(theta = parameter, qubit = 0)\n",
    "circuit.rx(theta = parameter, qubit = 0)\n",
    "circuit.draw('latex')"
   ]
  },
  {
   "attachments": {},
   "cell_type": "markdown",
   "metadata": {},
   "source": [
    "Pour plus de commodité, il existe également une classe `qiskit.circuit.ParameterVector` qui permet la création de plusieurs paramètres à la fois. Considérons l'exemple suivant d'un circuit `qiskit.circuit.library.RealAmplitudes`, qui consiste en une alternance de couches de portes $R_Y$ paramétrées et de portes $CX$ intriquées. La forme variationnelle [RealAmplitudes](https://qiskit.org/documentation/stubs/qiskit.circuit.library.RealAmplitudes.html) est couramment utilisée pour la classification dans l'apprentissage automatique quantique."
   ]
  },
  {
   "cell_type": "code",
   "execution_count": null,
   "metadata": {},
   "outputs": [],
   "source": [
    "from qiskit.circuit import ParameterVector\n",
    "from qiskit.circuit.library import RealAmplitudes\n",
    "ansatz = RealAmplitudes(3, entanglement='full', reps=2, insert_barriers=True) \n",
    "# \"reps\" indicates the number of repetitions of the entanglement.\n",
    "ansatz.decompose().draw('latex')"
   ]
  },
  {
   "cell_type": "code",
   "execution_count": null,
   "metadata": {},
   "outputs": [],
   "source": [
    "#Set the number of layers and qubits\n",
    "n=3\n",
    "num_layers = 2\n",
    "\n",
    "#ParameterVectors are initialized with a string identifier and an integer specifying the vector length\n",
    "parameters = ParameterVector('\\\\theta', n*(num_layers+1))\n",
    "\n",
    "\n",
    "circuit = QuantumCircuit(n)\n",
    "for layer in range(num_layers):\n",
    "    #Appending the parameterized Ry gates using parameters from the vector constructed above\n",
    "    for i in range(n):\n",
    "        circuit.ry(parameters[n*layer+i], i)\n",
    "    circuit.barrier()\n",
    "\n",
    "    #Appending the entangling CNOT gates\n",
    "    for i in range(n):\n",
    "        for j in range(i):\n",
    "                circuit.cx(j,i)\n",
    "    circuit.barrier()\n",
    "\n",
    "#Appending one additional layer of parameterized Ry gates\n",
    "for i in range(n):\n",
    "    circuit.ry(parameters[n*num_layers+i], i)\n",
    "\n",
    "circuit.draw('latex')"
   ]
  },
  {
   "attachments": {},
   "cell_type": "markdown",
   "metadata": {},
   "source": [
    "Nous pouvons inspecter les paramètres qui font partie du circuit quantique."
   ]
  },
  {
   "cell_type": "code",
   "execution_count": null,
   "metadata": {},
   "outputs": [],
   "source": [
    "circuit.parameters"
   ]
  },
  {
   "attachments": {},
   "cell_type": "markdown",
   "metadata": {},
   "source": [
    "## Attribution de valeurs aux paramètres\n",
    "Un circuit paramétré ne peut pas être exécuté sur un backend quantique tant que les paramètres n'ont pas reçu de valeurs fixes. Pour ce faire, nous pouvons utiliser les méthodes `QuantumCircuit`\n",
    "```\n",
    "assign_parameters(parameters, inplace = False)\n",
    "bind_paramètres(valeurs)\n",
    "```\n",
    "`bind_parameters` attribue des valeurs numériques aux paramètres du circuit, produisant toujours un nouveau circuit. Avec `assign_parameters`, on peut assigner des valeurs numériques ou substituer des paramètres par d'autres expressions de paramètres. De plus, avec `assign_parameters`, il est possible de remplacer les paramètres en place au lieu de générer un nouveau circuit. Les valeurs ou expressions de paramètres qui doivent être affectées aux paramètres du circuit peuvent être fournies soit sous forme de dictionnaire, où les clés de dictionnaire correspondent aux paramètres du circuit et les valeurs de dictionnaire sont les valeurs à lier, soit sous forme d'itérable de valeurs. Dans ce dernier cas, les valeurs sont attribuées aux paramètres dans le même ordre que les paramètres ont été ajoutés au circuit."
   ]
  },
  {
   "cell_type": "code",
   "execution_count": null,
   "metadata": {},
   "outputs": [],
   "source": [
    "#Create parameter dictionary with random values to bind\n",
    "param_dict = {parameter: np.random.random() for parameter in parameters}\n",
    "param_dict"
   ]
  },
  {
   "cell_type": "code",
   "execution_count": null,
   "metadata": {},
   "outputs": [],
   "source": [
    "#Assign parameters using the assign_parameters method\n",
    "bound_circuit = circuit.assign_parameters(parameters = param_dict)\n",
    "bound_circuit.draw('latex',scale=.8)"
   ]
  },
  {
   "attachments": {},
   "cell_type": "markdown",
   "metadata": {},
   "source": [
    "Considérons également le circuit suivant, où nous substituons un paramètre du circuit d'origine par une autre expression de paramètre."
   ]
  },
  {
   "cell_type": "code",
   "execution_count": null,
   "metadata": {},
   "outputs": [],
   "source": [
    "new_parameters = ParameterVector('Ψ',9)\n",
    "new_circuit = circuit.assign_parameters(parameters = [k*new_parameters[k] for k in range(9)])\n",
    "new_circuit.draw('latex')"
   ]
  },
  {
   "attachments": {},
   "cell_type": "markdown",
   "metadata": {},
   "source": [
    "La version liée (bound) du circuit peut maintenant être exécutée sur un dispositif quantique. Tenter d'exécuter un circuit quantique paramétré avec des paramètres non assignés générera une erreur."
   ]
  },
  {
   "attachments": {},
   "cell_type": "markdown",
   "metadata": {},
   "source": [
    "## Quelques circuits de `qiskit.circuit.library`\n",
    "\n",
    "Pour la resolution des d'optimisation et de calculs variationnels, il existe une classe de fonctions d'essai ou de circuits quantiques paramétrés connue sous l'appellation **Hardware Efficient Ansatz (HEA)**. Un HEA correspond à un état fortement intriqué obtenu dans le cadre d'une approche heuristique. Nous presentons ici quelques uns de implémentés dans `qiskit.circuit.library`.\n",
    "\n",
    "### `qiskit.circuit.library.RealAmplitudes`\n",
    "\n",
    "Le circuit `RealAmplitudes` se compose de couches alternées de rotations $\\mathtt{R}_Y(\\theta)$ et d'intrication $\\mathtt{CX}$. Le motif d'intrication peut être défini par l'utilisateur ou sélectionné dans un ensemble prédéfini. On l'appelle `RealAmplitudes` parce que les états quantiques préparés n'auront que des amplitudes réelles, la partie complexe étant toujours nulle.\n",
    "\n",
    "Les strategies d'intrication sont les suivantes:\n",
    "\n",
    "* `full` pour l'intrication de chaque 1-qubit avec tous les autres; </br>\n",
    "* `linear` pour l'intrication du 1-qubit $i$ avec le 1-qubit $i+1$ avec $i\\in\\{0,1,\\ldots,n-2\\}$, $n$ étant le nombre total de 1-qubits;</br>\n",
    "* `reverse_linear` pour l'intrication 1-qubit $i$ avec le 1-qubit $i+1$ avec $i\\in\\{n-2, n-3, \\ldots,1,0\\}$, $n$ étant le nombre total de 1-qbuits. Noter que si entanglement_blocks = `cx` alors cette option fournit le même opérateur unitaire que `full`' avec moins de portes d'intrication;</br>\n",
    "* `pairwise` pour l'intrication d'une couche 1-qubit $i$ avec le 1-qubit $i+1$ pour toutes les valeurs paires de $i$, puis une deuxième couche où un 1-qubit $i$ avec le 1-qubit $i+1$ pour toutes les valeurs impaires de $i$;</br>\n",
    "* `circular` pour l'intrication linéaire avec une intrication supplémentaire du premier et du dernier qubit avant la partie linéaire;</br>\n",
    "*  entanglement is linear entanglement but with an additional entanglement of the first and last qubit before the linear part."
   ]
  },
  {
   "cell_type": "code",
   "execution_count": null,
   "metadata": {},
   "outputs": [],
   "source": [
    "ansatz1 = RealAmplitudes(3, entanglement='linear', reps=2, insert_barriers=True)\n",
    "ansatz1.decompose().draw('latex') # decompose the layers into standard gates"
   ]
  },
  {
   "cell_type": "code",
   "execution_count": null,
   "metadata": {},
   "outputs": [],
   "source": [
    "ansatz2 = RealAmplitudes(4, entanglement=[[0,3], [0,2]],\n",
    " reps=2, insert_barriers=True)\n",
    "ansatz2.decompose().draw('latex')"
   ]
  },
  {
   "cell_type": "code",
   "execution_count": null,
   "metadata": {},
   "outputs": [],
   "source": [
    "ansatz3 = RealAmplitudes(4, reps=1, entanglement='circular', insert_barriers=True)\n",
    "ansatz3.decompose().draw('latex')"
   ]
  },
  {
   "attachments": {},
   "cell_type": "markdown",
   "metadata": {},
   "source": [
    "### `qiskit.circuit.library.TwoLocal`\n",
    "\n",
    "C'est bibliothèque de circuits dont `RealAmplitudes` est un cas particulier. Les portes de rotation et d'intrication peuvent être spécifiées comme \n",
    "* chaîne (par exemple 'ry' ou 'cx'), \n",
    "* type de porte (par exemple RYGate ou CXGate),\n",
    "* QuantumCircuit (par exemple un circuit à 1 qubit ou à 2 qubit)."
   ]
  },
  {
   "cell_type": "code",
   "execution_count": null,
   "metadata": {},
   "outputs": [],
   "source": [
    "from qiskit.circuit.library import TwoLocal\n",
    "\n",
    "two1 = TwoLocal(3, 'ry', 'cx', 'linear', reps=2, insert_barriers=True)\n",
    "two1.decompose().draw('latex')"
   ]
  },
  {
   "cell_type": "code",
   "execution_count": null,
   "metadata": {},
   "outputs": [],
   "source": [
    "two2 = TwoLocal(3, ['ry','rz'], 'cz', 'full', reps=1, insert_barriers=True)\n",
    "two2.decompose().draw('latex')"
   ]
  },
  {
   "cell_type": "code",
   "execution_count": null,
   "metadata": {},
   "outputs": [],
   "source": [
    "layer_1 = [(0, 1), (0, 2)]\n",
    "layer_2 = [(1, 2)]\n",
    "two3 = TwoLocal(3, 'x', 'cx', [layer_1, layer_2], reps=2, insert_barriers=True)\n",
    "two3.decompose().draw('latex')"
   ]
  },
  {
   "cell_type": "code",
   "execution_count": null,
   "metadata": {},
   "outputs": [],
   "source": [
    "entangler_map = [[0, 3], [0, 2]]  # entangle the first and last two-way\n",
    "two4 = TwoLocal(4, [], 'cry', entangler_map, reps=1)\n",
    "circuit = two4.compose(two4)\n",
    "circuit.decompose().draw('latex')  # note, that the parameters are the same!"
   ]
  },
  {
   "attachments": {},
   "cell_type": "markdown",
   "metadata": {},
   "source": [
    "### `qiskit.circuit.library.EfficientSU2`\n",
    "\n",
    "Le circuit `EfficientSU2` se compose de couches d'opérations 1-qubit SU(2) et d'intrications. SU(2) signifie groupe unitaire spécial de degré 2, ses éléments sont des matrices unitaires avec déterminant 1, telles que les portes de rotation de Pauli."
   ]
  },
  {
   "cell_type": "code",
   "execution_count": null,
   "metadata": {},
   "outputs": [],
   "source": [
    "from qiskit.circuit.library import EfficientSU2\n",
    "\n",
    "SU2ansatz1 = EfficientSU2(3, reps=1)\n",
    "SU2ansatz1.decompose().draw('latex')"
   ]
  },
  {
   "cell_type": "code",
   "execution_count": null,
   "metadata": {},
   "outputs": [],
   "source": [
    "SU2ansatz2 = EfficientSU2(4, su2_gates=['rx', 'y'], entanglement='circular', reps=1)\n",
    "SU2ansatz2.decompose().draw('latex')"
   ]
  },
  {
   "attachments": {},
   "cell_type": "markdown",
   "metadata": {},
   "source": [
    "## Quantum Feature Map\n",
    "\n",
    "Un *Quantum Feature Map* mappe de manière non linéaire une donnée classique **x** à un état quantique $|\\Phi(\\mathbf{x})\\rangle\\langle\\Phi(\\mathbf{x})|$, un vecteur dans le Hilbert espace des matrices des opérateurs statistiques. Par exemple, les classificateurs **Support Vector Machines** trouvent un hyperplan séparant chaque vecteur $|\\Phi(\\mathbf{x}_i)\\rangle\\langle\\Phi(\\mathbf{x}_i)|$ en fonction de son étiquette, pris en charge par une quantité réduite de vecteurs (les vecteurs dits de support). Un élément clé de la *feature map* n'est pas seulement l'utilisation de l'espace d'état quantique comme espace de caractéristiques, mais également la manière dont les données sont mappées dans cet espace de grande dimension.\n",
    "\n",
    "La construction de *features map* basées sur des circuits quantiques difficiles à simuler de manière classique est une étape importante vers l'obtention d'un avantage quantique par rapport aux approches classiques. [Havlicek _et al_.](https://arxiv.org/abs/1804.11326) ont proposé une famille de *features map* qui est supposée difficile à simuler de manière classique et qui peut être implémentée sous forme de circuits à courte profondeur sur des dispositifs quantiques NISQ. Une *quantum feature map* de profondeur $d$ est implémentée par l'opérateur unitaire\n",
    "\n",
    "$$ \\mathcal{U}_{\\Phi(\\mathbf{x})}=\\prod_d U_{\\Phi(\\mathbf{x})}H^{\\otimes n},\\ U_{\\Phi(\\mathbf {x})}=\\exp\\left(i\\sum_{S\\subseteq[n]}\\phi_S(\\mathbf{x})\\prod_{k\\in S} P_k\\right), $$\n",
    "\n",
    "qui contient des couches de portes Hadamard entrelacées avec des blocs d'intrications codant les données classiques comme indiqué dans le schéma de circuit ci-dessous pour $d=2$.\n",
    "\n",
    "<center><img src=\"./Graphics/uphi.PNG\" width=\"400\" /></center>\n",
    "\n",
    "Le nombre de qubits $n$ dans le circuit quantique est égal à la dimensionnalité des données classiques $\\mathbf{x}$, qui sont codées par les coefficients $\\phi_S(\\mathbf{x})$, où $S \\subseteq[n] = \\{1, \\ldots, n \\}$. Nous appelons le développement d'ordre $r$-ième la *features map* de cette famille de circuits lorsque $|S|\\leq r$. Dans `qiskit.circuit.library.ZZFeatureMap`, la valeur par défaut est le développement du second ordre $|S|\\leq 2$, ce qui donne $n$ singeltons $S=\\{i\\}$ et, selon le graphe de connectivité du dispositif quantique, jusqu'à $\\tfrac{n(n-1)}{2}$ couples pour coder les interactions non linéaires. Plus la borne supérieure $r$ est grande, plus les interactions seront prises en compte.\n",
    "\n",
    "Seules les contributions des portes $Z$ et $ZZ$ dans les blocs d'intrication sont considérées dans l'article de Havlicek _et al_. En général, les blocs peuvent être exprimés en termes de portes de Pauli $P_k \\in \\{\\mathbb{1}_k, X_k, Y_k, Z_k \\}$."
   ]
  },
  {
   "attachments": {},
   "cell_type": "markdown",
   "metadata": {},
   "source": [
    "### `qiskit.circuit.library.ZZFeatureMap`\n",
    "\n",
    "Ce sont des circuits du second ordre ($|S|\\leq 2$) de  Pauli (`PauliFeatureMap`). Ils ont les mêmes paramètres tels que `reps` et `data_map_function` ainsi qu'un paramètre `paulis` supplémentaire pour modifier le jeu de portes. Ce paramètre est une liste de chaînes, chacune représentant la ou les portes Pauli souhaitées. La valeur  `pauli=['Z', 'ZZ']`, qui équivaut à `ZZFeatureMap`. Il est à noter que les paramètres par défaut pour `data_map_func` dans `ZZFeatureMap` sont donnés par \n",
    "\n",
    "$$ \\phi_S:x\\mapsto \\begin{cases} x_i & \\text{if}\\ S=\\{i\\} \\\\ (\\pi-x_i)(\\pi-x_j) & \\text{if}\\ S=\\{i,j\\}\\end{cases} .$$"
   ]
  },
  {
   "cell_type": "code",
   "execution_count": null,
   "metadata": {},
   "outputs": [],
   "source": [
    "from qiskit.circuit.library import ZZFeatureMap, PauliFeatureMap\n",
    "\n",
    "prep0 = PauliFeatureMap(2, reps=1, paulis=['ZZ'])\n",
    "prep0.decompose().draw('latex')"
   ]
  },
  {
   "cell_type": "code",
   "execution_count": null,
   "metadata": {},
   "outputs": [],
   "source": [
    "prep1 = PauliFeatureMap(3, reps=1, paulis=['ZZ'])\n",
    "prep1.decompose().draw('latex', scale=.8)"
   ]
  },
  {
   "cell_type": "code",
   "execution_count": null,
   "metadata": {},
   "outputs": [],
   "source": [
    "prep2 = PauliFeatureMap(2, reps=1, paulis=['Z','ZZ'])\n",
    "prep2.decompose().draw('latex')"
   ]
  },
  {
   "cell_type": "code",
   "execution_count": null,
   "metadata": {},
   "outputs": [],
   "source": [
    "prep3 = ZZFeatureMap(2, reps=1)\n",
    "prep3.decompose().draw('latex')"
   ]
  },
  {
   "cell_type": "code",
   "execution_count": null,
   "metadata": {},
   "outputs": [],
   "source": [
    "prep4 = PauliFeatureMap(3, reps=1, paulis=['Z','ZZ'])\n",
    "prep4.decompose().draw('latex', scale=.7)"
   ]
  },
  {
   "cell_type": "code",
   "execution_count": null,
   "metadata": {},
   "outputs": [],
   "source": [
    "prep5 = ZZFeatureMap(3, reps=1)\n",
    "prep5.decompose().draw('latex', scale=.7)"
   ]
  },
  {
   "cell_type": "code",
   "execution_count": null,
   "metadata": {},
   "outputs": [],
   "source": [
    "classifier = ZZFeatureMap(2).compose(EfficientSU2(2))\n",
    "classifier.decompose().draw('latex',scale=.5)"
   ]
  },
  {
   "cell_type": "code",
   "execution_count": null,
   "metadata": {},
   "outputs": [],
   "source": [
    "classifier.num_parameters"
   ]
  },
  {
   "cell_type": "code",
   "execution_count": null,
   "metadata": {},
   "outputs": [],
   "source": [
    "classifier.parameters"
   ]
  },
  {
   "cell_type": "code",
   "execution_count": null,
   "metadata": {},
   "outputs": [],
   "source": []
  },
  {
   "cell_type": "code",
   "execution_count": null,
   "metadata": {
    "ExecuteTime": {
     "end_time": "2021-07-31T05:14:22.630626Z",
     "start_time": "2021-07-31T05:14:21.651868Z"
    }
   },
   "outputs": [],
   "source": [
    "import qiskit.tools.jupyter\n",
    "%qiskit_version_table"
   ]
  },
  {
   "cell_type": "code",
   "execution_count": null,
   "metadata": {},
   "outputs": [],
   "source": []
  }
 ],
 "metadata": {
  "anaconda-cloud": {},
  "kernelspec": {
   "display_name": "qiskit-env",
   "language": "python",
   "name": "qiskit-env"
  },
  "language_info": {
   "codemirror_mode": {
    "name": "ipython",
    "version": 3
   },
   "file_extension": ".py",
   "mimetype": "text/x-python",
   "name": "python",
   "nbconvert_exporter": "python",
   "pygments_lexer": "ipython3",
   "version": "3.10.10"
  },
  "nbTranslate": {
   "displayLangs": [
    "*"
   ],
   "hotkey": "alt-t",
   "langInMainMenu": true,
   "sourceLang": "en",
   "targetLang": "fr",
   "useGoogleTranslate": true
  },
  "varInspector": {
   "cols": {
    "lenName": 16,
    "lenType": 16,
    "lenVar": 40
   },
   "kernels_config": {
    "python": {
     "delete_cmd_postfix": "",
     "delete_cmd_prefix": "del ",
     "library": "var_list.py",
     "varRefreshCmd": "print(var_dic_list())"
    },
    "r": {
     "delete_cmd_postfix": ") ",
     "delete_cmd_prefix": "rm(",
     "library": "var_list.r",
     "varRefreshCmd": "cat(var_dic_list()) "
    }
   },
   "types_to_exclude": [
    "module",
    "function",
    "builtin_function_or_method",
    "instance",
    "_Feature"
   ],
   "window_display": false
  }
 },
 "nbformat": 4,
 "nbformat_minor": 4
}
