{
 "cells": [
  {
   "cell_type": "markdown",
   "metadata": {},
   "source": [
    "# QISKIT Lab 5 - Qubit Hamiltonian\n",
    "\n",
    "1. S. G. Nana Engo, serge.nana-engo@facsciences-uy1.cm\n",
    "    * Department of Physics, Faculty of Science, University of Yaounde I\n",
    "1. J-P. Tchapet Njafa, jean-pierre.tchapet-njafa@univ-maroua.cm\n",
    "    * Department of Physics, Faculty of Science, University of Maroua\n",
    "1. P. Djorwe, djorwepp@gmail.com\n",
    "    * Department of Physics, Faculty of Science, University of Ngaoundere\n",
    "       \n",
    "March 2023"
   ]
  },
  {
   "cell_type": "markdown",
   "metadata": {},
   "source": [
    "$\n",
    "\\newcommand{\\HH}{\\mathtt{H}}  \n",
    "\\newcommand{\\ad}{a^\\dagger}  \n",
    "\\newcommand{\\kb}[2]{|#1\\rangle\\langle#2|} \n",
    "\\newcommand{\\proj}[1]{|#1\\rangle\\langle#1|}\n",
    "\\newcommand{\\bk}[2]{\\langle#1|#2\\rangle}\n",
    "\\newcommand{\\ket}[1]{|#1\\rangle}\n",
    "$"
   ]
  },
  {
   "attachments": {},
   "cell_type": "markdown",
   "metadata": {},
   "source": [
    "## Correspondance (mapping) fermion qubit\n",
    "\n",
    "En simulation quantique, encoder un problème de structure électronique en seconde quantification sur un calculateur quantique revient à établir une correspondance entre les opérateurs d'échelle fermioniques et les opérateurs de Pauli. Les transformations de Jordan-Wigner (JWT) et de Bravyi-Kitaev (BKT) sont parmis les plus utilisés en calculs quantiques.\n",
    "\n",
    "### Décomposition de Pauli \n",
    "\n",
    "Comme $\\{\\mathbb{I}, \\mathtt{X}, \\mathtt{Y}, \\mathtt{Z}\\}$ forme une base complète pour tout opérateur Hermitien 1- ou multi-qubit, l'ingrédient clé des algorithmes variationnels est de\n",
    "décomposer l'Hamiltonien électronique en termes de produits des matrices de Pauli,\n",
    "\\begin{equation*}\n",
    "\\mathtt{P}_j=\\mathtt{X}_{M-1}^j\\otimes\\mathtt{X}_{M-2}^j\\otimes\\mathtt{X}_k^j\\otimes\\dots\\mathtt{X}_0^j,\n",
    "\\end{equation*}\n",
    "où les opérateurs de Pauli $\\mathtt{X}^j\\mathbb{I}n\\{\\mathbb{I},\\mathtt{X},\\mathtt{Y},\\mathtt{Z}\\}$ sont tels que\n",
    "\\begin{equation*}\n",
    "\\begin{aligned}\n",
    "    &\\mathtt{X}^i\\mathtt{X}^j=\\mathbb{I}\\delta_{ij}+i\\varepsilon_{ijk}\\mathtt{X}^k, \\\\\n",
    "    &\\varepsilon_{ijk}=\\begin{cases}+1 & \\text{ pour les permutations circulaires droites de } (i,j,k) \\\\\n",
    "    -1 & \\text{ pour les permutations circulaires gauches de }(i,j,k) \\\\\n",
    "    0 & \\text{ sinon} \\end{cases}\n",
    "\\end{aligned}\n",
    "\\end{equation*}\n",
    "\\begin{align*}\n",
    "&\\mathtt{X}:=\\kb{0}{1}+\\kb{1}{0}, &\\mathtt{Y}&:=i(-\\kb{0}{1}+\\kb{1}{0}), &\\mathtt{Z}:=\\proj{0}-\\proj{1}.\n",
    "\\end{align*}\n",
    "Les opérateurs de Pauli sont à la fois unitaires et Hermitiens.\n",
    "\n",
    "L'Hamiltonien total peut alors être représenté comme la combinaison linéaire de $\\mathtt{P}_j$,\n",
    "\\begin{align*}\n",
    "&\\mathtt{H}=\\sum_j^{N_k}w_j\\mathtt{P}_j=\\sum_j^{N_k}w_j\\left(\\bigotimes_i^{M-1}\\mathtt{X}_i^j\\right),\n",
    "&w_j=\\langle\\mathtt{H},\\mathtt{P}_j\\rangle=\\rm{Tr}(\\mathtt{H}^\\dagger\\mathtt{P}_j),\n",
    "\\end{align*}\n",
    "où $w_j$ sont les poids de la chaîne de Pauli $\\mathtt{P}_j$, i indique sur quel qubit\n",
    "l'opérateur agit, et j désigne le terme dans l'Hamiltonien.\n",
    "\n",
    "Pour un Hamiltonien de la 2e quantification, le nombre total de chaînes de Pauli\n",
    "$N_k$ dépend du nombre de termes $h_{pq}$ à 1-électron et $h_{pqrs}$ à\n",
    "2-électrons.\n",
    "\n",
    "\n",
    "### Opérateurs d'échelle qubit\n",
    "\n",
    "Ce sont les opérateurs suivants qui agissent localement sur les qubits :\n",
    "$$\n",
    "\\begin{array}{l|l}\n",
    "\\textbf{Opérateur qubit}             &  \\textbf{Description}\\\\\\hline\n",
    "\\mathbb{I}=\\begin{pmatrix}1 & 0 \\\\ 0 &1 \\end{pmatrix} &\\text{Identité}\\\\\n",
    "\\mathtt{Q}^-=\\begin{pmatrix}0 & 1 \\\\ 1 & 0 \\end{pmatrix}=\\frac12(\\mathtt{X} + i\\mathtt{Y}) =\\kb{1}{0} & \\text{Annihilation} \\\\\n",
    "\\mathtt{Q}^+=\\begin{pmatrix}0 & 0 \\\\ 1 & 0 \\end{pmatrix}=\\frac12(\\mathtt{X} - i\\mathtt{Y}) =\\kb{0}{1} & \\text{Création}\\\\\n",
    "\\mathtt{Q}^+\\mathtt{Q}^-=\\begin{pmatrix}0 & 0 \\\\ 0 &1 \\end{pmatrix}=\\frac12(\\mathbb{I} - \\mathtt{Z}) =\\proj{1} & \\text{Un nombre (particule)}\\\\\n",
    "\\mathtt{Q}^-\\mathtt{Q}^+=\\begin{pmatrix}0 & 0 \\\\ 0 &1 \\end{pmatrix}=\\frac12(\\mathbb{I} + \\mathtt{Z}) =\\proj{0} & \\text{Zéro nombre (trou)}\\\\\\hline\n",
    "\\end{array}\n",
    "$$\n",
    "Les opérateurs qubits sont antisymétrique: $\\{\\mathtt{Q}^+,\\mathtt{Q}^-\\}=\\mathtt{Q}^+\\mathtt{Q}^- + \\mathtt{Q}^-\\mathtt{Q}^+ = \\mathbb{I}$."
   ]
  },
  {
   "attachments": {},
   "cell_type": "markdown",
   "metadata": {},
   "source": [
    "### Transformation de Jordan-Wigner (JWT)\n",
    "\n",
    "<center><img src=\"Graphics/jw_mapping.png\" alt=\"Jordan Mapping\" width=\"700\"/></center>\n",
    "\n",
    "Elle stocke l'occupation de chaque spin-orbite dans chaque qubit, i.e.,\n",
    "\\begin{align*}\n",
    "&\\ket{f_{M-1},\\dots,f_k,\\dots, f_1,f_0} \\rightarrow \\ket{q_{m-1},\n",
    "\\dots,q_k,\\dots, q_1, q_0}, \n",
    "&q_k :=\\{\\uparrow,\\downarrow\\}\\equiv f_k \\in \\{0, 1 \\}.\n",
    "\\end{align*}\n",
    "et les opérateurs fermioniques de création et d'annihilation (respectivement\n",
    "$a_k$ et $\\ad_x$) sur des opérateurs de qubits non locaux de la forme\n",
    "\\begin{align*}\n",
    "\\begin{aligned}\n",
    "&a_k \\mapsto \\frac12(\\mathtt{X}_k - i\\mathtt{Y}_k)\\otimes \\mathtt{Z}_{k-1} \\otimes \\dots \\otimes \\mathtt{Z}_0\n",
    "\\equiv \\mathtt{Q}^+_k \\mathtt{Z}^{k-1}_0,\n",
    "&\\ad_k \\mapsto \\frac12(\\mathtt{X}_k + i \\mathtt{Y}_k)\\otimes\\mathtt{Z}^{k-1}\\otimes \\dots \\otimes \\mathtt{Z}_0 \n",
    "\\equiv \\mathtt{Q}_k^- \\mathtt{Z}^{k-1}_0.\n",
    "\\end{aligned}\n",
    "\\end{align*}\n",
    "\n",
    "\n",
    "Par exemple \n",
    "\\begin{array}{l|l}\n",
    "\\textbf{Fermion}  & \\textbf{Qubit}  \\\\\\hline\n",
    "a\\ket{0001}+b\\ket{0010}+c\\ket{0100}+d\\ket{1000} & a\\ket{0001}+b\\ket{0010}+c\\ket{0100}+d\\ket{1000} \\\\\n",
    "a_0,\\quad  a_1,\\quad  a_2,\\quad a_3 &\\mathtt{Q}^-_0,\\quad \\mathtt{Q}^-_1\\mathtt{Z}_0,\\quad \\mathtt{Q}^-_2\\mathtt{Z}_1 \\mathtt{Z}_0,\\quad \\mathtt{Q}^-_3\\mathtt{Z}_2 \\mathtt{Z}_1 \\mathtt{Z}_0 \\\\\n",
    "\\ad_0,\\quad \\ad_1,\\quad \\ad_2,\\quad \\ad_3 & \\mathtt{Q}^+_0,\\quad \\mathtt{Q}^+_1\\mathtt{Z}_0,\\quad \\mathtt{Q}^+_2\\mathtt{Z}_1 \\mathtt{Z}_0,\\quad \\mathtt{Q}^+_3\\mathtt{Z}_2 \\mathtt{Z}_1 \\mathtt{Z}_0 \\\\\n",
    "n_k = \\ad_k a_k &\\mathtt{Q}^+_k \\mathtt{Q}^-_k = \\proj{1}_k=\\frac12(\\mathtt{I} - \\mathtt{Z})_k \\\\\\hline\n",
    "\\end{array}\n"
   ]
  },
  {
   "cell_type": "markdown",
   "metadata": {},
   "source": [
    "### Construction des Hamiltoniens dans la représentation de Jordan-Wigner\n",
    "\n",
    "Pour traduire l'Hamiltonien en une somme d'opérateurs de Pauli, il suffit de remplacer chacun des opérateurs $\\ad$ et $a$ dans l'Hamiltonien fermionique par les chaînes d'opérateurs de Pauli correspondante. Lorsque l'on effectue cette substitution, il n'y a que cinq classes de termes dans l'Hamiltonien. Ces cinq classes correspondent aux différentes manières dont on peut choisir les $p,q$ et $p,q,r,s$ dans les intégrales  ou termes à un corps et à deux corps dans l'Hamiltonien. Ces cinq classes, pour le cas où $p>q>r>s$ (ordre normal) et orbitales à valeurs réelles, sont\n",
    "\n",
    "$$\n",
    "\\begin{array}{l|l|l}\n",
    "\\textbf{Opérateur} & \\textbf{Seconde Quantification} &  \\textbf{Représentation de Pauli} \\\\\\hline\n",
    "\\text{Nombre} & \\HH_{pp}=h_{pp}\\ad_p a_p& \\frac{h_{pp}}{2}(\\mathtt{I}_p-\\mathtt{Z}_p)\\\\\n",
    "\\text{Coulomb/Echange}&\\HH_{pq}=h_{pq}\\ad_p a_q + h_{qp}  \\ad_q a_p &\\frac{h_{pq}}{2}\\left(\\bigotimes_{k=q+1}^{p-1}\\mathtt{Z}_k\\right)(\\mathtt{X}_q\\mathtt{X}_p+\\mathtt{Y}_q\\mathtt{Y}_p)\\\\\n",
    "\\text{Excitation} &\\HH_{pqqp}=h_{pqqp} \\ad_p \\ad_q a_q a_p& \\frac{h_{pqqp}}{4}(\\mathtt{I}-\\mathtt{Z}_p-\\mathtt{Z}_q+\\mathtt{Z}_p \\mathtt{Z}_q)\\\\\n",
    "\\text{Nombre Exciation} &\\HH_{pqqr}=h_{pqqr}(\\ad_p \\ad_q a_q a_r + \\ad_r \\ad_q a_q a_p)&\\frac{h_{pqqr}}{4}\\left( \\bigotimes_{k=r+1}^{p-1}\\mathtt{Z}_k\\right)(\\mathtt{X}_r\\mathtt{X}_p+\\mathtt{Y}_r\\mathtt{Y}_p)(\\mathtt{I}-\\mathtt{Z}_q)\\\\\n",
    "\\text{Double excitation}&\\HH_{pqqr}=h_{pqrs}(\\ad_p \\ad_q a_r a_s+\\ad_s \\ad_r a_q a_p) &\n",
    "\\begin{split}\n",
    "\\frac{h_{pqrs}}{8}\\left(\\bigotimes_{j=s+1}^{r-1}\\mathtt{Z}_j\\right)\\left(\\bigotimes_{k=q+1}^{p-1}\\mathtt{Z}_k\\right)\\\\\n",
    "\\begin{pmatrix}\\mathtt{X}_s\\mathtt{X}_r\\mathtt{X}_q \\mathtt{X}_p-\\mathtt{X}_s\\mathtt{X}_r\\mathtt{Y}_q\\mathtt{Y}_p+\\mathtt{X}_s\\mathtt{Y}_r\\mathtt{X}_q\\mathtt{Y}_p\\\\+\\mathtt{Y}_s\\mathtt{X}_r\\mathtt{X}_q\\mathtt{Y}_p+\\mathtt{Y}_s\\mathtt{X}_r\\mathtt{Y}_q\\mathtt{X}_p-\\mathtt{Y}_s\\mathtt{Y}_r\\mathtt{X}_q\\mathtt{X}_p\\\\+\\mathtt{X}_s\\mathtt{Y}_r\\mathtt{Y}_q\\mathtt{X}_p+\\mathtt{Y}_s\\mathtt{Y}_r\\mathtt{Y}_q\\mathtt{Y}_p\\end{pmatrix}\\\\\\hline\n",
    "\\end{split}\n",
    " \\\\\\hline\n",
    "\\end{array}\n",
    "$$\n"
   ]
  },
  {
   "cell_type": "markdown",
   "metadata": {},
   "source": [
    "## Utilisation de Qiskit Nature"
   ]
  },
  {
   "cell_type": "code",
   "execution_count": null,
   "metadata": {},
   "outputs": [],
   "source": [
    "import numpy as np"
   ]
  },
  {
   "cell_type": "code",
   "execution_count": null,
   "metadata": {},
   "outputs": [],
   "source": [
    "from qiskit_nature.units import DistanceUnit\n",
    "from qiskit_nature.second_q.drivers import PySCFDriver\n",
    "\n",
    "H2_driver = PySCFDriver(\n",
    "    atom=\"H 0 0 0; H 0 0 0.735\",\n",
    "    basis=\"sto3g\",\n",
    "    charge=0,\n",
    "    spin=0,\n",
    "    unit=DistanceUnit.ANGSTROM,\n",
    ")\n",
    "\n",
    "H2_problem = H2_driver.run()\n",
    "H2_hamiltonian = H2_problem.hamiltonian\n",
    "H2_fermionic_op = H2_hamiltonian.second_q_op()"
   ]
  },
  {
   "cell_type": "code",
   "execution_count": null,
   "metadata": {},
   "outputs": [],
   "source": [
    "from qiskit_nature.second_q.mappers import QubitConverter\n",
    "from qiskit_nature.second_q.mappers import ParityMapper, JordanWignerMapper, BravyiKitaevMapper\n",
    "from qiskit_nature.second_q.operators import FermionicOp"
   ]
  },
  {
   "cell_type": "markdown",
   "metadata": {},
   "source": [
    "Définissons une fonction `label_to_qubit()` pour convertir les opérateurs fermioniques en opérateurs qubits."
   ]
  },
  {
   "cell_type": "code",
   "execution_count": null,
   "metadata": {},
   "outputs": [],
   "source": [
    "# A FermionicOp is initialized with a dictionary, mapping terms to their respective coefficients\n",
    "def label_to_qubit(label, converter):\n",
    "    qubit_converter = QubitConverter(converter)\n",
    "    f_op = FermionicOp(label)\n",
    "    qubit_op = qubit_converter.convert(f_op)\n",
    "    return qubit_op"
   ]
  },
  {
   "cell_type": "markdown",
   "metadata": {},
   "source": [
    "Convertissons les opérateurs fermioniques {\"+_0\":1.0}, {\"+_1\":1.0}, {\"+_2\":1.0}, {\"+_3\":1.0}, {\"+_4\":1.0} en opérateurs qubits avec la JWT:"
   ]
  },
  {
   "cell_type": "code",
   "execution_count": null,
   "metadata": {},
   "outputs": [],
   "source": [
    "for k in ({\"+_0\":1.0}, {\"+_1\":1.0}, {\"+_2\":1.0}, {\"+_3\":1.0}, {\"+_4\":1.0}):\n",
    "  qubit_op = label_to_qubit(k, JordanWignerMapper())\n",
    "  print(\"{}:\\n {}\\n\".format(k, qubit_op))"
   ]
  },
  {
   "cell_type": "code",
   "execution_count": null,
   "metadata": {},
   "outputs": [],
   "source": [
    "H2_qubit_JW_op = JordanWignerMapper().map(H2_fermionic_op)\n",
    "\n",
    "print(\"Number of items in the JWT Pauli list:\", len(H2_qubit_JW_op))\n",
    "print(H2_qubit_JW_op)"
   ]
  },
  {
   "cell_type": "markdown",
   "metadata": {},
   "source": [
    "`QubitConverter` peut permettre d'effectuer des réductions de qubit, basées sur la recherche de symétries $\\mathbb{Z}2$ dans l'espace de Hilbert du qubit. Une exigence pour que cela soit utile est que l'on sache dans quel sous-espace de symétrie, on doit rechercher la solution d'intérêt réelle. Cela peut être un peu délicat, mais heureusement, les classes de problèmes de Qiskit Nature nous fournissent un utilitaire pour déterminer automatiquement ce sous-espace correct.\n",
    "\n",
    "Voici comment nous pouvons l'utiliser:"
   ]
  },
  {
   "cell_type": "code",
   "execution_count": null,
   "metadata": {},
   "outputs": [],
   "source": [
    "H2__JWT_converter = QubitConverter(JordanWignerMapper(), z2symmetry_reduction=\"auto\")\n",
    "\n",
    "H2_z2qubit_JW_op = H2__JWT_converter.convert(H2_fermionic_op, sector_locator=H2_problem.symmetry_sector_locator)\n",
    "\n",
    "print(\"Number of items in the JWT Z2 Pauli list:\", len(H2_z2qubit_JW_op))\n",
    "print(H2_z2qubit_JW_op)"
   ]
  },
  {
   "cell_type": "code",
   "execution_count": null,
   "metadata": {},
   "outputs": [],
   "source": [
    "print(H2__JWT_converter._z2symmetries)"
   ]
  },
  {
   "cell_type": "code",
   "execution_count": null,
   "metadata": {},
   "outputs": [],
   "source": [
    "H2__JW_particle_number_op = H2_problem.properties.particle_number.second_q_ops()[\"ParticleNumber\"]\n",
    "print(H2__JW_particle_number_op)"
   ]
  },
  {
   "attachments": {},
   "cell_type": "markdown",
   "metadata": {},
   "source": [
    "### Transformation de parité\n",
    "\n",
    "C'est la transformation dual de la JWT: les opérateurs de la parité sont légers alors que les les opérateurs d'occupation sont lourds. Le calcul des\n",
    "parités peut être réalisé en utilisant uniquement des opérateurs $\\mathtt{Z}$ à 1-qubit en utilisant la transformation de parité suivante,\n",
    "\\begin{align*}\n",
    "&\\ket{f_{M-1},\\dots,f_k,\\dots, f_1,f_0} \\mapsto \\ket{\\mathbf{p}} , \\mathtt{Q}\\quad p_k = \\sum_{j=0}^k q_j \\pmod 2 = q_0\\oplus\\dots\\oplus q_k\\\\\n",
    "& \\ad_k \\mapsto \\mathtt{X}_{M-1} \\otimes \\dots \\otimes \\mathtt{X}_{k+1} \\otimes\n",
    "\\frac12(\\mathtt{X}_k\\otimes \\mathtt{Z}_{k-1} - i \\mathtt{Y}_k)\\equiv \\mathtt{X}_{M-1} \\otimes \\dots \\otimes \\mathtt{X}_{k+1} \\otimes \\mathtt{P}_k^+,\\\\\n",
    "& a_k \\mapsto \\mathtt{X}_{M-1} \\otimes \\dots \\otimes \\mathtt{X}_{k+1} \\otimes\n",
    "\\frac12(\\mathtt{X}_k\\otimes \\mathtt{Z}_{k-1} + i \\mathtt{Y}_k)\\equiv \\mathtt{X}_{M-1} \\otimes \\dots \\otimes \\mathtt{X}_{k+1} \\otimes \\mathtt{P}_k^-,\\\\\n",
    "&\\mathtt{P}_k^\\pm =Q^\\pm_k \\otimes \\proj{0}_{k-1} - Q^\\mp_k \\otimes \\proj{1}_{k-1} .\n",
    "\\end{align*}\n",
    "\n",
    "$$\n",
    "\\begin{array}{l|l}\n",
    "\\textbf{Fermion} & \\textbf{Qubit} \\\\ \\hline\n",
    "a\\ket{0001}+b\\ket{0010}+c\\ket{0100}+d\\ket{1000} & a\\ket{1111}+b\\ket{1110}+c\\ket{1100}+d\\ket{1000}  \\\\\n",
    "a_0 ,\\quad a_1 ,\\quad a_2 ,\\quad a_3 &\n",
    "\\begin{split}\n",
    "&\\mathtt{X}_3\\mathtt{X}_2\\mathtt{X}_1Q^-_0 ,\\quad \\mathtt{X}_3\\mathtt{X}_2\\big( Q^-_1\\proj{0}_0 - Q^+_1\\proj{1}_0 \\big) ,\\\\ &\\mathtt{X}_3\\big( Q^-_2\\proj{0}_1 - Q^+_2\\proj{1}_1 \\big) ,\\quad Q^-_3\\proj{0}_2 - Q^+_3\\proj{1}_2\n",
    "\\end{split} \\\\\n",
    "\\ad_0 ,\\quad \\ad_1 ,\\quad \\ad_2 ,\\quad \\ad_3 &\n",
    "\\begin{split}\n",
    "& \\mathtt{X}_3\\mathtt{X}_2\\mathtt{X}_1Q^+_0 ,\\quad \\mathtt{X}_3\\mathtt{X}_2\\big( Q^+_1\\proj{0}_0 - Q^-_1\\proj{1}_0 \\big) ,\\\\ &\\mathtt{X}_3\\big( Q^+_2\\proj{0}_1 - Q^-_2\\proj{1}_1 \\big) ,\\quad Q^+_3\\proj{0}_2 - Q^-_3\\proj{1}_2 \n",
    "\\end{split}\\\\\n",
    "n_k = \\ad_k a_k & \\proj{1}_{k=0}=\\frac12(\\mathtt{I} - \\mathtt{Z}_0) ,\\quad  \\frac12(\\mathtt{I} - \\mathtt{Z}_k\\mathtt{Z}_{k-1})_{k=1,2,3}\\\\\\hline\n",
    "\\end{array}\n",
    "$$"
   ]
  },
  {
   "cell_type": "markdown",
   "metadata": {},
   "source": [
    "Convertissons les opérateurs fermioniques {\"+_0\":1.0}, {\"+_1\":1.0}, {\"+_2\":1.0}, {\"+_3\":1.0}, {\"+_4\":1.0} en opérateurs qubits avec la transformation de la parité :"
   ]
  },
  {
   "cell_type": "code",
   "execution_count": null,
   "metadata": {},
   "outputs": [],
   "source": [
    "for k in ({\"+_0\":1.0}, {\"+_1\":1.0}, {\"+_2\":1.0}, {\"+_3\":1.0}, {\"+_4\":1.0}):\n",
    "  qubit_op = label_to_qubit(k, ParityMapper())\n",
    "  print(\"{}:\\n {}\\n\".format(k, qubit_op))\n"
   ]
  },
  {
   "cell_type": "code",
   "execution_count": null,
   "metadata": {},
   "outputs": [],
   "source": [
    "H2_qubit_P_op = ParityMapper().map(H2_fermionic_op)\n",
    "\n",
    "print(\"Number of items in the PT Pauli list:\", len(H2_qubit_P_op))\n",
    "print(H2_qubit_P_op)"
   ]
  },
  {
   "cell_type": "markdown",
   "metadata": {},
   "source": [
    "Pour le cas des problèmes dans lesquels on veut conserver le nombre de particules de chaque espèce de spin, la transformation de la parité présente un avantage majeur: elle nous permet de supprimer 2 qubits, car les informations qu'ils contiennent deviennent redondantes. Étant donné que Qiskit Nature organise les qubits dans l'ordre des blocs, de sorte que la première moitié code le spin alpha et la seconde moitié les informations de spin bêta, cela signifie que nous pouvons supprimer le N/2-ième et le N-ième qubit.\n",
    "\n",
    "Pour ce faire, vous devez utiliser le `QubitConverter` comme suit :"
   ]
  },
  {
   "cell_type": "code",
   "execution_count": null,
   "metadata": {},
   "outputs": [],
   "source": [
    "converter = QubitConverter(ParityMapper(), two_qubit_reduction=True)"
   ]
  },
  {
   "cell_type": "markdown",
   "metadata": {},
   "source": [
    "Pour que la réduction fonctionne, il faut également fournir le nombre de particules :"
   ]
  },
  {
   "cell_type": "code",
   "execution_count": null,
   "metadata": {},
   "outputs": [],
   "source": [
    "H2_qubit_P2r_op = converter.convert(H2_fermionic_op, num_particles=H2_problem.num_particles)\n",
    "\n",
    "print(\"Number of items in the PT 2QR Pauli list:\", len(H2_qubit_P2r_op))\n",
    "print(H2_qubit_P2r_op)"
   ]
  },
  {
   "cell_type": "markdown",
   "metadata": {},
   "source": [
    "### Transformation de Bravyi-Kitaev (BKT)\n",
    "\n",
    "Cette [transformation](J. T. Seeley, M. J. Richard, and P. J. Love,\\emph{ The Bravyi-Kitaev transformation for quantum computation of electronic structure}, J. Chem. Phys \\textbf{137}, 224109 (2012).) combine la localité des nombres d'occupation et celle des parités, afin d'établir une correspondance entre les opérateurs de création et\n",
    "de destruction fermioniques et les opérateurs qubits sur $\\mathcal{O}(\\log_2M)$. Pour ce faire, elle fait correspondre les états du nombre d'occupations à\n",
    "des chaînes binaires définies de manière appropriée,\n",
    "\\begin{align*}\n",
    "&\\ket{f_{M-1},\\dots,f_k,\\dots, f_1,f_0}\\mapsto \\ket{\\mathbf{b}} , &&b_k = \\sum_{j=0}^k B_{kj} \\, f_j \\, \\pmod 2,\\\\\n",
    "&B_1 = [1], &&B_{2^{x+1}}= \\begin{pmatrix} B_{2^x} & \\mathtt{A}\\\\ \\mathbb{O} & B_{2^x}\\end{pmatrix} ,\n",
    "\\end{align*}\n",
    "où la matrice binaire $B$ $M \\times M$ a la structure d'un arbre binaire,\n",
    "$\\mathbf{A}$ est une matrice $(2^x \\times 2^x)$ de 0, la rangée supérieure étant\n",
    "remplie de 1, et $\\mathbb{O}$ est une matrice zéro $(2^x \\times 2^x)$. À titre\n",
    "d'exemple, lorsque $M = 2,4$ ($x=0,1$), la matrice $B_{kj}$ est la suivante\n",
    "\\begin{align*}\n",
    "&\\mathtt{B}_2 = \\begin{pmatrix}1 & 1\\\\0 & 1 \\end{pmatrix}\n",
    "&\\mathtt{B}_4 = \\left(\\begin{array}{cc|cc}\n",
    "    1 & 1 & 1 & 1 \\\\\n",
    "    0 & 1 & 0 & 0 \\\\\\hline\n",
    "    0 & 0 & 1 & 1 \\\\\n",
    "    0 & 0 & 0 & 1 \n",
    " \\end{array}\\right)\n",
    "\\end{align*}\n",
    "\n",
    " Puisqu'elle ne nécessite que $\\mathcal{O}(\\log_2 M)$ opérateurs qubits, \\textbf{les transformations BK permettent un codage plus économique des\n",
    " opérateurs fermioniques en opérateurs qubits}, avec un coût réduit pour les  mesures et les circuits quantiques. Mais elle ne s'applique que sur des\n",
    " systèmes de $N$ est pair, c'est-à-dire $N=2^m$.\n",
    "\n"
   ]
  },
  {
   "cell_type": "code",
   "execution_count": null,
   "metadata": {},
   "outputs": [],
   "source": [
    "def BK(m):\n",
    "  I = [[1, 0], [0, 1]]\n",
    "  d = {}\n",
    "  d[0] = [1]\n",
    "  for k in range(0, m):\n",
    "      B = np.kron(I,d[k])\n",
    "      for l in range(2**k, 2**(k+1)):\n",
    "          B[0,l] = 1\n",
    "      d[k+1] = B\n",
    "  return d\n",
    "  "
   ]
  },
  {
   "cell_type": "code",
   "execution_count": null,
   "metadata": {},
   "outputs": [],
   "source": [
    "from qiskit.visualization import array_to_latex\n",
    "\n",
    "d = BK(3)\n",
    "for k, v in d.items():\n",
    "  s = \"B_{\"+str(2**k)+\"} = \"\n",
    "  display(array_to_latex(v, prefix=s, precision = 0))\n",
    "  print(\" \")"
   ]
  },
  {
   "cell_type": "markdown",
   "metadata": {},
   "source": [
    "Convertissons les opérateurs fermioniques {\"+_0\":1.0}, {\"+_1\":1.0}, {\"+_2\":1.0}, {\"+_3\":1.0}, {\"+_4\":1.0} en opérateurs qubits avec la BKT:"
   ]
  },
  {
   "cell_type": "code",
   "execution_count": null,
   "metadata": {},
   "outputs": [],
   "source": [
    "for k in ({\"+_0\":1.0}, {\"+_1\":1.0}, {\"+_2\":1.0}, {\"+_3\":1.0}, {\"+_4\":1.0}):\n",
    "  qubit_op = label_to_qubit(k, BravyiKitaevMapper())\n",
    "  print(\"{}:\\n {}\\n\".format(k, qubit_op))"
   ]
  },
  {
   "cell_type": "code",
   "execution_count": null,
   "metadata": {},
   "outputs": [],
   "source": [
    "H2_qubit_BK_op = BravyiKitaevMapper().map(H2_fermionic_op)\n",
    "\n",
    "print(\"Number of items in the BKT Pauli list:\", len(H2_qubit_BK_op))\n",
    "print(H2_qubit_BK_op)"
   ]
  },
  {
   "cell_type": "markdown",
   "metadata": {},
   "source": [
    "## Résoudre le `ElectronicStructureProblem` de la molécule d'hydrogène\n",
    "\n",
    "Nous pouvons maintenant calculer les propriétés de l'etat fondamentale de l'instance `problem` de la molécule d'hydrogène."
   ]
  },
  {
   "cell_type": "code",
   "execution_count": null,
   "metadata": {},
   "outputs": [],
   "source": [
    "from qiskit_nature.second_q.algorithms import GroundStateEigensolver\n",
    "from qiskit.algorithms.minimum_eigensolvers import NumPyMinimumEigensolver"
   ]
  },
  {
   "cell_type": "code",
   "execution_count": null,
   "metadata": {},
   "outputs": [],
   "source": [
    "solver = GroundStateEigensolver(\n",
    "    QubitConverter(JordanWignerMapper()),\n",
    "    NumPyMinimumEigensolver(),\n",
    ")\n",
    "\n",
    "H2_result = solver.solve(H2_problem)\n",
    "print(H2_result)"
   ]
  },
  {
   "cell_type": "markdown",
   "metadata": {},
   "source": [
    "## Cas de la molécule d'hydride de lithium\n",
    "\n",
    "<center><img src=\"Graphics/Lithium_hydride.png\" width=\"150\"/></center>\n",
    "\n",
    "Do it yourself\n",
    "\n",
    "```\n",
    "LiH_molecule = Molecule(geometry=[['Li', [0., 0., 0.]], ['H', [0., 0., 1.5474]]], charge=0, multiplicity=1)\n",
    "```\n"
   ]
  },
  {
   "attachments": {},
   "cell_type": "markdown",
   "metadata": {},
   "source": [
    "## Cas de la molécule d'eau\n",
    "\n",
    "### Hamiltionien électronique\n",
    "\n",
    "<center><img src=\"Graphics/Water_HF_references.png\" width=\"450\"/></center>\n",
    "\n",
    "La molécule d'eau a un nombre total de dix électrons. Le déterminant de Slater résultant de l'occupation des cinq premières orbitales moléculaires d'énergie la plus basse avec deux électrons *appariés* dans chaque orbitale, l'un avec spin-up et l'autre avec spin-down, est dit être un état HF à couche fermée avec une *multiplicité de spin=1*. Alternativement, si nous définissons une occupation où les quatre premières orbitales sont doublement occupées et les deux suivantes sont occupées individuellement par des électrons *non appariés* avec spin-up, on dit qu'il s'agit d'un état HF à couche ouverte avec une *multiplicité de spin=3*.\n",
    "\n",
    "Il n'est pas superflue de rappeler à nouveau ce qui suit.\n",
    "\n",
    "* La multiplicité, que nous pouvons définir comme $(N_{\\rm unpaired}^e + 1)$ avec $N_{\\rm unpaired}^e$ le nombre d'électrons non appariés, détermine l'occupation des orbitales moléculaires dans les calculs HF. \n",
    "\n",
    "* Les orbitales moléculaires sont généralement représentées comme une combinaison linéaire de\n",
    "**orbitales atomiques**. Les coefficients de d'expansion dans la base atomique sont\n",
    "calculé en utilisant la méthode de Hartree-Fock (HF). Dans l'approximation HF, chaque électron de la molécule est traité comme une particule **indépendante** qui se déplace sous l'influence du Coulomb potentiel dû aux noyaux, et un champ moyen généré par tous les autres\n",
    "électrons. Les coefficients optimisés sont précisément ce dont on a besoin pour\n",
    "construire le Hamiltonien de la seconde quantification.\n",
    "\n",
    "### Active-Space reduction\n",
    "\n",
    "En général, les méthodes de corrélation d'électrons post-Hartree-Fock étendent la fonction d'état de la molécule autour de la solution Hartree-Fock, en ajoutant des déterminants de Slater, communément appelés **configurations**, qui résultent de l'excitation des électrons des orbitales HF occupées vers les orbitales inoccupées. Malgré le fait qu'il existe différentes techniques pour tronquer cette expansion, le nombre de configurations augmente de manière combinatoire avec le nombre d'électrons et de fonctions de base et la tâche de trouver les coefficients d'expansion de la fonction d'état devient numériquement insoluble si nous voulons inclure l'ensemble complet des orbitales moléculaires. .\n",
    "\n",
    "Afin de contourner l'explosion combinatoire, nous pouvons créer un espace actif en classant les orbitales moléculaires en orbitales doublement occupées, actives et externes :\n",
    "\n",
    "* les orbitales doublement occupées (**core orbitals**) sont toujours occupées par deux électrons;\n",
    "* les orbitales actives (**valence orbitals**) peuvent être occupées par zéro, un ou deux électrons.\n",
    "* les orbitales externes (**virtual orbitals**) ne sont jamais occupées.\n",
    "\n",
    "<center><img src=\"Graphics/Sketch_active_space.png\" width=\"450\"/></center>\n",
    "\n",
    "Dans cette approximation, un certain nombre d'*électrons actifs* peuvent peupler les *orbitales actives* à partir desquelles nous pouvons générer un espace de taille finie de déterminants de Slater.\n",
    "\n",
    "**Note**</br>\n",
    "Le nombre de *spin-orbitales actives* détermine le *nombre de qubits* requis pour effectuer des simulations quantiques de la structure électronique de la molécule.\n",
    "\n",
    "Pour le cas de la molécule d'eau décrite à l'aide d'un ensemble de base minimal, nous avons un total de dix électrons occupant les cinq premières des sept orbitales moléculaires dans l'état de référence HF. \n",
    "\n",
    "Avec `qiskit_nature.second_q.transformers.ActiveSpaceTransformer`, la réduction se fait en calculant l'opérateur de Fock inactif qui est défini comme\n",
    "$$ F^I_{pq} = h_{pq} + \\sum_i (2 g{iipq} - g_{iqpi})\n",
    "$$\n",
    "et l'énergie inactive qui est donnée par\n",
    "$$ E^I = \\sum_j h_{ji} + F^I_{jj} = \\frac12 \\sum_{ij} \\Big(h_{ij} + F^I_{jj}\\Big) D^I_{ij} ,$$\n",
    "où $i$ et $j$ itèrent sur les orbitales inactives. En utilisant l'opérateur de Fock inactif à la place des intégrales à un électron, la description de l'espace actif contient un potentiel effectif généré par les électrons inactifs. Par conséquent, cette méthode permet l'exclusion des électrons non centraux tout en conservant une description de haute qualité du système."
   ]
  },
  {
   "cell_type": "code",
   "execution_count": null,
   "metadata": {},
   "outputs": [],
   "source": [
    "H2O_driver = PySCFDriver(\n",
    "    atom='O 0.0 0.0 0.0; H 0.757 0.586 0.0; H -0.757 0.586 0.0',\n",
    "    basis=\"sto3g\",\n",
    "    charge=0,\n",
    "    spin=0,\n",
    "    unit=DistanceUnit.ANGSTROM,\n",
    ")\n",
    "\n",
    "H2O_problem = H2O_driver.run()\n",
    "H2O_hamiltonian = H2O_problem.hamiltonian\n",
    "H2O_coefficients = H2O_hamiltonian.electronic_integrals\n",
    "H2O_fermionic_op = H2O_hamiltonian.second_q_op()\n"
   ]
  },
  {
   "cell_type": "code",
   "execution_count": null,
   "metadata": {},
   "outputs": [],
   "source": [
    "H2O_problem.reference_energy"
   ]
  },
  {
   "cell_type": "code",
   "execution_count": null,
   "metadata": {},
   "outputs": [],
   "source": [
    "print(f'Molecule strcuture: {H2O_problem.molecule}')\n",
    "print(f'Reference energy: {H2O_problem.reference_energy}')\n",
    "print(f'Nuclear repulsion energy: {H2O_problem.nuclear_repulsion_energy}')\n",
    "print(f'Number of particules: {H2O_problem.num_particles}')\n",
    "print(f'Number of spatial orbitals: {H2O_problem.num_spatial_orbitals}')\n",
    "print(f'Number of molecular orbitals: {H2O_problem.num_spin_orbitals}')\n",
    "print(f'Number of alpha electrons: {H2O_problem.num_alpha}')\n",
    "print(f'Number of beta electrons: {H2O_problem.num_beta}')\n",
    "print(f'Occupations of the alpha-spin orbitals: {H2O_problem.orbital_occupations}')\n"
   ]
  },
  {
   "attachments": {},
   "cell_type": "markdown",
   "metadata": {},
   "source": [
    "### `FreezeCoreTransformer`\n",
    "\n",
    "Ce transformateur vous offre un moyen très simple de geler les _core orbitales_ du système moléculaire. Il nécessite que votre problème contienne l'attribut `.molecule` à partir duquel il peut extraire les informations atomiques nécessaires pour effectuer cette réduction d'espace de Hilbert.\n",
    "\n",
    "Appliquons `qiskit_nature.second_q.transformers.FreezeCoreTransforme` à notre molécule qui, dans ce cas, supprimera la seule orbitale d'énergie la plus basse (réduisant le nombre total d'orbitales spatiales de 7 à 6) et supprimant également les deux électrons de l'intérieur de cette orbitale (comme reflété par le nombre modifié de particules)."
   ]
  },
  {
   "cell_type": "code",
   "execution_count": null,
   "metadata": {},
   "outputs": [],
   "source": [
    "from qiskit_nature.second_q.transformers import FreezeCoreTransformer\n",
    "\n",
    "fc_transformer = FreezeCoreTransformer()\n",
    "\n",
    "fc_H2O_problem = fc_transformer.transform(H2O_problem)\n",
    "print(f'Number of particules with FC: {fc_H2O_problem.num_particles}')\n",
    "print(f'Number of spatial orbitals with FC: {fc_H2O_problem.num_spatial_orbitals}')\n"
   ]
  },
  {
   "attachments": {},
   "cell_type": "markdown",
   "metadata": {},
   "source": [
    "Notez que cette transformation se traduira par un décalage d'énergie constant résultant de la suppression des électrons du noyau. Ce décalage est enregistré à l'intérieur de l'attribut `constants`\" de l'Hamiltonien."
   ]
  },
  {
   "cell_type": "code",
   "execution_count": null,
   "metadata": {},
   "outputs": [],
   "source": [
    "print(fc_H2O_problem.hamiltonian.constants)"
   ]
  },
  {
   "attachments": {},
   "cell_type": "markdown",
   "metadata": {},
   "source": [
    "Vous pouvez fournir une liste d'indices orbitaux (se rappeler qu'on commence par 0) qui doivent être supprimés du système.\n",
    "\n",
    "> **Remarque :** Ces orbitales *doivent* être inoccupées, sinon vous subirez une erreur importante dans votre calcul. Vous devez absolument savoir quelles orbitales vous supprimez, car la suppression des mauvaises orbitales peut toujours entraîner de grandes erreurs si la dynamique des systèmes est modifiée de manière significative."
   ]
  },
  {
   "cell_type": "code",
   "execution_count": null,
   "metadata": {},
   "outputs": [],
   "source": [
    "fc_H2O_transformer = FreezeCoreTransformer(remove_orbitals=[5, 6])\n",
    "\n",
    "fc_H2O_problem = fc_transformer.transform(H2O_problem)\n",
    "print(fc_H2O_problem.num_particles)\n",
    "print(fc_H2O_problem.num_spatial_orbitals)"
   ]
  },
  {
   "attachments": {},
   "cell_type": "markdown",
   "metadata": {},
   "source": [
    "###  `ActiveSpaceTransformer`\n",
    "\n",
    "Ce transformateur généralise la réduction de l'espace de Hilbert qui est effectuée par le `FreezeCoreTransformer`. En termes simples, il vous permet de spécifier un _active space_ en sélectionnant le nombre d'électrons actifs et le nombre d'orbitales spatiales actives. Selon ces paramètres, l'espace actif sera choisi autour du niveau de Fermi."
   ]
  },
  {
   "cell_type": "code",
   "execution_count": null,
   "metadata": {},
   "outputs": [],
   "source": [
    "from qiskit_nature.second_q.transformers import ActiveSpaceTransformer\n",
    "\n",
    "as_transformer = ActiveSpaceTransformer(2, 2)\n",
    "\n",
    "H2O_as_problem = as_transformer.transform(H2O_problem)\n",
    "print(H2O_as_problem.num_particles)\n",
    "print(H2O_as_problem.num_spatial_orbitals)\n",
    "print(H2O_as_problem.hamiltonian.electronic_integrals.alpha)"
   ]
  },
  {
   "attachments": {},
   "cell_type": "markdown",
   "metadata": {},
   "source": [
    "`qiskit_nature.second_q.transformers.ActiveSpaceTransformer` permet aussi de spécifier manuellement les indices des orbitales actives. Cela vous permet de sélectionner manuellement des _active space_ qui ne se trouvent pas en permanence autour du niveau de Fermi."
   ]
  },
  {
   "cell_type": "code",
   "execution_count": null,
   "metadata": {},
   "outputs": [],
   "source": [
    "as_transformer = ActiveSpaceTransformer(2, 2, active_orbitals=[3, 6])\n",
    "\n",
    "H2O_as_problem = as_transformer.transform(H2O_problem)\n",
    "print(H2O_as_problem.num_particles)\n",
    "print(H2O_as_problem.num_spatial_orbitals)\n",
    "print(H2O_as_problem.hamiltonian.electronic_integrals.alpha)"
   ]
  },
  {
   "attachments": {},
   "cell_type": "markdown",
   "metadata": {},
   "source": [
    "## Hamiltonien quelconque\n",
    "\n",
    "On considère l'Hamiltonien \n",
    "$$H = 0.4 IX + 0.6 IZ + 0.8  XY.$$\n",
    "\n",
    "Pour un $|\\psi\\rangle$ donné nous voulons évaluer la valeur moyenne de cet Hamiltonien :\n",
    "\n",
    "$$\\langle H \\rangle = \\langle \\psi | H | \\psi \\rangle = 0.4 \\langle \\psi | IX |\\psi \\rangle + 0.6 \\langle \\psi | IZ | \\psi \\rangle + 0.8 \\langle \\psi | XY | \\psi \\rangle.$$\n",
    "\n",
    "Comment on peut voir la valeur moyenne $\\langle H \\rangle$ pourrait être calculée en ajoutant les valeurs moyennes de ses parties (termes de Pauli). L'algorithme fait exactement cela. Il construit un circuit quantique pour chaque terme de Pauli et calcule la valeur moyenne du terme de Pauli correspondant. Ensuite, l'algorithme additionne toutes les valeurs moyennes calculées des termes de Pauli et obtient la valeur moyenne de $H$."
   ]
  },
  {
   "cell_type": "code",
   "execution_count": 87,
   "metadata": {},
   "outputs": [],
   "source": [
    "\n",
    "\n",
    "from qiskit.opflow.operator_globals import I, X, Y, Z\n",
    "from qiskit.algorithms import NumPyMinimumEigensolver"
   ]
  },
  {
   "cell_type": "code",
   "execution_count": null,
   "metadata": {},
   "outputs": [],
   "source": [
    "H = (0.4*I^X) + (0.6*I^Z) + (0.8*X^Y)\n",
    "\n",
    "print(H)\n"
   ]
  },
  {
   "cell_type": "code",
   "execution_count": null,
   "metadata": {},
   "outputs": [],
   "source": [
    "exact_result = NumPyMinimumEigensolver().compute_minimum_eigenvalue(H)\n",
    "print(f'The exact ground state energy is: {exact_result.eigenvalue}')"
   ]
  },
  {
   "attachments": {},
   "cell_type": "markdown",
   "metadata": {},
   "source": [
    "Si on un Hamiltonien \n",
    "$$H = aI + bZ + cX + dY,\\qquad a,b,c,d\\mathbb{R},$$\n",
    "il faut faire appel à des nombres arbitraires pour a, b, c et d."
   ]
  },
  {
   "cell_type": "code",
   "execution_count": null,
   "metadata": {},
   "outputs": [],
   "source": [
    "from numpy import random\n",
    "\n",
    "a, b, c, d = 10*random.sample(4)\n",
    "\n",
    "H = (a*I) + (b*Z) + (c*X) +(d*Y)\n",
    "\n",
    "print(H)"
   ]
  },
  {
   "cell_type": "code",
   "execution_count": null,
   "metadata": {},
   "outputs": [],
   "source": [
    "exact_result = NumPyMinimumEigensolver().compute_minimum_eigenvalue(H)\n",
    "print(f'The exact ground state energy is: {exact_result.eigenvalue}')"
   ]
  },
  {
   "cell_type": "markdown",
   "metadata": {},
   "source": [
    "# Questions\n",
    "\n",
    "1. Which of the following terms is neglected in the BO approximation?\n",
    "\n",
    "    A.\tElectronic kinetic energy operator.\n",
    "\n",
    "    B.\tNuclear kinetic energy operator.\n",
    "\n",
    "    C.\tPotential energy between the electrons and nuclei. It is the sum of all electron-nucleus Coulomb interactions.\n",
    "\n",
    "    D.\tPotential energy operator arising from electron-electron Coulomb repulsions.\n",
    "    \n",
    "2. The Slater determinant wave function is antisymmetric with respect to: \n",
    "\n",
    "    A.\tthe exchange of two electrons (permutation of two rows) or, \n",
    "\n",
    "    B.\twith respect to the exchange of two spin orbitals (permutation of two columns)\n",
    "\n",
    "    C.\tOr both the above?\n",
    "\n",
    "3. Name three fermion to qubit transformations currently supported by Qiskit Nature.\n",
    "\n",
    "4. Name two fermion to qubit transformations that simulates a system of electrons with the same number of qubits as electrons.\n",
    "\n",
    "5.\tFor which transformation does the resulting Hamiltonian commute with the number spin up and number spin down operators which can be used to taper off two qubits?\n"
   ]
  },
  {
   "cell_type": "code",
   "execution_count": null,
   "metadata": {},
   "outputs": [],
   "source": [
    "# Display Qiskit Software and System information\n",
    "import qiskit.tools.jupyter\n",
    "%qiskit_version_table"
   ]
  }
 ],
 "metadata": {
  "jupytext": {
   "formats": "ipynb,md"
  },
  "kernelspec": {
   "display_name": "qiskit-env",
   "language": "python",
   "name": "qiskit-env"
  },
  "language_info": {
   "codemirror_mode": {
    "name": "ipython",
    "version": 3
   },
   "file_extension": ".py",
   "mimetype": "text/x-python",
   "name": "python",
   "nbconvert_exporter": "python",
   "pygments_lexer": "ipython3",
   "version": "3.10.10"
  }
 },
 "nbformat": 4,
 "nbformat_minor": 4
}
