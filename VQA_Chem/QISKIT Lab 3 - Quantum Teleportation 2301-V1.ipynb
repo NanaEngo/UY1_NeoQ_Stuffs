{
 "cells": [
  {
   "cell_type": "markdown",
   "metadata": {
    "hideCode": false,
    "hidePrompt": false,
    "raw_mimetype": "application/json"
   },
   "source": [
    "<!-- \\title{}\n",
    "\\author{}\n",
    "\\maketitle -->\n",
    "# QISKIT Lab 3 - Quantum Teleportation"
   ]
  },
  {
   "cell_type": "markdown",
   "metadata": {
    "hideCode": false,
    "hidePrompt": false
   },
   "source": [
    "1. S. G. Nana Engo, serge.nana-engo@facsciences-uy1.cm\n",
    "    * Department of Physics, Faculty of Science, University of Yaounde I\n",
    "1. J-P. Tchapet Njafa, jean-pierre.tchapet-njafa@univ-maroua.cm\n",
    "    * Department of Physics, Faculty of Science, University of Maroua\n",
    "1. P. Djorwe, djorwepp@gmail.com\n",
    "    * Department of Physics, Faculty of Science, University of Ngaoundere\n",
    "      \n",
    "*Adaptation of the [Qiskit Doc](https://qiskit.org/documentation/).*\n",
    "\n",
    "January 2023"
   ]
  },
  {
   "cell_type": "markdown",
   "metadata": {
    "hideCode": false,
    "hidePrompt": false
   },
   "source": [
    "$\n",
    "\\renewcommand{\\bra}[1]{\\langle#1|} \n",
    "\\renewcommand{\\ket}[1]{|#1\\rangle} \n",
    "%\n",
    "\\renewcommand{\\tcb}[1]{\\textcolor{blue}{#1}} \n",
    "\\renewcommand{\\tcr}[1]{\\textcolor{red}{#1}} \n",
    "%\n",
    "\\renewcommand{\\X}{\\mathtt{X}} \n",
    "\\renewcommand{\\Y}{\\mathtt{Y}} \n",
    "\\renewcommand{\\Z}{\\mathtt{Z}} \n",
    "\\renewcommand{\\W}{\\mathtt{W}} \n",
    "\\newcommand{\\I}{\\mathbb{I}} \n",
    "\\newcommand{\\CX}{\\mathtt{CX}} \n",
    "\\newcommand{\\CZ}{\\mathtt{CZ}} \n",
    "%\n",
    "$"
   ]
  },
  {
   "cell_type": "markdown",
   "metadata": {},
   "source": [
    "*Prérequis cours*\n",
    "- Chapitre 2 Portes Quantiques\n",
    "- Chapitre 3 Outils et Protocoles quantiques\n",
    "\n",
    "*Autres documents pertinents (web)*\n",
    "- [Access IBM Quantum Systems](https://qiskit.org/documentation/install.html#access-ibm-quantum-systems)\n",
    "- [IBM Quantum Systems Configuration](https://quantum-computing.ibm.com/docs/manage/backends/configuration)\n",
    "- [Transpile](https://qiskit.org/documentation/apidoc/transpiler.html)\n",
    "- [IBM Quantum account](https://quantum-computing.ibm.com/docs/manage/account/ibmq)\n",
    "- [Quantum Circuits](https://qiskit.org/documentation/apidoc/circuit.html)  "
   ]
  },
  {
   "cell_type": "markdown",
   "metadata": {
    "hideCode": false,
    "hidePrompt": false
   },
   "source": [
    "<div class=\"alert alert-warning\"> Dans un Jupyter Notebook,\n",
    "    <ul>\n",
    "        <li>pour obtenir de l'aide sur une fonction, placez le curseur de texte sur la fonction et appuyez sur <code>Shift + Tab</code></li>\n",
    "        <li>pour exécuter une cellule, appuyez sur <code>Shift + Return / Enter</code>.</li>\n",
    "    </ul>\n",
    "</div>"
   ]
  },
  {
   "cell_type": "markdown",
   "metadata": {},
   "source": [
    "<div class=\"alert alert-info\">\n",
    "Pour des besoins de coherence entre les développements analytiques et les résulats des simulations, nous adoptons ici la notation de Qiskit:\n",
    "\\begin{align*}\n",
    "& |j_{n-1}...j_1j_0\\rangle&&\\text{ pour un système de $n$-qubits}\\\\\n",
    "&Q_{n-1}\\otimes\\cdots\\otimes Q_1\\otimes Q_0&&\\text{ pour un produit tensoriel} \n",
    "\\end{align*}\n",
    "En d'autres termes, dans Qiskit, $|01\\rangle\\equiv\\underset{\\text{qubit 1}}{|0\\rangle}\\ \\underset{\\text{qubit 0}}{|1\\rangle}$, qui est à l'opposé de ce que nous utilisons dans nos notes de cours, $|01\\rangle\\equiv\\underset{\\text{qubit 0}}{|0\\rangle}\\ \\underset{\\text{qubit 1}}{|1\\rangle}$.\n",
    "</div>"
   ]
  },
  {
   "cell_type": "markdown",
   "metadata": {
    "hideCode": false,
    "hidePrompt": false
   },
   "source": [
    "# Définition et problématique\n",
    "\n",
    "## Définition\n",
    "\n",
    "La **téléportation ou fax quantique** est un protocole de communications quantiques consistant à **transférer** l'état quantique d'un système vers un autre système similaire et séparé spatialement du premier en mettant à profit\n",
    "l'intrication quantique. \n",
    "\n",
    "Contrairement à ce que le nom laisse entendre, **il ne s'agit donc pas de transfert de matière**. Le terme de téléportation quantique est utilisé pour souligner le fait que le processus est destructif: à l'issue de la\n",
    "téléportation, le premier système ne sera plus dans le même état qu'initialement.\n",
    "\n",
    "La téléportation quantique pourrait être intéressant pour le calcul quantique en ce sens qu'elle peut servir pour le transfert de l'information quantique entre différentes unités indépendantes du calculateur quantique."
   ]
  },
  {
   "cell_type": "markdown",
   "metadata": {
    "hideCode": false,
    "hidePrompt": false
   },
   "source": [
    "## Problématique et outils\n",
    "\n",
    "Sa problématique est résumé par la figure ci-dessous et expliquée par la suite.\n",
    "\n",
    "<img src=\"./Graphics/Teleportation.png\" width=300 />"
   ]
  },
  {
   "cell_type": "markdown",
   "metadata": {
    "hideCode": false,
    "hidePrompt": false
   },
   "source": [
    "Il était une fois, Alice et Bob qui, avant de se séparer, prirent chacun un qubit d'une même paire EPR, par exemple, $\\ket{B_{00}}_{21}=\\frac{1}{\\sqrt{2}}(\\ket{00}+\\ket{11})_{21}$. Puis Bob s'en alla, vers une galaxie ignorée d'Alice.\n",
    "\n",
    "C'est alors que, bien plus tard, **un qubit dans un état inconnu**, $\\ket{\\varphi}_0=\\alpha\\ket{0}_0+\\beta\\ket{1}_0$, arriva chez Alice. Mission d'Alice, transmettre l'état de $\\ket{\\varphi}_0$ à Bob.\n",
    "\n",
    "Mais Alice ne pouvait pas,\n",
    "* porter ce qubit à Bob (qui était dans une une galaxie ignorée d'Alice),\n",
    "* ni cloner $\\ket{\\varphi}_0$ pour en disperser des copies dans l'univers (**Théorème de non-clonage quantique**),\n",
    "* ni connaître $\\alpha$ et $\\beta$ pour diffuser leurs valeurs sur les ondes dans l'espace intergalactique (qubit dans un état inconnu et une mesure de $\\alpha$ (ou $\\beta$) réduirait malheureusement $\\ket{\\varphi}_0$ à $\\ket{0}_0$ (ou $\\ket{1}_0$)).\n"
   ]
  },
  {
   "cell_type": "markdown",
   "metadata": {
    "hideCode": false,
    "hidePrompt": false
   },
   "source": [
    "Alors Alice devait téléporter $\\ket{\\varphi}_0=\\alpha\\ket{0}_0+\\beta\\ket{1}_0$. Ils avaient prévu tout ce qu'il fallait:\n",
    "\n",
    "* Un _canal quantique_, la paire EPR $\\ket{B_{00}}_{21}$, dont ils avaient soigneusement gardé chacun un qubit avant de se séparer;\n",
    "\n",
    "* Alice avait avec elle la **BSM** ou **Bell State Measurement** constituée de deux portes quantiques logiques, la porte de Walsh-Hadamard $ \\W\\ket{x}=\\frac{1}{\\sqrt{2}}\\sum_y(-1)^{xy} \\ket{y}$ "
   ]
  },
  {
   "cell_type": "code",
   "execution_count": null,
   "metadata": {},
   "outputs": [],
   "source": [
    "from qiskit import QuantumCircuit, QuantumRegister, ClassicalRegister"
   ]
  },
  {
   "cell_type": "code",
   "execution_count": null,
   "metadata": {
    "hideCode": false,
    "hidePrompt": false
   },
   "outputs": [],
   "source": [
    "qb = QuantumCircuit(1)\n",
    "qb.h(0)\n",
    "qb.draw('mpl')"
   ]
  },
  {
   "cell_type": "markdown",
   "metadata": {
    "hideCode": false,
    "hidePrompt": false
   },
   "source": [
    "et la porte conditionnelle NOT, $\\CX\\ket{yx}=\\X^x\\ket{y}\\ket{x},\\ x,y=\\{0,1\\}$, dont la table de vérité est, avec c=control; t=target (cible)\n",
    "\n",
    "| Input (t,c) | Output (t,c) |\n",
    "|:-----------:|:------------:|\n",
    "| 00          | 00           |\n",
    "| 01          | 11           |\n",
    "| 10          | 10           |\n",
    "| 11          | 01           |\n"
   ]
  },
  {
   "cell_type": "code",
   "execution_count": null,
   "metadata": {
    "hideCode": false,
    "hidePrompt": false
   },
   "outputs": [],
   "source": [
    "qb1 = QuantumCircuit(2)\n",
    "qb1.cx(0,1)\n",
    "qb1.draw('mpl')"
   ]
  },
  {
   "cell_type": "markdown",
   "metadata": {
    "hideCode": false,
    "hidePrompt": false
   },
   "source": [
    "et deux appareils de mesure $M_x,\\, M_y$ qui pouvaient donner deux bits classiques $b_x,\\,b_y=\\{0,1\\}$, communicables par un _canal classique_ (Téléphone, Internet) à Bob;"
   ]
  },
  {
   "cell_type": "code",
   "execution_count": null,
   "metadata": {
    "hideCode": false,
    "hidePrompt": false
   },
   "outputs": [],
   "source": [
    "qb2 = QuantumCircuit(2,2)\n",
    "qb2.measure(range(2),range(2))\n",
    "qb2.draw('mpl')"
   ]
  },
  {
   "cell_type": "markdown",
   "metadata": {
    "hideCode": false,
    "hidePrompt": false
   },
   "source": [
    "* Bob avait pris dans son vaisseau l'opérateur unitaire (**décodeur**) 1-qubit $\\mathtt{U}_{xy}=\\X^x\\Z^y$."
   ]
  },
  {
   "cell_type": "markdown",
   "metadata": {
    "hideCode": false,
    "hidePrompt": false
   },
   "source": [
    "# Différentes étapes de la téléportation quantique"
   ]
  },
  {
   "cell_type": "markdown",
   "metadata": {
    "hideCode": false,
    "hidePrompt": false
   },
   "source": [
    "## Modules nécessaires\n"
   ]
  },
  {
   "cell_type": "code",
   "execution_count": null,
   "metadata": {
    "hideCode": false,
    "hidePrompt": false
   },
   "outputs": [],
   "source": [
    "import numpy as np\n",
    "from qiskit import QuantumCircuit, QuantumRegister, ClassicalRegister\n",
    "from qiskit.circuit import IfElseOp\n",
    "\n",
    "from qiskit.quantum_info import Statevector, random_statevector\n",
    "from qiskit.visualization import plot_histogram, array_to_latex, plot_bloch_multivector"
   ]
  },
  {
   "cell_type": "markdown",
   "metadata": {
    "hideCode": false,
    "hidePrompt": false
   },
   "source": [
    "## Initialisation du circuit quantique\n",
    "\n",
    "Le protocole de téléportation quantique va utiliser \n",
    "* 3 qubits \n",
    "    * 1 qubit $\\ket{\\varphi}_0=\\alpha\\ket{0}_0+\\beta\\ket{1}_0$ à téléporter\n",
    "    * 1 qubit $q_1$ pour Alice\n",
    "    * 1 qubit $q_2$ pour Bob\n",
    "    \n",
    "* 2 bits classiques pour stocker $b_x$ et $b_z$\n",
    "\n",
    "* Nous allons inclure un troisième registre pour mesurer le résultat de Bob"
   ]
  },
  {
   "cell_type": "code",
   "execution_count": null,
   "metadata": {
    "hideCode": false,
    "hidePrompt": false
   },
   "outputs": [],
   "source": [
    "qr = QuantumRegister(3, name=\"q\")    \n",
    "crz = ClassicalRegister(1, name=\"z\") \n",
    "crx = ClassicalRegister(1, name=\"x\") \n",
    "\n",
    "crb = ClassicalRegister(1, name=\"crb\")\n",
    "\n",
    "qc_telep = QuantumCircuit(qr,crz,crx,crb) \n",
    "qc_telep.draw('mpl')"
   ]
  },
  {
   "cell_type": "markdown",
   "metadata": {
    "hideCode": false,
    "hidePrompt": false
   },
   "source": [
    "## Etape 1 - Préparation\n",
    "\n",
    "Utiliser deux qubits $\\ket{ab}$ pour créer une paire Bell intriquée. $\\ket{a}$ est emporté par Alice, $\\ket{b}$ est emporté par Bob."
   ]
  },
  {
   "cell_type": "code",
   "execution_count": null,
   "metadata": {
    "hideCode": false,
    "hidePrompt": false
   },
   "outputs": [],
   "source": [
    "def create_bell_pair(qc, a, b):\n",
    "    \"\"\"Creates a bell pair in qc using qubits a & b\"\"\"\n",
    "    qc.h(a) # Put qubit a into the superposition state |+>\n",
    "    qc.cx(a,b) # CNOT with a as control and b as target\n"
   ]
  },
  {
   "cell_type": "code",
   "execution_count": null,
   "metadata": {},
   "outputs": [],
   "source": [
    "## STEP 1\n",
    "create_bell_pair(qc_telep, 1, 2)\n",
    "qc_telep.barrier() # Use barrier to separate steps\n",
    "qc_telep.draw('mpl')"
   ]
  },
  {
   "cell_type": "markdown",
   "metadata": {
    "hideCode": false,
    "hidePrompt": false
   },
   "source": [
    "Alice possède $q_1$ et Bob $q_2$ après leur séparation.\n",
    "\n",
    "* Vérifions qu'on obtient effectivement la paire EPR $\\ket{B_{00}}_{21}$:\n",
    "\n",
    "\\begin{equation}\n",
    "\\begin{split}\n",
    "\\ket{00}_{21}\\ket{0}_0&=(\\CX_{[21]}(\\I_2\\otimes\\mathtt{H}_1)\\ket{00}_{21})\\ket{0}_0\\\\\n",
    "&=\\frac{1}{\\sqrt{2}}\\CX\\ket{0}_2(\\ket{0}+\\ket{1})_1\\ket{0}_0\\\\\n",
    "&=\\frac{1}{\\sqrt{2}}(\\ket{00}+\\ket{11})_{21}\\ket{0}_0\n",
    "\\end{split}\n",
    "\\end{equation}"
   ]
  },
  {
   "cell_type": "code",
   "execution_count": null,
   "metadata": {
    "hideCode": false,
    "hidePrompt": false
   },
   "outputs": [],
   "source": [
    "Bell00 = Statevector.from_label('000')\n",
    "Bell00 = Bell00.evolve(qc_telep)\n",
    "Bell00.draw('latex', prefix='|B_{00}_{21}\\\\rangle|0\\\\rangle_0=')"
   ]
  },
  {
   "cell_type": "markdown",
   "metadata": {
    "hideCode": false,
    "hidePrompt": false
   },
   "source": [
    "## Etape 2 - BSM\n",
    "\n",
    "### Encodage\n",
    "\n",
    "Alice applique $\\CX_{10}$ sur sa moitié $q_1$ de l'EPR, contrôlée par $\\ket{\\varphi}_0$. Par la suite, elle applique $\\mathtt{H}_{0}$ sur $\\ket{\\varphi}_0$.\n"
   ]
  },
  {
   "cell_type": "code",
   "execution_count": null,
   "metadata": {
    "hideCode": false,
    "hidePrompt": false
   },
   "outputs": [],
   "source": [
    "def alice_gates(qc, psi, a):\n",
    "    qc.cx(psi, a)\n",
    "    qc.h(psi)"
   ]
  },
  {
   "cell_type": "code",
   "execution_count": null,
   "metadata": {},
   "outputs": [],
   "source": [
    "## STEP 2\n",
    "alice_gates(qc_telep, 0, 1)\n",
    "qc_telep.barrier()\n",
    "qc_telep.draw('mpl')"
   ]
  },
  {
   "cell_type": "markdown",
   "metadata": {
    "hideCode": false,
    "hidePrompt": false
   },
   "source": [
    "Analytiquement, \n",
    "\\begin{align*}\n",
    "\\ket{B_{00}}_{21}\\otimes \\ket{\\varphi}_0& =\\frac{1}{\\sqrt{2}}(\\ket{00}+\\ket{11})_{21} \n",
    "(\\alpha\\ket{0}+\\beta\\ket{1})_0\\\\\n",
    "&\\xrightarrow{\\CX_{10}}\\frac{\\alpha}{\\sqrt{2}}  \n",
    "(\\ket{00}+\\ket{11})_{21}\\ket{0}_0+\\frac{\\beta}{\\sqrt{2}}(\\ket{01}+\\ket{10})_{21}\\ket{1}_0\\\\\n",
    "&\\xrightarrow{\\mathtt{H}_0}\\frac{\\alpha}{2}(\\ket{00}+\\ket{11})_{21}(\\ket{0}+\\ket{1})_0\n",
    "+\\frac{\\beta}{2}(\\ket{10}+\\ket{01})_{21}(\\ket{0}-\\ket{1})_0\\\\\n",
    "&=\\frac{\\alpha}{2}(\\ket{000}+\\ket{110}+\\ket{001}+\\ket{111})\n",
    "+\\frac{\\beta}{2}(\\ket{100}+\\ket{010}-\\ket{101}-\\ket{011})\n",
    "\\end{align*}\n",
    "\\begin{equation}\\label{eq:BSM}\n",
    "\\begin{split}\n",
    "(\\mathtt{H}_0\\CX_{10})\\ket{B_{00}}_{21}\\otimes\\ket{\\varphi}_0&=\\frac{1}{2}\\{(\\alpha\\ket{0}+\\beta\\ket{1})_2\\ket{00}_{10}\n",
    "+(\\alpha\\ket{1}+\\beta\\ket{0})_2\\ket{10}_{10} \\\\\n",
    "&+(\\alpha\\ket{0}-\\beta\\ket{1})_2\\ket{01}_{10}\n",
    "+(\\alpha\\ket{1} -\\beta\\ket{0})_2\\ket{11}_{10}\\}.\n",
    "\\end{split}\n",
    "\\end{equation}\n"
   ]
  },
  {
   "cell_type": "markdown",
   "metadata": {
    "hideCode": false,
    "hidePrompt": false
   },
   "source": [
    "## Etape 3 - Mesure et Transmission \n",
    "\n",
    "* Alice applique ensuite une mesure sur les deux qubits en sa possession $q'_1$ et $\\ket{\\varphi'}_0$ et stocke les résultats $x$ (pour $q'_1$) et $z$ ($\\ket{\\varphi'}_0$) dans deux bits classiques $b_x,\\,b_z=\\{0,1\\}$.\n",
    "\n",
    "En vertu du développement analytique précédent, les quatres resultats possibles obtenus par Alice sont $00,\\ 01, \\ 10, \\ 11$.\n",
    " \n",
    "* Alice transmet par un canal classique les deux bits classiques  $b_x,\\,b_y=\\{0,1\\}$ à Bob.\n"
   ]
  },
  {
   "cell_type": "code",
   "execution_count": null,
   "metadata": {},
   "outputs": [],
   "source": [
    "def measure_and_send(qc, a, b):\n",
    "    \"\"\"Measures qubits a & b and 'sends' the results to Bob\"\"\"\n",
    "    qc.measure(a,0)\n",
    "    qc.measure(b,1)"
   ]
  },
  {
   "cell_type": "code",
   "execution_count": null,
   "metadata": {
    "hideCode": false,
    "hidePrompt": false
   },
   "outputs": [],
   "source": [
    "measure_and_send(qc_telep, 0 ,1)\n",
    "qc_telep.barrier()\n",
    "qc_telep.draw('mpl')"
   ]
  },
  {
   "cell_type": "markdown",
   "metadata": {
    "hideCode": false,
    "hidePrompt": false
   },
   "source": [
    "## Etape 4 - Décodage\n",
    "\n",
    "* Grâce à ces bits classiques, Bob applique l'opérateur unitaire adéquat $\\mathtt{U}_{xy}=\\X^x\\Z^z$.\n",
    "\n",
    "La mesure d'Alice projette l'état du qubit $q_2$ de Bob dans un des états $\\ket{\\varphi_{xy}}$:\n",
    " \n",
    " |Mesure d'Alice $xy$ | Etat projeté $\\ket{\\varphi_{xy}}$|$\\mathtt{U}_{xy}=\\X^x\\Z^y$|\n",
    " |:------------------:|:--------------------------------:|--------------------------|\n",
    " |$00$                | $\\alpha\\ket{0}$ + $\\beta\\ket{1}$ |$\\X^0\\Z^0=\\I$             |\n",
    " |$01$                | $\\alpha\\ket{0}$ - $\\beta\\ket{1}$ |$\\X^0\\Z^1=\\Z$             |\n",
    " |$10$                | $\\alpha\\ket{1}$ + $\\beta\\ket{0}$ |$\\X^1\\Z^0=\\X$             |\n",
    " |$11$                | $\\alpha\\ket{1}$ - $\\beta\\ket{0}$ |$\\X^1\\Z^1=\\X\\Z$           |\n"
   ]
  },
  {
   "cell_type": "code",
   "execution_count": null,
   "metadata": {
    "hideCode": false,
    "hidePrompt": false
   },
   "outputs": [],
   "source": [
    "# This function takes a QuantumCircuit (qc), integer (qubit)\n",
    "# and ClassicalRegisters (crz & crx) to decide which gates to apply\n",
    "  \n",
    "def bob_gates(qc, qubit, crz, crx):\n",
    "# Here we use qc.if_test to control our gates with a classical\n",
    "# bit instead of a qubit\n",
    "    with qc.if_test((crx, 1)):\n",
    "        qc.x(qubit)\n",
    "    with qc.if_test((crz, 1)):\n",
    "            qc.z(qubit)"
   ]
  },
  {
   "cell_type": "code",
   "execution_count": null,
   "metadata": {},
   "outputs": [],
   "source": [
    "## STEP 4\n",
    "bob_gates(qc_telep, 2, crz, crx)\n",
    "qc_telep.barrier()\n",
    "qc_telep.draw('mpl',scale=.8,cregbundle=False) # suppress RuntimeWarning with cregbundle=False \n"
   ]
  },
  {
   "cell_type": "markdown",
   "metadata": {},
   "source": [
    "## Étape 5 - Vérification de la téléportation\n",
    "\n",
    "Enfin, Bob mesure leur qubit pour vérifier la téléportation de l'état du qubit d'Alice."
   ]
  },
  {
   "cell_type": "code",
   "execution_count": null,
   "metadata": {},
   "outputs": [],
   "source": [
    "## STEP 5\n",
    "qc_telep.measure(2,2)\n",
    "qc_telep.draw('mpl', scale=.8,cregbundle=False) "
   ]
  },
  {
   "cell_type": "markdown",
   "metadata": {
    "hideCode": false,
    "hidePrompt": false
   },
   "source": [
    "# Etat inconnu et téléportation\n",
    "\n",
    "## Initialisation de l'état inconnu\n",
    "\n",
    "L'état inconnu à téléporter peut être créé ainsi qu'il suit:"
   ]
  },
  {
   "cell_type": "code",
   "execution_count": null,
   "metadata": {
    "hideCode": false,
    "hidePrompt": false
   },
   "outputs": [],
   "source": [
    "phi = random_statevector(2)\n",
    "array_to_latex(phi, prefix=\"|φ\\\\rangle =\",precision=3)"
   ]
  },
  {
   "cell_type": "code",
   "execution_count": null,
   "metadata": {
    "hideCode": false,
    "hidePrompt": false
   },
   "outputs": [],
   "source": [
    "phi.draw('bloch')"
   ]
  },
  {
   "cell_type": "markdown",
   "metadata": {
    "hideCode": false,
    "hidePrompt": false
   },
   "source": [
    "Initialisons $\\ket{\\varphi}_0$ à partir de $q_0=\\ket{0}$"
   ]
  },
  {
   "cell_type": "code",
   "execution_count": null,
   "metadata": {},
   "outputs": [],
   "source": [
    "from qiskit.extensions import Initialize"
   ]
  },
  {
   "cell_type": "code",
   "execution_count": null,
   "metadata": {
    "hideCode": false,
    "hidePrompt": false
   },
   "outputs": [],
   "source": [
    "phi0 = Initialize(phi)\n",
    "phi0.label = \"|φ>_0=\""
   ]
  },
  {
   "cell_type": "code",
   "execution_count": null,
   "metadata": {
    "hideCode": false,
    "hidePrompt": false
   },
   "outputs": [],
   "source": [
    "qc0 = QuantumCircuit(qr,crz,crx,crb) \n",
    "qc0.append(phi0, [0])\n",
    "qc0.barrier()\n",
    "\n",
    "qc0.draw('mpl',scale=.9)"
   ]
  },
  {
   "cell_type": "markdown",
   "metadata": {
    "hideCode": false,
    "hidePrompt": false
   },
   "source": [
    "# Mesure de l'état téléporté - Simulateur Statevector"
   ]
  },
  {
   "cell_type": "markdown",
   "metadata": {
    "hideCode": false,
    "hidePrompt": false
   },
   "source": [
    "Nous allons utiliser le simulateur statevector pour vérifier que notre qubit $\\ket{\\varphi}$ a été téléporté.\n",
    "\n",
    "Il est important de souligner que ce simulateur n'admet pas de mesure à la fin. Ainsi, nous allons ignorer ici l'**Etape 5** où Bob effetue la mesure."
   ]
  },
  {
   "cell_type": "code",
   "execution_count": null,
   "metadata": {},
   "outputs": [],
   "source": [
    "import numpy as np\n",
    "from qiskit import QuantumCircuit, QuantumRegister, ClassicalRegister\n",
    "from qiskit.providers.aer import StatevectorSimulator\n",
    "from qiskit.circuit import IfElseOp\n",
    "\n",
    "from qiskit.quantum_info import Statevector, random_statevector\n",
    "from qiskit.visualization import plot_histogram, array_to_latex, plot_bloch_multivector\n",
    "\n",
    "from qiskit.extensions import Initialize"
   ]
  },
  {
   "cell_type": "code",
   "execution_count": null,
   "metadata": {
    "hideCode": false,
    "hidePrompt": false
   },
   "outputs": [],
   "source": [
    "## SETUP\n",
    "# Protocol uses 3 qubits and 2 classical bits in 2 different registers\n",
    "qr = QuantumRegister(3, name=\"q\")\n",
    "crz, crx = ClassicalRegister(1, name=\"crz\"), ClassicalRegister(1, name=\"crx\")\n",
    "teleportation_circuit = QuantumCircuit(qr, crz, crx)\n",
    "\n",
    "## STEP 0\n",
    "# First, let's initialize Alice's q0\n",
    "phi = random_statevector(2)\n",
    "\n",
    "phi0 = Initialize(phi)\n",
    "phi0.label = \"|φ>_0=\"\n",
    "\n",
    "teleportation_circuit.append(phi0, [0])\n",
    "teleportation_circuit.barrier()\n",
    "\n",
    "## STEP 1\n",
    "create_bell_pair(teleportation_circuit, 1, 2)\n",
    "teleportation_circuit.barrier()\n",
    "\n",
    "## STEP 2\n",
    "alice_gates(teleportation_circuit, 0, 1)\n",
    "teleportation_circuit.barrier()\n",
    "\n",
    "## STEP 3\n",
    "measure_and_send(teleportation_circuit, 0, 1)\n",
    "teleportation_circuit.barrier()\n",
    "\n",
    "## STEP 4\n",
    "bob_gates(teleportation_circuit, 2, crz, crx)\n",
    "teleportation_circuit.barrier()\n",
    "\n",
    "#\n",
    "teleportation_circuit.draw('mpl',cregbundle=False,scale=.8) \n"
   ]
  },
  {
   "cell_type": "markdown",
   "metadata": {},
   "source": [
    "* Information sur le circuit"
   ]
  },
  {
   "cell_type": "code",
   "execution_count": null,
   "metadata": {},
   "outputs": [],
   "source": [
    "teleportation_circuit.depth()"
   ]
  },
  {
   "cell_type": "code",
   "execution_count": null,
   "metadata": {},
   "outputs": [],
   "source": [
    "teleportation_circuit.size()"
   ]
  },
  {
   "cell_type": "code",
   "execution_count": null,
   "metadata": {},
   "outputs": [],
   "source": [
    "teleportation_circuit.width()"
   ]
  },
  {
   "cell_type": "markdown",
   "metadata": {},
   "source": [
    "A l'entrée du circuit, on a"
   ]
  },
  {
   "cell_type": "code",
   "execution_count": null,
   "metadata": {},
   "outputs": [],
   "source": [
    "array_to_latex(phi, prefix=\"|φ\\\\rangle =\",precision=3)"
   ]
  },
  {
   "cell_type": "code",
   "execution_count": null,
   "metadata": {},
   "outputs": [],
   "source": [
    "phi.draw('bloch')"
   ]
  },
  {
   "cell_type": "markdown",
   "metadata": {
    "hideCode": false,
    "hidePrompt": false
   },
   "source": [
    "A la sortie du circuit de téléportation, on a les trois qubits suivants:"
   ]
  },
  {
   "cell_type": "code",
   "execution_count": null,
   "metadata": {
    "hideCode": false,
    "hidePrompt": false
   },
   "outputs": [],
   "source": [
    "q_sim = StatevectorSimulator()\n",
    "job = q_sim.run(teleportation_circuit).result()\n",
    "phi2 = job.get_statevector()\n",
    "\n",
    "plot_bloch_multivector(phi2, title='Qubit |$\\\\varphi_2\\\\rangle$')"
   ]
  },
  {
   "cell_type": "code",
   "execution_count": null,
   "metadata": {
    "hideCode": false,
    "hidePrompt": false
   },
   "outputs": [],
   "source": [
    "array_to_latex(phi2,precision=3,prefix=\"|q_2q_1q_0\\\\rangle = \")"
   ]
  },
  {
   "cell_type": "markdown",
   "metadata": {
    "hideCode": false,
    "hidePrompt": false
   },
   "source": [
    "On note que $\\ket{q_2}=\\ket{\\varphi}$ comme souhaité, i.e, $\\begin{pmatrix}\\alpha\\\\\\beta\\end{pmatrix}\n",
    "\\otimes\\begin{pmatrix}a_1\\\\b_1\\end{pmatrix}\\otimes\\begin{pmatrix}a_0\\\\b_0\\end{pmatrix}$ dans la configuration $\\ket{q_2q_1q_0}$."
   ]
  },
  {
   "cell_type": "markdown",
   "metadata": {
    "hideCode": false,
    "hidePrompt": false
   },
   "source": [
    "<div class=\"alert alert-info\">\n",
    "A chaque exécution du simulateur $|q_1q_0\\rangle$ change d'état, mais le qubit $|q_2\\rangle$ est toujours dans l'état $|q_2=\\varphi\\rangle$.</div>"
   ]
  },
  {
   "cell_type": "markdown",
   "metadata": {
    "hideCode": false,
    "hidePrompt": false
   },
   "source": [
    "# Simulation expérimentale  - Utilisation des comptages simulés"
   ]
  },
  {
   "cell_type": "markdown",
   "metadata": {},
   "source": [
    "La téléportation quantique est conçue pour envoyer des qubits entre deux parties. Nous n'avons pas le matériel pour le démontrer, mais nous pouvons démontrer que les portes effectuent les transformations correctes sur une seule puce quantique. Ici, nous utilisons à nouveau le simulateur aer pour simuler comment nous pourrions tester notre protocole."
   ]
  },
  {
   "cell_type": "code",
   "execution_count": null,
   "metadata": {
    "hideCode": false,
    "hidePrompt": false
   },
   "outputs": [],
   "source": [
    "## SETUP\n",
    "# Protocol uses 3 qubits and 2 classical bits in 2 different registers\n",
    "# include third register for measuring Bob's result\n",
    "qr = QuantumRegister(3, name=\"q\")\n",
    "crz, crx = ClassicalRegister(1, name=\"crz\"), ClassicalRegister(1, name=\"crx\")\n",
    "crb = ClassicalRegister(1, name=\"crb\")\n",
    "teleportation_circuit = QuantumCircuit(qr, crz, crx, crb)\n",
    "\n",
    "## STEP 0\n",
    "# First, let's initialize Alice's q0\n",
    "phi = random_statevector(2)\n",
    "\n",
    "phi0 = Initialize(phi)\n",
    "phi0.label = \"|φ>_0=\"\n",
    "\n",
    "teleportation_circuit.append(phi0, [0])\n",
    "teleportation_circuit.barrier()\n",
    "\n",
    "## STEP 1\n",
    "create_bell_pair(teleportation_circuit, 1, 2)\n",
    "teleportation_circuit.barrier()\n",
    "\n",
    "## STEP 2\n",
    "alice_gates(teleportation_circuit, 0, 1)\n",
    "teleportation_circuit.barrier()\n",
    "\n",
    "## STEP 3\n",
    "measure_and_send(teleportation_circuit, 0, 1)\n",
    "teleportation_circuit.barrier()\n",
    "\n",
    "## STEP 4\n",
    "bob_gates(teleportation_circuit, 2, crz, crx)\n",
    "teleportation_circuit.barrier()\n",
    "\n",
    "## STEP 5\n",
    "teleportation_circuit.measure(2,2)\n",
    "\n",
    "#\n",
    "teleportation_circuit.draw('mpl',cregbundle=False,scale=.8) \n"
   ]
  },
  {
   "cell_type": "code",
   "execution_count": null,
   "metadata": {
    "hideCode": false,
    "hidePrompt": false
   },
   "outputs": [],
   "source": [
    "from qiskit import Aer, transpile\n",
    "from qiskit.result import marginal_counts"
   ]
  },
  {
   "cell_type": "markdown",
   "metadata": {
    "hideCode": false,
    "hidePrompt": false
   },
   "source": [
    "La transpilation est le processus de réécriture d'un circuit d'entrée donné pour correspondre à la topologie d'un dispositif quantique spécifique, et/ou pour optimiser le circuit pour une exécution sur les systèmes quantiques bruyants actuels."
   ]
  },
  {
   "cell_type": "code",
   "execution_count": null,
   "metadata": {
    "hideCode": false,
    "hidePrompt": false
   },
   "outputs": [],
   "source": [
    "backend = Aer.get_backend('aer_simulator')\n",
    "\n",
    "tqc_telepcount = transpile(teleportation_circuit, backend)\n",
    "counts = backend.run(tqc_telepcount,shots=2000).result().get_counts()\n",
    "\n",
    "# trace out Bob's results on qubit 2\n",
    "bobs_qubit = 2\n",
    "bobs_counts = marginal_counts(counts, [bobs_qubit])\n",
    "plot_histogram(bobs_counts)"
   ]
  },
  {
   "cell_type": "markdown",
   "metadata": {
    "hideCode": false,
    "hidePrompt": false
   },
   "source": [
    "Nous constatons que nous avons une probabilité de 100%  de mesurer $\\ket{q_2}$ (dans la chaîne $\\ket{q_2q_1q_0}$) dans l'état $ |0\\rangle$. Ceci est le résultat attendu et indique que le protocole de téléportation a fonctionné correctement."
   ]
  },
  {
   "cell_type": "markdown",
   "metadata": {},
   "source": [
    "Comme nous le voyons ici, il y a quelques résultats dans lesquels nous avons mesuré  |1⟩ . Celles-ci surviennent en raison d'erreurs dans les portes et les qubits. En revanche, notre simulateur dans la partie antérieure du Notebook  n'avait aucune erreur dans ses portes et permettait une téléportation sans erreur."
   ]
  },
  {
   "cell_type": "code",
   "execution_count": null,
   "metadata": {
    "hideCode": false,
    "hidePrompt": false
   },
   "outputs": [],
   "source": [
    "import qiskit.tools.jupyter #only in jupyter notebook\n",
    "%qiskit_version_table"
   ]
  },
  {
   "cell_type": "code",
   "execution_count": null,
   "metadata": {},
   "outputs": [],
   "source": []
  }
 ],
 "metadata": {
  "author": "QISKIT Lab 3 - Quantum Teleportation",
  "celltoolbar": "Aucun(e)",
  "hide_code_all_hidden": false,
  "kernelspec": {
   "display_name": "qiskit-env",
   "language": "python",
   "name": "qiskit-env"
  },
  "language_info": {
   "codemirror_mode": {
    "name": "ipython",
    "version": 3
   },
   "file_extension": ".py",
   "mimetype": "text/x-python",
   "name": "python",
   "nbconvert_exporter": "python",
   "pygments_lexer": "ipython3",
   "version": "3.10.9"
  },
  "latex_envs": {
   "LaTeX_envs_menu_present": true,
   "autoclose": true,
   "autocomplete": true,
   "bibliofile": "biblio.bib",
   "cite_by": "number",
   "current_citInitial": 1,
   "eqLabelWithNumbers": true,
   "eqNumInitial": 1,
   "hotkeys": {
    "equation": "Ctrl-E",
    "itemize": "Ctrl-I"
   },
   "labels_anchors": false,
   "latex_user_defs": false,
   "report_style_numbering": false,
   "user_envs_cfg": false
  },
  "nbTranslate": {
   "displayLangs": [
    "*"
   ],
   "hotkey": "alt-t",
   "langInMainMenu": true,
   "sourceLang": "en",
   "targetLang": "fr",
   "useGoogleTranslate": true
  },
  "toc": {
   "base_numbering": 1,
   "nav_menu": {
    "height": "422px",
    "width": "348px"
   },
   "number_sections": true,
   "sideBar": true,
   "skip_h1_title": false,
   "title_cell": "Table of Contents",
   "title_sidebar": "Contents",
   "toc_cell": false,
   "toc_position": {
    "height": "calc(100% - 180px)",
    "left": "10px",
    "top": "150px",
    "width": "232.993px"
   },
   "toc_section_display": true,
   "toc_window_display": true
  },
  "varInspector": {
   "cols": {
    "lenName": 16,
    "lenType": 16,
    "lenVar": 40
   },
   "kernels_config": {
    "python": {
     "delete_cmd_postfix": "",
     "delete_cmd_prefix": "del ",
     "library": "var_list.py",
     "varRefreshCmd": "print(var_dic_list())"
    },
    "r": {
     "delete_cmd_postfix": ") ",
     "delete_cmd_prefix": "rm(",
     "library": "var_list.r",
     "varRefreshCmd": "cat(var_dic_list()) "
    }
   },
   "types_to_exclude": [
    "module",
    "function",
    "builtin_function_or_method",
    "instance",
    "_Feature"
   ],
   "window_display": false
  },
  "widgets": {
   "application/vnd.jupyter.widget-state+json": {
    "state": {},
    "version_major": 2,
    "version_minor": 0
   }
  }
 },
 "nbformat": 4,
 "nbformat_minor": 4
}
