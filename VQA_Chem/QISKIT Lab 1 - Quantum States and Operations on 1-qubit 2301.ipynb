{
 "cells": [
  {
   "cell_type": "markdown",
   "metadata": {},
   "source": [
    "# QISKIT Lab 1 - Quantum States and Operations on 1-qubit"
   ]
  },
  {
   "cell_type": "markdown",
   "metadata": {},
   "source": [
    "1. S. G. Nana Engo, serge.nana-engo@facsciences-uy1.cm\n",
    "    * Department of Physics, Faculty of Science, University of Yaounde I\n",
    "1. J-P. Tchapet Njafa, jean-pierre.tchapet-njafa@univ-maroua.cm\n",
    "    * Department of Physics, Faculty of Science, University of Maroua\n",
    "1. P. Djorwe, djorwepp@gmail.com\n",
    "    * Department of Physics, Faculty of Science, University of Ngaoundere\n",
    "       \n",
    "*Adaptation of the __Qiskit Global Summer School 2020.__*\n",
    "\n",
    "January 2023"
   ]
  },
  {
   "cell_type": "markdown",
   "metadata": {},
   "source": [
    "*Prérequis cours*\n",
    "- Chapitre 1 Systèmes Multi-qubits\n",
    "- Chapitre 2 Portes Quantiques\n",
    "\n",
    "*Autres documents pertinents (web)*\n",
    "- [Access IBM Quantum Systems](https://qiskit.org/documentation/install.html#access-ibm-quantum-systems)\n",
    "- [IBM Quantum Systems Configuration](https://quantum-computing.ibm.com/docs/manage/backends/configuration)\n",
    "- [Transpile](https://qiskit.org/documentation/apidoc/transpiler.html)\n",
    "- [IBM Quantum account](https://quantum-computing.ibm.com/docs/manage/account/ibmq)\n",
    "- [Quantum Circuits](https://qiskit.org/documentation/apidoc/circuit.html)  "
   ]
  },
  {
   "cell_type": "markdown",
   "metadata": {},
   "source": [
    "# Installation\n",
    "\n",
    "[Qiskit](https://qiskit.org/documentation/) est un kit de développement logiciel (SDK) open source permettant de travailler avec des calculateurs quantiques au niveau des impulsions, des circuits et des algorithmes. Qiskit accélère le développement d'applications quantiques en fournissant un ensemble complet d'outils nécessaires pour interagir avec les systèmes et simulateurs quantiques.\n",
    "\n",
    "## Création d'environnement python dédié\n",
    "\n",
    "Il est conseillé de créer un environnement python dédié à qiskit (par exemple `qiskit-env`). Ceci suppose qu'une distribution python est déja installé sur votre système d'exploitation. Nous vous conseillons vivement [miniconda](https://repo.anaconda.com/miniconda).\n",
    "\n",
    "> `conda create --name qiskit-env python -y`\n",
    "\n",
    "## Installation de qiskit\n",
    "\n",
    "* Dans un terminal, entrer\n",
    "\n",
    "> `pip install qiskit[visualization]`\n",
    "\n",
    "* Dans une cellule Jupyter Notebook ou jupyter lab, entrer et exécuter\n",
    "\n",
    "> `!pip install qiskit[visualization]`\n"
   ]
  },
  {
   "cell_type": "markdown",
   "metadata": {},
   "source": [
    "## Vérification version installée\n",
    "\n",
    "Pour vérifier la version installée de Qiskit , entrer dans une cellule et exécuter"
   ]
  },
  {
   "cell_type": "code",
   "execution_count": 1,
   "metadata": {
    "ExecuteTime": {
     "end_time": "2022-04-03T19:42:38.056820Z",
     "start_time": "2022-04-03T19:42:37.257338Z"
    },
    "vscode": {
     "languageId": "python"
    }
   },
   "outputs": [
    {
     "data": {
      "text/plain": [
       "'0.22.4'"
      ]
     },
     "execution_count": 1,
     "metadata": {},
     "output_type": "execute_result"
    }
   ],
   "source": [
    "import qiskit\n",
    "qiskit.__version__"
   ]
  },
  {
   "cell_type": "markdown",
   "metadata": {},
   "source": [
    "* Pour voir les versions des modules Qiskit installés. _Noter qu'en programmation, les instructions et/ou les résultats du code dépendent des versions des modules_."
   ]
  },
  {
   "cell_type": "code",
   "execution_count": null,
   "metadata": {
    "ExecuteTime": {
     "end_time": "2022-04-03T19:42:40.917947Z",
     "start_time": "2022-04-03T19:42:38.058958Z"
    },
    "vscode": {
     "languageId": "python"
    }
   },
   "outputs": [],
   "source": [
    "qiskit.__qiskit_version__"
   ]
  },
  {
   "cell_type": "code",
   "execution_count": 5,
   "metadata": {
    "ExecuteTime": {
     "end_time": "2022-04-03T19:42:42.303682Z",
     "start_time": "2022-04-03T19:42:40.919909Z"
    },
    "vscode": {
     "languageId": "python"
    }
   },
   "outputs": [
    {
     "data": {
      "text/html": [
       "<h3>Version Information</h3><table><tr><th>Qiskit Software</th><th>Version</th></tr><tr><td><code>qiskit-terra</code></td><td>0.22.4</td></tr><tr><td><code>qiskit-aer</code></td><td>0.11.2</td></tr><tr><td><code>qiskit-ibmq-provider</code></td><td>0.19.2</td></tr><tr><td><code>qiskit</code></td><td>0.39.5</td></tr><tr><td><code>qiskit-nature</code></td><td>0.5.2</td></tr><tr><th>System information</th></tr><tr><td>Python version</td><td>3.11.0</td></tr><tr><td>Python compiler</td><td>GCC 11.3.0</td></tr><tr><td>Python build</td><td>main, Jan 14 2023 12:27:40</td></tr><tr><td>OS</td><td>Linux</td></tr><tr><td>CPUs</td><td>2</td></tr><tr><td>Memory (Gb)</td><td>7.588977813720703</td></tr><tr><td colspan='2'>Thu Feb 02 08:31:23 2023 WAT</td></tr></table>"
      ],
      "text/plain": [
       "<IPython.core.display.HTML object>"
      ]
     },
     "metadata": {},
     "output_type": "display_data"
    }
   ],
   "source": [
    "import qiskit.tools.jupyter #only in jupyter notebook\n",
    "%qiskit_version_table"
   ]
  },
  {
   "cell_type": "markdown",
   "metadata": {},
   "source": [
    "<div class=\"alert alert-warning\"> Dans un Jupyter Notebook,\n",
    "    <ul>\n",
    "        <li>pour obtenir de l'aide sur une fonction, placez le curseur de texte sur la fonction et appuyez sur <code>Shift + Tab</code></li>\n",
    "        <li>pour exécuter une cellule, appuyez sur <code>Shift + Return / Enter</code>.</li>\n",
    "    </ul>\n",
    "</div>"
   ]
  },
  {
   "cell_type": "markdown",
   "metadata": {},
   "source": [
    "## Remarque importante - Qubit le moins significatif\n",
    "\n"
   ]
  },
  {
   "cell_type": "markdown",
   "metadata": {
    "lang": "fr"
   },
   "source": [
    "<div class=\"alert alert-info\">\n",
    "Dans les manuels de physique (et dans nos notes de cours), un système multi-qubit de qubits $n$ est écrit $|j_0j_1...j_{n-1}\\rangle$, donc le produit tenseur des opérateurs est $Q_0\\otimes Q_1\\otimes ...\\otimes Q_{n-1} $. Cela signifie que le qubit (opérateur) le moins significatif est à l'extrême gauche et le plus à l'extrême droite. Mais la représentation dans Qiskit est le contraire, c'est-à-dire:\n",
    "\\begin{align*}\n",
    "& |j_{n-1}...j_1j_0\\rangle&&\\text{ pour un système de $n$-qubits}\\\\\n",
    "&Q_{n-1}\\otimes\\cdots\\otimes Q_1\\otimes Q_0&&\\text{ pour un produit tensoriel} \n",
    "\\end{align*}\n",
    "En d'autres termes, dans Qiskit, $|01\\rangle\\equiv\\underset{\\text{qubit 1}}{|0\\rangle}\\ \\underset{\\text{qubit 0}}{|1\\rangle}$, qui est à l'opposé de ce que nous utilisons dans nos notes de cours, $|01\\rangle\\equiv\\underset{\\text{qubit 0}}{|0\\rangle}\\ \\underset{\\text{qubit 1}}{|1\\rangle}$. <br>\n",
    "    <b>Nous adoptons cette notation dans les développements analytiques pour des besoins de coherence avec les résulats des simulations.</b>\n",
    "</div>"
   ]
  },
  {
   "cell_type": "markdown",
   "metadata": {
    "lang": "fr"
   },
   "source": [
    "# États et opérateurs à 1-qubit\n",
    "\n",
    "Dans ce Lab, nous allons apprendre à écrire du code `Qiskit` pour étudier les états à un et à plusieurs qubits."
   ]
  },
  {
   "cell_type": "markdown",
   "metadata": {
    "lang": "fr"
   },
   "source": [
    "*Nous rappelons qu'un seul état quantique de qubit s'écrit plus généralement comme:\n",
    "\\begin{equation*}\n",
    "|\\psi\\rangle=\\cos\\frac{\\theta}{2}|0\\rangle+\\sin\\frac{\\theta}{2}e^{i\\phi}|1\\rangle\n",
    "=\\sqrt{p}|0\\rangle + \\sqrt{1-p}e^{i\\phi}|0\\rangle,\n",
    "\\end{equation*}\n",
    "avec $|\\cos\\frac{\\theta}{2}|^2+|\\sin\\frac{\\theta}{2}e^{i\\phi}|^2=1$, où $0\\leq\\phi<2\\pi$ et $0\\leq\\theta\\leq\\pi$. Les portes à 1-qubit peuvent ensuite être utilisées pour manipuler l'état quantique $|\\psi\\rangle$ en changeant $\\theta$, $\\phi$ ou les deux.* \n"
   ]
  },
  {
   "cell_type": "markdown",
   "metadata": {},
   "source": [
    "## Workflow étape par étape\n",
    "\n",
    "1. Importer des packages\n",
    "\n",
    "2. Initialiser les variables\n",
    "\n",
    "3. Ajouter des portes\n",
    "\n",
    "4. Visualiser le circuit\n",
    "\n",
    "5. Simuler l'expérience ou faire évoluer le système\n",
    "\n",
    "6. Visualiser les résultats"
   ]
  },
  {
   "cell_type": "markdown",
   "metadata": {
    "lang": "fr"
   },
   "source": [
    "## Importer les packages nécessaires"
   ]
  },
  {
   "cell_type": "code",
   "execution_count": null,
   "metadata": {
    "ExecuteTime": {
     "end_time": "2022-04-03T19:42:42.310191Z",
     "start_time": "2022-04-03T19:42:42.306792Z"
    },
    "vscode": {
     "languageId": "python"
    }
   },
   "outputs": [],
   "source": [
    "from qiskit import QuantumCircuit \n",
    "from qiskit.quantum_info import Statevector\n",
    "from qiskit.quantum_info.operators import Operator, Pauli\n",
    "from qiskit.visualization import array_to_latex, plot_bloch_multivector, plot_histogram, visualize_transition \n",
    "\n",
    "import numpy as np\n"
   ]
  },
  {
   "cell_type": "markdown",
   "metadata": {},
   "source": [
    "Les modules importés sont:\n",
    "\n",
    "- `QuantumCircuit` qui peut être considéré comme les instructions du système quantique. Il contient toutes vos opérations quantiques;\n",
    "\n",
    "- `Statevector` qui est la classe des objets sous forme de vecteur d'état; \n",
    "\n",
    "- `Operator` qui est la classe des opérateurs sous forme de matrice;\n",
    "\n",
    "- `Pauli` qui est la classe de matrices de Pauli;\n",
    "\n",
    "- `array _to_ latex` qui écrit les tableaux (matrices) sous forme de LaTeX;\n",
    "\n",
    "- `plot_bloch_multivector` qui permet de visualiser un vecteur d'état de type `array` sur une sphère de Bloch\n",
    "\n",
    "- `visualize_transition` qui crée une animation montrant les transitions entre les états d'un 1-qubit en appliquant des portes quantiques;\n",
    "\n",
    "- `numpy` pour les calculs numériques en python.\n"
   ]
  },
  {
   "cell_type": "markdown",
   "metadata": {},
   "source": [
    "Qiskit est trop généreusement avec la précision numérique, que nous supprimons pour une meilleure lisibilité de la sortie:"
   ]
  },
  {
   "cell_type": "code",
   "execution_count": null,
   "metadata": {
    "ExecuteTime": {
     "end_time": "2022-04-03T19:42:42.504632Z",
     "start_time": "2022-04-03T19:42:42.314261Z"
    },
    "vscode": {
     "languageId": "python"
    }
   },
   "outputs": [],
   "source": [
    "np.set_printoptions(precision=4, suppress=True)"
   ]
  },
  {
   "cell_type": "markdown",
   "metadata": {
    "lang": "fr"
   },
   "source": [
    "## Initialiser un vecteur d'état dans le circuit\n",
    "\n",
    "Créons les vecteurs d'état $|0\\rangle = \\begin{pmatrix}1\\\\0\\end{pmatrix}$ et $|1\\rangle = \\begin{pmatrix}0\\\\1\\end{pmatrix}$:"
   ]
  },
  {
   "cell_type": "code",
   "execution_count": null,
   "metadata": {
    "ExecuteTime": {
     "end_time": "2022-04-03T19:42:42.765453Z",
     "start_time": "2022-04-03T19:42:42.506029Z"
    },
    "vscode": {
     "languageId": "python"
    }
   },
   "outputs": [],
   "source": [
    "sv0 = Statevector.from_label('0')\n",
    "sv1 = Statevector.from_label('1')"
   ]
  },
  {
   "cell_type": "markdown",
   "metadata": {},
   "source": [
    "### Représentation matricielle"
   ]
  },
  {
   "cell_type": "markdown",
   "metadata": {
    "lang": "fr"
   },
   "source": [
    "Nous pouvons voir ce que contient l'objet `sv`:"
   ]
  },
  {
   "cell_type": "code",
   "execution_count": null,
   "metadata": {
    "ExecuteTime": {
     "end_time": "2022-04-03T19:42:42.859876Z",
     "start_time": "2022-04-03T19:42:42.768034Z"
    },
    "scrolled": true,
    "vscode": {
     "languageId": "python"
    }
   },
   "outputs": [],
   "source": [
    "sv0"
   ]
  },
  {
   "cell_type": "markdown",
   "metadata": {
    "lang": "fr"
   },
   "source": [
    "Le vecteur lui-même peut être trouvé en écrivant"
   ]
  },
  {
   "cell_type": "code",
   "execution_count": null,
   "metadata": {
    "ExecuteTime": {
     "end_time": "2022-04-03T19:42:42.948849Z",
     "start_time": "2022-04-03T19:42:42.861229Z"
    },
    "vscode": {
     "languageId": "python"
    }
   },
   "outputs": [],
   "source": [
    "sv0.data"
   ]
  },
  {
   "cell_type": "markdown",
   "metadata": {
    "lang": "fr"
   },
   "source": [
    "Pour visualiser le vecteur en LaTeX"
   ]
  },
  {
   "cell_type": "code",
   "execution_count": null,
   "metadata": {
    "ExecuteTime": {
     "end_time": "2022-04-03T19:42:43.428304Z",
     "start_time": "2022-04-03T19:42:42.951377Z"
    },
    "vscode": {
     "languageId": "python"
    }
   },
   "outputs": [],
   "source": [
    "sv0.draw('latex')"
   ]
  },
  {
   "cell_type": "code",
   "execution_count": null,
   "metadata": {
    "ExecuteTime": {
     "end_time": "2022-04-03T19:42:43.436930Z",
     "start_time": "2022-04-03T19:42:43.430367Z"
    },
    "vscode": {
     "languageId": "python"
    }
   },
   "outputs": [],
   "source": [
    "sv1.draw('latex')"
   ]
  },
  {
   "cell_type": "markdown",
   "metadata": {
    "lang": "fr"
   },
   "source": [
    "### Visualiser l'état\n",
    "\n",
    "Nous pouvons visualiser géométrique cet état 1-qubit en utilisant l'argument `bloch` de la fonction de visualisation `draw`. \n",
    "\n",
    "On rappelle que vecteur Bloch pour un 1-qubit est défini comme\n",
    "\\begin{align}\n",
    "\\left[b_x=\\mathtt{Tr}(\\mathtt{X}\\rho),b_y=\\mathtt{Tr}(\\mathtt{Y}\\rho),z=\\mathtt{Tr}(\\mathtt{Z}\\rho)\\right]\n",
    "\\end{align}"
   ]
  },
  {
   "cell_type": "code",
   "execution_count": null,
   "metadata": {
    "ExecuteTime": {
     "end_time": "2022-04-03T19:42:44.517403Z",
     "start_time": "2022-04-03T19:42:43.439523Z"
    },
    "vscode": {
     "languageId": "python"
    }
   },
   "outputs": [],
   "source": [
    "sv0.draw('bloch')"
   ]
  },
  {
   "cell_type": "code",
   "execution_count": null,
   "metadata": {
    "ExecuteTime": {
     "end_time": "2022-04-03T19:42:44.825446Z",
     "start_time": "2022-04-03T19:42:44.519212Z"
    },
    "lang": "en",
    "vscode": {
     "languageId": "python"
    }
   },
   "outputs": [],
   "source": [
    "sv1.draw('bloch')"
   ]
  },
  {
   "cell_type": "markdown",
   "metadata": {},
   "source": [
    "### Probabilité  d'obtenir un état\n",
    "\n",
    "- Un moyen simple d'obtenir des probabilités, à partir du vecteur d'état,de chaque chaîne de bits de la base de calcul est"
   ]
  },
  {
   "cell_type": "code",
   "execution_count": null,
   "metadata": {
    "ExecuteTime": {
     "end_time": "2022-04-03T19:42:44.835488Z",
     "start_time": "2022-04-03T19:42:44.829137Z"
    },
    "vscode": {
     "languageId": "python"
    }
   },
   "outputs": [],
   "source": [
    "sv0.probabilities()"
   ]
  },
  {
   "cell_type": "code",
   "execution_count": null,
   "metadata": {
    "ExecuteTime": {
     "end_time": "2022-04-03T19:42:45.269646Z",
     "start_time": "2022-04-03T19:42:44.837752Z"
    },
    "vscode": {
     "languageId": "python"
    }
   },
   "outputs": [],
   "source": [
    "array_to_latex(sv0.probabilities())"
   ]
  },
  {
   "cell_type": "code",
   "execution_count": null,
   "metadata": {
    "ExecuteTime": {
     "end_time": "2022-04-03T19:42:45.507948Z",
     "start_time": "2022-04-03T19:42:45.271821Z"
    },
    "vscode": {
     "languageId": "python"
    }
   },
   "outputs": [],
   "source": [
    "(sv0).probabilities_dict()"
   ]
  },
  {
   "cell_type": "code",
   "execution_count": null,
   "metadata": {
    "ExecuteTime": {
     "end_time": "2022-04-03T19:42:45.920440Z",
     "start_time": "2022-04-03T19:42:45.509660Z"
    },
    "vscode": {
     "languageId": "python"
    }
   },
   "outputs": [],
   "source": [
    "sv0_counts = sv0.sample_counts(shots=1000)\n",
    "\n",
    "plot_histogram(sv0_counts)"
   ]
  },
  {
   "cell_type": "markdown",
   "metadata": {},
   "source": [
    "Si le système est initialement dans l'état $|0\\rangle$ et qu'il n'évolue pas,  apres la mesure, la probabilité de le trouver dans le meme état $|0\\rangle$ est 1, et 0 dans l'état $|1\\rangle$."
   ]
  },
  {
   "cell_type": "code",
   "execution_count": null,
   "metadata": {
    "ExecuteTime": {
     "end_time": "2022-04-03T19:42:46.093524Z",
     "start_time": "2022-04-03T19:42:45.922652Z"
    },
    "vscode": {
     "languageId": "python"
    }
   },
   "outputs": [],
   "source": [
    "sv1.probabilities()"
   ]
  },
  {
   "cell_type": "code",
   "execution_count": null,
   "metadata": {
    "ExecuteTime": {
     "end_time": "2022-04-03T19:42:46.183784Z",
     "start_time": "2022-04-03T19:42:46.095481Z"
    },
    "vscode": {
     "languageId": "python"
    }
   },
   "outputs": [],
   "source": [
    "array_to_latex(sv1.probabilities())"
   ]
  },
  {
   "cell_type": "code",
   "execution_count": null,
   "metadata": {
    "ExecuteTime": {
     "end_time": "2022-04-03T19:42:46.281968Z",
     "start_time": "2022-04-03T19:42:46.186016Z"
    },
    "vscode": {
     "languageId": "python"
    }
   },
   "outputs": [],
   "source": [
    "(sv1).probabilities_dict()"
   ]
  },
  {
   "cell_type": "code",
   "execution_count": null,
   "metadata": {
    "ExecuteTime": {
     "end_time": "2022-04-03T19:42:46.512545Z",
     "start_time": "2022-04-03T19:42:46.283671Z"
    },
    "vscode": {
     "languageId": "python"
    }
   },
   "outputs": [],
   "source": [
    "sv1_counts = sv1.sample_counts(shots=1000)\n",
    "\n",
    "plot_histogram(sv1_counts)"
   ]
  },
  {
   "cell_type": "markdown",
   "metadata": {},
   "source": [
    "Si le système est initialement dans l'état $|1\\rangle$ et qu'il n'évolue pas,  apres la mesure, la probabilité de le trouver dans le meme état $|1\\rangle$ est 1, et 0 dans l'état $|0\\rangle$."
   ]
  },
  {
   "cell_type": "markdown",
   "metadata": {
    "lang": "fr"
   },
   "source": [
    "## Initialiser un circuit quantique\n",
    "\n",
    "La syntaxe\n",
    "\n",
    "> `QuantumCircuit (int _qb, int_ cb)`\n",
    "\n",
    "permet d'initialiser un circuit quantique avec `int _qb` qubits et` int_ cb` le nombre bits classiques."
   ]
  },
  {
   "cell_type": "code",
   "execution_count": null,
   "metadata": {
    "ExecuteTime": {
     "end_time": "2022-04-03T19:42:46.664197Z",
     "start_time": "2022-04-03T19:42:46.514638Z"
    },
    "vscode": {
     "languageId": "python"
    }
   },
   "outputs": [],
   "source": [
    "mycircuit = QuantumCircuit(1) "
   ]
  },
  {
   "cell_type": "markdown",
   "metadata": {
    "lang": "fr"
   },
   "source": [
    "Dessiner le circuit avec `mpl`=matplotlib : image avec couleur rendue uniquement en Python"
   ]
  },
  {
   "cell_type": "code",
   "execution_count": null,
   "metadata": {
    "ExecuteTime": {
     "end_time": "2022-04-03T19:42:46.862722Z",
     "start_time": "2022-04-03T19:42:46.666302Z"
    },
    "vscode": {
     "languageId": "python"
    }
   },
   "outputs": [],
   "source": [
    "mycircuit.draw('mpl',initial_state=True)"
   ]
  },
  {
   "cell_type": "markdown",
   "metadata": {
    "lang": "fr"
   },
   "source": [
    "Le circuit quantique ci-dessus ne contient aucune porte. Par conséquent, si nous commençons dans n'importe quel état, disons $|0\\rangle$, l'application de ce circuit à l'état ne change pas l'état."
   ]
  },
  {
   "cell_type": "code",
   "execution_count": null,
   "metadata": {
    "ExecuteTime": {
     "end_time": "2022-04-03T19:42:47.065898Z",
     "start_time": "2022-04-03T19:42:46.869010Z"
    },
    "vscode": {
     "languageId": "python"
    }
   },
   "outputs": [],
   "source": [
    "plot_bloch_multivector(mycircuit)"
   ]
  },
  {
   "cell_type": "markdown",
   "metadata": {
    "lang": "fr"
   },
   "source": [
    "## Appliquer l'état au circuit\n",
    "\n",
    "Nous pouvons maintenant appliquer le circuit quantique `mycircuit` à cet état en utilisant ce qui suit:\n",
    "<!-- \\begin{equation} -->\n",
    "$$\\mathbb{I}|0\\rangle=|0\\rangle$$\n",
    "<!-- \\end{equation} -->"
   ]
  },
  {
   "cell_type": "code",
   "execution_count": null,
   "metadata": {
    "ExecuteTime": {
     "end_time": "2022-04-03T19:42:47.076227Z",
     "start_time": "2022-04-03T19:42:47.073468Z"
    },
    "vscode": {
     "languageId": "python"
    }
   },
   "outputs": [],
   "source": [
    "new_sv0 = sv0.evolve(mycircuit)"
   ]
  },
  {
   "cell_type": "markdown",
   "metadata": {
    "lang": "fr"
   },
   "source": [
    "Une fois de plus, nous pouvons visualiser le nouveau statevector en écrivant"
   ]
  },
  {
   "cell_type": "code",
   "execution_count": null,
   "metadata": {
    "ExecuteTime": {
     "end_time": "2022-04-03T19:42:47.186949Z",
     "start_time": "2022-04-03T19:42:47.078634Z"
    },
    "vscode": {
     "languageId": "python"
    }
   },
   "outputs": [],
   "source": [
    "new_sv0"
   ]
  },
  {
   "cell_type": "code",
   "execution_count": null,
   "metadata": {
    "ExecuteTime": {
     "end_time": "2022-04-03T19:42:47.330479Z",
     "start_time": "2022-04-03T19:42:47.190086Z"
    },
    "vscode": {
     "languageId": "python"
    }
   },
   "outputs": [],
   "source": [
    "new_sv0.draw('latex', prefix='\\mathbb{I}|0\\\\rangle=')"
   ]
  },
  {
   "cell_type": "code",
   "execution_count": null,
   "metadata": {
    "ExecuteTime": {
     "end_time": "2022-04-03T19:42:48.039233Z",
     "start_time": "2022-04-03T19:42:47.333625Z"
    },
    "vscode": {
     "languageId": "python"
    }
   },
   "outputs": [],
   "source": [
    "new_sv0.draw('bloch')"
   ]
  },
  {
   "cell_type": "markdown",
   "metadata": {
    "lang": "fr"
   },
   "source": [
    "Comme on peut le voir, le statevector n'a pas changé puisqu'il n'a été soumis à aucun opérateur (**le calcul quatique est une évolution unitaire!).\n",
    "\n",
    "* Une manière directe d'appliquer une porte ou un opérateur à un état est d'utiliser `Statevector.evolve (Operator)`. Par example,"
   ]
  },
  {
   "cell_type": "code",
   "execution_count": null,
   "metadata": {
    "ExecuteTime": {
     "end_time": "2022-04-03T19:42:48.051580Z",
     "start_time": "2022-04-03T19:42:48.041136Z"
    },
    "vscode": {
     "languageId": "python"
    }
   },
   "outputs": [],
   "source": [
    "new_sv0a = sv0.evolve(Operator(Pauli('I')))\n",
    "new_sv0a.draw('latex', prefix='\\mathbb{I}|0\\\\rangle=')"
   ]
  },
  {
   "cell_type": "markdown",
   "metadata": {
    "lang": "fr"
   },
   "source": [
    "* L'application de la porte d'identité équivaut à laisser le fil vide."
   ]
  },
  {
   "cell_type": "code",
   "execution_count": null,
   "metadata": {
    "ExecuteTime": {
     "end_time": "2022-04-03T19:42:48.242482Z",
     "start_time": "2022-04-03T19:42:48.053206Z"
    },
    "vscode": {
     "languageId": "python"
    }
   },
   "outputs": [],
   "source": [
    "mycircuit.id(0)\n",
    "mycircuit.draw('mpl', initial_state=True)"
   ]
  },
  {
   "cell_type": "markdown",
   "metadata": {},
   "source": [
    "<div class=\"alert alert-info\"> L'index des fils d'un circuit quantique commence par $0$. Donc, au lieu de $1$ pour étiqueter le premier qubit, on utilise $0$.</div>"
   ]
  },
  {
   "cell_type": "code",
   "execution_count": null,
   "metadata": {
    "ExecuteTime": {
     "end_time": "2022-04-03T19:42:48.303134Z",
     "start_time": "2022-04-03T19:42:48.245578Z"
    },
    "vscode": {
     "languageId": "python"
    }
   },
   "outputs": [],
   "source": [
    "array_to_latex(Operator(mycircuit), prefix='\\mathbb{I}=')"
   ]
  },
  {
   "cell_type": "code",
   "execution_count": null,
   "metadata": {
    "ExecuteTime": {
     "end_time": "2022-04-03T19:42:48.416546Z",
     "start_time": "2022-04-03T19:42:48.305627Z"
    },
    "vscode": {
     "languageId": "python"
    }
   },
   "outputs": [],
   "source": [
    "(sv0.evolve(mycircuit)).draw('latex', prefix='\\mathbb{I}|0\\\\rangle=')"
   ]
  },
  {
   "attachments": {},
   "cell_type": "markdown",
   "metadata": {
    "lang": "fr"
   },
   "source": [
    "## Evaluer la fidélité d'un état\n",
    "\n",
    "La **fidélité** est utile pour vérifier si deux états sont identiques ou non. Pour les états quantiques (purs) $|\\psi_1\\rangle$ et $|\\psi_2\\rangle$, la fidélité est\n",
    "\\begin{equation}\n",
    " \\mathcal{F}(|\\psi_1\\rangle,|\\psi_2\\rangle)=|\\langle\\psi_1|\\psi_2\\rangle|^2 .\n",
    "\\end{equation}\n",
    "\n",
    "Rappelez-vous le concept de la projection d'état vu dans les notes de cours. Nous pouvons calculer la projection de `new_sv0` sur` sv0` en écrivant"
   ]
  },
  {
   "cell_type": "code",
   "execution_count": null,
   "metadata": {
    "ExecuteTime": {
     "end_time": "2022-04-03T19:42:48.531930Z",
     "start_time": "2022-04-03T19:42:48.418860Z"
    },
    "vscode": {
     "languageId": "python"
    }
   },
   "outputs": [],
   "source": [
    "from qiskit.quantum_info import state_fidelity\n",
    "\n",
    "state_fidelity(sv0, new_sv0)"
   ]
  },
  {
   "cell_type": "markdown",
   "metadata": {
    "lang": "fr"
   },
   "source": [
    "## Ajouter une porte X et évaluer la fidélité\n",
    "\n",
    "Comme nous le savons, l'application d'une porte $\\mathtt{X}$ fait basculer le qubit de l'état $|k\\rangle$ à l'état $|1-k\\rangle$ (inversion ou flip du bit),\n",
    "\\begin{align}\n",
    "&\\mathtt{X}|k\\rangle =|1-k\\rangle,  \n",
    "&&\\mathtt{X}|0\\rangle =|1\\rangle ,\n",
    "&\\mathtt{X}|1\\rangle =|0\\rangle.  \n",
    "\\end{align}\n",
    "Pour voir cela clairement, nous allons d'abord créer un circuit quantique à un qubit avec la porte $\\mathtt{X}$."
   ]
  },
  {
   "cell_type": "markdown",
   "metadata": {},
   "source": [
    "### Méthode 1 - Statevector"
   ]
  },
  {
   "cell_type": "code",
   "execution_count": null,
   "metadata": {
    "ExecuteTime": {
     "end_time": "2022-04-03T19:42:48.770958Z",
     "start_time": "2022-04-03T19:42:48.535157Z"
    },
    "vscode": {
     "languageId": "python"
    }
   },
   "outputs": [],
   "source": [
    "X = Operator(Pauli('X'))"
   ]
  },
  {
   "cell_type": "code",
   "execution_count": null,
   "metadata": {
    "ExecuteTime": {
     "end_time": "2022-04-03T19:42:49.108848Z",
     "start_time": "2022-04-03T19:42:48.772749Z"
    },
    "vscode": {
     "languageId": "python"
    }
   },
   "outputs": [],
   "source": [
    "array_to_latex(X, prefix='\\mathtt{X}=')"
   ]
  },
  {
   "cell_type": "code",
   "execution_count": null,
   "metadata": {
    "ExecuteTime": {
     "end_time": "2022-04-03T19:42:49.313918Z",
     "start_time": "2022-04-03T19:42:49.110431Z"
    },
    "vscode": {
     "languageId": "python"
    }
   },
   "outputs": [],
   "source": [
    "array_to_latex(X&X, prefix='\\mathtt{X}^2=')"
   ]
  },
  {
   "cell_type": "code",
   "execution_count": null,
   "metadata": {
    "ExecuteTime": {
     "end_time": "2022-04-03T19:42:49.406982Z",
     "start_time": "2022-04-03T19:42:49.315749Z"
    },
    "vscode": {
     "languageId": "python"
    }
   },
   "outputs": [],
   "source": [
    "(sv0.evolve(X)).draw('latex', prefix='\\mathtt{X}|0\\\\rangle=')"
   ]
  },
  {
   "cell_type": "code",
   "execution_count": null,
   "metadata": {
    "ExecuteTime": {
     "end_time": "2022-04-03T19:42:49.498120Z",
     "start_time": "2022-04-03T19:42:49.410117Z"
    },
    "vscode": {
     "languageId": "python"
    }
   },
   "outputs": [],
   "source": [
    "(sv1.evolve(X)).draw('latex', prefix='\\mathtt{X}|1\\\\rangle=')"
   ]
  },
  {
   "cell_type": "markdown",
   "metadata": {},
   "source": [
    "### Methode 2 - QuantumCircuit"
   ]
  },
  {
   "cell_type": "code",
   "execution_count": null,
   "metadata": {
    "ExecuteTime": {
     "end_time": "2022-04-03T19:42:49.696849Z",
     "start_time": "2022-04-03T19:42:49.500149Z"
    },
    "vscode": {
     "languageId": "python"
    }
   },
   "outputs": [],
   "source": [
    "mycircuit1 = QuantumCircuit(1)\n",
    "mycircuit1.x(0)\n",
    "\n",
    "mycircuit1.draw('mpl',initial_state=True)"
   ]
  },
  {
   "cell_type": "code",
   "execution_count": null,
   "metadata": {
    "ExecuteTime": {
     "end_time": "2022-04-03T19:42:49.716218Z",
     "start_time": "2022-04-03T19:42:49.699781Z"
    },
    "vscode": {
     "languageId": "python"
    }
   },
   "outputs": [],
   "source": [
    "array_to_latex(Operator(mycircuit1), prefix='\\mathtt{X} = ')"
   ]
  },
  {
   "cell_type": "markdown",
   "metadata": {
    "lang": "fr"
   },
   "source": [
    "* Maintenant, nous pouvons appliquer ce circuit sur notre état en écrivant"
   ]
  },
  {
   "cell_type": "code",
   "execution_count": null,
   "metadata": {
    "ExecuteTime": {
     "end_time": "2022-04-03T19:42:49.821049Z",
     "start_time": "2022-04-03T19:42:49.718806Z"
    },
    "vscode": {
     "languageId": "python"
    }
   },
   "outputs": [],
   "source": [
    "svx0 = sv0.evolve(mycircuit1)\n",
    "svx0.draw('latex', prefix='\\mathtt{X}|0\\\\rangle=')"
   ]
  },
  {
   "cell_type": "markdown",
   "metadata": {
    "lang": "fr"
   },
   "source": [
    "Comme on peut le voir, le statevector correspond maintenant à celui de l'état $|1\\rangle= \\begin{pmatrix}0\\\\1\\end{pmatrix}$."
   ]
  },
  {
   "cell_type": "code",
   "execution_count": null,
   "metadata": {
    "ExecuteTime": {
     "end_time": "2022-04-03T19:42:50.188602Z",
     "start_time": "2022-04-03T19:42:49.822543Z"
    },
    "vscode": {
     "languageId": "python"
    }
   },
   "outputs": [],
   "source": [
    "svx0.draw('bloch')"
   ]
  },
  {
   "cell_type": "markdown",
   "metadata": {
    "lang": "fr"
   },
   "source": [
    "* Maintenant, la projection de `svx0` sur` sv0` est"
   ]
  },
  {
   "cell_type": "code",
   "execution_count": null,
   "metadata": {
    "ExecuteTime": {
     "end_time": "2022-04-03T19:42:50.199188Z",
     "start_time": "2022-04-03T19:42:50.191853Z"
    },
    "vscode": {
     "languageId": "python"
    }
   },
   "outputs": [],
   "source": [
    "state_fidelity(svx0, sv0)"
   ]
  },
  {
   "cell_type": "markdown",
   "metadata": {
    "lang": "fr"
   },
   "source": [
    "Cela n'est pas surprenant car les états $|0\\rangle$ et $|1\\rangle$ sont orthogonaux. Par conséquent, $\\langle0|1\\rangle = 0$."
   ]
  },
  {
   "cell_type": "markdown",
   "metadata": {},
   "source": [
    "### Visualisation animé de l'action de X "
   ]
  },
  {
   "cell_type": "code",
   "execution_count": null,
   "metadata": {
    "ExecuteTime": {
     "end_time": "2022-04-03T19:43:03.891222Z",
     "start_time": "2022-04-03T19:42:50.201855Z"
    },
    "vscode": {
     "languageId": "python"
    }
   },
   "outputs": [],
   "source": [
    "visualize_transition(mycircuit1)"
   ]
  },
  {
   "cell_type": "markdown",
   "metadata": {
    "lang": "fr"
   },
   "source": [
    "###  Exercice Portes de Pauli Y et Z\n",
    "\n",
    "Appliquer la toute procédure précédente avec les portes $\\mathtt{Y}$ et $\\mathtt{Z}$."
   ]
  },
  {
   "cell_type": "markdown",
   "metadata": {
    "lang": "fr"
   },
   "source": [
    "## État superposé\n",
    "\n",
    "Nous pouvons créer des états superposés avec la porte Hadamard $\\mathtt{H}$:\n",
    "\n",
    "\\begin{align}\n",
    "&\\mathtt{H}|x\\rangle=\\frac{1}{\\sqrt{2}}\\sum_y(-1)^{xy} |y\\rangle,\n",
    "&&|+\\rangle = \\mathtt{H}|0\\rangle =\\frac{1}{\\sqrt{2}}(|0\\rangle+|1\\rangle ),\n",
    "&|-\\rangle = \\mathtt{H}|1\\rangle =\\frac{1}{\\sqrt{2}}(|0\\rangle-|1\\rangle ).\n",
    "\\end{align}"
   ]
  },
  {
   "cell_type": "markdown",
   "metadata": {},
   "source": [
    "### Methode 1 - Statevector"
   ]
  },
  {
   "cell_type": "code",
   "execution_count": null,
   "metadata": {
    "ExecuteTime": {
     "end_time": "2022-04-03T19:43:03.898462Z",
     "start_time": "2022-04-03T19:43:03.892723Z"
    },
    "vscode": {
     "languageId": "python"
    }
   },
   "outputs": [],
   "source": [
    "Z = Operator(Pauli('Z'))\n",
    "H = (X + Z)/np.sqrt(2)\n",
    "array_to_latex(H, prefix='\\mathtt{H}=') "
   ]
  },
  {
   "cell_type": "markdown",
   "metadata": {},
   "source": [
    "#### Application de H et visualisation sur la sphère de Bloch"
   ]
  },
  {
   "cell_type": "markdown",
   "metadata": {},
   "source": [
    "* $|+\\rangle = \\mathtt{H}|0\\rangle$"
   ]
  },
  {
   "cell_type": "code",
   "execution_count": null,
   "metadata": {
    "ExecuteTime": {
     "end_time": "2022-04-03T19:43:04.645499Z",
     "start_time": "2022-04-03T19:43:03.900276Z"
    },
    "vscode": {
     "languageId": "python"
    }
   },
   "outputs": [],
   "source": [
    "(sv0.evolve(H)).draw('latex', prefix='\\mathtt{H}|0\\\\rangle=|+\\\\rangle=')"
   ]
  },
  {
   "cell_type": "code",
   "execution_count": null,
   "metadata": {
    "ExecuteTime": {
     "end_time": "2022-04-03T19:43:05.009216Z",
     "start_time": "2022-04-03T19:43:04.647501Z"
    },
    "vscode": {
     "languageId": "python"
    }
   },
   "outputs": [],
   "source": [
    "(sv0.evolve(H)).draw('bloch')"
   ]
  },
  {
   "cell_type": "markdown",
   "metadata": {},
   "source": [
    "* $|-\\rangle=\\mathtt{H}|1\\rangle$"
   ]
  },
  {
   "cell_type": "code",
   "execution_count": null,
   "metadata": {
    "ExecuteTime": {
     "end_time": "2022-04-03T19:43:05.023407Z",
     "start_time": "2022-04-03T19:43:05.010647Z"
    },
    "vscode": {
     "languageId": "python"
    }
   },
   "outputs": [],
   "source": [
    "(sv1.evolve(H)).draw('latex', prefix='\\mathtt{H}|1\\\\rangle=|-\\\\rangle=')"
   ]
  },
  {
   "cell_type": "code",
   "execution_count": null,
   "metadata": {
    "ExecuteTime": {
     "end_time": "2022-04-03T19:43:05.270470Z",
     "start_time": "2022-04-03T19:43:05.025468Z"
    },
    "vscode": {
     "languageId": "python"
    }
   },
   "outputs": [],
   "source": [
    "(sv1.evolve(H)).draw('bloch')"
   ]
  },
  {
   "cell_type": "markdown",
   "metadata": {},
   "source": [
    "#### Probabilités"
   ]
  },
  {
   "cell_type": "code",
   "execution_count": null,
   "metadata": {
    "ExecuteTime": {
     "end_time": "2022-04-03T19:43:05.278967Z",
     "start_time": "2022-04-03T19:43:05.271888Z"
    },
    "vscode": {
     "languageId": "python"
    }
   },
   "outputs": [],
   "source": [
    "(sv0.evolve(H)).probabilities()"
   ]
  },
  {
   "cell_type": "code",
   "execution_count": null,
   "metadata": {
    "ExecuteTime": {
     "end_time": "2022-04-03T19:43:05.353334Z",
     "start_time": "2022-04-03T19:43:05.281418Z"
    },
    "vscode": {
     "languageId": "python"
    }
   },
   "outputs": [],
   "source": [
    "(sv1.evolve(H)).probabilities()"
   ]
  },
  {
   "cell_type": "code",
   "execution_count": null,
   "metadata": {
    "ExecuteTime": {
     "end_time": "2022-04-03T19:43:05.552365Z",
     "start_time": "2022-04-03T19:43:05.359992Z"
    },
    "vscode": {
     "languageId": "python"
    }
   },
   "outputs": [],
   "source": [
    "svh0_counts = (sv0.evolve(H)).sample_counts(shots=1000)\n",
    "\n",
    "plot_histogram(svh0_counts)"
   ]
  },
  {
   "cell_type": "code",
   "execution_count": null,
   "metadata": {
    "ExecuteTime": {
     "end_time": "2022-04-03T19:43:06.222198Z",
     "start_time": "2022-04-03T19:43:05.553766Z"
    },
    "vscode": {
     "languageId": "python"
    }
   },
   "outputs": [],
   "source": [
    "(sv0.evolve(H)).probabilities_dict()"
   ]
  },
  {
   "cell_type": "code",
   "execution_count": null,
   "metadata": {
    "ExecuteTime": {
     "end_time": "2022-04-03T19:43:06.223559Z",
     "start_time": "2022-04-03T19:43:06.223546Z"
    },
    "vscode": {
     "languageId": "python"
    }
   },
   "outputs": [],
   "source": [
    "svh1_counts = (sv1.evolve(H)).sample_counts(shots=1000)\n",
    "\n",
    "plot_histogram(svh1_counts)"
   ]
  },
  {
   "cell_type": "markdown",
   "metadata": {},
   "source": [
    "Si le système est initialement dans l'état $|0\\rangle$ ou $|0\\rangle$ et qu'il évolue sous l'action de $\\mathtt{H}$,  apres la mesure, on a une probabilité $\\frac12$ de le trouver dans l'état $|0\\rangle$ ou dans l'état $|1\\rangle$."
   ]
  },
  {
   "cell_type": "markdown",
   "metadata": {},
   "source": [
    "### Methode 2 - QuantumCircuit"
   ]
  },
  {
   "cell_type": "code",
   "execution_count": null,
   "metadata": {
    "ExecuteTime": {
     "end_time": "2022-04-03T19:43:06.224941Z",
     "start_time": "2022-04-03T19:43:06.224923Z"
    },
    "vscode": {
     "languageId": "python"
    }
   },
   "outputs": [],
   "source": [
    "mycircuit2 = QuantumCircuit(1)\n",
    "mycircuit2.h(0)\n",
    "mycircuit2.draw('mpl',initial_state=True)"
   ]
  },
  {
   "cell_type": "code",
   "execution_count": null,
   "metadata": {
    "ExecuteTime": {
     "end_time": "2022-04-03T19:43:06.226050Z",
     "start_time": "2022-04-03T19:43:06.226037Z"
    },
    "vscode": {
     "languageId": "python"
    }
   },
   "outputs": [],
   "source": [
    "array_to_latex(Operator(mycircuit2), prefix='\\mathtt{H}=')"
   ]
  },
  {
   "cell_type": "markdown",
   "metadata": {
    "lang": "fr"
   },
   "source": [
    "####  Ajoutez le $|0\\rangle$ au circuit."
   ]
  },
  {
   "cell_type": "code",
   "execution_count": null,
   "metadata": {
    "ExecuteTime": {
     "end_time": "2022-04-03T19:43:06.226943Z",
     "start_time": "2022-04-03T19:43:06.226931Z"
    },
    "vscode": {
     "languageId": "python"
    }
   },
   "outputs": [],
   "source": [
    "svh0 = sv0.evolve(mycircuit2)\n",
    "svh0.draw('latex', prefix='\\mathtt{H}|0\\\\rangle=|+\\\\rangle=')"
   ]
  },
  {
   "cell_type": "code",
   "execution_count": null,
   "metadata": {
    "ExecuteTime": {
     "end_time": "2022-04-03T19:43:06.227983Z",
     "start_time": "2022-04-03T19:43:06.227969Z"
    },
    "vscode": {
     "languageId": "python"
    }
   },
   "outputs": [],
   "source": [
    "svh0.draw('bloch')"
   ]
  },
  {
   "cell_type": "markdown",
   "metadata": {
    "lang": "fr"
   },
   "source": [
    "#### Ajoutez le $|1\\rangle$ au circuit"
   ]
  },
  {
   "cell_type": "code",
   "execution_count": null,
   "metadata": {
    "ExecuteTime": {
     "end_time": "2022-04-03T19:43:06.229291Z",
     "start_time": "2022-04-03T19:43:06.229279Z"
    },
    "vscode": {
     "languageId": "python"
    }
   },
   "outputs": [],
   "source": [
    "svh1 = sv1.evolve(mycircuit2)\n",
    "svh1.draw('latex', prefix='\\mathtt{H}|1\\\\rangle=|-\\\\rangle=')"
   ]
  },
  {
   "cell_type": "code",
   "execution_count": null,
   "metadata": {
    "ExecuteTime": {
     "end_time": "2022-04-03T19:43:06.230763Z",
     "start_time": "2022-04-03T19:43:06.230747Z"
    },
    "vscode": {
     "languageId": "python"
    }
   },
   "outputs": [],
   "source": [
    "svh1.draw('bloch')"
   ]
  },
  {
   "cell_type": "markdown",
   "metadata": {},
   "source": [
    "### Visualisation animé de l'action de H "
   ]
  },
  {
   "cell_type": "code",
   "execution_count": null,
   "metadata": {
    "ExecuteTime": {
     "end_time": "2022-04-03T19:43:06.234380Z",
     "start_time": "2022-04-03T19:43:06.234358Z"
    },
    "vscode": {
     "languageId": "python"
    }
   },
   "outputs": [],
   "source": [
    "visualize_transition(mycircuit2)"
   ]
  },
  {
   "cell_type": "markdown",
   "metadata": {
    "lang": "fr"
   },
   "source": [
    "### Exercices\n",
    "\n",
    "### Visualiser un 1-qubit\n",
    "\n",
    "Utiliser `plot_bloch_mutivector()` pour visualiser les états 1-qubit:\n",
    "\\begin{align}\n",
    "&|0\\rangle, && |1\\rangle, && |+\\rangle, &&|-\\rangle, && |r\\rangle,&|l\\rangle.   \n",
    "\\end{align}\n",
    "\n",
    "### Etats propres de X\n",
    "\n",
    "Vérifier que $|\\pm\\rangle$ sont des états propres de $\\mathtt{X}$.\n",
    "\n",
    "### Opérateurs de translation\n",
    "\n",
    "En utilisant les opérateurs Pauli comme des  Qiskit Operator class, par exemple, `Z = Operator(Pauli('Z'))`, et en tenant compte du fait que l'opérateur Hadamard $\\mathtt{H}=\\frac{1}{\\sqrt{2}}(\\mathtt{X}+\\mathtt{Z})$, montrer que\n",
    "\\begin{align}\n",
    "& \\mathtt{H}^2=\\mathbb{I}, && \\mathtt{H}\\mathtt{Y}\\mathtt{H}=-\\mathtt{Y},\n",
    "&& \\mathtt{H}\\mathtt{X}\\mathtt{H}=\\mathtt{Z},\n",
    "& \\mathtt{H}\\mathtt{Z}\\mathtt{H}=\\mathtt{X}.\n",
    "\\end{align}"
   ]
  },
  {
   "cell_type": "markdown",
   "metadata": {
    "lang": "fr"
   },
   "source": [
    "<!-- ### Probabilité d'un 1 qubit\n",
    "\n",
    "1. Si un état initial est $|+\\rangle$, quelle est la probabilité de le mesurer dans l'état $|+\\rangle$?\n",
    "2. Utilisez Qiskit pour afficher la probabilité de mesurer un qubit $|0\\rangle$ dans les états $|\\pm\\rangle$? -->"
   ]
  },
  {
   "cell_type": "code",
   "execution_count": null,
   "metadata": {
    "vscode": {
     "languageId": "python"
    }
   },
   "outputs": [],
   "source": []
  }
 ],
 "metadata": {
  "author": "",
  "kernelspec": {
   "display_name": "qiskit-env",
   "language": "python",
   "name": "qiskit-env"
  },
  "latex_envs": {
   "LaTeX_envs_menu_present": true,
   "autoclose": true,
   "autocomplete": true,
   "bibliofile": "vqe.bib",
   "cite_by": "apalike",
   "current_citInitial": 1,
   "eqLabelWithNumbers": true,
   "eqNumInitial": 1,
   "hotkeys": {
    "equation": "Ctrl-E",
    "itemize": "Ctrl-I"
   },
   "labels_anchors": false,
   "latex_user_defs": false,
   "report_style_numbering": true,
   "user_envs_cfg": true
  },
  "nbTranslate": {
   "displayLangs": [
    "*"
   ],
   "hotkey": "alt-t",
   "langInMainMenu": true,
   "sourceLang": "en",
   "targetLang": "fr",
   "useGoogleTranslate": true
  },
  "toc": {
   "base_numbering": 1,
   "nav_menu": {},
   "number_sections": true,
   "sideBar": true,
   "skip_h1_title": false,
   "title_cell": "Table of Contents",
   "title_sidebar": "Contents",
   "toc_cell": false,
   "toc_position": {
    "height": "calc(100% - 180px)",
    "left": "10px",
    "top": "150px",
    "width": "175.85px"
   },
   "toc_section_display": true,
   "toc_window_display": true
  },
  "varInspector": {
   "cols": {
    "lenName": 16,
    "lenType": 16,
    "lenVar": 40
   },
   "kernels_config": {
    "python": {
     "delete_cmd_postfix": "",
     "delete_cmd_prefix": "del ",
     "library": "var_list.py",
     "varRefreshCmd": "print(var_dic_list())"
    },
    "r": {
     "delete_cmd_postfix": ") ",
     "delete_cmd_prefix": "rm(",
     "library": "var_list.r",
     "varRefreshCmd": "cat(var_dic_list()) "
    }
   },
   "types_to_exclude": [
    "module",
    "function",
    "builtin_function_or_method",
    "instance",
    "_Feature"
   ],
   "window_display": false
  },
  "widgets": {
   "application/vnd.jupyter.widget-state+json": {
    "state": {
     "14bafa27a8b947d289f19b608b84c4b8": {
      "model_module": "@jupyter-widgets/base",
      "model_module_version": "1.2.0",
      "model_name": "LayoutModel",
      "state": {
       "grid_area": "right",
       "padding": "0px 0px 0px 0px",
       "width": "70px"
      }
     },
     "1a458e4aceeb4fbd8fdca5842d677a49": {
      "model_module": "@jupyter-widgets/base",
      "model_module_version": "1.2.0",
      "model_name": "LayoutModel",
      "state": {
       "grid_template_areas": "\n                                       \". . . . right \"\n                                        ",
       "grid_template_columns": "20% 20% 20% 20% 20%",
       "width": "100%"
      }
     },
     "1fd45d20099841e496460611678bbf49": {
      "model_module": "@jupyter-widgets/controls",
      "model_module_version": "1.5.0",
      "model_name": "HTMLModel",
      "state": {
       "layout": "IPY_MODEL_728e28bc2f054022ab55828202aa0e81",
       "style": "IPY_MODEL_de23631d3fda496d87eb6bf4660c7074",
       "value": "<h5>Message</h5>"
      }
     },
     "276c3ad467374f75a13ed7fec253bc24": {
      "model_module": "@jupyter-widgets/controls",
      "model_module_version": "1.5.0",
      "model_name": "DescriptionStyleModel",
      "state": {
       "description_width": ""
      }
     },
     "3dc295e95d224eceb91447bdbec6bfd0": {
      "model_module": "@jupyter-widgets/base",
      "model_module_version": "1.2.0",
      "model_name": "LayoutModel",
      "state": {
       "width": "70px"
      }
     },
     "4e8bab0bee33437097c80ad4792a296f": {
      "model_module": "@jupyter-widgets/base",
      "model_module_version": "1.2.0",
      "model_name": "LayoutModel",
      "state": {
       "width": "190px"
      }
     },
     "5ebf79a3612f4361b8578c8a46e9986b": {
      "model_module": "@jupyter-widgets/controls",
      "model_module_version": "1.5.0",
      "model_name": "ButtonStyleModel",
      "state": {}
     },
     "7007b3073b9544b1bfd41202cbefabb9": {
      "model_module": "@jupyter-widgets/controls",
      "model_module_version": "1.5.0",
      "model_name": "GridBoxModel",
      "state": {
       "children": [
        "IPY_MODEL_a6e7e8ba2c98491fb5a0fdf05f668b77"
       ],
       "layout": "IPY_MODEL_1a458e4aceeb4fbd8fdca5842d677a49"
      }
     },
     "7180a0caa6c649be8a29852603ec7804": {
      "model_module": "@jupyter-widgets/base",
      "model_module_version": "1.2.0",
      "model_name": "LayoutModel",
      "state": {
       "width": "145px"
      }
     },
     "728e28bc2f054022ab55828202aa0e81": {
      "model_module": "@jupyter-widgets/base",
      "model_module_version": "1.2.0",
      "model_name": "LayoutModel",
      "state": {}
     },
     "887226adde2242fba2b3dd0597eaf2dc": {
      "model_module": "@jupyter-widgets/controls",
      "model_module_version": "1.5.0",
      "model_name": "HTMLModel",
      "state": {
       "layout": "IPY_MODEL_3dc295e95d224eceb91447bdbec6bfd0",
       "style": "IPY_MODEL_9fb150dfa8064006b6b6306770695cf9",
       "value": "<h5>Queue</h5>"
      }
     },
     "89c46475a9494b6fae2f6408c447f363": {
      "model_module": "@jupyter-widgets/base",
      "model_module_version": "1.2.0",
      "model_name": "LayoutModel",
      "state": {
       "width": "95px"
      }
     },
     "8ae3600555904cbb801c60970b8b7ee0": {
      "model_module": "@jupyter-widgets/controls",
      "model_module_version": "1.5.0",
      "model_name": "DescriptionStyleModel",
      "state": {
       "description_width": ""
      }
     },
     "9290f9ff064841268171062b2cf59ec4": {
      "model_module": "@jupyter-widgets/controls",
      "model_module_version": "1.5.0",
      "model_name": "HTMLModel",
      "state": {
       "layout": "IPY_MODEL_7180a0caa6c649be8a29852603ec7804",
       "style": "IPY_MODEL_ed75101918324c9bb7177af4b6fa095d",
       "value": "<h5>Backend</h5>"
      }
     },
     "9ba6590e0968482b8250e38597db5f72": {
      "model_module": "@jupyter-widgets/controls",
      "model_module_version": "1.5.0",
      "model_name": "DescriptionStyleModel",
      "state": {
       "description_width": ""
      }
     },
     "9fb150dfa8064006b6b6306770695cf9": {
      "model_module": "@jupyter-widgets/controls",
      "model_module_version": "1.5.0",
      "model_name": "DescriptionStyleModel",
      "state": {
       "description_width": ""
      }
     },
     "a6e7e8ba2c98491fb5a0fdf05f668b77": {
      "model_module": "@jupyter-widgets/controls",
      "model_module_version": "1.5.0",
      "model_name": "ButtonModel",
      "state": {
       "button_style": "primary",
       "description": "Clear",
       "layout": "IPY_MODEL_14bafa27a8b947d289f19b608b84c4b8",
       "style": "IPY_MODEL_5ebf79a3612f4361b8578c8a46e9986b"
      }
     },
     "b42d3892ee5e4936933733a7424212f1": {
      "model_module": "@jupyter-widgets/base",
      "model_module_version": "1.2.0",
      "model_name": "LayoutModel",
      "state": {
       "margin": "0px 0px 10px 0px"
      }
     },
     "c6c0786adab544ad87b74f29cbe666bf": {
      "model_module": "@jupyter-widgets/controls",
      "model_module_version": "1.5.0",
      "model_name": "HTMLModel",
      "state": {
       "layout": "IPY_MODEL_b42d3892ee5e4936933733a7424212f1",
       "style": "IPY_MODEL_9ba6590e0968482b8250e38597db5f72",
       "value": "<p style='font-family: IBM Plex Sans, Arial, Helvetica, sans-serif; font-size: 20px; font-weight: medium;'>Circuit Properties</p>"
      }
     },
     "cb99808d4ffc4214a8b2ad296f703987": {
      "model_module": "@jupyter-widgets/controls",
      "model_module_version": "1.5.0",
      "model_name": "HTMLModel",
      "state": {
       "layout": "IPY_MODEL_4e8bab0bee33437097c80ad4792a296f",
       "style": "IPY_MODEL_276c3ad467374f75a13ed7fec253bc24",
       "value": "<h5>Job ID</h5>"
      }
     },
     "d8c71f340fc14476b1c5b217312ebee2": {
      "model_module": "@jupyter-widgets/base",
      "model_module_version": "1.2.0",
      "model_name": "LayoutModel",
      "state": {
       "margin": "0px 0px 0px 37px",
       "width": "600px"
      }
     },
     "de23631d3fda496d87eb6bf4660c7074": {
      "model_module": "@jupyter-widgets/controls",
      "model_module_version": "1.5.0",
      "model_name": "DescriptionStyleModel",
      "state": {
       "description_width": ""
      }
     },
     "e14dd150c99042f7b1a978baeffb3c34": {
      "model_module": "@jupyter-widgets/controls",
      "model_module_version": "1.5.0",
      "model_name": "HTMLModel",
      "state": {
       "layout": "IPY_MODEL_89c46475a9494b6fae2f6408c447f363",
       "style": "IPY_MODEL_8ae3600555904cbb801c60970b8b7ee0",
       "value": "<h5>Status</h5>"
      }
     },
     "ed75101918324c9bb7177af4b6fa095d": {
      "model_module": "@jupyter-widgets/controls",
      "model_module_version": "1.5.0",
      "model_name": "DescriptionStyleModel",
      "state": {
       "description_width": ""
      }
     },
     "f72c37d038a7491b82541c7ea9b1d8f0": {
      "model_module": "@jupyter-widgets/controls",
      "model_module_version": "1.5.0",
      "model_name": "HBoxModel",
      "state": {
       "children": [
        "IPY_MODEL_cb99808d4ffc4214a8b2ad296f703987",
        "IPY_MODEL_9290f9ff064841268171062b2cf59ec4",
        "IPY_MODEL_e14dd150c99042f7b1a978baeffb3c34",
        "IPY_MODEL_887226adde2242fba2b3dd0597eaf2dc",
        "IPY_MODEL_1fd45d20099841e496460611678bbf49"
       ],
       "layout": "IPY_MODEL_d8c71f340fc14476b1c5b217312ebee2"
      }
     }
    },
    "version_major": 2,
    "version_minor": 0
   }
  }
 },
 "nbformat": 4,
 "nbformat_minor": 4
}
