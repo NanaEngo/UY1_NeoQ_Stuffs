{
 "cells": [
  {
   "cell_type": "markdown",
   "id": "7ecdb324-0cce-4d05-a532-7f270c092249",
   "metadata": {},
   "source": [
    "# UE 4268 - QISKIT Project 2\n",
    "\n",
    "**`vos noms et prenoms`**, `matricule` et `email` \n",
    "\n",
    "\n",
    "Department of Physics - Faculty of Science - University of Yaoundé I\n",
    "\n",
    "`Nom du Laboratoire`\n",
    "\n",
    "`Date`"
   ]
  },
  {
   "cell_type": "markdown",
   "id": "034d0393-2bf3-4911-90cc-efa495148242",
   "metadata": {},
   "source": [
    "## Classification du cancer du sein avec un circuit quantique variationnel\n",
    "\n",
    "Le cancer du sein est une forme de cancer courante et souvent agressive qui touche des millions de personnes dans le monde. Un diagnostic précoce est essentiel au succès du traitement, et les techniques d'apprentissage automatique ont été largement utilisées pour aider à classer les tumeurs du sein comme bénignes ou malignes.\n",
    "\n",
    "Ce projet utilise un circuit quantique variationnel pour diagnostiquer, grâce au modèle d'apprentissage automatique quantique (QML, Quantum Machine Learning), le cancer du sein à l'aide de la base de données sur le [cancer du sein du Wisconsin](https://scikit-learn.org/stable/datasets/toy_dataset.html#breast-cancer-wisconsin-diagnostic-dataset), encore appelée *Wisconsin Diagnostic Breast Cancer* (WDBC).\n",
    "\n",
    "On rappelle qu'un circuit quantique variationnel, également appelé réseau de neurones quantiques, est constitué d'un circuit quantique fixe appelé *ansatz*, paramétré par un ensemble de variables. Ces variables sont ajustées afin de minimiser une fonction de coût, qui encode le problème à résoudre, comme la **classification** dans notre exemple. Nous optimisons ces paramètres en faisant tourner les qubits du circuit lors de l'apprentissage du modèle.\n",
    "\n",
    "Le schéma suivant donne un bref aperçu du protocole du classificateur quantique variationnel (VQC, Variational Quantum Classifier) proposé par [Havlicek *et al.*](https://arxiv.org/abs/1804.11326).\n",
    "\n",
    "\n",
    "<center> \n",
    "<img src=\"./Graphics/machinelearningWF.jpg\" width=400 />\n",
    "<img src=\"./Graphics/VQC_Diagram.png\" width=400 />\n",
    " </center>\n",
    "\n",
    "Le classificateur quantique variationnel est un algorithme variationnel où la valeur de la moyenne mesurée est interprétée comme la sortie d'un classificateur. \n",
    "\n",
    "Il est vivement conseillé de lire les notions du [Quantum Machine Learning](https://learn.qiskit.org/course/machine-learning/data-encoding) de la bibliothèque Qiskit.\n"
   ]
  },
  {
   "cell_type": "markdown",
   "id": "a9688589-bdcb-4b3d-af6b-974f42a43b57",
   "metadata": {},
   "source": [
    "### Importer les modules python basique"
   ]
  },
  {
   "cell_type": "code",
   "execution_count": null,
   "id": "f903e95b-9054-4d2e-a742-ada300b51cc5",
   "metadata": {
    "vscode": {
     "languageId": "python"
    }
   },
   "outputs": [],
   "source": [
    "import pandas as pd \n",
    "import numpy as np  \n",
    "import matplotlib.pyplot as plt\n",
    "import time"
   ]
  },
  {
   "cell_type": "markdown",
   "id": "14b53096-5789-44d0-95e0-a2ed07e8ffb0",
   "metadata": {},
   "source": [
    "## Analyse exploratoire des données - Exploratory Data Analysis (EDA)¶\n",
    "\n",
    "Tout d'abord, explorons le jeu de données WDBC que ce projet va utiliser et voyons ce qu'il contient. Pour notre commodité, cette base de données est disponible dans scikit-learn et peut être chargé facilement."
   ]
  },
  {
   "cell_type": "markdown",
   "id": "83143679-ecfc-4a5b-90b2-3778d6a2e2de",
   "metadata": {},
   "source": [
    "### Charger la base de données sur le cancer du sein du Wisconsin\n",
    "Utiliser la fonction `sklearn.datasets.load_breast_cancer`"
   ]
  },
  {
   "cell_type": "code",
   "execution_count": null,
   "id": "b46bcb5a-2d8e-4bca-8672-ccfa7f151daa",
   "metadata": {
    "vscode": {
     "languageId": "python"
    }
   },
   "outputs": [],
   "source": [
    " # Put your code here"
   ]
  },
  {
   "cell_type": "markdown",
   "id": "456b5bc0-4c59-415d-9151-d403e385fcef",
   "metadata": {},
   "source": [
    "### Structure de la base de données\n",
    "\n",
    "Décrire brièvement la structure de la base de données (Imprimer divers éléments et commenter à la fin)."
   ]
  },
  {
   "cell_type": "code",
   "execution_count": null,
   "id": "5acde195-5d05-485a-bec9-ffa119e0276d",
   "metadata": {
    "vscode": {
     "languageId": "python"
    }
   },
   "outputs": [],
   "source": [
    "# cancer.keys\n",
    "\n",
    " # Put your code here\n"
   ]
  },
  {
   "cell_type": "code",
   "execution_count": null,
   "id": "a73692cd-a62d-41d3-8163-9194402d7e03",
   "metadata": {
    "vscode": {
     "languageId": "python"
    }
   },
   "outputs": [],
   "source": [
    "# Shape of cancer data \n",
    "\n",
    " # Put your code here\n"
   ]
  },
  {
   "cell_type": "code",
   "execution_count": null,
   "id": "876f60d4-8f04-48bc-a119-4ea049faafab",
   "metadata": {
    "vscode": {
     "languageId": "python"
    }
   },
   "outputs": [],
   "source": [
    "# Feature names\n",
    "\n",
    " # Put your code here\n"
   ]
  },
  {
   "cell_type": "code",
   "execution_count": null,
   "id": "d10bac6a-e5d9-48ff-8cfe-45939627bc8c",
   "metadata": {
    "vscode": {
     "languageId": "python"
    }
   },
   "outputs": [],
   "source": [
    "# cancer.DESCR\n",
    "\n",
    " # Put your code here\n"
   ]
  },
  {
   "cell_type": "markdown",
   "id": "c1263f43-6b9a-443a-ade0-8c512521cfbd",
   "metadata": {},
   "source": [
    "### Convertir la base de données sklearn en dataframe Pandas\n",
    "\n",
    "On ajoutera la cible ou `target`."
   ]
  },
  {
   "cell_type": "code",
   "execution_count": null,
   "id": "7811a469-4a0e-407b-8ae6-4566b9006e97",
   "metadata": {
    "vscode": {
     "languageId": "python"
    }
   },
   "outputs": [],
   "source": [
    "# Put your code here\n"
   ]
  },
  {
   "cell_type": "markdown",
   "id": "c66c9fb4-f04e-4ea8-86cb-4709112b7a34",
   "metadata": {},
   "source": [
    "Visualiser les 10 premières lignes de la base de données"
   ]
  },
  {
   "cell_type": "code",
   "execution_count": null,
   "id": "a4947aa5-bec2-4532-8007-c742a26e0601",
   "metadata": {
    "vscode": {
     "languageId": "python"
    }
   },
   "outputs": [],
   "source": [
    "# Put your code here\n"
   ]
  },
  {
   "cell_type": "markdown",
   "id": "17960fd2-1f0a-454f-ab74-7df0a25a5496",
   "metadata": {},
   "source": [
    "### Affecter des variables indépendantes et une variable dépendante (cible)\n",
    "\n",
    "Les $X$ seront utilisés comme données d'entrée, et les $y$ seront utilisés comme cibles de prédiction pour votre modèle ML."
   ]
  },
  {
   "cell_type": "code",
   "execution_count": null,
   "id": "e6036890-b18c-4c01-8c82-a0a03751e1e5",
   "metadata": {
    "vscode": {
     "languageId": "python"
    }
   },
   "outputs": [],
   "source": [
    "# Put your code here\n",
    "\n"
   ]
  },
  {
   "cell_type": "code",
   "execution_count": null,
   "id": "ee94e25d-43cf-4f4e-b4f2-bbf5b8c56401",
   "metadata": {
    "vscode": {
     "languageId": "python"
    }
   },
   "outputs": [],
   "source": [
    "# Check the shapes of X and y\n",
    "\n",
    "# Put your code here\n"
   ]
  },
  {
   "cell_type": "markdown",
   "id": "34dd9394-7e8a-49f6-9316-0c2915331699",
   "metadata": {},
   "source": [
    "Etant donné que la base de données sur le cancer du sein du Wisconsin présente de nombreuses caractéristiques (plus de 30), ce qui le rend difficile à traiter et à analyser sur un calculateur quantique avec un nombre limité de qubits. Par conséquent, pour rendre la tâche plus gérable, il faut d'abord utiliser l'**analyse en composantes principales (PCA, principal component analysis)** pour réduire la dimensionnalité de l'ensemble de données à seulement quatre variables pour le simulateur.\n",
    "\n",
    "A cet effet, il faut normaliser les caractéristiques en supprimant la moyenne et en mettant à l'échelle la variance unitaire, ce qui est nécessaire pour le PCA.\n",
    "\n",
    "### Normaliser les caractéristiques\n",
    "\n",
    "Utiliser la classe `sklearn.preprocessing.StandardScaler`."
   ]
  },
  {
   "cell_type": "code",
   "execution_count": null,
   "id": "3e82bdbd-c2cf-42f2-b774-ba9f3a7864c8",
   "metadata": {
    "vscode": {
     "languageId": "python"
    }
   },
   "outputs": [],
   "source": [
    "\n",
    "# Put your code here\n",
    "\n"
   ]
  },
  {
   "cell_type": "markdown",
   "id": "bc1bb620-5e41-4b15-9fcf-aeb993eaa9ba",
   "metadata": {},
   "source": [
    "### Reduire la dimensionnalité à 4 avec le PCA\n",
    "\n",
    "La dimension des données correspond au nombre de qubits nécessaires pour coder les données des feature maps quantiques à utiliser.\n",
    "\n",
    "Utiliser la classe `sklearn.decomposition.PCA`"
   ]
  },
  {
   "cell_type": "code",
   "execution_count": null,
   "id": "b81b0c3c-f4b3-40dd-b79a-63d9fb174a3b",
   "metadata": {
    "vscode": {
     "languageId": "python"
    }
   },
   "outputs": [],
   "source": [
    "\n",
    "# Put your code here\n",
    "\n"
   ]
  },
  {
   "cell_type": "code",
   "execution_count": null,
   "id": "d962bd19-e159-4b30-a3ff-db7376f537c8",
   "metadata": {
    "vscode": {
     "languageId": "python"
    }
   },
   "outputs": [],
   "source": [
    "# pca.explained_variance_ratio\n",
    "\n",
    "# Put your code here\n",
    "\n"
   ]
  },
  {
   "cell_type": "code",
   "execution_count": null,
   "id": "4fe64cc3-7c62-4783-9fa5-34d6c55259d4",
   "metadata": {
    "vscode": {
     "languageId": "python"
    }
   },
   "outputs": [],
   "source": [
    "# pca.singular_values\n",
    "\n",
    "# Put your code here\n",
    "\n"
   ]
  },
  {
   "cell_type": "markdown",
   "id": "ab8b27e8-15fa-48a2-b60a-0c38e8caa13e",
   "metadata": {},
   "source": [
    "### Normaliser les données\n",
    "\n",
    "Utiliser la classe `sklearn.preprocessing.MinMaxScaler`. Sans spécifier de paramètres, elle fait correspondre les données à $[0,1]$."
   ]
  },
  {
   "cell_type": "code",
   "execution_count": null,
   "id": "02b97d33-ba2e-4038-be3d-4dc4215cd64c",
   "metadata": {
    "vscode": {
     "languageId": "python"
    }
   },
   "outputs": [],
   "source": [
    "\n",
    "# Put your code here\n"
   ]
  },
  {
   "cell_type": "markdown",
   "id": "df3990a7-50ce-409b-a273-e5b4797990c5",
   "metadata": {},
   "source": [
    "## Entraînement d'un modèle classique d'apprentissage automatique\n",
    "\n",
    "Avant d'entraîner un modèle, nous devons diviser la base de données en deux parties: une base de données d'entraînement et une base de données de test. Nous utiliserons la première partie pour entraîner le modèle et la seconde pour vérifier la performance de nos modèles sur des données non vues."
   ]
  },
  {
   "cell_type": "markdown",
   "id": "ae9f2d81-90ae-44b6-bd76-0bc7a3a30364",
   "metadata": {},
   "source": [
    "### Diviser les données\n",
    "\n",
    "Utiliser \n",
    "* la fonction `sklearn.model_selection.train_test_split` qui divise aléatoirement la base de données en ensembles de données de d'entrainement (on prendra `train_size=.8`) et de test;\n",
    "* et la classe `qiskit.utils.algorithms_globals` pour générer une graine aléatoire (random seed) afin d'assurer la reproductibilité à travers les exécutions."
   ]
  },
  {
   "cell_type": "code",
   "execution_count": null,
   "id": "dd0b439a-df3a-434e-a389-45b5fdd2fcc2",
   "metadata": {
    "vscode": {
     "languageId": "python"
    }
   },
   "outputs": [],
   "source": [
    "\n",
    "# Put your code here\n",
    "\n"
   ]
  },
  {
   "cell_type": "markdown",
   "id": "d5815ab2-9cdd-4901-a334-740220bd900b",
   "metadata": {},
   "source": [
    "### Support Vector Classifier (SVC) Classique\n",
    "\n",
    "Entraîner les données avec [Support Vector Classifier](https://scikit-learn.org/stable/modules/svm.html) classique de scikit-learn."
   ]
  },
  {
   "cell_type": "code",
   "execution_count": null,
   "id": "f9d15651-90d5-46e5-9d5e-be55a65acd39",
   "metadata": {
    "vscode": {
     "languageId": "python"
    }
   },
   "outputs": [],
   "source": [
    "\n",
    "# Put your code here\n",
    "\n"
   ]
  },
  {
   "cell_type": "markdown",
   "id": "f1dc8714-e196-410d-afb3-8da596b19210",
   "metadata": {},
   "source": [
    "Vérifier les performances de notre modèle classique et conclure."
   ]
  },
  {
   "cell_type": "code",
   "execution_count": null,
   "id": "f9a0588c-0657-4b6f-9776-40f0f017711a",
   "metadata": {
    "vscode": {
     "languageId": "python"
    }
   },
   "outputs": [],
   "source": [
    "\n",
    "# Put your code here\n",
    "\n"
   ]
  },
  {
   "cell_type": "markdown",
   "id": "e87cf22d-6d4b-4161-ad79-ef01edd201ad",
   "metadata": {},
   "source": [
    "## Entraînement d'un modèle d'apprentissage automatique quantique\n",
    "\n",
    "On peut maintenant coder et entraîner un classificateur quantique variationnel (VQC, Variational quantum classifier). Le VQC est le classificateur variationnel quantique le plus simple de la bibliothèque Qiskit Machine Learning (*à installer*,`pip install qiskit[machine-learning] -U`).\n",
    "\n",
    "Deux éléments centraux de la classe VQC sont la carte de caractéristiques ou *feature map* et l'*ansatz*.\n",
    "\n",
    "* Comme les données sont classiques, elles sont constituées de bits, et non de qubits. Il faut trouver un moyen de coder les données en qubits. Ce processus est crucial si l'on veut obtenir un modèle quantique efficace. On parle généralement de *mappage* ou de correspondance, ce qui est le rôle du *feature map*. Il y a différents *feature maps* disponibles (`ZFeatureMap`, `ZZFeatureMap`, `PauliFeatureMap`) dans la bibliothèque de Qiskit. Il est possible également d'en programmer une personnalisée. Nous suggérons d'utiliser `ZZFeatureMap` (*Second-order Pauli-Z evolution circuit*). Le simulateur QASM sera utilisé.\n",
    "\n",
    "* Une fois les données chargées, on peut appliquer un circuit quantique paramétré, également appelé un *ansatz* ou forme variationnelle. Ce circuit est un analogue direct des couches des réseaux de neurones classiques. Il a un ensemble de paramètres ou de poids réglables. Les poids sont optimisés de telle sorte qu'ils minimisent une fonction objective. Cette fonction objectif caractérise la distance entre les prédictions et les données étiquetées connues. Le circuit est basé sur des opérations unitaires et dépend de paramètres externes qui seront ajustables.  \n",
    "\n",
    "    Étant donné un état préparé $|\\psi_i\\rangle$, le circuit modèle $\\mathtt{U}(w)$ fait correspondre $|\\psi_i\\rangle$ à un autre vecteur $|\\psi_f\\rangle=\\mathtt{U}(w)|\\psi_i\\rangle$. $\\mathtt{U}(w)$ est constitué d'une série de portes unitaires. Nous suggérons d'utiliser ici des portes de $\\mathtt{R}_y$ qui vont tourner les qubits autour de l'axe Y. L'intrication entre deux qubits sera assurée par des portes CNOT. "
   ]
  },
  {
   "cell_type": "markdown",
   "id": "1ecf7dd5-ff8b-4d78-91a4-0b28d6c6d444",
   "metadata": {},
   "source": [
    "### Encoder les données comme qubits\n",
    "\n",
    "Utiliser la fonction `qiskit.circuit.library.ZZFeatureMap` pour créer un circuit quantique à 4 entrées, une entrée pour chaque feature. Imprimer le circuit décomposé en ses portes constitutives pour avoir une idée de l'apparence des feature map."
   ]
  },
  {
   "cell_type": "code",
   "execution_count": null,
   "id": "f0db35e9-3ccf-4901-9dd6-b122fb8b20a4",
   "metadata": {
    "vscode": {
     "languageId": "python"
    }
   },
   "outputs": [],
   "source": [
    "\n",
    "# Put your code here\n"
   ]
  },
  {
   "cell_type": "markdown",
   "id": "0fedc2ab-16ac-4072-83f3-8586c6c33dc8",
   "metadata": {},
   "source": [
    "### Construire le circuit quantique parametré\n",
    "\n",
    "Utiliser le circuit quantique variationnel `qiskit.circuit.library.RealAmplitutes`. Imprimer le circuit décomposé obtenu."
   ]
  },
  {
   "cell_type": "code",
   "execution_count": null,
   "id": "8f5b9f59-9119-4554-8a9e-8a76d8d36d34",
   "metadata": {
    "vscode": {
     "languageId": "python"
    }
   },
   "outputs": [],
   "source": [
    "\n",
    "# Put your code here\n"
   ]
  },
  {
   "cell_type": "markdown",
   "id": "f0eeebe5-9e38-496f-8067-f3f92b7447aa",
   "metadata": {},
   "source": [
    "### Combiner feature map et circuit quantique parametré\n",
    "\n",
    "Imprimer le circuit obtenu."
   ]
  },
  {
   "cell_type": "code",
   "execution_count": null,
   "id": "9337fd30-6d4c-447a-bd32-343a0ece4b77",
   "metadata": {
    "vscode": {
     "languageId": "python"
    }
   },
   "outputs": [],
   "source": [
    "\n",
    "# Put your code here\n"
   ]
  },
  {
   "cell_type": "markdown",
   "id": "fc41985e-5ab1-420c-838c-9db6c313a132",
   "metadata": {},
   "source": [
    "### Choisir l'optimiseur classique\n",
    "\n",
    "On a besoin d'une routine d'optimisation classique qui modifie les valeurs de notre circuit variationnel et répète à nouveau tout le processus. C'est la boucle classique qui entraîne nos paramètres jusqu'à ce que la valeur de la fonction de coût diminue. Dans la bibliothèque Qiskit, on a les méthodes d'optimisation classiques suivantes:\n",
    "\n",
    "* `COBYLA` - Optimisation contrainte par approximation linéaire.\n",
    "* `SPSA` - Optimiseur d'approximation stochastique de perturbation simultanée (SPSA).\n",
    "* `SLSQP` - Optimiseur de programmation des moindres carrés séquentiels\n",
    "\n",
    "Il est à noter que la principale caractéristique de SPSA est l'approximation du gradient stochastique, qui ne nécessite que deux mesures de la fonction objectif, quelle que soit la dimension du problème d'optimisation. Selon la documentation Qiskit, le SPSA peut être utilisé en présence de bruit, et il est donc indiqué dans les situations impliquant une incertitude de mesure sur un calcul quantique lors de la recherche d'un minimum. C'est un fait important puisque nous sommes encore dans l'ère des NISQ.\n",
    "\n",
    "Utiliser la méthode d'optimisation SPSA."
   ]
  },
  {
   "cell_type": "code",
   "execution_count": null,
   "id": "bbc3676b-ddd7-48b9-ae7a-8597a8444708",
   "metadata": {
    "vscode": {
     "languageId": "python"
    }
   },
   "outputs": [],
   "source": [
    "# Put your code here\n",
    "\n"
   ]
  },
  {
   "cell_type": "markdown",
   "id": "800d9fa6-ce4d-46fa-bc26-a190219759ba",
   "metadata": {},
   "source": [
    "### Définir des valeurs aléatoires initiales pour les portes (\"pondérations\")\n",
    "\n",
    "Utiliser la fonction `numpy.random.random` pour définir 16 valeurs aléatoires initiales pour les poids entraînables du classificateur."
   ]
  },
  {
   "cell_type": "code",
   "execution_count": null,
   "id": "3a745b62-79b8-4413-88d5-44625e05aad4",
   "metadata": {
    "vscode": {
     "languageId": "python"
    }
   },
   "outputs": [],
   "source": [
    "\n",
    "# Put your code here\n"
   ]
  },
  {
   "cell_type": "markdown",
   "id": "b7d675e2-5034-4c0b-9644-66072de16f50",
   "metadata": {},
   "source": [
    "### Encoder les étiquettes\n",
    "\n",
    "Dans le VQC, les étiquettes peuvent être transmises sous différents formats. Il peut s'agir d'étiquettes simples, d'un tableau numpy unidimensionnel contenant des étiquettes entières comme \n",
    "> [0, 1, 2, ...]\n",
    "\n",
    "ou d'un tableau numpy contenant des étiquettes catégorielles de type chaîne. Les libellés codés à une dimension sont également supportés. En interne, les étiquettes sont transformées en un codage *one-shot* et le classificateur est toujours entraîné sur des étiquettes *one-shot*. Ce sont par exemple, des données comme celles-ci\n",
    "> [1, 0, 0], [0, 1, 0], [0, 0, 1]\n",
    "\n",
    "\n",
    "La classification multi-label n'est pas supportée. Par exemple, des données comme ici\n",
    "> [1, 1, 0], [0, 1, 1], [1, 0, 1], [1, 1, 1]\n",
    "\n",
    "Utiliser la classe `sklearn.preprocessing.OneHotEncoder`"
   ]
  },
  {
   "cell_type": "code",
   "execution_count": null,
   "id": "f42fac34-8bf8-4e9a-9af3-88de68bed357",
   "metadata": {
    "vscode": {
     "languageId": "python"
    }
   },
   "outputs": [],
   "source": [
    "# Put your code here\n",
    "\n"
   ]
  },
  {
   "cell_type": "markdown",
   "id": "84369a05-b653-4b83-b8e5-9b54f514c88a",
   "metadata": {},
   "source": [
    "### Ajouter une fonction de rappel\n",
    "\n",
    "Nous allons ajouter une fonction de rappel appelée `callback_graph`. `VQC` appellera cette fonction pour chaque évaluation de la fonction objective avec deux paramètres: les poids actuels et la valeur de la fonction objective à ces poids. Notre rappel ajoutera la valeur de la fonction objective à un tableau afin que nous puissions tracer l'itération par rapport à la valeur de la fonction objective. Le rappel mettra à jour le tracé à chaque itération. Noter que vous pouvez faire ce que vous voulez dans une fonction de rappel, tant qu'elle a la signature à deux paramètres que nous avons mentionnée ci-dessus."
   ]
  },
  {
   "cell_type": "code",
   "execution_count": null,
   "id": "01755d04-4927-4934-9c55-27376b4366b2",
   "metadata": {
    "vscode": {
     "languageId": "python"
    }
   },
   "outputs": [],
   "source": [
    "from IPython.display import clear_output\n",
    "\n",
    "objective_func_vals = []\n",
    "plt.rcParams[\"figure.figsize\"] = (12, 6)\n",
    "\n",
    "\n",
    "def callback_graph(weights, obj_func_eval):\n",
    "    clear_output(wait=True)\n",
    "    objective_func_vals.append(obj_func_eval)\n",
    "    plt.title(\"Objective function value against iteration\")\n",
    "    plt.xlabel(\"Iteration\")\n",
    "    plt.ylabel(\"Objective function value\")\n",
    "    plt.plot(range(len(objective_func_vals)), objective_func_vals)\n",
    "    plt.show()"
   ]
  },
  {
   "cell_type": "markdown",
   "id": "fdc5ebbd-3537-4e6b-afd1-e26af6f8b15c",
   "metadata": {},
   "source": [
    "### Choisir le simulateur quantique\n",
    "\n",
    "Nous créons une instance de la primitive `Sampler` qui est l'implémentation de référence basée sur le vecteur d'état (`statevector`). Elle génère des quasi-probabilités à partir de circuits d'entrée.\n",
    "\n",
    "Utiliser la classe `qiskit.primitives.Sampler` pour créer un échantillonneur soutenu par un calculateur quantique."
   ]
  },
  {
   "cell_type": "code",
   "execution_count": null,
   "id": "051b53bf-e9e3-4318-966c-d0e252a52d37",
   "metadata": {
    "vscode": {
     "languageId": "python"
    }
   },
   "outputs": [],
   "source": [
    "# Put your code here\n"
   ]
  },
  {
   "cell_type": "markdown",
   "id": "f3fc6ec1-9c3c-4cc0-aab5-11254c02b9f3",
   "metadata": {},
   "source": [
    "### Créer un objet VQC et l'exécuter sur le simulateur quantique\n",
    "\n",
    "Construire le classificateur et à l'adapter ou *fitter*."
   ]
  },
  {
   "cell_type": "code",
   "execution_count": null,
   "id": "066fc3b0-fcba-4b93-bbb0-a68aaa56f7d5",
   "metadata": {
    "tags": [],
    "vscode": {
     "languageId": "python"
    }
   },
   "outputs": [],
   "source": [
    "# Put your code here\n",
    "\n"
   ]
  },
  {
   "cell_type": "code",
   "execution_count": null,
   "id": "12f8a264-db89-464a-b98c-c89d1886d639",
   "metadata": {
    "vscode": {
     "languageId": "python"
    }
   },
   "outputs": [],
   "source": []
  },
  {
   "cell_type": "markdown",
   "id": "ea2a762a-c00c-4eb4-9927-7ea980253708",
   "metadata": {},
   "source": [
    "Tracer l'évolution temporelle de la fonction de coût et imprimer le temps d'entrainement.\n",
    "\n",
    "Noter que l'optimisation prendra un certain temps à s'exécuter."
   ]
  },
  {
   "cell_type": "code",
   "execution_count": null,
   "id": "9f86f7b4-e2a8-4cdb-b05a-c2f21a0fe374",
   "metadata": {
    "vscode": {
     "languageId": "python"
    }
   },
   "outputs": [],
   "source": [
    "# Put your code here\n",
    "\n"
   ]
  },
  {
   "cell_type": "markdown",
   "id": "605d700d-8ae0-4882-9320-2d6c41a750f2",
   "metadata": {},
   "source": [
    "### Imprimer les métriques de la base de données"
   ]
  },
  {
   "cell_type": "code",
   "execution_count": null,
   "id": "627f48f4-e965-40a6-98aa-cc2a698e368e",
   "metadata": {
    "vscode": {
     "languageId": "python"
    }
   },
   "outputs": [],
   "source": [
    "# Put your code here\n",
    "\n"
   ]
  },
  {
   "cell_type": "markdown",
   "id": "b684dda7-a142-4b9a-a8cb-b03fcf222da0",
   "metadata": {},
   "source": [
    "Comme nous pouvons le constater, les scores sont élevés et le modèle peut être utilisé pour prédire des étiquettes sur des données non vues."
   ]
  },
  {
   "cell_type": "markdown",
   "id": "4f8e9a86-bfc0-431e-8d14-a23cde069c61",
   "metadata": {},
   "source": [
    "### Choix d'un autre ansatz\n",
    "\n",
    "Utiliser la classe `qiskit.circuit.library.EfficientSU2` pour construire l'*ansatz* et reprendre la simulation quantique."
   ]
  },
  {
   "cell_type": "code",
   "execution_count": null,
   "id": "1a369833-f112-4a50-ae79-0b24c2af6bdc",
   "metadata": {
    "vscode": {
     "languageId": "python"
    }
   },
   "outputs": [],
   "source": [
    "# Put your code here\n",
    "\n"
   ]
  },
  {
   "cell_type": "markdown",
   "id": "062cba79-6ba7-4916-8561-462a2ed04251",
   "metadata": {},
   "source": [
    "### Conclusion¶\n",
    "\n",
    "Dans ce projet, nous avons construit un modèle d'apprentissage automatique classique et deux quantiques. Imprimons un tableau global avec nos résultats. Commenter les résultats obtenus."
   ]
  },
  {
   "cell_type": "code",
   "execution_count": null,
   "id": "7976c237-3d38-473d-b5df-3e5523b08eaf",
   "metadata": {
    "vscode": {
     "languageId": "python"
    }
   },
   "outputs": [],
   "source": [
    "print(f\"Model                           | Test Score | Train Score\")\n",
    "print(f\"SVC, 4 features                 | {train_score_c4:10.2f} | {test_score_c4:10.2f}\")\n",
    "print(f\"VQC, 4 features, RealAmplitudes | {train_score_q4:10.2f} | {test_score_q4:10.2f}\")\n",
    "print(f\"VQC, 4 features, EfficientSU2   | {train_score_q4_eff:10.2f} | {test_score_q4_eff:10.2f}\")"
   ]
  },
  {
   "cell_type": "code",
   "execution_count": null,
   "id": "5b10dda8-3ef5-4e68-80de-d63eccac560b",
   "metadata": {
    "vscode": {
     "languageId": "python"
    }
   },
   "outputs": [],
   "source": [
    "import qiskit.tools.jupyter\n",
    "%qiskit_version_table"
   ]
  },
  {
   "cell_type": "code",
   "execution_count": null,
   "id": "c392cc7e-b4c1-44ea-a9bf-d112a6e230c0",
   "metadata": {
    "vscode": {
     "languageId": "python"
    }
   },
   "outputs": [],
   "source": [
    "# from qiskit.aqua.components.feature_maps import RawFeatureVector"
   ]
  }
 ],
 "metadata": {
  "kernelspec": {
   "display_name": "qiskit-env",
   "language": "python",
   "name": "qiskit-env"
  },
  "language_info": {
   "codemirror_mode": {
    "name": "ipython",
    "version": 3
   },
   "file_extension": ".py",
   "mimetype": "text/x-python",
   "name": "python",
   "nbconvert_exporter": "python",
   "pygments_lexer": "ipython3",
   "version": "3.10.9"
  }
 },
 "nbformat": 4,
 "nbformat_minor": 5
}
