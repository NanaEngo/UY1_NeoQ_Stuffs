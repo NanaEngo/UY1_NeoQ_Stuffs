{
 "cells": [
  {
   "attachments": {},
   "cell_type": "markdown",
   "metadata": {},
   "source": [
    "# QISKIT Lab 5 - Qubit Hamiltonian\n",
    "\n",
    "1. S. G. Nana Engo, serge.nana-engo@facsciences-uy1.cm\n",
    "    * Department of Physics, Faculty of Science, University of Yaounde I\n",
    "1. J-P. Tchapet Njafa, jean-pierre.tchapet-njafa@univ-maroua.cm\n",
    "    * Department of Physics, Faculty of Science, University of Maroua\n",
    "1. P. Djorwe, djorwepp@gmail.com\n",
    "    * Department of Physics, Faculty of Science, University of Ngaoundere\n",
    "       \n",
    "May 2023"
   ]
  },
  {
   "attachments": {},
   "cell_type": "markdown",
   "metadata": {},
   "source": [
    "$\n",
    "\\newcommand{\\HH}{\\mathtt{H}}  \n",
    "\\newcommand{\\ad}{a^\\dagger}  \n",
    "\\newcommand{\\kb}[2]{|#1\\rangle\\langle#2|} \n",
    "\\newcommand{\\proj}[1]{|#1\\rangle\\langle#1|}\n",
    "\\newcommand{\\bk}[2]{\\langle#1|#2\\rangle}\n",
    "\\newcommand{\\ket}[1]{|#1\\rangle}\n",
    "$"
   ]
  },
  {
   "attachments": {},
   "cell_type": "markdown",
   "metadata": {},
   "source": [
    "## Correspondance (mapping) fermion qubit\n",
    "\n",
    "En simulation quantique, encoder un problème de structure électronique en seconde quantification sur un calculateur quantique revient à établir une correspondance entre les opérateurs d'échelle fermioniques et les opérateurs de Pauli. Les transformations de Jordan-Wigner (JWT), de Partité (PT) et de Bravyi-Kitaev (BKT) sont parmis les plus utilisés en calculs quantiques. Pour plus de détails, consulter J. T. Seeley, M. J. Richard, and P. J. Love,*The Bravyi-Kitaev transformation for quantum computation of electronic structure*, J. Chem. Phys **137**, 224109 (2012).\n",
    "\n",
    "### Décomposition de Pauli \n",
    "\n",
    "Comme $\\{\\mathbb{I}, \\mathtt{X}, \\mathtt{Y}, \\mathtt{Z}\\}$ forme une base complète pour tout opérateur Hermitien 1- ou multi-qubit, l'ingrédient clé des algorithmes variationnels est de\n",
    "décomposer l'Hamiltonien électronique en termes de produits des matrices de Pauli,\n",
    "\\begin{equation*}\n",
    "\\mathtt{P}_j=\\mathtt{X}_{M-1}^j\\otimes\\mathtt{X}_{M-2}^j\\otimes\\mathtt{X}_k^j\\otimes\\dots\\mathtt{X}_0^j,\n",
    "\\end{equation*}\n",
    "où les opérateurs de Pauli $\\mathtt{X}^j\\in\\{\\mathbb{I},\\mathtt{X},\\mathtt{Y},\\mathtt{Z}\\}$ sont tels que\n",
    "\\begin{equation*}\n",
    "\\begin{aligned}\n",
    "    &\\mathtt{X}^i\\mathtt{X}^j=\\mathbb{I}\\delta_{ij}+i\\varepsilon_{ijk}\\mathtt{X}^k, \\\\\n",
    "    &\\varepsilon_{ijk}=\\begin{cases}+1, & \\text{ pour les permutations circulaires droites de } (i,j,k) \\\\\n",
    "    -1, & \\text{ pour les permutations circulaires gauches de }(i,j,k) \\\\\n",
    "    0, & \\text{ sinon} \\end{cases}\n",
    "\\end{aligned}\n",
    "\\end{equation*}\n",
    "\n",
    "\\begin{align*}\n",
    "&\\mathtt{X}:=\\kb{0}{1}+\\kb{1}{0}, &\\mathtt{Y}&:=i(-\\kb{0}{1}+\\kb{1}{0}), &\\mathtt{Z}:=\\proj{0}-\\proj{1}.\n",
    "\\end{align*}\n",
    "Les opérateurs de Pauli sont à la fois unitaires et Hermitiens.\n",
    "\n",
    "L'Hamiltonien total peut alors être représenté comme la combinaison linéaire de $\\mathtt{P}_j$,\n",
    "\\begin{align*}\n",
    "&\\mathtt{H}=\\sum_j^{N_k}w_j\\mathtt{P}_j=\\sum_j^{N_k}w_j\\left(\\bigotimes_i^{M-1}\\mathtt{X}_i^j\\right),\n",
    "&w_j=\\langle\\mathtt{H},\\mathtt{P}_j\\rangle=\\rm{Tr}(\\mathtt{H}^\\dagger\\mathtt{P}_j),\n",
    "\\end{align*}\n",
    "où $w_j$ sont les poids de la chaîne de Pauli $\\mathtt{P}_j$, i indique sur quel qubit\n",
    "l'opérateur agit, et j désigne le terme dans l'Hamiltonien.\n",
    "\n",
    "Pour un Hamiltonien de la 2e quantification, le nombre total de chaînes de Pauli\n",
    "$N_k$ dépend du nombre de termes $h_{pq}$ à 1-électron et $h_{pqrs}$ à\n",
    "2-électrons.\n",
    "\n",
    "\n",
    "### Opérateurs d'échelle qubit\n",
    "\n",
    "Ce sont les opérateurs suivants qui agissent localement sur les qubits :\n",
    "$$\n",
    "\\begin{array}{l|l}\n",
    "\\textbf{Opérateur qubit}             &  \\textbf{Description}\\\\\\hline\n",
    "\\mathbb{I}=\\begin{pmatrix}1 & 0 \\\\ 0 &1 \\end{pmatrix} &\\text{Identité}\\\\\n",
    "\\mathtt{Q}^-=\\begin{pmatrix}0 & 1 \\\\ 1 & 0 \\end{pmatrix}=\\frac12(\\mathtt{X} + i\\mathtt{Y}) =\\kb{1}{0} & \\text{Annihilation} \\\\\n",
    "\\mathtt{Q}^+=\\begin{pmatrix}0 & 0 \\\\ 1 & 0 \\end{pmatrix}=\\frac12(\\mathtt{X} - i\\mathtt{Y}) =\\kb{0}{1} & \\text{Création}\\\\\n",
    "\\mathtt{Q}^+\\mathtt{Q}^-=\\begin{pmatrix}0 & 0 \\\\ 0 &1 \\end{pmatrix}=\\frac12(\\mathbb{I} - \\mathtt{Z}) =\\proj{1} & \\text{Un nombre (particule)}\\\\\n",
    "\\mathtt{Q}^-\\mathtt{Q}^+=\\begin{pmatrix}0 & 0 \\\\ 0 &1 \\end{pmatrix}=\\frac12(\\mathbb{I} + \\mathtt{Z}) =\\proj{0} & \\text{Zéro nombre (trou)}\\\\\\hline\n",
    "\\end{array}\n",
    "$$\n",
    "Les opérateurs qubits sont antisymétrique: $\\{\\mathtt{Q}^+,\\mathtt{Q}^-\\}=\\mathtt{Q}^+\\mathtt{Q}^- + \\mathtt{Q}^-\\mathtt{Q}^+ = \\mathbb{I}$."
   ]
  },
  {
   "attachments": {},
   "cell_type": "markdown",
   "metadata": {},
   "source": [
    "## Transformation de Jordan-Wigner (JWT)\n",
    "\n",
    "<center><img src=\"Graphics/jw_mapping.png\" alt=\"Jordan Mapping\" width=\"700\"/></center>\n",
    "\n",
    "Elle stocke l'occupation de chaque spin-orbite dans chaque qubit, i.e.,\n",
    "\\begin{align*}\n",
    "&\\ket{f_{M-1},\\dots,f_k,\\dots, f_1,f_0} \\rightarrow \\ket{q_{M-1},\n",
    "\\dots,q_k,\\dots, q_1, q_0}, \n",
    "&q_k :=\\{\\uparrow,\\downarrow\\}\\equiv f_k \\in \\{0, 1 \\}.\n",
    "\\end{align*}\n",
    "et les opérateurs fermioniques de création et d'annihilation (respectivement\n",
    "$\\ad_k$ et $a_k$) sur des opérateurs de qubits non locaux de la forme\n",
    "\\begin{align*}\n",
    "\\begin{aligned}\n",
    "&\\ad_k \\mapsto \\frac12(\\mathtt{X}_k - i\\mathtt{Y}_k)\\otimes \\mathtt{Z}_{k-1} \\otimes \\dots \\otimes \\mathtt{Z}_0\n",
    "\\equiv \\mathtt{Q}^+_k \\bigotimes_{k=p-1}^0\\mathtt{Z}_k,\n",
    "&a_k \\mapsto \\frac12(\\mathtt{X}_k + i \\mathtt{Y}_k)\\otimes\\mathtt{Z}_{k-1}\\otimes \\dots \\otimes \\mathtt{Z}_0 \n",
    "\\equiv \\mathtt{Q}_k^- \\bigotimes_{k=p-1}^0\\mathtt{Z}_k.\n",
    "\\end{aligned}\n",
    "\\end{align*}\n",
    "\n",
    "\n",
    "Par exemple, puisque $\\mathtt{Z}_k^2=\\mathbb{I}_k$, on a\n",
    "\\begin{array}{l|l}\n",
    "\\textbf{Fermion}  & \\textbf{Qubit}  \\\\\\hline\n",
    "a\\ket{0001}+b\\ket{0010}+c\\ket{0100}+d\\ket{1000} & a\\ket{0001}+b\\ket{0010}+c\\ket{0100}+d\\ket{1000} \\\\\n",
    "a_0,\\quad  a_1,\\quad  a_2,\\quad a_3 &\\mathtt{Q}^-_0,\\quad \\mathtt{Q}^-_1\\mathtt{Z}_0,\\quad \\mathtt{Q}^-_2\\mathtt{Z}_1 \\mathtt{Z}_0,\\quad \\mathtt{Q}^-_3\\mathtt{Z}_2 \\mathtt{Z}_1 \\mathtt{Z}_0 \\\\\n",
    "\\ad_0,\\quad \\ad_1,\\quad \\ad_2,\\quad \\ad_3 & \\mathtt{Q}^+_0,\\quad \\mathtt{Q}^+_1\\mathtt{Z}_0,\\quad \\mathtt{Q}^+_2\\mathtt{Z}_1 \\mathtt{Z}_0,\\quad \\mathtt{Q}^+_3\\mathtt{Z}_2 \\mathtt{Z}_1 \\mathtt{Z}_0 \\\\\n",
    "n_k = \\ad_k a_k &\\mathtt{Q}^+_k \\mathtt{Q}^-_k = \\proj{1}_k=\\frac12(\\mathbb{I} - \\mathtt{Z})_k \\\\\\hline\n",
    "\\end{array}\n"
   ]
  },
  {
   "attachments": {},
   "cell_type": "markdown",
   "metadata": {},
   "source": [
    "### Construction des Hamiltoniens dans la représentation de Jordan-Wigner\n",
    "\n",
    "Pour traduire l'Hamiltonien en une somme d'opérateurs de Pauli, il suffit de remplacer chacun des opérateurs $\\ad$ et $a$ dans l'Hamiltonien fermionique par les chaînes d'opérateurs de Pauli correspondante. \n",
    "\n",
    "#### Operateurs 1-corps $\\ad_p a_q $\n",
    "\n",
    "* Quand $p=q$, tous les opérateurs $\\mathtt{Z}$ disparaissent compte tenu du fait que $\\mathtt{Z}_p^2 = \\mathbb{I}_p$, et on a \n",
    "  $$ \\ad_p a_p \\mapsto \\mathtt{Q}^+_p \\left(\\bigotimes_{k=p-1}^0\\mathtt{Z}_k\\right)\n",
    "  \\mathtt{Q}^-_p \\left(\\bigotimes_{k=p-1}^0 \\mathtt{Z}_k\\right) = \\frac12(\\mathbb{I}_p-\\mathtt{Z}_p).$$\n",
    "\n",
    "* Pour tous les indices $p\\neq q$, les opérateurs $\\mathtt{Z}$ demeurent pour qubits entre $p$ et $q$, y compris p si $p < q$ et on a,\n",
    " \n",
    " \\begin{align*} \n",
    "  \\ad_p a_q \\mapsto & \\mathtt{Q}^+_p \\left(\\bigotimes_{k=p-1}^0\\mathtt{Z}_k\\right)\n",
    "  \\mathtt{Q}^-_q \\left(\\bigotimes_{k=q-1}^0 \\mathtt{Z}_k\\right)\n",
    "  =\\frac14(\\mathtt{X}_p - i\\mathtt{Y}_p)(\\mathtt{X}_q + i\\mathtt{Y}_q) \\left(\\bigotimes_{k=q-1}^p\\mathtt{Z}_k\\right)\\\\\n",
    "  &=\\frac14 (\\mathtt{X}_p\\mathtt{X}_q + i\\mathtt{X}_p\\mathtt{Y}_q\n",
    " - i\\mathtt{Y}_p\\mathtt{X}_q + \\mathtt{Y}_p\\mathtt{Y}_q ) \\left(\\bigotimes_{k=q-1}^p\\mathtt{Z}_k\\right)\n",
    "\\end{align*}\n",
    "\n",
    "Par suite, dans les intégrales à 1-corps, on a les deux classes suivantes avec des orbitales à valeurs réelles, pour $p\\leq q$ (ordre normal),\n",
    "\n",
    "$$\n",
    "\\begin{array}{l|l|l}\n",
    "\\textbf{Opérateur} & \\textbf{Seconde Quantification} &  \\textbf{Représentation de Pauli} \\\\\\hline\n",
    "\\text{Nombre} & \\HH_{pp}=h_{pp}\\ad_p a_p& \\frac{h_{pp}}{2}(\\mathbb{I}_p-\\mathtt{Z}_p)\\\\\n",
    "\\text{Excitation}&\\HH_{pq}=h_{pq}\\ad_p a_q + h_{qp}  \\ad_q a_p &\\frac{h_{pq}}{2}(\\mathtt{X}_q\\mathtt{X}_p+\\mathtt{Y}_q\\mathtt{Y}_p)\\left(\\bigotimes_{k=q-1}^p\\mathtt{Z}_k\\right)\\\\\\hline\n",
    "\\end{array}\n",
    "$$\n"
   ]
  },
  {
   "attachments": {},
   "cell_type": "markdown",
   "metadata": {},
   "source": [
    "#### Operateurs 2-corps $\\ad_p\\ad_q a_r a_s $\n",
    "\n",
    "Pour un système fermionique, on a des éléments de matrice fermioniques pour $p<q$ et $r< s$. \n",
    "\n",
    "* Quand $p=s$ et $q=r$ tous les opérateurs $\\mathtt{Z}$ disparaissent compte tenu du fait que $\\mathtt{Z}_p^2 = \\mathbb{I}_p$, et on a \n",
    "  \n",
    " \\begin{align*} \n",
    "  \\ad_p \\ad_q a_q a_p \\mapsto &\\mathtt{Q}^+_p \\left(\\bigotimes_{k=p-1}^0\\mathtt{Z}_k\\right)\n",
    "  \\mathtt{Q}^+_q \\left(\\bigotimes_{k=q-1}^0\\mathtt{Z}_k\\right)\n",
    "  \\mathtt{Q}^-_q \\left(\\bigotimes_{k=q-1}^0 \\mathtt{Z}_k\\right)\n",
    "  \\mathtt{Q}^-_p \\left(\\bigotimes_{k=p-1}^0 \\mathtt{Z}_k\\right)\\\\\n",
    "   &= \\frac14(\\mathbb{I}_p-\\mathtt{Z}_p)(\\mathbb{I}_q-\\mathtt{Z}_q)\n",
    "   = \\frac14(\\mathbb{I}_p\\mathbb{I}_q -\\mathbb{I}_p\\mathtt{Z}_q -\\mathtt{Z}_p\\mathbb{I}_q +-\\mathtt{Z}_p\\mathtt{Z}_q)\n",
    " \\end{align*} \n",
    "\n",
    "* Pour tous les indices $p<q$ et $p<s$, on a, \n",
    " \n",
    " \\begin{align*} \n",
    "  \\ad_p \\ad_q a_q a_s \\mapsto & \\mathtt{Q}^+_p \\left(\\bigotimes_{k=p-1}^0\\mathtt{Z}_k\\right)\n",
    "  \\frac12(\\mathbb{I}_q-\\mathtt{Z}_q) \\mathtt{Q}^-_s \\left(\\bigotimes_{k=s-1}^0 \\mathtt{Z}_k\\right)\n",
    "  =\\frac14(\\mathtt{X}_p - i\\mathtt{Y}_p)(\\mathtt{X}_s + i\\mathtt{Y}_s)\\frac12(\\mathbb{I}_q-\\mathtt{Z}_q) \\left(\\bigotimes_{k=p-1}^s\\mathtt{Z}_k\\right)\\\\\n",
    "  &=\\frac18 (\\mathtt{X}_p\\mathtt{X}_s + i\\mathtt{X}_p\\mathtt{Y}_s\n",
    " - i\\mathtt{Y}_p\\mathtt{X}_s + \\mathtt{Y}_p\\mathtt{Y}_s ) (\\mathbb{I}_q-\\mathtt{Z}_q)\\left(\\bigotimes_{k=p-1}^s\\mathtt{Z}_k\\right)\n",
    "\\end{align*}\n",
    "\n",
    "Par suite, les trois classes des opérateurs à 2-corps, pour $p<q<r<s$ (ordre normal) et orbitales à valeurs réelles, sont\n",
    "\n",
    "$$\n",
    "\\begin{array}{l|l|l}\n",
    "\\textbf{Opérateur} & \\textbf{Seconde Quantification} &  \\textbf{Représentation de Pauli} \\\\\\hline\n",
    "\\text{Coulomb/Echange} &\\HH_{pqqp}=h_{pqqp} \\ad_p \\ad_q a_q a_p& \\frac{h_{pqqp}}{4}(\\mathbb{I}-\\mathtt{Z}_p-\\mathtt{Z}_q+\\mathtt{Z}_p \\mathtt{Z}_q)\\\\\n",
    "\\text{Nombre Excitation} &\\HH_{pqqs}=h_{pqqs}(\\ad_p \\ad_q a_q a_s + \\ad_s \\ad_q a_q a_p)&\\frac{h_{pqqs}}{4}(\\mathtt{X}_s\\mathtt{X}_p+\\mathtt{Y}_s\\mathtt{Y}_p)(\\mathbb{I}-\\mathtt{Z}_q)\\left( \\bigotimes_{k=s-1}^p\\mathtt{Z}_k\\right)\\\\\n",
    "\\text{Double excitation}&\\HH_{pqrs}=h_{pqrs}(\\ad_p \\ad_q a_r a_s+\\ad_s \\ad_r a_q a_p) &\n",
    "\\begin{split}\n",
    "\\frac{h_{pqrs}}{8}\n",
    "\\begin{pmatrix}\\mathtt{X}_p\\mathtt{X}_q\\mathtt{X}_r \\mathtt{X}_s-\\mathtt{X}_p\\mathtt{X}_q\\mathtt{Y}_r\\mathtt{Y}_s+\\mathtt{X}_p\\mathtt{Y}_q\\mathtt{X}_r\\mathtt{Y}_s\\\\+\\mathtt{Y}_p\\mathtt{X}_q\\mathtt{X}_r\\mathtt{Y}_s+\\mathtt{Y}_p\\mathtt{X}_q\\mathtt{Y}_r\\mathtt{X}_s-\\mathtt{Y}_p\\mathtt{Y}_q\\mathtt{X}_r\\mathtt{X}_s\\\\+\\mathtt{X}_p\\mathtt{Y}_q\\mathtt{Y}_r\\mathtt{X}_s+\\mathtt{Y}_p\\mathtt{Y}_q\\mathtt{Y}_r\\mathtt{Y}_s\\end{pmatrix}\\\\\n",
    "\\left(\\bigotimes_{j=q-1}^p\\mathtt{Z}_j\\right)\\left(\\bigotimes_{k=s-1}^r\\mathtt{Z}_k\\right)\\\\\\hline\n",
    "\\end{split}\n",
    " \\\\\\hline\n",
    "\\end{array}\n",
    "$$"
   ]
  },
  {
   "attachments": {},
   "cell_type": "markdown",
   "metadata": {},
   "source": [
    "### Utilisation de Qiskit Nature"
   ]
  },
  {
   "cell_type": "code",
   "execution_count": 18,
   "metadata": {},
   "outputs": [],
   "source": [
    "import numpy as np"
   ]
  },
  {
   "cell_type": "code",
   "execution_count": 19,
   "metadata": {},
   "outputs": [],
   "source": [
    "from qiskit_nature.units import DistanceUnit\n",
    "from qiskit_nature.second_q.drivers import PySCFDriver\n",
    "\n",
    "H2_driver = PySCFDriver(\n",
    "    atom=\"H 0 0 0; H 0 0 0.735\",\n",
    "    basis=\"sto3g\",\n",
    "    charge=0,\n",
    "    spin=0,\n",
    "    unit=DistanceUnit.ANGSTROM,\n",
    ")\n",
    "\n",
    "H2_problem = H2_driver.run()\n",
    "H2_hamiltonian = H2_problem.hamiltonian\n",
    "H2_fermionic_op = H2_hamiltonian.second_q_op()"
   ]
  },
  {
   "cell_type": "code",
   "execution_count": 20,
   "metadata": {},
   "outputs": [],
   "source": [
    "from qiskit_nature.second_q.mappers import JordanWignerMapper\n",
    "from qiskit_nature.second_q.operators import FermionicOp"
   ]
  },
  {
   "attachments": {},
   "cell_type": "markdown",
   "metadata": {},
   "source": [
    "Définissons une fonction `label_to_qubit()` pour convertir les opérateurs fermioniques en opérateurs qubits."
   ]
  },
  {
   "cell_type": "code",
   "execution_count": 21,
   "metadata": {},
   "outputs": [],
   "source": [
    "def label_to_qubit(label, mapper):\n",
    "    f_op = FermionicOp(label)\n",
    "    qubit_op = mapper.map(f_op)\n",
    "    return qubit_op"
   ]
  },
  {
   "attachments": {},
   "cell_type": "markdown",
   "metadata": {},
   "source": [
    "Convertissons les opérateurs fermioniques {\"+_0\":1.0}, {\"+_1\":1.0}, {\"+_2\":1.0}, {\"+_3\":1.0}, {\"+_4\":1.0} en opérateurs qubits avec la JWT:"
   ]
  },
  {
   "cell_type": "code",
   "execution_count": 22,
   "metadata": {},
   "outputs": [
    {
     "name": "stdout",
     "output_type": "stream",
     "text": [
      "{'+_0': 1.0}:\n",
      " 0.5 * X\n",
      "+ -0.5j * Y\n",
      "\n",
      "{'+_1': 1.0}:\n",
      " 0.5 * XZ\n",
      "+ -0.5j * YZ\n",
      "\n",
      "{'+_2': 1.0}:\n",
      " 0.5 * XZZ\n",
      "+ -0.5j * YZZ\n",
      "\n",
      "{'+_3': 1.0}:\n",
      " 0.5 * XZZZ\n",
      "+ -0.5j * YZZZ\n",
      "\n",
      "{'+_4': 1.0}:\n",
      " 0.5 * XZZZZ\n",
      "+ -0.5j * YZZZZ\n",
      "\n"
     ]
    }
   ],
   "source": [
    "for k in ({\"+_0\":1.0}, {\"+_1\":1.0}, {\"+_2\":1.0}, {\"+_3\":1.0}, {\"+_4\":1.0}):\n",
    "  qubit_op = label_to_qubit(k, JordanWignerMapper())\n",
    "  print(\"{}:\\n {}\\n\".format(k, qubit_op))"
   ]
  },
  {
   "cell_type": "code",
   "execution_count": 23,
   "metadata": {},
   "outputs": [
    {
     "name": "stdout",
     "output_type": "stream",
     "text": [
      "Number of items in the JWT Pauli list: 15\n",
      "-0.8105479805373258 * IIII\n",
      "+ 0.1721839326191557 * IIIZ\n",
      "- 0.22575349222402386 * IIZI\n",
      "+ 0.17218393261915543 * IZII\n",
      "- 0.22575349222402397 * ZIII\n",
      "+ 0.12091263261776633 * IIZZ\n",
      "+ 0.16892753870087907 * IZIZ\n",
      "+ 0.04523279994605784 * YYYY\n",
      "+ 0.04523279994605784 * XXYY\n",
      "+ 0.04523279994605784 * YYXX\n",
      "+ 0.04523279994605784 * XXXX\n",
      "+ 0.1661454325638241 * ZIIZ\n",
      "+ 0.1661454325638241 * IZZI\n",
      "+ 0.17464343068300445 * ZIZI\n",
      "+ 0.12091263261776633 * ZZII\n"
     ]
    }
   ],
   "source": [
    "H2_qubit_JW_op = JordanWignerMapper().map(H2_fermionic_op)\n",
    "\n",
    "print(\"Number of items in the JWT Pauli list:\", len(H2_qubit_JW_op))\n",
    "print(H2_qubit_JW_op)"
   ]
  },
  {
   "cell_type": "code",
   "execution_count": 24,
   "metadata": {},
   "outputs": [
    {
     "name": "stdout",
     "output_type": "stream",
     "text": [
      "Fermionic Operator\n",
      "number spin orbitals=4, number terms=4\n",
      "  1.0 * ( +_0 -_0 )\n",
      "+ 1.0 * ( +_1 -_1 )\n",
      "+ 1.0 * ( +_2 -_2 )\n",
      "+ 1.0 * ( +_3 -_3 )\n"
     ]
    }
   ],
   "source": [
    "H2_JW_particle_number_op = H2_problem.properties.particle_number.second_q_ops()[\"ParticleNumber\"]\n",
    "print(H2_JW_particle_number_op)"
   ]
  },
  {
   "attachments": {},
   "cell_type": "markdown",
   "metadata": {},
   "source": [
    "## Transformation de parité\n",
    "\n",
    "C'est la transformation dual de la JWT: les opérateurs de la parité sont légers alors que les opérateurs d'occupation sont lourds. Le calcul des parités peut être réalisé en utilisant uniquement des opérateurs $\\mathtt{X}$ à 1-qubit et en utilisant la transformation de parité suivante,\n",
    "\\begin{align*}\n",
    "&\\ket{f_{M-1},\\dots,f_k,\\dots, f_1,f_0} \\mapsto \\ket{\\mathbf{p}} , \\qquad p_k = \\sum_{j=k}^0 q_j \\pmod 2 = q_k\\oplus\\dots\\oplus q_0\\\\\n",
    "& \\ad_k \\mapsto \\mathtt{X}_{M-1} \\otimes \\dots \\otimes \\mathtt{X}_{k+1} \\otimes\n",
    "\\frac12(\\mathtt{X}_k\\otimes \\mathtt{Z}_{k-1} - i \\mathtt{Y}_k)\\equiv \\mathtt{X}_{M-1} \\otimes \\dots \\otimes \\mathtt{X}_{k+1} \\otimes \\mathtt{P}_k^+,\\\\\n",
    "& a_k \\mapsto \\mathtt{X}_{M-1} \\otimes \\dots \\otimes \\mathtt{X}_{k+1} \\otimes\n",
    "\\frac12(\\mathtt{X}_k\\otimes \\mathtt{Z}_{k-1} + i \\mathtt{Y}_k)\\equiv \\mathtt{X}_{M-1} \\otimes \\dots \\otimes \\mathtt{X}_{k+1} \\otimes \\mathtt{P}_k^-,\\\\\n",
    "&\\mathtt{P}_k^\\pm =Q^\\pm_k \\otimes \\proj{0}_{k-1} - Q^\\mp_k \\otimes \\proj{1}_{k-1} .\n",
    "\\end{align*}\n",
    "\n",
    "Afin de définir les transformations entre les bases, nous considérerons en termes de correspondance entre chaînes de bits. Pour\n",
    "toutes les transformations que nous considérons, qui ne font intervenir que des sommes de bits $\\mod 2$, il est possible de représenter leur action par matrices agissant sur le vecteur de valeurs binaires correspondant à un état de base logique donné. La correspondance à la base de parité est donnée par :\n",
    "$$ p_k = \\sum_j [ \\pi_n]_{kj}\\ f_j,$$\n",
    "où $n$ est le nombre d'orbitales. $\\pi_n$ est la matrice $(n\\times n)$ suivant\n",
    "\\begin{align*}\n",
    " & [\\pi_n]_{kj} =  \n",
    "  \\begin{cases}\n",
    "    1 & \\quad k < j \\\\\n",
    "    0 & \\quad k \\geq j\\\\\n",
    "  \\end{cases} ,\n",
    "  &  \\pi_n = \n",
    " \\begin{pmatrix}\n",
    "  1 & 1 & \\cdots & 1 \\\\\n",
    "  0 & 1 & \\cdots & 1 \\\\\n",
    "  \\vdots  & \\vdots  & \\ddots & \\vdots  \\\\\n",
    "  0 & 0 & \\cdots & 1\n",
    " \\end{pmatrix}\n",
    "\\end{align*}\n",
    "Soulignons que nous indexons la matrice $\\pi_n$ à partir du coin inférieur droit, par souci de cohérence avec notre schéma de numérotation orbitale. \n",
    "\n",
    "Par exemple, pour changer l'état de base du numéro d'occupation $|1 0 1 0 0 1 1 1\\rangle$ en son état de base de parité correspondant $|1 0 0 1 1 1 0 1\\rangle$, nous agissons avec la matrice $\\pi_8$ sur la chaîne de bits appropriée :\n",
    "\n",
    "$$\n",
    "\\begin{matrix}\n",
    "& \\begin{matrix}f_7 & f_6 & f_5 & f_4 & f_3 & f_2 & f_1 & f_0 \\end{matrix} \\\\\n",
    "\\begin{matrix}p_7\\\\p_6\\\\p_5\\\\p_4\\\\p_3\\\\p_2\\\\p_1\\\\p_0\\end{matrix}&\n",
    "\\begin{pmatrix} 1_{\\phantom{7}} & 1_{\\phantom{6}} & 1_{\\phantom{5}} & 1_{\\phantom{4}} & 1_{\\phantom{3}} & 1_{\\phantom{2}} & 1_{\\phantom{1}} & 1_{\\phantom{0}} \\\\\n",
    "               0 & 1 & 1 & 1 & 1 & 1 & 1 & 1 \\\\\n",
    "               0 & 0 & 1 & 1 & 1 & 1 & 1 & 1 \\\\\n",
    "               0 & 0 & 0 & 1 & 1 & 1 & 1 & 1 \\\\\n",
    "               0 & 0 & 0 & 0 & 1 & 1 & 1 & 1 \\\\\n",
    "               0 & 0 & 0 & 0 & 0 & 1 & 1 & 1 \\\\\n",
    "               0 & 0 & 0 & 0 & 0 & 0 & 1 & 1 \\\\\n",
    "               0 & 0 & 0 & 0 & 0 & 0 & 0 & 1 \n",
    " \\end{pmatrix}\n",
    "\\end{matrix}\n",
    "\\begin{pmatrix}\n",
    "  1 \\\\\n",
    "  0 \\\\\n",
    "  1 \\\\\n",
    "  0 \\\\\n",
    "  0 \\\\\n",
    "  1 \\\\\n",
    "  1 \\\\\n",
    "  1\\\\\n",
    " \\end{pmatrix}\n",
    " =\n",
    " \\begin{pmatrix}\n",
    "  1 \\\\\n",
    "  0 \\\\\n",
    "  0 \\\\\n",
    "  1 \\\\\n",
    "  1 \\\\\n",
    "  1 \\\\\n",
    "  0 \\\\\n",
    "  1\\\\\n",
    " \\end{pmatrix}\n",
    "$$\n",
    "\n",
    "Le tableau suivant donne quelques exemples de la transformation de parité.\n",
    "$$\n",
    "\\begin{array}{l|l}\n",
    "\\textbf{Fermion} & \\textbf{Qubit} \\\\ \\hline\n",
    "a\\ket{0001}+b\\ket{0010}+c\\ket{0100}+d\\ket{1000} & a\\ket{1111}+b\\ket{1110}+c\\ket{1100}+d\\ket{1000}  \\\\\n",
    "a_0 ,\\quad a_1 ,\\quad a_2 ,\\quad a_3 &\n",
    "\\begin{split}\n",
    "&\\mathtt{X}_3\\mathtt{X}_2\\mathtt{X}_1Q^-_0 ,\\quad \\mathtt{X}_3\\mathtt{X}_2\\big( Q^-_1\\proj{0}_0 - Q^+_1\\proj{1}_0 \\big) ,\\\\ &\\mathtt{X}_3\\big( Q^-_2\\proj{0}_1 - Q^+_2\\proj{1}_1 \\big) ,\\quad Q^-_3\\proj{0}_2 - Q^+_3\\proj{1}_2\n",
    "\\end{split} \\\\\n",
    "\\ad_0 ,\\quad \\ad_1 ,\\quad \\ad_2 ,\\quad \\ad_3 &\n",
    "\\begin{split}\n",
    "& \\mathtt{X}_3\\mathtt{X}_2\\mathtt{X}_1Q^+_0 ,\\quad \\mathtt{X}_3\\mathtt{X}_2\\big( Q^+_1\\proj{0}_0 - Q^-_1\\proj{1}_0 \\big) ,\\\\ &\\mathtt{X}_3\\big( Q^+_2\\proj{0}_1 - Q^-_2\\proj{1}_1 \\big) ,\\quad Q^+_3\\proj{0}_2 - Q^-_3\\proj{1}_2 \n",
    "\\end{split}\\\\\n",
    "n_k = \\ad_k a_k & \\proj{1}_{k=0}=\\frac12(\\mathbb{I} - \\mathtt{Z}_0) ,\\quad  \\frac12(\\mathbb{I} - \\mathtt{Z}_k\\mathtt{Z}_{k-1})_{k=1,2,3}\\\\\\hline\n",
    "\\end{array}\n",
    "$$"
   ]
  },
  {
   "attachments": {},
   "cell_type": "markdown",
   "metadata": {},
   "source": [
    "Convertissons les opérateurs fermioniques {\"+_0\":1.0}, {\"+_1\":1.0}, {\"+_2\":1.0}, {\"+_3\":1.0}, {\"+_4\":1.0} en opérateurs qubits avec la transformation de la parité :"
   ]
  },
  {
   "cell_type": "code",
   "execution_count": 25,
   "metadata": {},
   "outputs": [
    {
     "name": "stdout",
     "output_type": "stream",
     "text": [
      "{'+_0': 1.0}:\n",
      " 0.5 * X\n",
      "+ -0.5j * Y\n",
      "\n",
      "{'+_1': 1.0}:\n",
      " 0.5 * XZ\n",
      "+ -0.5j * YI\n",
      "\n",
      "{'+_2': 1.0}:\n",
      " 0.5 * XZI\n",
      "+ -0.5j * YII\n",
      "\n",
      "{'+_3': 1.0}:\n",
      " 0.5 * XZII\n",
      "+ -0.5j * YIII\n",
      "\n",
      "{'+_4': 1.0}:\n",
      " 0.5 * XZIII\n",
      "+ -0.5j * YIIII\n",
      "\n"
     ]
    }
   ],
   "source": [
    "from qiskit_nature.second_q.mappers import ParityMapper\n",
    "\n",
    "for k in ({\"+_0\":1.0}, {\"+_1\":1.0}, {\"+_2\":1.0}, {\"+_3\":1.0}, {\"+_4\":1.0}):\n",
    "  qubit_op = label_to_qubit(k, ParityMapper())\n",
    "  print(\"{}:\\n {}\\n\".format(k, qubit_op))"
   ]
  },
  {
   "cell_type": "code",
   "execution_count": 26,
   "metadata": {},
   "outputs": [
    {
     "name": "stdout",
     "output_type": "stream",
     "text": [
      "Number of items in the PT Pauli list: 15\n",
      "-0.8105479805373258 * IIII\n",
      "+ 0.1721839326191557 * IIIZ\n",
      "- 0.22575349222402386 * IIZZ\n",
      "+ 0.17218393261915543 * IZZI\n",
      "- 0.22575349222402397 * ZZII\n",
      "+ 0.12091263261776633 * IIZI\n",
      "+ 0.16892753870087907 * IZZZ\n",
      "+ 0.04523279994605784 * ZXIX\n",
      "- 0.04523279994605784 * IXZX\n",
      "- 0.04523279994605784 * ZXZX\n",
      "+ 0.04523279994605784 * IXIX\n",
      "+ 0.1661454325638241 * ZZIZ\n",
      "+ 0.1661454325638241 * IZIZ\n",
      "+ 0.17464343068300445 * ZZZZ\n",
      "+ 0.12091263261776633 * ZIZI\n"
     ]
    }
   ],
   "source": [
    "H2_qubit_P_op = ParityMapper().map(H2_fermionic_op)\n",
    "\n",
    "print(\"Number of items in the PT Pauli list:\", len(H2_qubit_P_op))\n",
    "print(H2_qubit_P_op)"
   ]
  },
  {
   "attachments": {},
   "cell_type": "markdown",
   "metadata": {},
   "source": [
    "La transformation de la parité présente un avantage majeur pour les problèmes dans lesquels nous voulons préserver le nombre de particules de chaque espèce de spin, En effet, elle nous permet de supprimer 2 qubits, car l'information qu'ils contiennent devient redondante.\n",
    "\n",
    "Comme Qiskit Nature dispose les qubits en ordre bloc, de telle sorte que la première moitié encode l'information sur le spin alpha et la seconde moitié l'information sur le spin bêta, cela signifie que l'on peut supprimer le N/2ème et le Nème qubit.\n",
    "\n",
    "Pour ce faire, vous devez spécifier le nombre de particules dans votre système, comme suit :"
   ]
  },
  {
   "cell_type": "code",
   "execution_count": 27,
   "metadata": {},
   "outputs": [
    {
     "name": "stdout",
     "output_type": "stream",
     "text": [
      "Number of items in the PT Pauli list: 5\n",
      "-1.052373245772858 * II\n",
      "+ 0.3979374248431794 * IZ\n",
      "- 0.3979374248431793 * ZI\n",
      "- 0.011280104256235296 * ZZ\n",
      "+ 0.18093119978423128 * XX\n"
     ]
    }
   ],
   "source": [
    "H2_qubit_P_op = ParityMapper(num_particles=H2_problem.num_particles).map(H2_fermionic_op)\n",
    "\n",
    "print(\"Number of items in the PT Pauli list:\", len(H2_qubit_P_op))\n",
    "print(H2_qubit_P_op)"
   ]
  },
  {
   "attachments": {},
   "cell_type": "markdown",
   "metadata": {},
   "source": [
    "## Transformation de Bravyi-Kitaev (BKT)\n",
    "\n",
    "Cette transformation combine la localité des nombres d'occupation et celle des parités, afin d'établir une correspondance entre les opérateurs de création et de destruction fermioniques et les opérateurs qubits sur $\\mathcal{O}(\\log_2M)$. Pour ce faire, elle fait correspondre les états du nombre d'occupations à des chaînes binaires définies de manière appropriée,\n",
    "\n",
    "\\begin{align*}\n",
    "    &\\ket{f_{M-1},\\dots,f_k,\\dots, f_1,f_0}\\mapsto \\ket{\\mathbf{b}} , &&b_k = \\sum_{j=0}^k B_{kj} \\, f_j \\, \\pmod 2,\\\\\n",
    "    &B_1 = [1], &&B_{2^{x+1}}= \\begin{pmatrix} B_{2^x} & \\mathtt{A}\\\\ \\mathbb{O} & B_{2^x}\\end{pmatrix} ,\n",
    "\\end{align*}\n",
    "\n",
    "où la matrice binaire $B$ $M \\times M$ a la structure d'un arbre binaire, $\\mathbf{A}$ est une matrice $(2^x \\times 2^x)$ de 0, la rangée supérieure étant remplie de 1, et $\\mathbb{O}$ est une matrice zéro $(2^x \\times 2^x)$. À titre d'exemple, lorsque $M = 2,4$ ($x=0,1$), la matrice $B_{kj}$ est la suivante\n",
    "\n",
    "\\begin{align*}\n",
    "    &\\mathtt{B}_2 = \\begin{pmatrix}1 & 1\\\\0 & 1 \\end{pmatrix}\n",
    "    &\\mathtt{B}_4 = \\left(\\begin{array}{cc|cc}\n",
    "    1 & 1 & 1 & 1 \\\\\n",
    "    0 & 1 & 0 & 0 \\\\\\hline\n",
    "    0 & 0 & 1 & 1 \\\\\n",
    "    0 & 0 & 0 & 1 \n",
    " \\end{array}\\right)\n",
    "\\end{align*}\n",
    "\n",
    "Par exemple, pour changer l'état de base du numéro d'occupation $|1 0 1 0 0 1 1 1\\rangle$ en son état de base de BK correspondant $|1 0 1 0 1 1 0 1\\rangle$, nous agissons avec la matrice $\\pi_8$ sur la chaîne de bits appropriée :\n",
    "\n",
    "$$\n",
    "\\begin{matrix}\n",
    "& \\begin{matrix}f_7 & f_6 & f_5 & f_4 & f_3 & f_2 & f_1 & f_0 \\end{matrix} \\\\\n",
    "\\begin{matrix}b_7\\\\b_6\\\\b_5\\\\b_4\\\\b_3\\\\b_2\\\\b_1\\\\b_0\\end{matrix}&\n",
    "\\begin{pmatrix} 1_{\\phantom{7}} & 1_{\\phantom{6}} & 1_{\\phantom{5}} & 1_{\\phantom{4}} & 1_{\\phantom{3}} & 1_{\\phantom{2}} & 1_{\\phantom{1}} & 1_{\\phantom{0}} \\\\\n",
    "               0 & 1 & 0 & 0 & 0 & 0 & 0 & 0 \\\\\n",
    "               0 & 0 & 1 & 1 & 1 & 1 & 1 & 1 \\\\\n",
    "               0 & 0 & 1 & 1 & 0 & 0 & 0 & 0  \\\\\n",
    "               0 & 0 & 0 & 0 & 1 & 1 & 1 & 1 \\\\\n",
    "               0 & 0 & 0 & 0 & 0 & 1 & 0 & 0 \\\\\n",
    "               0 & 0 & 0 & 0 & 0 & 0 & 1 & 1  \\\\\n",
    "               0 & 0 & 0 & 0 & 0 & 0 & 0 & 1 \n",
    " \\end{pmatrix}\n",
    "\\end{matrix}\n",
    "\\begin{pmatrix}\n",
    "  1 \\\\\n",
    "  0 \\\\\n",
    "  1 \\\\\n",
    "  0 \\\\\n",
    "  0 \\\\\n",
    "  1 \\\\\n",
    "  1 \\\\\n",
    "  1\\\\\n",
    " \\end{pmatrix}\n",
    " =\n",
    " \\begin{pmatrix}\n",
    "  1 \\\\\n",
    "  0 \\\\\n",
    "  1 \\\\\n",
    "  0 \\\\\n",
    "  1 \\\\\n",
    "  1 \\\\\n",
    "  0 \\\\\n",
    "  1\\\\\n",
    " \\end{pmatrix}\n",
    "$$\n",
    "\n",
    " Puisqu'elle ne nécessite que $\\mathcal{O}(\\log_2 M)$ opérateurs qubits, \\textbf{les transformations BK permettent un codage plus économique des opérateurs fermioniques en opérateurs qubits}, avec un coût réduit pour les  mesures et les circuits quantiques. Mais elle ne s'applique que sur des  systèmes de $N$ est pair, c'est-à-dire $N=2^m$.\n",
    "\n",
    "Le tableau suivant donne quelques exemples de la transformation BK.\n",
    "\n",
    "$$\n",
    "\\begin{array}{l|l}\n",
    "\\textbf{Fermion} & \\textbf{Qubit} \\\\ \\hline\n",
    "a\\ket{0001}+b\\ket{0010}+c\\ket{0100}+d\\ket{1000} & a\\ket{1011}+b\\ket{1010}+c\\ket{1100}+d\\ket{1000}  \\\\\n",
    "a_0 ,\\quad a_1 ,\\quad a_2 ,\\quad a_3 &\n",
    "\\begin{aligned}\n",
    "&\\mathtt{X}_3\\mathtt{X}_1Q^-_0 ,\\quad \\mathtt{X}_3\\big( Q^-_1\\proj{0}_0 - Q^+_1\\proj{1}_0 \\big) ,\\\\ &\\mathtt{X}_3Q^-_2\\mathtt{Z}_1 ,\\quad \n",
    "\\frac12\\Big(Q^-_3(\\mathbb{I} + \\mathtt{Z_2Z_1}) -  Q^+_3(\\mathbb{I} - \\mathtt{Z_2Z_1})\\Big)\n",
    "\\end{aligned} \\\\\n",
    "\\ad_0 ,\\quad \\ad_1 ,\\quad \\ad_2 ,\\quad \\ad_3 &\n",
    "\\begin{aligned}\n",
    "&\\mathtt{X}_3\\mathtt{X}_1Q^+_0 ,\\quad \\mathtt{X}_3\\big( Q^+_1\\proj{0}_0 - Q^-_1\\proj{1}_0 \\big) ,\\\\ &\\mathtt{X}_3Q^+_2\\mathtt{Z}_1 ,\\quad \n",
    "\\frac12\\Big(Q^+_3(\\mathbb{I} + \\mathtt{Z_2Z_1}) -  Q^-_3(\\mathbb{I} - \\mathtt{Z_2Z_1})\\Big)\n",
    "\\end{aligned} \\\\\n",
    "n_k = \\ad_k a_k & \\proj{1}_{k=0,2} ,\\quad  \\frac12(\\mathbb{I} - \\mathtt{Z}_1\\mathtt{Z}_{0})_{k=1},\n",
    "\\quad  \\frac12(\\mathbb{I} - \\mathtt{Z}_2\\mathtt{Z}_1\\mathtt{Z}_{0})_{k=3}\n",
    "\\\\\\hline\n",
    "\\end{array}\n",
    "$$"
   ]
  },
  {
   "cell_type": "code",
   "execution_count": 28,
   "metadata": {},
   "outputs": [],
   "source": [
    "def BK(m):\n",
    "  I = [[1, 0], [0, 1]]\n",
    "  d = {}\n",
    "  d[0] = [1]\n",
    "  for k in range(0, m):\n",
    "      B = np.kron(I,d[k])\n",
    "      for l in range(2**k, 2**(k+1)):\n",
    "          B[0,l] = 1\n",
    "      d[k+1] = B\n",
    "  return d\n",
    "  "
   ]
  },
  {
   "cell_type": "code",
   "execution_count": 29,
   "metadata": {},
   "outputs": [
    {
     "data": {
      "text/latex": [
       "$$\n",
       "B_{1} = \n",
       "\\begin{bmatrix}\n",
       "1  \\\\\n",
       " \\end{bmatrix}\n",
       "$$"
      ],
      "text/plain": [
       "<IPython.core.display.Latex object>"
      ]
     },
     "metadata": {},
     "output_type": "display_data"
    },
    {
     "name": "stdout",
     "output_type": "stream",
     "text": [
      " \n"
     ]
    },
    {
     "data": {
      "text/latex": [
       "$$\n",
       "B_{2} = \n",
       "\\begin{bmatrix}\n",
       "1 & 1  \\\\\n",
       " 0 & 1  \\\\\n",
       " \\end{bmatrix}\n",
       "$$"
      ],
      "text/plain": [
       "<IPython.core.display.Latex object>"
      ]
     },
     "metadata": {},
     "output_type": "display_data"
    },
    {
     "name": "stdout",
     "output_type": "stream",
     "text": [
      " \n"
     ]
    },
    {
     "data": {
      "text/latex": [
       "$$\n",
       "B_{4} = \n",
       "\\begin{bmatrix}\n",
       "1 & 1 & 1 & 1  \\\\\n",
       " 0 & 1 & 0 & 0  \\\\\n",
       " 0 & 0 & 1 & 1  \\\\\n",
       " 0 & 0 & 0 & 1  \\\\\n",
       " \\end{bmatrix}\n",
       "$$"
      ],
      "text/plain": [
       "<IPython.core.display.Latex object>"
      ]
     },
     "metadata": {},
     "output_type": "display_data"
    },
    {
     "name": "stdout",
     "output_type": "stream",
     "text": [
      " \n"
     ]
    },
    {
     "data": {
      "text/latex": [
       "$$\n",
       "B_{8} = \n",
       "\\begin{bmatrix}\n",
       "1 & 1 & 1 & 1 & 1 & 1 & 1 & 1  \\\\\n",
       " 0 & 1 & 0 & 0 & 0 & 0 & 0 & 0  \\\\\n",
       " 0 & 0 & 1 & 1 & 0 & 0 & 0 & 0  \\\\\n",
       " 0 & 0 & 0 & 1 & 0 & 0 & 0 & 0  \\\\\n",
       " 0 & 0 & 0 & 0 & 1 & 1 & 1 & 1  \\\\\n",
       " 0 & 0 & 0 & 0 & 0 & 1 & 0 & 0  \\\\\n",
       " 0 & 0 & 0 & 0 & 0 & 0 & 1 & 1  \\\\\n",
       " 0 & 0 & 0 & 0 & 0 & 0 & 0 & 1  \\\\\n",
       " \\end{bmatrix}\n",
       "$$"
      ],
      "text/plain": [
       "<IPython.core.display.Latex object>"
      ]
     },
     "metadata": {},
     "output_type": "display_data"
    },
    {
     "name": "stdout",
     "output_type": "stream",
     "text": [
      " \n"
     ]
    }
   ],
   "source": [
    "from qiskit.visualization import array_to_latex\n",
    "\n",
    "d = BK(3)\n",
    "for k, v in d.items():\n",
    "  s = \"B_{\"+str(2**k)+\"} = \"\n",
    "  display(array_to_latex(v, prefix=s, precision = 0))\n",
    "  print(\" \")"
   ]
  },
  {
   "attachments": {},
   "cell_type": "markdown",
   "metadata": {},
   "source": [
    "Convertissons les opérateurs fermioniques {\"+_0\":1.0}, {\"+_1\":1.0}, {\"+_2\":1.0}, {\"+_3\":1.0}, {\"+_4\":1.0} en opérateurs qubits avec la BKT:"
   ]
  },
  {
   "cell_type": "code",
   "execution_count": 30,
   "metadata": {},
   "outputs": [
    {
     "name": "stdout",
     "output_type": "stream",
     "text": [
      "{'+_0': 1.0}:\n",
      " 0.5 * X\n",
      "+ -0.5j * Y\n",
      "\n",
      "{'+_1': 1.0}:\n",
      " 0.5 * XZ\n",
      "+ -0.5j * YI\n",
      "\n",
      "{'+_2': 1.0}:\n",
      " 0.5 * XZI\n",
      "+ -0.5j * YZI\n",
      "\n",
      "{'+_3': 1.0}:\n",
      " 0.5 * XZZI\n",
      "+ -0.5j * YIII\n",
      "\n",
      "{'+_4': 1.0}:\n",
      " 0.5 * XZIII\n",
      "+ -0.5j * YZIII\n",
      "\n"
     ]
    }
   ],
   "source": [
    "from qiskit_nature.second_q.mappers import BravyiKitaevMapper\n",
    "\n",
    "for k in ({\"+_0\":1.0}, {\"+_1\":1.0}, {\"+_2\":1.0}, {\"+_3\":1.0}, {\"+_4\":1.0}):\n",
    "  qubit_op = label_to_qubit(k, BravyiKitaevMapper())\n",
    "  print(\"{}:\\n {}\\n\".format(k, qubit_op))"
   ]
  },
  {
   "cell_type": "code",
   "execution_count": 31,
   "metadata": {},
   "outputs": [
    {
     "name": "stdout",
     "output_type": "stream",
     "text": [
      "Number of items in the BKT Pauli list: 15\n",
      "-0.8105479805373258 * IIII\n",
      "+ 0.1721839326191557 * IIIZ\n",
      "- 0.22575349222402386 * IIZZ\n",
      "+ 0.17218393261915543 * IZII\n",
      "- 0.22575349222402397 * ZZZI\n",
      "+ 0.12091263261776633 * IIZI\n",
      "+ 0.16892753870087907 * IZIZ\n",
      "+ 0.04523279994605784 * ZXIX\n",
      "- 0.04523279994605784 * IXZX\n",
      "- 0.04523279994605784 * ZXZX\n",
      "+ 0.04523279994605784 * IXIX\n",
      "+ 0.1661454325638241 * ZZZZ\n",
      "+ 0.1661454325638241 * IZZZ\n",
      "+ 0.17464343068300445 * ZZIZ\n",
      "+ 0.12091263261776633 * ZIZI\n"
     ]
    }
   ],
   "source": [
    "H2_qubit_BK_op = BravyiKitaevMapper().map(H2_fermionic_op)\n",
    "\n",
    "print(\"Number of items in the BKT Pauli list:\", len(H2_qubit_BK_op))\n",
    "print(H2_qubit_BK_op)"
   ]
  },
  {
   "attachments": {},
   "cell_type": "markdown",
   "metadata": {},
   "source": [
    "## Réductions de qubit plus avancées\n",
    "\n",
    "Il est possible d'effectuer des réductions de qubit plus avancées, qui sont basées sur la recherche de symétries $\\mathbb{Z}2$ dans l'espace de Hilbert du qubit. **Une exigence pour que cela soit utile est que vous sachiez dans quel sous-espace de symétrie vous devez rechercher votre solution d'intérêt réelle**. Cela peut être un peu délicat, mais heureusement, les classes de problèmes de Qiskit Nature vous fournissent un utilitaire pour déterminer automatiquement ce sous-espace correctement. \n",
    "\n",
    "Voici comment vous pouvez l'utiliser à votre avantage :"
   ]
  },
  {
   "cell_type": "code",
   "execution_count": 32,
   "metadata": {},
   "outputs": [],
   "source": [
    "from qiskit_nature.second_q.mappers import TaperedQubitMapper"
   ]
  },
  {
   "cell_type": "code",
   "execution_count": 33,
   "metadata": {},
   "outputs": [
    {
     "name": "stdout",
     "output_type": "stream",
     "text": [
      "Number of items in the JWM Z2 Pauli list: 3\n",
      "-1.0410931415166227 * I\n",
      "- 0.7958748496863586 * Z\n",
      "+ 0.18093119978423122 * X\n",
      "\n",
      "Number of items in the PM Z2 Pauli list: 3\n",
      "-1.0410931415166227 * I\n",
      "- 0.7958748496863586 * Z\n",
      "- 0.18093119978423122 * X\n",
      "\n",
      "Number of items in the BKM Z2 Pauli list: 3\n",
      "-1.0410931415166227 * I\n",
      "+ 0.7958748496863586 * Z\n",
      "+ 0.18093119978423122 * X\n",
      "\n"
     ]
    }
   ],
   "source": [
    "dmap = {\"JWM\": JordanWignerMapper(), \"PM\": ParityMapper(),  \"BKM\": BravyiKitaevMapper()}\n",
    "for k, v in dmap.items():\n",
    "    H2_z2qubit = H2_problem.get_tapered_mapper(v)\n",
    "    H2_z2qubit = H2_z2qubit.map(H2_fermionic_op)\n",
    "\n",
    "    print(f\"Number of items in the {k} Z2 Pauli list:\", len(H2_z2qubit))\n",
    "    print(H2_z2qubit)\n",
    "    print()\n"
   ]
  },
  {
   "attachments": {},
   "cell_type": "markdown",
   "metadata": {},
   "source": [
    "### Exercise\n",
    "\n",
    "1. A fermionic Fock state is given by \n",
    "$$ |\\Psi\\rangle = a|0011\\rangle + b|1100\\rangle + c|1001\\rangle + d|0110\\rangle. $$\n",
    "\n",
    "Write down the mapping onto the corresponding qubit state by using the **parity** and **Bravyi-Kitaev** transformations.\n",
    "\n",
    "**Hint:** Use the article of Jacob T. Seeley, Martin J. Richard, and Peter J. Love, *The Bravyi-Kitaev transformation for quantum computation of electronic structure*, THE JOURNAL OF CHEMICAL PHYSICS 137, 224109 (2012).\n",
    "\n",
    "2. Démontrer clairement, les résultats de l'équation (102) de l'article de Sam McArdle et *al.* *Quantum computational chemistry*, REVIEWS OF MODERN PHYSICS, VOLUME 92, JANUARY–MARCH 2020.\n",
    "3. Ecrire un script qiskit permettant de retrouver les résultats de l'équation (102) de l'article de Sam McArdle et *al.* *Quantum computational chemistry*, REVIEWS OF MODERN PHYSICS, VOLUME 92, JANUARY–MARCH 2020."
   ]
  },
  {
   "attachments": {},
   "cell_type": "markdown",
   "metadata": {},
   "source": [
    "## Résoudre le `ElectronicStructureProblem` de la molécule d'hydrogène\n",
    "\n",
    "Nous pouvons maintenant calculer les propriétés de l'etat fondamentale de l'instance `problem` de la molécule d'hydrogène."
   ]
  },
  {
   "cell_type": "code",
   "execution_count": 34,
   "metadata": {},
   "outputs": [],
   "source": [
    "from qiskit_nature.second_q.algorithms import GroundStateEigensolver\n",
    "from qiskit.algorithms.minimum_eigensolvers import NumPyMinimumEigensolver"
   ]
  },
  {
   "cell_type": "code",
   "execution_count": 35,
   "metadata": {},
   "outputs": [
    {
     "name": "stdout",
     "output_type": "stream",
     "text": [
      "=== GROUND STATE ENERGY ===\n",
      " \n",
      "* Electronic ground state energy (Hartree): -1.857275030202\n",
      "  - computed part:      -1.857275030202\n",
      "~ Nuclear repulsion energy (Hartree): 0.719968994449\n",
      "> Total ground state energy (Hartree): -1.137306035753\n",
      " \n",
      "=== MEASURED OBSERVABLES ===\n",
      " \n",
      "  0:  # Particles: 2.000 S: 0.000 S^2: 0.000 M: 0.000\n",
      " \n",
      "=== DIPOLE MOMENTS ===\n",
      " \n",
      "~ Nuclear dipole moment (a.u.): [0.0  0.0  1.3889487]\n",
      " \n",
      "  0: \n",
      "  * Electronic dipole moment (a.u.): [0.0  0.0  1.388948701555]\n",
      "    - computed part:      [0.0  0.0  1.388948701555]\n",
      "  > Dipole moment (a.u.): [0.0  0.0  -0.000000001555]  Total: 0.000000001555\n",
      "                 (debye): [0.0  0.0  -0.000000003953]  Total: 0.000000003953\n",
      " \n"
     ]
    }
   ],
   "source": [
    "solver = GroundStateEigensolver(\n",
    "    JordanWignerMapper(),\n",
    "    NumPyMinimumEigensolver(),\n",
    ")\n",
    "\n",
    "H2_result = solver.solve(H2_problem)\n",
    "print(H2_result)"
   ]
  },
  {
   "attachments": {},
   "cell_type": "markdown",
   "metadata": {},
   "source": [
    "## Hamiltonien quelconque\n",
    "\n",
    "On considère l'Hamiltonien \n",
    "$$\\mathtt{H} = 0.4\\mathbb{I}\\mathtt{X} + 0.6\\mathbb{I}\\mathtt{Z} + 0.8\\mathtt{XY}$$\n",
    "\n",
    "Pour un $|\\psi\\rangle$ donné nous voulons évaluer la valeur moyenne de cet Hamiltonien :\n",
    "\n",
    "$$\\langle \\mathtt{H} \\rangle = \\langle \\psi |\\mathtt{H}| \\psi \\rangle = 0.4 \\langle \\psi | \\mathbb{I}\\mathtt{X} |\\psi \\rangle + 0.6 \\langle \\psi | \\mathbb{I}\\mathtt{Z} | \\psi \\rangle + 0.8 \\langle \\psi | \\mathtt{XY} | \\psi \\rangle.$$\n",
    "\n",
    "Comme on peut voir la valeur moyenne $\\langle\\mathtt{H} \\rangle$ pourrait être calculée en ajoutant les valeurs moyennes de ses parties (termes de Pauli). L'algorithme fait exactement cela. Il construit un circuit quantique pour chaque terme de Pauli et calcule la valeur moyenne du terme de Pauli correspondant. Ensuite, l'algorithme additionne toutes les valeurs moyennes calculées des termes de Pauli et obtient la valeur moyenne de $\\mathtt{H}$.\n"
   ]
  },
  {
   "cell_type": "code",
   "execution_count": 2,
   "metadata": {},
   "outputs": [
    {
     "name": "stderr",
     "output_type": "stream",
     "text": [
      "/tmp/ipykernel_80719/649034976.py:1: DeprecationWarning: The ``qiskit.opflow`` module is deprecated as of qiskit-terra 0.24.0. It will be removed no earlier than 3 months after the release date. For code migration guidelines, visit https://qisk.it/opflow_migration.\n",
      "  from qiskit.opflow.operator_globals import I, X, Y, Z\n"
     ]
    },
    {
     "name": "stdout",
     "output_type": "stream",
     "text": [
      "0.4 * IX\n",
      "+ 0.6 * IZ\n",
      "+ 0.8 * XY\n",
      "\n",
      " The exact ground state energy is: -1.077032961426901\n"
     ]
    }
   ],
   "source": [
    "from qiskit.opflow.operator_globals import I, X, Y, Z\n",
    "from qiskit.algorithms.minimum_eigensolvers import NumPyMinimumEigensolver\n",
    "H = (0.4*I^X) + (0.6*I^Z) + (0.8*X^Y)\n",
    "\n",
    "print(H)\n",
    "\n",
    "exact_result = NumPyMinimumEigensolver().compute_minimum_eigenvalue(H)\n",
    "print(f'\\n The exact ground state energy is: {exact_result.eigenvalue}')"
   ]
  },
  {
   "attachments": {},
   "cell_type": "markdown",
   "metadata": {},
   "source": [
    "Si on a un Hamiltonien \n",
    "$$\\mathtt{H} = a\\mathbb{I} + b\\mathtt{Z} + c\\mathtt{X} + d\\mathtt{Y},\\qquad a,b,c,d\\in\\mathbb{R},$$\n",
    "il faut faire appel à des nombres arbitraires pour a, b, c et d."
   ]
  },
  {
   "cell_type": "code",
   "execution_count": 4,
   "metadata": {},
   "outputs": [
    {
     "name": "stdout",
     "output_type": "stream",
     "text": [
      "4.360873458256325 * I\n",
      "+ 6.606337974789981 * Z\n",
      "+ 2.0109065258784176 * X\n",
      "+ 9.893180935744267 * Y\n",
      "\n",
      " The exact ground state energy is: -7.704054039260865\n"
     ]
    }
   ],
   "source": [
    "from numpy import random\n",
    "\n",
    "a, b, c, d = 10*random.sample(4)\n",
    "\n",
    "H = (a*I) + (b*Z) + (c*X) +(d*Y)\n",
    "\n",
    "print(H)\n",
    "exact_result = NumPyMinimumEigensolver().compute_minimum_eigenvalue(H)\n",
    "print(f'\\n The exact ground state energy is: {exact_result.eigenvalue}')"
   ]
  },
  {
   "attachments": {},
   "cell_type": "markdown",
   "metadata": {},
   "source": [
    "## Cas de la molécule d'hydride de lithium\n",
    "\n",
    "<center><img src=\"Graphics/Lithium_hydride.png\" width=\"150\"/></center>\n",
    "\n",
    "Do it yourself\n",
    "\n",
    "```\n",
    "LiH_driver = PySCFDriver(\n",
    "    atom=\"Li 0 0 0; H 0 0 1.5474\",\n",
    "    basis=\"sto3g\",\n",
    "    charge=0,\n",
    "    spin=0,\n",
    "    unit=DistanceUnit.ANGSTROM,\n",
    ")\n",
    "```\n"
   ]
  },
  {
   "attachments": {},
   "cell_type": "markdown",
   "metadata": {},
   "source": [
    "## Cas de la molécule d'eau\n",
    "\n",
    "### Hamiltionien électronique\n",
    "\n",
    "<center><img src=\"Graphics/Water_HF_references.png\" width=\"450\"/></center>\n",
    "\n",
    "La molécule d'eau a un nombre total de dix électrons. Le déterminant de Slater résultant de l'occupation des cinq premières orbitales moléculaires d'énergie la plus basse avec deux électrons *appariés* dans chaque orbitale, l'un avec spin-up et l'autre avec spin-down, est dit être un état HF à couche fermée avec une *multiplicité de spin=1*. Alternativement, si nous définissons une occupation où les quatre premières orbitales sont doublement occupées et les deux suivantes sont occupées individuellement par des électrons *non appariés* avec spin-up, on dit qu'il s'agit d'un état HF à couche ouverte avec une *multiplicité de spin=3*.\n",
    "\n",
    "Il n'est pas superflue de rappeler à nouveau ce qui suit.\n",
    "\n",
    "* La multiplicité, que nous pouvons définir comme $(N_{\\rm unpaired}^e + 1)$ avec $N_{\\rm unpaired}^e$ le nombre d'électrons non appariés, détermine l'occupation des orbitales moléculaires dans les calculs HF. \n",
    "\n",
    "* Les orbitales moléculaires sont généralement représentées comme une combinaison linéaire de\n",
    "**orbitales atomiques**. Les coefficients de d'expansion dans la base atomique sont\n",
    "calculé en utilisant la méthode de Hartree-Fock (HF). Dans l'approximation HF, chaque électron de la molécule est traité comme une particule **indépendante** qui se déplace sous l'influence du Coulomb potentiel dû aux noyaux, et un champ moyen généré par tous les autres\n",
    "électrons. Les coefficients optimisés sont précisément ce dont on a besoin pour\n",
    "construire le Hamiltonien de la seconde quantification.\n",
    "\n",
    "### Active-Space reduction\n",
    "\n",
    "En général, les méthodes de corrélation d'électrons post-Hartree-Fock étendent la fonction d'état de la molécule autour de la solution Hartree-Fock, en ajoutant des déterminants de Slater, communément appelés **configurations**, qui résultent de l'excitation des électrons des orbitales HF occupées vers les orbitales inoccupées. Malgré le fait qu'il existe différentes techniques pour tronquer cette expansion, le nombre de configurations augmente de manière combinatoire avec le nombre d'électrons et de fonctions de base et la tâche de trouver les coefficients d'expansion de la fonction d'état devient numériquement insoluble si nous voulons inclure l'ensemble complet des orbitales moléculaires. .\n",
    "\n",
    "Afin de contourner l'explosion combinatoire, nous pouvons créer un espace actif en classant les orbitales moléculaires en orbitales doublement occupées, actives et externes :\n",
    "\n",
    "* les orbitales doublement occupées (**core orbitals**) sont toujours occupées par deux électrons;\n",
    "* les orbitales actives (**valence orbitals**) peuvent être occupées par zéro, un ou deux électrons.\n",
    "* les orbitales externes (**virtual orbitals**) ne sont jamais occupées.\n",
    "\n",
    "<center><img src=\"Graphics/Sketch_active_space.png\" width=\"450\"/></center>\n",
    "\n",
    "Dans cette approximation, un certain nombre d'*électrons actifs* peuvent peupler les *orbitales actives* à partir desquelles nous pouvons générer un espace de taille finie de déterminants de Slater.\n",
    "\n",
    "**Note**</br>\n",
    "Le nombre de *spin-orbitales actives* détermine le *nombre de qubits* requis pour effectuer des simulations quantiques de la structure électronique de la molécule.\n",
    "\n",
    "Pour le cas de la molécule d'eau décrite à l'aide d'un ensemble de base minimal, nous avons un total de dix électrons occupant les cinq premières des sept orbitales moléculaires dans l'état de référence HF. \n",
    "\n",
    "Avec `qiskit_nature.second_q.transformers.ActiveSpaceTransformer`, la réduction se fait en calculant l'opérateur de Fock inactif qui est défini comme\n",
    "$$ F^I_{pq} = h_{pq} + \\sum_i (2 g_{iipq} - g_{iqpi})\n",
    "$$\n",
    "et l'énergie inactive qui est donnée par\n",
    "$$ E^I = \\sum_j h_{ji} + F^I_{jj} = \\frac12 \\sum_{ij} \\Big(h_{ij} + F^I_{jj}\\Big) D^I_{ij} ,$$\n",
    "où $i$ et $j$ itèrent sur les orbitales inactives. En utilisant l'opérateur de Fock inactif à la place des intégrales à un électron, la description de l'espace actif contient un potentiel effectif généré par les électrons inactifs. Par conséquent, cette méthode permet l'exclusion des électrons non centraux tout en conservant une description de haute qualité du système."
   ]
  },
  {
   "cell_type": "code",
   "execution_count": 38,
   "metadata": {},
   "outputs": [],
   "source": [
    "H2O_driver = PySCFDriver(\n",
    "    atom='O 0.0 0.0 0.0; H 0.757 0.586 0.0; H -0.757 0.586 0.0',\n",
    "    basis=\"sto3g\",\n",
    "    charge=0,\n",
    "    spin=0,\n",
    "    unit=DistanceUnit.ANGSTROM,\n",
    ")\n",
    "\n",
    "H2O_problem = H2O_driver.run()\n",
    "H2O_hamiltonian = H2O_problem.hamiltonian\n",
    "H2O_coefficients = H2O_hamiltonian.electronic_integrals\n",
    "H2O_fermionic_op = H2O_hamiltonian.second_q_op()\n"
   ]
  },
  {
   "cell_type": "code",
   "execution_count": 40,
   "metadata": {},
   "outputs": [
    {
     "name": "stdout",
     "output_type": "stream",
     "text": [
      "Molecule strcuture: Molecule:\n",
      "\tMultiplicity: 1\n",
      "\tCharge: 0\n",
      "\tUnit: Bohr\n",
      "\tGeometry:\n",
      "\t\tO\t(0.0, 0.0, 0.0)\n",
      "\t\tH\t(1.430522676295752, 1.1073795089951262, 0.0)\n",
      "\t\tH\t(-1.430522676295752, 1.1073795089951262, 0.0)\n",
      "\tMasses:\n",
      "\t\tO\t16\n",
      "\t\tH\t1\n",
      "\t\tH\t1\n",
      "Reference energy: -74.9629466565387\n",
      "Nuclear repulsion energy: 9.193913160623385\n",
      "Number of particules: (5, 5)\n",
      "Number of spatial orbitals: 7\n",
      "Number of molecular orbitals: 14\n",
      "Number of alpha electrons: 5\n",
      "Number of beta electrons: 5\n",
      "Occupations of the alpha-spin orbitals: [1. 1. 1. 1. 1. 0. 0.]\n"
     ]
    }
   ],
   "source": [
    "print(f'Molecule strcuture: {H2O_problem.molecule}')\n",
    "print(f'Reference energy: {H2O_problem.reference_energy}')\n",
    "print(f'Nuclear repulsion energy: {H2O_problem.nuclear_repulsion_energy}')\n",
    "print(f'Number of particules: {H2O_problem.num_particles}')\n",
    "print(f'Number of spatial orbitals: {H2O_problem.num_spatial_orbitals}')\n",
    "print(f'Number of molecular orbitals: {H2O_problem.num_spin_orbitals}')\n",
    "print(f'Number of alpha electrons: {H2O_problem.num_alpha}')\n",
    "print(f'Number of beta electrons: {H2O_problem.num_beta}')\n",
    "print(f'Occupations of the alpha-spin orbitals: {H2O_problem.orbital_occupations}')\n"
   ]
  },
  {
   "attachments": {},
   "cell_type": "markdown",
   "metadata": {},
   "source": [
    "### `FreezeCoreTransformer`\n",
    "\n",
    "Ce transformateur vous offre un moyen très simple de geler les _core orbitales_ du système moléculaire. Il nécessite que votre problème contienne l'attribut `.molecule` à partir duquel il peut extraire les informations atomiques nécessaires pour effectuer cette réduction d'espace de Hilbert.\n",
    "\n",
    "Appliquons `qiskit_nature.second_q.transformers.FreezeCoreTransforme` à notre molécule qui, dans ce cas, supprimera la seule orbitale d'énergie la plus basse (réduisant le nombre total d'orbitales spatiales de 7 à 6) et supprimant également les deux électrons de l'intérieur de cette orbitale (comme reflété par le nombre modifié de particules)."
   ]
  },
  {
   "cell_type": "code",
   "execution_count": 41,
   "metadata": {},
   "outputs": [
    {
     "name": "stdout",
     "output_type": "stream",
     "text": [
      "Number of particules with FC: (4, 4)\n",
      "Number of spatial orbitals with FC: 6\n"
     ]
    }
   ],
   "source": [
    "from qiskit_nature.second_q.transformers import FreezeCoreTransformer\n",
    "\n",
    "fc_transformer = FreezeCoreTransformer()\n",
    "\n",
    "fc_H2O_problem = fc_transformer.transform(H2O_problem)\n",
    "print(f'Number of particules with FC: {fc_H2O_problem.num_particles}')\n",
    "print(f'Number of spatial orbitals with FC: {fc_H2O_problem.num_spatial_orbitals}')\n"
   ]
  },
  {
   "attachments": {},
   "cell_type": "markdown",
   "metadata": {},
   "source": [
    "Notez que cette transformation se traduira par un décalage d'énergie constant résultant de la suppression des électrons du noyau. Ce décalage est enregistré à l'intérieur de l'attribut `constants`\" de l'Hamiltonien."
   ]
  },
  {
   "cell_type": "code",
   "execution_count": 42,
   "metadata": {},
   "outputs": [
    {
     "name": "stdout",
     "output_type": "stream",
     "text": [
      "{'nuclear_repulsion_energy': 9.193913160623385, 'FreezeCoreTransformer': -60.66177520598541}\n"
     ]
    }
   ],
   "source": [
    "print(fc_H2O_problem.hamiltonian.constants)"
   ]
  },
  {
   "attachments": {},
   "cell_type": "markdown",
   "metadata": {},
   "source": [
    "Vous pouvez fournir une liste d'indices orbitaux (se rappeler qu'on commence par 0) qui doivent être supprimés du système.\n",
    "\n",
    "> **Remarque :** Ces orbitales *doivent* être inoccupées, sinon vous subirez une erreur importante dans votre calcul. Vous devez absolument savoir quelles orbitales vous supprimez, car la suppression des mauvaises orbitales peut toujours entraîner de grandes erreurs si la dynamique des systèmes est modifiée de manière significative."
   ]
  },
  {
   "cell_type": "code",
   "execution_count": 43,
   "metadata": {},
   "outputs": [
    {
     "name": "stdout",
     "output_type": "stream",
     "text": [
      "(4, 4)\n",
      "6\n"
     ]
    }
   ],
   "source": [
    "fc_H2O_transformer = FreezeCoreTransformer(remove_orbitals=[5, 6])\n",
    "\n",
    "fc_H2O_problem = fc_transformer.transform(H2O_problem)\n",
    "print(fc_H2O_problem.num_particles)\n",
    "print(fc_H2O_problem.num_spatial_orbitals)"
   ]
  },
  {
   "attachments": {},
   "cell_type": "markdown",
   "metadata": {},
   "source": [
    "###  `ActiveSpaceTransformer`\n",
    "\n",
    "Ce transformateur généralise la réduction de l'espace de Hilbert qui est effectuée par le `FreezeCoreTransformer`. En termes simples, il vous permet de spécifier un _active space_ en sélectionnant le nombre d'électrons actifs et le nombre d'orbitales spatiales actives. Selon ces paramètres, l'espace actif sera choisi autour du niveau de Fermi."
   ]
  },
  {
   "cell_type": "code",
   "execution_count": 44,
   "metadata": {},
   "outputs": [
    {
     "name": "stdout",
     "output_type": "stream",
     "text": [
      "(1, 1)\n",
      "2\n",
      "Polynomial Tensor\n",
      " \"+-\":\n",
      "array([[-1.27140194e+00, -8.13730144e-31],\n",
      "       [-8.22187664e-31, -5.33727899e-01]])\n",
      " \"++--\":\n",
      "array([[[[8.80159093e-01, 7.50928946e-31],\n",
      "         [7.53377638e-31, 3.86049363e-02]],\n",
      "\n",
      "        [[7.47382412e-31, 3.86049363e-02],\n",
      "         [5.88954503e-01, 3.13968770e-31]]],\n",
      "\n",
      "\n",
      "       [[[7.42541117e-31, 5.88954503e-01],\n",
      "         [3.86049363e-02, 3.30506424e-31]],\n",
      "\n",
      "        [[3.86049363e-02, 2.99972822e-31],\n",
      "         [3.14639185e-31, 5.97138205e-01]]]])\n"
     ]
    }
   ],
   "source": [
    "from qiskit_nature.second_q.transformers import ActiveSpaceTransformer\n",
    "\n",
    "as_transformer = ActiveSpaceTransformer(2, 2)\n",
    "\n",
    "H2O_as_problem = as_transformer.transform(H2O_problem)\n",
    "print(H2O_as_problem.num_particles)\n",
    "print(H2O_as_problem.num_spatial_orbitals)\n",
    "print(H2O_as_problem.hamiltonian.electronic_integrals.alpha)"
   ]
  },
  {
   "attachments": {},
   "cell_type": "markdown",
   "metadata": {},
   "source": [
    "`qiskit_nature.second_q.transformers.ActiveSpaceTransformer` permet aussi de spécifier manuellement les indices des orbitales actives. Cela vous permet de sélectionner manuellement des _active space_ qui ne se trouvent pas en permanence autour du niveau de Fermi."
   ]
  },
  {
   "cell_type": "code",
   "execution_count": 45,
   "metadata": {},
   "outputs": [
    {
     "name": "stdout",
     "output_type": "stream",
     "text": [
      "(1, 1)\n",
      "2\n",
      "Polynomial Tensor\n",
      " \"+-\":\n",
      "array([[-1.23592631e+00,  2.08000264e-16],\n",
      "       [-3.98797445e-16, -4.05443401e-01]])\n",
      " \"++--\":\n",
      "array([[[[ 7.82927092e-01,  9.01498332e-17],\n",
      "         [ 1.86343565e-17,  6.89576276e-02]],\n",
      "\n",
      "        [[ 6.68313530e-17,  6.89576276e-02],\n",
      "         [ 6.08322974e-01, -7.24543525e-17]]],\n",
      "\n",
      "\n",
      "       [[[ 7.35764103e-17,  6.08322974e-01],\n",
      "         [ 6.89576276e-02, -7.43901238e-18]],\n",
      "\n",
      "        [[ 6.89576276e-02, -3.66254780e-17],\n",
      "         [-3.31705125e-17,  6.19602459e-01]]]])\n"
     ]
    }
   ],
   "source": [
    "as_transformer = ActiveSpaceTransformer(2, 2, active_orbitals=[3, 6])\n",
    "\n",
    "H2O_as_problem = as_transformer.transform(H2O_problem)\n",
    "print(H2O_as_problem.num_particles)\n",
    "print(H2O_as_problem.num_spatial_orbitals)\n",
    "print(H2O_as_problem.hamiltonian.electronic_integrals.alpha)"
   ]
  },
  {
   "attachments": {},
   "cell_type": "markdown",
   "metadata": {},
   "source": [
    "# Questions\n",
    "\n",
    "1. Which of the following terms is neglected in the BO approximation?\n",
    "\n",
    "    A.\tElectronic kinetic energy operator.\n",
    "\n",
    "    B.\tNuclear kinetic energy operator.\n",
    "\n",
    "    C.\tPotential energy between the electrons and nuclei. It is the sum of all electron-nucleus Coulomb interactions.\n",
    "\n",
    "    D.\tPotential energy operator arising from electron-electron Coulomb repulsions.\n",
    "    \n",
    "2. The Slater determinant state function is antisymmetric with respect to: \n",
    "\n",
    "    A.\tthe exchange of two electrons (permutation of two rows) or, \n",
    "\n",
    "    B.\twith respect to the exchange of two spin orbitals (permutation of two columns)\n",
    "\n",
    "    C.\tOr both the above?\n",
    "\n",
    "3. Name three fermion to qubit transformations currently supported by Qiskit Nature.\n",
    "\n",
    "4. Name two fermion to qubit transformations that simulates a system of electrons with the same number of qubits as electrons.\n",
    "\n",
    "5.\tFor which transformation does the resulting Hamiltonian commute with the number spin up and number spin down operators which can be used to taper off two qubits?\n"
   ]
  },
  {
   "cell_type": "code",
   "execution_count": 46,
   "metadata": {},
   "outputs": [
    {
     "data": {
      "text/html": [
       "<h3>Version Information</h3><table><tr><th>Qiskit Software</th><th>Version</th></tr><tr><td><code>qiskit-terra</code></td><td>0.24.0</td></tr><tr><td><code>qiskit-aer</code></td><td>0.12.0</td></tr><tr><td><code>qiskit-ibmq-provider</code></td><td>0.20.2</td></tr><tr><td><code>qiskit</code></td><td>0.43.0</td></tr><tr><td><code>qiskit-nature</code></td><td>0.6.0</td></tr><tr><td><code>qiskit-machine-learning</code></td><td>0.6.0</td></tr><tr><th>System information</th></tr><tr><td>Python version</td><td>3.10.11</td></tr><tr><td>Python compiler</td><td>GCC 11.3.0</td></tr><tr><td>Python build</td><td>main, May 10 2023 18:58:44</td></tr><tr><td>OS</td><td>Linux</td></tr><tr><td>CPUs</td><td>6</td></tr><tr><td>Memory (Gb)</td><td>7.12152099609375</td></tr><tr><td colspan='2'>Mon May 22 07:57:08 2023 WAT</td></tr></table>"
      ],
      "text/plain": [
       "<IPython.core.display.HTML object>"
      ]
     },
     "metadata": {},
     "output_type": "display_data"
    }
   ],
   "source": [
    "# Display Qiskit Software and System information\n",
    "import qiskit.tools.jupyter\n",
    "%qiskit_version_table"
   ]
  }
 ],
 "metadata": {
  "jupytext": {
   "formats": "ipynb,md"
  },
  "kernelspec": {
   "display_name": "qiskit-env",
   "language": "python",
   "name": "qiskit-env"
  },
  "language_info": {
   "codemirror_mode": {
    "name": "ipython",
    "version": 3
   },
   "file_extension": ".py",
   "mimetype": "text/x-python",
   "name": "python",
   "nbconvert_exporter": "python",
   "pygments_lexer": "ipython3",
   "version": "3.10.11"
  }
 },
 "nbformat": 4,
 "nbformat_minor": 4
}
