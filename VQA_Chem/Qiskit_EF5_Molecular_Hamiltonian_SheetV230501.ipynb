{
 "cells": [
  {
   "cell_type": "markdown",
   "metadata": {},
   "source": [
    "## "
   ]
  },
  {
   "cell_type": "markdown",
   "metadata": {},
   "source": [
    "# UE 4268 - QISKIT LAB 4 - Evalution formative\n",
    "\n",
    "\n",
    "**`vos noms et prenoms`**, `matricule` et `email` \n",
    "\n",
    "\n",
    "Department of Physics - Faculty of Science - University of Yaoundé I\n",
    "\n",
    "`Nom du Laboratoire`\n",
    "\n",
    "`Date`\n",
    "\n",
    " **Duree: 120 min**"
   ]
  },
  {
   "cell_type": "markdown",
   "metadata": {},
   "source": [
    "$$\n",
    "\\newcommand{\\br}{\\mathbf{r}}  \n",
    "\\newcommand{\\ad}{a^\\dagger}  \n",
    "$$"
   ]
  },
  {
   "cell_type": "markdown",
   "metadata": {},
   "source": [
    "## 1 - Atome d'Helium\n",
    "\n",
    "\n",
    "\n",
    "Considérons l’exemple d’un système de deux électrons situés dans le champ coulombien d’un\n",
    "noyau $Ze_{0}$. C’est le cas de l’atome d’hélium.\n",
    "\n",
    "\n",
    " **1. Rappeler l’expression générale du Hamiltonien de cet atome.**\n"
   ]
  },
  {
   "cell_type": "markdown",
   "metadata": {},
   "source": []
  },
  {
   "cell_type": "markdown",
   "metadata": {},
   "source": [
    "\n",
    "**2. Espace symétrique et antisymétrique des orbitales de type STO.**\n",
    "\n",
    " \n",
    "   _Soit $\\phi_{1S}(r)= 2\\alpha^{3/2}e^{-\\alpha r}$ la fonction d'etat d'un electron a la position r._\n",
    "\n",
    " (a) Ecrire les fonctions d'etat de type Slater symétriques et antisymétriques normalisées de He."
   ]
  },
  {
   "cell_type": "markdown",
   "metadata": {},
   "source": []
  },
  {
   "cell_type": "markdown",
   "metadata": {},
   "source": [
    " (b) Ecrire un code python permettant de visualiser ces fonctions.\n"
   ]
  },
  {
   "cell_type": "code",
   "execution_count": null,
   "metadata": {},
   "outputs": [],
   "source": [
    "import numpy as np\n",
    "import matplotlib.pyplot as plt"
   ]
  },
  {
   "cell_type": "code",
   "execution_count": null,
   "metadata": {},
   "outputs": [],
   "source": [
    "#Reponse"
   ]
  },
  {
   "cell_type": "markdown",
   "metadata": {},
   "source": [
    "### **3. Espace symétrique et antisymétrique des orbitales de type GTO**\n",
    "\n",
    "  _Soit $\\phi_{1S}(r)= (\\frac{2\\alpha}{\\pi})^{\\frac{3}{4}}e^{-\\alpha r^2}$ la fonction d'etat d'un electron a la position r._\n",
    "\n",
    " (a) Ecrire les fonctions d'etat de type Gaussienne symétriques et antisymétriques normalisées de He.\n",
    " "
   ]
  },
  {
   "cell_type": "code",
   "execution_count": null,
   "metadata": {},
   "outputs": [],
   "source": [
    "#Reponse"
   ]
  },
  {
   "cell_type": "markdown",
   "metadata": {},
   "source": [
    "(b) Ecrire un code python permettant de visualiser ces fonctions.\n"
   ]
  },
  {
   "cell_type": "code",
   "execution_count": null,
   "metadata": {},
   "outputs": [],
   "source": [
    "#Reponse"
   ]
  },
  {
   "cell_type": "markdown",
   "metadata": {},
   "source": [
    "### 2 - Relations d'anti-commutation"
   ]
  },
  {
   "cell_type": "code",
   "execution_count": null,
   "metadata": {},
   "outputs": [],
   "source": [
    "from qiskit_nature.second_q.operators import FermionicOp\n",
    "from qiskit_nature.second_q.operators.commutators import anti_commutator"
   ]
  },
  {
   "cell_type": "markdown",
   "metadata": {},
   "source": [
    "   Verifier les egalités suivantes :\n",
    "   \n",
    "   * $\\{a_1, \\ad_1\\}= 1$\n",
    "   \n",
    "   * $\\{\\ad_2, \\ad_3\\}= 0$\n",
    "   \n",
    "   * $\\{\\ad_2, \\ad_3\\}= 0$\n",
    "   * $\\ad_0a_1\\ad_1a_2 = \\ad_0a_2 - \\ad_0\\ad_1a_1\\ad_2$\n",
    "   \n",
    "   * $\\ad_0a_4+\\ad_0a_2=0$"
   ]
  },
  {
   "cell_type": "code",
   "execution_count": null,
   "metadata": {},
   "outputs": [],
   "source": [
    "#Reponse"
   ]
  },
  {
   "cell_type": "markdown",
   "metadata": {},
   "source": [
    "## 3 - Problème de structure électronique : Cas de la molécule d’eau (H2O)\n",
    "\n",
    "\n",
    "\n",
    "  On donne les coordonnées xyz de la molécule\n",
    "  \n",
    "  **H : 0.968877 0.012358 0.000000**\n",
    "  \n",
    "  **O : -0.019830 -0.025588 0.000000**\n",
    "  \n",
    "  **H : -0.229801 0.941311 0.000000**\n",
    "\n"
   ]
  },
  {
   "cell_type": "code",
   "execution_count": null,
   "metadata": {},
   "outputs": [],
   "source": [
    "from qiskit_nature.units import DistanceUnit\n",
    "from qiskit_nature.second_q.drivers import PySCFDriver"
   ]
  },
  {
   "cell_type": "markdown",
   "metadata": {},
   "source": [
    "\n",
    "  * Reprendre les étapes du problème électronique du cas de la molécule d’hydrogène pour\n",
    "traiter le cas de la molécule d’eau.\n"
   ]
  },
  {
   "cell_type": "code",
   "execution_count": null,
   "metadata": {},
   "outputs": [],
   "source": [
    "#reponse"
   ]
  },
  {
   "cell_type": "code",
   "execution_count": null,
   "metadata": {},
   "outputs": [],
   "source": []
  },
  {
   "cell_type": "markdown",
   "metadata": {},
   "source": [
    "* Imprimer les 6 premiers termes de l'opérateur fermionique de la molécule $H_2O$:"
   ]
  },
  {
   "cell_type": "code",
   "execution_count": null,
   "metadata": {},
   "outputs": [],
   "source": [
    "#reponse"
   ]
  },
  {
   "cell_type": "markdown",
   "metadata": {},
   "source": [
    "* Utiliser la méthode `FermionicOp.to_matrix` pour obtenir une représentation matricielle de la molécule d'eau dans la base de Fock."
   ]
  },
  {
   "cell_type": "code",
   "execution_count": null,
   "metadata": {},
   "outputs": [],
   "source": [
    "#reponse"
   ]
  },
  {
   "cell_type": "code",
   "execution_count": null,
   "metadata": {},
   "outputs": [],
   "source": []
  },
  {
   "cell_type": "markdown",
   "metadata": {},
   "source": [
    "\n",
    "Lien utile : https://github.com/qiskit-community/qiskit-community-tutorials/blob/master/chemistry/QubitMappings.ipynb?short_path=70b1d78"
   ]
  },
  {
   "cell_type": "code",
   "execution_count": null,
   "metadata": {},
   "outputs": [],
   "source": [
    "import qiskit.tools.jupyter\n",
    "\n",
    "%qiskit_version_table"
   ]
  }
 ],
 "metadata": {
  "jupytext": {
   "formats": "ipynb,md"
  },
  "kernelspec": {
   "display_name": "Python 3 (ipykernel)",
   "language": "python",
   "name": "python3"
  },
  "language_info": {
   "codemirror_mode": {
    "name": "ipython",
    "version": 3
   },
   "file_extension": ".py",
   "mimetype": "text/x-python",
   "name": "python",
   "nbconvert_exporter": "python",
   "pygments_lexer": "ipython3",
   "version": "3.9.12"
  },
  "widgets": {
   "application/vnd.jupyter.widget-state+json": {
    "state": {},
    "version_major": 1,
    "version_minor": 0
   }
  }
 },
 "nbformat": 4,
 "nbformat_minor": 4
}
