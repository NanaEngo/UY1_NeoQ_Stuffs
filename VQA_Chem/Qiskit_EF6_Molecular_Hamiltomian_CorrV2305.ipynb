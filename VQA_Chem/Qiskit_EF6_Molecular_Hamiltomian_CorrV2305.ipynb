{
 "cells": [
  {
   "attachments": {},
   "cell_type": "markdown",
   "id": "dbe148b4",
   "metadata": {},
   "source": [
    "# UE 4268 - QISKIT LAB 5 - Evalution formative\n",
    "\n",
    "\n",
    "**`vos noms et prenoms`**, `matricule` et `email` \n",
    "\n",
    "\n",
    "Department of Physics - Faculty of Science - University of Yaoundé I\n",
    "\n",
    "`Nom du Laboratoire`\n",
    "\n",
    "`Date`\n",
    "\n",
    " **Duree: 150 min**"
   ]
  },
  {
   "cell_type": "code",
   "execution_count": null,
   "id": "eb4a969f",
   "metadata": {},
   "outputs": [],
   "source": [
    "# Display Qiskit Software and System information\n",
    "import qiskit.tools.jupyter\n",
    "%qiskit_version_table"
   ]
  },
  {
   "attachments": {},
   "cell_type": "markdown",
   "id": "8a7fd4c7",
   "metadata": {},
   "source": [
    "## I. Multiple-choice questions and open answer questions\n",
    "\n",
    "1. Which of the following terms is neglected in the BO approximation?\n",
    "\n",
    "    A.\tElectronic kinetic energy operator.\n",
    "\n",
    "    B.\tNuclear kinetic energy operator.\n",
    "\n",
    "    C.\tPotential energy between the electrons and nuclei. It is the sum of all electron-nucleus Coulomb interactions.\n",
    "\n",
    "    D.\tPotential energy operator arising from electron-electron Coulomb repulsions.\n"
   ]
  },
  {
   "attachments": {},
   "cell_type": "markdown",
   "id": "18f9420b",
   "metadata": {},
   "source": [
    "B"
   ]
  },
  {
   "attachments": {},
   "cell_type": "markdown",
   "id": "f08f81e3",
   "metadata": {},
   "source": [
    "2. The Slater determinant state function is antisymmetric with respect to: \n",
    "\n",
    "    A.\tthe exchange of two electrons (permutation of two rows) or, \n",
    "\n",
    "    B.\twith respect to the exchange of two spin orbitals (permutation of two columns)\n",
    "\n",
    "    C.\tOr both the above?\n",
    "\n"
   ]
  },
  {
   "attachments": {},
   "cell_type": "markdown",
   "id": "4bb4ec3a",
   "metadata": {},
   "source": [
    "C"
   ]
  },
  {
   "attachments": {},
   "cell_type": "markdown",
   "id": "8793d335",
   "metadata": {},
   "source": [
    "3. Name three fermion to qubit transformations currently supported by Qiskit Nature.\n",
    "\n"
   ]
  },
  {
   "attachments": {},
   "cell_type": "markdown",
   "id": "340bbf7e",
   "metadata": {},
   "source": [
    " Jordan-Wigner, Parity, Bravyi-Kitaev"
   ]
  },
  {
   "attachments": {},
   "cell_type": "markdown",
   "id": "c1e44010",
   "metadata": {},
   "source": [
    "4. Name two fermion to qubit transformations that simulates a system of electrons with the same number of qubits as electrons.\n",
    "\n"
   ]
  },
  {
   "attachments": {},
   "cell_type": "markdown",
   "id": "fdcbfb32",
   "metadata": {},
   "source": [
    " Jordan-Wigner, Parity"
   ]
  },
  {
   "attachments": {},
   "cell_type": "markdown",
   "id": "09450572",
   "metadata": {},
   "source": [
    "5.\tFor which transformation does the resulting Hamiltonian commute with the number spin up and number spin down operators which can be used to taper off two qubits?\n"
   ]
  },
  {
   "attachments": {},
   "cell_type": "markdown",
   "id": "1bcec888",
   "metadata": {},
   "source": [
    "Parity"
   ]
  },
  {
   "attachments": {},
   "cell_type": "markdown",
   "id": "5a686aef",
   "metadata": {},
   "source": [
    "## II. Manual exercises\n",
    "\n",
    "1. In **Exemple d'illustration** of **Qiskit Lab 4**, we have considered a fictitious system described by spin orbitals $|A_\\uparrow\\rangle,\\,|A_\\downarrow\\rangle,\\,|B_\\uparrow\\rangle,\\,|B_\\downarrow\\rangle$ labelled as\n",
    "\\begin{align*}\n",
    " &|A_\\uparrow\\rangle=|00\\rangle=|\\mathbf{0}\\rangle,  &&|A_\\downarrow\\rangle=|01\\rangle=|\\mathbf{1}\\rangle,\n",
    "&&|B_\\uparrow\\rangle=|10\\rangle=|\\mathbf{2}\\rangle,  &|B_\\downarrow\\rangle=|11\\rangle=|\\mathbf{3}\\rangle.\n",
    "\\end{align*}\n",
    "We assume that the Hartree-Fock state for this system **has both electrons occupying the $|A\\rangle$ orbitals**. We store the occupations of the spin orbitals $|A_\\uparrow\\rangle,\\,|A_\\downarrow\\rangle,\\,|B_\\uparrow\\rangle,\\,|B_\\downarrow\\rangle$ which we order as \n",
    "$|f_{B_\\downarrow},f_{B_\\uparrow},f_{A_\\downarrow},f_{A_\\uparrow}\\rangle$, with $f_i=0,1$.\n",
    "    1. Write down, in the fermionic Fock space, the Hartree-Fock state $|\\Psi_{\\rm HF}\\rangle$, that is, the corresponding of the antisymmetrized Slater determinant obtained in **Exemple d'illustration**.\n",
    "    2. Write down, in the fermionic Fock space, the $s_z = 0$ state vector."
   ]
  },
  {
   "attachments": {},
   "cell_type": "markdown",
   "id": "0519c018",
   "metadata": {},
   "source": [
    "$$\\Psi_{\\rm HF}\\rangle = |0011\\rangle.$$\n",
    "\n",
    "The $s_z = 0$ state vector is\n",
    "$$ |\\Psi\\rangle = a|0011\\rangle + b|1100\\rangle + c|1001\\rangle + d|0110\\rangle. $$"
   ]
  },
  {
   "attachments": {},
   "cell_type": "markdown",
   "id": "df2ad8ef",
   "metadata": {},
   "source": [
    "2. A fermionic Fock state is given by \n",
    "$$ |\\Psi\\rangle = a|0011\\rangle + b|1100\\rangle + c|1001\\rangle + d|0110\\rangle. $$\n",
    "\n",
    "Write down the mapping onto the corresponding qubit state by using the **parity** and **Bravyi-Kitaev** transformations.\n",
    "\n",
    "**Hint:** Use the article of Jacob T. Seeley, Martin J. Richard, and Peter J. Love, *The Bravyi-Kitaev transformation for quantum computation of electronic structure*, THE JOURNAL OF CHEMICAL PHYSICS 137, 224109 (2012)."
   ]
  },
  {
   "attachments": {},
   "cell_type": "markdown",
   "id": "c85cc19e",
   "metadata": {},
   "source": [
    "* Parity transformation\n",
    "\\begin{align*}\n",
    "&\\ket{f_{M-1},\\dots,f_k,\\dots, f_1,f_0} \\mapsto \\ket{\\mathbf{p}} , & p_k = \\sum_{j=k}^0 q_j \\pmod 2 = q_k\\oplus\\dots\\oplus q_0 .\n",
    "\\end{align*}\n",
    "$$ |\\Psi\\rangle_{\\rm parity} = a|0001\\rangle + b|0100\\rangle + c|0111\\rangle + d|0010\\rangle. $$\n",
    "\n",
    "* Bravyi-Kitaev transformation\n",
    "  \n",
    "\\begin{align*}\n",
    "&\\ket{f_{M-1},\\dots,f_k,\\dots, f_1,f_0} \\mapsto \\ket{\\mathbf{b}} ,  &&b_k = \\sum_{j=k}^0 B_{kj} \\, f_j \\pmod 2, \n",
    "&\\mathtt{B}_4 = \\left(\\begin{array}{cc|cc}\n",
    "    1 & 1 & 1 & 1 \\\\\n",
    "    0 & 1 & 0 & 0 \\\\\\hline\n",
    "    0 & 0 & 1 & 1 \\\\\n",
    "    0 & 0 & 0 & 1 \n",
    " \\end{array}\\right)\n",
    "\\end{align*}\n",
    "\n",
    "$$ |\\Psi\\rangle_{\\rm BK} = a|0001\\rangle + b|0100\\rangle + c|0111\\rangle + d|0110\\rangle. $$"
   ]
  },
  {
   "attachments": {},
   "cell_type": "markdown",
   "id": "e1af4de8",
   "metadata": {},
   "source": [
    "3. Démontrer clairement, les résultats de l'équation (102) (p.38) de l'article de Sam McArdle et *al.* *Quantum computational chemistry*, REVIEWS OF MODERN PHYSICS, VOLUME 92, JANUARY–MARCH 2020."
   ]
  },
  {
   "attachments": {},
   "cell_type": "markdown",
   "id": "60daec45",
   "metadata": {},
   "source": [
    "En utilisant les expressions des transformations des opérateurs du **Qiskit Lab 5**, on trouve sans peine les resultats recherchés."
   ]
  },
  {
   "attachments": {},
   "cell_type": "markdown",
   "id": "44fbb1a4",
   "metadata": {},
   "source": [
    "### III - Programmation\n",
    "\n",
    "1. Ecrire un script qiskit permettant de retrouver les résultats de l'équation (102) (p.38) de l'article de Sam McArdle et *al.* *Quantum computational chemistry*, REVIEWS OF MODERN PHYSICS, VOLUME 92, JANUARY–MARCH 2020."
   ]
  },
  {
   "cell_type": "code",
   "execution_count": 1,
   "id": "aa63335e",
   "metadata": {},
   "outputs": [],
   "source": [
    "from qiskit_nature.second_q.mappers import JordanWignerMapper\n",
    "from qiskit_nature.second_q.operators import FermionicOp"
   ]
  },
  {
   "cell_type": "code",
   "execution_count": 7,
   "id": "f64ccde4",
   "metadata": {},
   "outputs": [],
   "source": [
    "# Definition des operateurs fermioniques\n",
    "op1 = FermionicOp(\n",
    "    {\"+_2 -_0\":1.0,\n",
    "     \"+_0 -_2\":-1.0},num_spin_orbitals=3)\n",
    "\n",
    "op2 = FermionicOp(\n",
    "    {\"+_3 -_1\":1.0,\n",
    "     \"+_1 -_3\":-1.0},num_spin_orbitals=4)\n",
    "\n",
    "op3 = FermionicOp(\n",
    "    {\"+_3 +_2 -_1 -_0\":1.0,\n",
    "     \"+_0 +_1 -_2 -_3\":-1.0},num_spin_orbitals=4)\n"
   ]
  },
  {
   "cell_type": "code",
   "execution_count": 14,
   "id": "b5c0e686",
   "metadata": {},
   "outputs": [
    {
     "name": "stdout",
     "output_type": "stream",
     "text": [
      "0.5j * XZY\n",
      "+ -0.5j * YZX \n",
      "\n",
      "0.5j * XZYI\n",
      "+ -0.5j * YZXI \n",
      "\n",
      "0.125j * XYXX\n",
      "+ -0.125j * XYYY\n",
      "+ -0.125j * XXXY\n",
      "+ -0.125j * XXYX\n",
      "+ 0.125j * YYXY\n",
      "+ 0.125j * YYYX\n",
      "+ 0.125j * YXXX\n",
      "+ -0.125j * YXYY\n"
     ]
    }
   ],
   "source": [
    "# Divers calculs de transformation JWT\n",
    "print(JordanWignerMapper().map(op1),'\\n') \n",
    "print(JordanWignerMapper().map(op2),\"\\n\") \n",
    "print(JordanWignerMapper().map(op3)) "
   ]
  },
  {
   "attachments": {},
   "cell_type": "markdown",
   "id": "30792332",
   "metadata": {},
   "source": [
    "2. On s'interesse à la molécule d'H$_2$\n",
    "```\n",
    "H2_driver = PySCFDriver(\n",
    "    atom=\"H 0 0 0; H 0 0 0.735\",\n",
    "    basis=\"sto3g\",\n",
    "    charge=0,\n",
    "    spin=0,\n",
    "    unit=DistanceUnit.ANGSTROM,\n",
    ")\n",
    "```\n",
    "Ecrire un script qiskit permettant de retrouver les résultats des équations (80) et (79) (p. 12) de l'article de Jacob T. Seeley, Martin J. Richard, and Peter J. Love, *The Bravyi-Kitaev transformation for quantum computation of electronic structure*, THE JOURNAL OF CHEMICAL PHYSICS 137, 224109 (2012)."
   ]
  },
  {
   "cell_type": "code",
   "execution_count": 15,
   "id": "7792660c",
   "metadata": {},
   "outputs": [],
   "source": [
    "from qiskit_nature.units import DistanceUnit\n",
    "from qiskit_nature.second_q.drivers import PySCFDriver\n",
    "\n",
    "H2_driver = PySCFDriver(\n",
    "    atom=\"H 0 0 0; H 0 0 0.735\",\n",
    "    basis=\"sto3g\",\n",
    "    charge=0,\n",
    "    spin=0,\n",
    "    unit=DistanceUnit.ANGSTROM,\n",
    ")\n",
    "\n",
    "H2_problem = H2_driver.run()\n",
    "H2_hamiltonian = H2_problem.hamiltonian\n",
    "H2_fermionic_op = H2_hamiltonian.second_q_op()"
   ]
  },
  {
   "cell_type": "code",
   "execution_count": 22,
   "id": "f0a7219c",
   "metadata": {},
   "outputs": [
    {
     "name": "stdout",
     "output_type": "stream",
     "text": [
      "Reproduction of JW Hamiltonian, Eq.(80).\n",
      "\n",
      " Number of items in the JWM Pauli list: 15\n",
      "-0.8105479805373258 * IIII\n",
      "+ 0.1721839326191557 * IIIZ\n",
      "- 0.22575349222402386 * IIZI\n",
      "+ 0.17218393261915543 * IZII\n",
      "- 0.22575349222402397 * ZIII\n",
      "+ 0.12091263261776633 * IIZZ\n",
      "+ 0.16892753870087907 * IZIZ\n",
      "+ 0.04523279994605784 * YYYY\n",
      "+ 0.04523279994605784 * XXYY\n",
      "+ 0.04523279994605784 * YYXX\n",
      "+ 0.04523279994605784 * XXXX\n",
      "+ 0.1661454325638241 * ZIIZ\n",
      "+ 0.1661454325638241 * IZZI\n",
      "+ 0.17464343068300445 * ZIZI\n",
      "+ 0.12091263261776633 * ZZII\n"
     ]
    }
   ],
   "source": [
    "from qiskit_nature.second_q.mappers import BravyiKitaevMapper\n",
    "\n",
    "H2_qubit_JW_op = JordanWignerMapper().map(H2_fermionic_op)\n",
    "\n",
    "print(\"Reproduction of JW Hamiltonian, Eq.(80).\")\n",
    "print(\"\\n Number of items in the JWM Pauli list:\", len(H2_qubit_JW_op))\n",
    "print(H2_qubit_JW_op)\n"
   ]
  },
  {
   "cell_type": "code",
   "execution_count": 21,
   "id": "4daab9d1",
   "metadata": {},
   "outputs": [
    {
     "name": "stdout",
     "output_type": "stream",
     "text": [
      "Reproduction of BK Hamiltonian, Eq.(79).\n",
      "\n",
      " Number of items in the JWM Pauli list: 15\n",
      "-0.8105479805373258 * IIII\n",
      "+ 0.1721839326191557 * IIIZ\n",
      "- 0.22575349222402386 * IIZZ\n",
      "+ 0.17218393261915543 * IZII\n",
      "- 0.22575349222402397 * ZZZI\n",
      "+ 0.12091263261776633 * IIZI\n",
      "+ 0.16892753870087907 * IZIZ\n",
      "+ 0.04523279994605784 * ZXIX\n",
      "- 0.04523279994605784 * IXZX\n",
      "- 0.04523279994605784 * ZXZX\n",
      "+ 0.04523279994605784 * IXIX\n",
      "+ 0.1661454325638241 * ZZZZ\n",
      "+ 0.1661454325638241 * IZZZ\n",
      "+ 0.17464343068300445 * ZZIZ\n",
      "+ 0.12091263261776633 * ZIZI\n"
     ]
    }
   ],
   "source": [
    "H2_qubit_BK_op = BravyiKitaevMapper().map(H2_fermionic_op)\n",
    "\n",
    "print(\"Reproduction of BK Hamiltonian, Eq.(79).\")\n",
    "print(\"\\n Number of items in the JWM Pauli list:\", len(H2_qubit_BK_op))\n",
    "print(H2_qubit_BK_op)\n"
   ]
  },
  {
   "attachments": {},
   "cell_type": "markdown",
   "id": "a7d1a640",
   "metadata": {},
   "source": [
    "3. Uiliser `qiskit_nature.second_q.algorithms.GroundStateEigensolver` et `qiskit.algorithms.minimum_eigensolvers.NumPyMinimumEigensolver` pour trouver l'énergie de l'état fondamental de LiH, avec \n",
    "```\n",
    "LiH_driver = PySCFDriver(\n",
    "    atom=\"Li 0 0 0; H 0 0 1.5474\",\n",
    "    basis=\"sto3g\",\n",
    "    charge=0,\n",
    "    spin=0,\n",
    "    unit=DistanceUnit.ANGSTROM,\n",
    ")\n",
    "```\n",
    "Il est à noter que la valeur expérimentale est $-7.882752 {\\rm Ha}$."
   ]
  },
  {
   "cell_type": "code",
   "execution_count": 29,
   "id": "fc5224fd",
   "metadata": {},
   "outputs": [
    {
     "name": "stdout",
     "output_type": "stream",
     "text": [
      "=== GROUND STATE ENERGY ===\n",
      " \n",
      "* Electronic ground state energy (Hartree): -8.909625776792\n",
      "  - computed part:      -8.909625776792\n",
      "~ Nuclear repulsion energy (Hartree): 1.026863928047\n",
      "> Total ground state energy (Hartree): -7.882761848746\n",
      " \n",
      "=== MEASURED OBSERVABLES ===\n",
      " \n",
      "  0:  # Particles: 4.000 S: 0.000 S^2: 0.000 M: 0.000\n",
      " \n",
      "=== DIPOLE MOMENTS ===\n",
      " \n",
      "~ Nuclear dipole moment (a.u.): [0.0  0.0  2.92151659]\n",
      " \n",
      "  0: \n",
      "  * Electronic dipole moment (a.u.): [0.0  0.0  4.741988083032]\n",
      "    - computed part:      [0.0  0.0  4.741988083032]\n",
      "  > Dipole moment (a.u.): [0.0  0.0  -1.820471493032]  Total: 1.820471493032\n",
      "                 (debye): [0.0  0.0  -4.627176556158]  Total: 4.627176556158\n",
      " \n"
     ]
    }
   ],
   "source": [
    "from qiskit_nature.units import DistanceUnit\n",
    "from qiskit_nature.second_q.drivers import PySCFDriver\n",
    "from qiskit_nature.second_q.algorithms import GroundStateEigensolver\n",
    "from qiskit.algorithms.minimum_eigensolvers import NumPyMinimumEigensolver\n",
    "\n",
    "LiH_driver = PySCFDriver(\n",
    " atom=\"Li 0 0 0; H 0 0 1.546\",\n",
    " basis=\"sto3g\",\n",
    " charge=0,\n",
    " spin=0,\n",
    " unit=DistanceUnit.ANGSTROM,\n",
    ")\n",
    "\n",
    "LiH_problem = LiH_driver.run()\n",
    "LiH_hamiltonian = LiH_problem.hamiltonian\n",
    "LiH_fermionic_op = LiH_hamiltonian.second_q_op()\n",
    "\n",
    "solver = GroundStateEigensolver(\n",
    "    JordanWignerMapper(),\n",
    "    NumPyMinimumEigensolver(),\n",
    ")\n",
    "\n",
    "LiH_result = solver.solve(LiH_problem)\n",
    "print(LiH_result)"
   ]
  }
 ],
 "metadata": {
  "kernelspec": {
   "display_name": "qiskit-env",
   "language": "python",
   "name": "qiskit-env"
  },
  "language_info": {
   "codemirror_mode": {
    "name": "ipython",
    "version": 3
   },
   "file_extension": ".py",
   "mimetype": "text/x-python",
   "name": "python",
   "nbconvert_exporter": "python",
   "pygments_lexer": "ipython3",
   "version": "3.10.11"
  }
 },
 "nbformat": 4,
 "nbformat_minor": 5
}
